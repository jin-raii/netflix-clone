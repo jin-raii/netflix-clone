{
 "cells": [
  {
   "cell_type": "code",
   "execution_count": 1,
   "id": "233d4f98",
   "metadata": {
    "_cell_guid": "b1076dfc-b9ad-4769-8c92-a6c4dae69d19",
    "_uuid": "8f2839f25d086af736a60e9eeb907d3b93b6e0e5",
    "execution": {
     "iopub.execute_input": "2025-01-10T05:02:32.459202Z",
     "iopub.status.busy": "2025-01-10T05:02:32.458829Z",
     "iopub.status.idle": "2025-01-10T05:02:34.735889Z",
     "shell.execute_reply": "2025-01-10T05:02:34.734556Z"
    },
    "papermill": {
     "duration": 2.290556,
     "end_time": "2025-01-10T05:02:34.737711",
     "exception": false,
     "start_time": "2025-01-10T05:02:32.447155",
     "status": "completed"
    },
    "tags": []
   },
   "outputs": [
    {
     "name": "stdout",
     "output_type": "stream",
     "text": [
      "/kaggle/input/github-daily-trending-repos/github_daily_trending.csv\n"
     ]
    }
   ],
   "source": [
    "# This Python 3 environment comes with many helpful analytics libraries installed\n",
    "# It is defined by the kaggle/python Docker image: https://github.com/kaggle/docker-python\n",
    "# For example, here's several helpful packages to load\n",
    "\n",
    "import numpy as np # linear algebra\n",
    "import pandas as pd # data processing, CSV file I/O (e.g. pd.read_csv)\n",
    "from matplotlib import pyplot as plt\n",
    "import seaborn as sns\n",
    "\n",
    "# Input data files are available in the read-only \"../input/\" directory\n",
    "# For example, running this (by clicking run or pressing Shift+Enter) will list all files under the input directory\n",
    "\n",
    "import os\n",
    "for dirname, _, filenames in os.walk('/kaggle/input'):\n",
    "    for filename in filenames:\n",
    "        print(os.path.join(dirname, filename))\n",
    "\n",
    "# You can write up to 20GB to the current directory (/kaggle/working/) that gets preserved as output when you create a version using \"Save & Run All\" \n",
    "# You can also write temporary files to /kaggle/temp/, but they won't be saved outside of the current session"
   ]
  },
  {
   "cell_type": "code",
   "execution_count": 2,
   "id": "86593b78",
   "metadata": {
    "execution": {
     "iopub.execute_input": "2025-01-10T05:02:34.757644Z",
     "iopub.status.busy": "2025-01-10T05:02:34.757137Z",
     "iopub.status.idle": "2025-01-10T05:02:34.885257Z",
     "shell.execute_reply": "2025-01-10T05:02:34.883993Z"
    },
    "papermill": {
     "duration": 0.140124,
     "end_time": "2025-01-10T05:02:34.887226",
     "exception": false,
     "start_time": "2025-01-10T05:02:34.747102",
     "status": "completed"
    },
    "tags": []
   },
   "outputs": [
    {
     "name": "stdout",
     "output_type": "stream",
     "text": [
      "__notebook__.ipynb\r\n"
     ]
    }
   ],
   "source": [
    "!ls"
   ]
  },
  {
   "cell_type": "code",
   "execution_count": 3,
   "id": "583f9cde",
   "metadata": {
    "execution": {
     "iopub.execute_input": "2025-01-10T05:02:34.907219Z",
     "iopub.status.busy": "2025-01-10T05:02:34.906834Z",
     "iopub.status.idle": "2025-01-10T05:02:35.029782Z",
     "shell.execute_reply": "2025-01-10T05:02:35.028576Z"
    },
    "papermill": {
     "duration": 0.135031,
     "end_time": "2025-01-10T05:02:35.031579",
     "exception": false,
     "start_time": "2025-01-10T05:02:34.896548",
     "status": "completed"
    },
    "tags": []
   },
   "outputs": [
    {
     "data": {
      "text/html": [
       "<div>\n",
       "<style scoped>\n",
       "    .dataframe tbody tr th:only-of-type {\n",
       "        vertical-align: middle;\n",
       "    }\n",
       "\n",
       "    .dataframe tbody tr th {\n",
       "        vertical-align: top;\n",
       "    }\n",
       "\n",
       "    .dataframe thead th {\n",
       "        text-align: right;\n",
       "    }\n",
       "</style>\n",
       "<table border=\"1\" class=\"dataframe\">\n",
       "  <thead>\n",
       "    <tr style=\"text-align: right;\">\n",
       "      <th></th>\n",
       "      <th>org_name</th>\n",
       "      <th>repo_name</th>\n",
       "      <th>repo_url</th>\n",
       "      <th>description</th>\n",
       "      <th>language</th>\n",
       "      <th>star</th>\n",
       "      <th>forks</th>\n",
       "      <th>daily_star</th>\n",
       "      <th>date</th>\n",
       "      <th>trending_category</th>\n",
       "    </tr>\n",
       "  </thead>\n",
       "  <tbody>\n",
       "    <tr>\n",
       "      <th>0</th>\n",
       "      <td>terrastruct</td>\n",
       "      <td>d2</td>\n",
       "      <td>https://github.com/terrastruct/d2</td>\n",
       "      <td>D2 is a modern diagram scripting language that...</td>\n",
       "      <td>Go</td>\n",
       "      <td>17896.0</td>\n",
       "      <td>439.0</td>\n",
       "      <td>418</td>\n",
       "      <td>2024-11-17</td>\n",
       "      <td>go</td>\n",
       "    </tr>\n",
       "    <tr>\n",
       "      <th>1</th>\n",
       "      <td>tinygo-org</td>\n",
       "      <td>tinygo</td>\n",
       "      <td>https://github.com/tinygo-org/tinygo</td>\n",
       "      <td>Go compiler for small places. Microcontrollers...</td>\n",
       "      <td>Go</td>\n",
       "      <td>15463.0</td>\n",
       "      <td>912.0</td>\n",
       "      <td>6</td>\n",
       "      <td>2024-11-17</td>\n",
       "      <td>go</td>\n",
       "    </tr>\n",
       "    <tr>\n",
       "      <th>2</th>\n",
       "      <td>Melkeydev</td>\n",
       "      <td>go-blueprint</td>\n",
       "      <td>https://github.com/Melkeydev/go-blueprint</td>\n",
       "      <td>Go-blueprint allows users to spin up a quick G...</td>\n",
       "      <td>Go</td>\n",
       "      <td>4608.0</td>\n",
       "      <td>276.0</td>\n",
       "      <td>9</td>\n",
       "      <td>2024-11-17</td>\n",
       "      <td>go</td>\n",
       "    </tr>\n",
       "    <tr>\n",
       "      <th>3</th>\n",
       "      <td>jeessy2</td>\n",
       "      <td>ddns-go</td>\n",
       "      <td>https://github.com/jeessy2/ddns-go</td>\n",
       "      <td>Simple and easy to use DDNS. Support Aliyun, T...</td>\n",
       "      <td>Go</td>\n",
       "      <td>12117.0</td>\n",
       "      <td>1398.0</td>\n",
       "      <td>25</td>\n",
       "      <td>2024-11-17</td>\n",
       "      <td>go</td>\n",
       "    </tr>\n",
       "    <tr>\n",
       "      <th>4</th>\n",
       "      <td>JanDeDobbeleer</td>\n",
       "      <td>oh-my-posh</td>\n",
       "      <td>https://github.com/JanDeDobbeleer/oh-my-posh</td>\n",
       "      <td>The most customisable and low-latency cross pl...</td>\n",
       "      <td>Go</td>\n",
       "      <td>17450.0</td>\n",
       "      <td>2390.0</td>\n",
       "      <td>16</td>\n",
       "      <td>2024-11-17</td>\n",
       "      <td>go</td>\n",
       "    </tr>\n",
       "  </tbody>\n",
       "</table>\n",
       "</div>"
      ],
      "text/plain": [
       "         org_name     repo_name                                      repo_url  \\\n",
       "0     terrastruct            d2             https://github.com/terrastruct/d2   \n",
       "1      tinygo-org        tinygo          https://github.com/tinygo-org/tinygo   \n",
       "2       Melkeydev  go-blueprint     https://github.com/Melkeydev/go-blueprint   \n",
       "3         jeessy2       ddns-go            https://github.com/jeessy2/ddns-go   \n",
       "4  JanDeDobbeleer    oh-my-posh  https://github.com/JanDeDobbeleer/oh-my-posh   \n",
       "\n",
       "                                         description language     star  \\\n",
       "0  D2 is a modern diagram scripting language that...       Go  17896.0   \n",
       "1  Go compiler for small places. Microcontrollers...       Go  15463.0   \n",
       "2  Go-blueprint allows users to spin up a quick G...       Go   4608.0   \n",
       "3  Simple and easy to use DDNS. Support Aliyun, T...       Go  12117.0   \n",
       "4  The most customisable and low-latency cross pl...       Go  17450.0   \n",
       "\n",
       "    forks  daily_star        date trending_category  \n",
       "0   439.0         418  2024-11-17                go  \n",
       "1   912.0           6  2024-11-17                go  \n",
       "2   276.0           9  2024-11-17                go  \n",
       "3  1398.0          25  2024-11-17                go  \n",
       "4  2390.0          16  2024-11-17                go  "
      ]
     },
     "execution_count": 3,
     "metadata": {},
     "output_type": "execute_result"
    }
   ],
   "source": [
    "df = pd.read_csv('/kaggle/input/github-daily-trending-repos/github_daily_trending.csv')\n",
    "df.head()"
   ]
  },
  {
   "cell_type": "code",
   "execution_count": 4,
   "id": "537992f1",
   "metadata": {
    "execution": {
     "iopub.execute_input": "2025-01-10T05:02:35.052165Z",
     "iopub.status.busy": "2025-01-10T05:02:35.051769Z",
     "iopub.status.idle": "2025-01-10T05:02:35.066105Z",
     "shell.execute_reply": "2025-01-10T05:02:35.065068Z"
    },
    "papermill": {
     "duration": 0.026531,
     "end_time": "2025-01-10T05:02:35.067902",
     "exception": false,
     "start_time": "2025-01-10T05:02:35.041371",
     "status": "completed"
    },
    "tags": []
   },
   "outputs": [
    {
     "data": {
      "text/plain": [
       "org_name               0\n",
       "repo_name              0\n",
       "repo_url               0\n",
       "description            0\n",
       "language              65\n",
       "star                 156\n",
       "forks                156\n",
       "daily_star             0\n",
       "date                   0\n",
       "trending_category      0\n",
       "dtype: int64"
      ]
     },
     "execution_count": 4,
     "metadata": {},
     "output_type": "execute_result"
    }
   ],
   "source": [
    "df.isna().sum()"
   ]
  },
  {
   "cell_type": "code",
   "execution_count": 5,
   "id": "a324f6fc",
   "metadata": {
    "execution": {
     "iopub.execute_input": "2025-01-10T05:02:35.088776Z",
     "iopub.status.busy": "2025-01-10T05:02:35.088326Z",
     "iopub.status.idle": "2025-01-10T05:02:35.109758Z",
     "shell.execute_reply": "2025-01-10T05:02:35.108676Z"
    },
    "papermill": {
     "duration": 0.034054,
     "end_time": "2025-01-10T05:02:35.111670",
     "exception": false,
     "start_time": "2025-01-10T05:02:35.077616",
     "status": "completed"
    },
    "tags": []
   },
   "outputs": [
    {
     "data": {
      "text/html": [
       "<div>\n",
       "<style scoped>\n",
       "    .dataframe tbody tr th:only-of-type {\n",
       "        vertical-align: middle;\n",
       "    }\n",
       "\n",
       "    .dataframe tbody tr th {\n",
       "        vertical-align: top;\n",
       "    }\n",
       "\n",
       "    .dataframe thead th {\n",
       "        text-align: right;\n",
       "    }\n",
       "</style>\n",
       "<table border=\"1\" class=\"dataframe\">\n",
       "  <thead>\n",
       "    <tr style=\"text-align: right;\">\n",
       "      <th></th>\n",
       "      <th>star</th>\n",
       "      <th>forks</th>\n",
       "      <th>daily_star</th>\n",
       "    </tr>\n",
       "  </thead>\n",
       "  <tbody>\n",
       "    <tr>\n",
       "      <th>count</th>\n",
       "      <td>9797.000000</td>\n",
       "      <td>9797.000000</td>\n",
       "      <td>9953.000000</td>\n",
       "    </tr>\n",
       "    <tr>\n",
       "      <th>mean</th>\n",
       "      <td>23821.563029</td>\n",
       "      <td>3771.324997</td>\n",
       "      <td>76.110921</td>\n",
       "    </tr>\n",
       "    <tr>\n",
       "      <th>std</th>\n",
       "      <td>40314.013752</td>\n",
       "      <td>7616.247858</td>\n",
       "      <td>246.852491</td>\n",
       "    </tr>\n",
       "    <tr>\n",
       "      <th>min</th>\n",
       "      <td>23.000000</td>\n",
       "      <td>3.000000</td>\n",
       "      <td>0.000000</td>\n",
       "    </tr>\n",
       "    <tr>\n",
       "      <th>25%</th>\n",
       "      <td>4556.000000</td>\n",
       "      <td>500.000000</td>\n",
       "      <td>5.000000</td>\n",
       "    </tr>\n",
       "    <tr>\n",
       "      <th>50%</th>\n",
       "      <td>12002.000000</td>\n",
       "      <td>1352.000000</td>\n",
       "      <td>15.000000</td>\n",
       "    </tr>\n",
       "    <tr>\n",
       "      <th>75%</th>\n",
       "      <td>26332.000000</td>\n",
       "      <td>3587.000000</td>\n",
       "      <td>49.000000</td>\n",
       "    </tr>\n",
       "    <tr>\n",
       "      <th>max</th>\n",
       "      <td>408622.000000</td>\n",
       "      <td>78939.000000</td>\n",
       "      <td>8559.000000</td>\n",
       "    </tr>\n",
       "  </tbody>\n",
       "</table>\n",
       "</div>"
      ],
      "text/plain": [
       "                star         forks   daily_star\n",
       "count    9797.000000   9797.000000  9953.000000\n",
       "mean    23821.563029   3771.324997    76.110921\n",
       "std     40314.013752   7616.247858   246.852491\n",
       "min        23.000000      3.000000     0.000000\n",
       "25%      4556.000000    500.000000     5.000000\n",
       "50%     12002.000000   1352.000000    15.000000\n",
       "75%     26332.000000   3587.000000    49.000000\n",
       "max    408622.000000  78939.000000  8559.000000"
      ]
     },
     "execution_count": 5,
     "metadata": {},
     "output_type": "execute_result"
    }
   ],
   "source": [
    "df.describe()"
   ]
  },
  {
   "cell_type": "code",
   "execution_count": 6,
   "id": "be2e4951",
   "metadata": {
    "execution": {
     "iopub.execute_input": "2025-01-10T05:02:35.132580Z",
     "iopub.status.busy": "2025-01-10T05:02:35.132187Z",
     "iopub.status.idle": "2025-01-10T05:02:35.159344Z",
     "shell.execute_reply": "2025-01-10T05:02:35.158022Z"
    },
    "papermill": {
     "duration": 0.039507,
     "end_time": "2025-01-10T05:02:35.161100",
     "exception": false,
     "start_time": "2025-01-10T05:02:35.121593",
     "status": "completed"
    },
    "tags": []
   },
   "outputs": [
    {
     "name": "stdout",
     "output_type": "stream",
     "text": [
      "<class 'pandas.core.frame.DataFrame'>\n",
      "RangeIndex: 9953 entries, 0 to 9952\n",
      "Data columns (total 10 columns):\n",
      " #   Column             Non-Null Count  Dtype  \n",
      "---  ------             --------------  -----  \n",
      " 0   org_name           9953 non-null   object \n",
      " 1   repo_name          9953 non-null   object \n",
      " 2   repo_url           9953 non-null   object \n",
      " 3   description        9953 non-null   object \n",
      " 4   language           9888 non-null   object \n",
      " 5   star               9797 non-null   float64\n",
      " 6   forks              9797 non-null   float64\n",
      " 7   daily_star         9953 non-null   int64  \n",
      " 8   date               9953 non-null   object \n",
      " 9   trending_category  9953 non-null   object \n",
      "dtypes: float64(2), int64(1), object(7)\n",
      "memory usage: 777.7+ KB\n"
     ]
    }
   ],
   "source": [
    "df.info()"
   ]
  },
  {
   "cell_type": "code",
   "execution_count": 7,
   "id": "ed2f53fa",
   "metadata": {
    "execution": {
     "iopub.execute_input": "2025-01-10T05:02:35.182142Z",
     "iopub.status.busy": "2025-01-10T05:02:35.181771Z",
     "iopub.status.idle": "2025-01-10T05:02:35.568614Z",
     "shell.execute_reply": "2025-01-10T05:02:35.567540Z"
    },
    "papermill": {
     "duration": 0.399312,
     "end_time": "2025-01-10T05:02:35.570388",
     "exception": false,
     "start_time": "2025-01-10T05:02:35.171076",
     "status": "completed"
    },
    "tags": []
   },
   "outputs": [
    {
     "data": {
      "text/plain": [
       "<Axes: >"
      ]
     },
     "execution_count": 7,
     "metadata": {},
     "output_type": "execute_result"
    },
    {
     "data": {
      "image/png": "[encoded data removed]",
      "text/plain": [
       "<Figure size 640x480 with 1 Axes>"
      ]
     },
     "metadata": {},
     "output_type": "display_data"
    }
   ],
   "source": [
    "sns.heatmap(data=df.isna(), cbar=False, yticklabels=False)"
   ]
  },
  {
   "cell_type": "code",
   "execution_count": 8,
   "id": "55fa3bea",
   "metadata": {
    "execution": {
     "iopub.execute_input": "2025-01-10T05:02:35.592356Z",
     "iopub.status.busy": "2025-01-10T05:02:35.591972Z",
     "iopub.status.idle": "2025-01-10T05:02:35.598042Z",
     "shell.execute_reply": "2025-01-10T05:02:35.597065Z"
    },
    "papermill": {
     "duration": 0.018757,
     "end_time": "2025-01-10T05:02:35.599569",
     "exception": false,
     "start_time": "2025-01-10T05:02:35.580812",
     "status": "completed"
    },
    "tags": []
   },
   "outputs": [
    {
     "data": {
      "text/plain": [
       "Index(['org_name', 'repo_name', 'repo_url', 'description', 'language', 'star',\n",
       "       'forks', 'daily_star', 'date', 'trending_category'],\n",
       "      dtype='object')"
      ]
     },
     "execution_count": 8,
     "metadata": {},
     "output_type": "execute_result"
    }
   ],
   "source": [
    "df.columns"
   ]
  },
  {
   "cell_type": "code",
   "execution_count": 9,
   "id": "5f652ddd",
   "metadata": {
    "execution": {
     "iopub.execute_input": "2025-01-10T05:02:35.621841Z",
     "iopub.status.busy": "2025-01-10T05:02:35.621359Z",
     "iopub.status.idle": "2025-01-10T05:02:35.635670Z",
     "shell.execute_reply": "2025-01-10T05:02:35.634589Z"
    },
    "papermill": {
     "duration": 0.027132,
     "end_time": "2025-01-10T05:02:35.637176",
     "exception": false,
     "start_time": "2025-01-10T05:02:35.610044",
     "status": "completed"
    },
    "tags": []
   },
   "outputs": [
    {
     "data": {
      "text/html": [
       "<div>\n",
       "<style scoped>\n",
       "    .dataframe tbody tr th:only-of-type {\n",
       "        vertical-align: middle;\n",
       "    }\n",
       "\n",
       "    .dataframe tbody tr th {\n",
       "        vertical-align: top;\n",
       "    }\n",
       "\n",
       "    .dataframe thead th {\n",
       "        text-align: right;\n",
       "    }\n",
       "</style>\n",
       "<table border=\"1\" class=\"dataframe\">\n",
       "  <thead>\n",
       "    <tr style=\"text-align: right;\">\n",
       "      <th></th>\n",
       "      <th>org_name</th>\n",
       "      <th>repo_name</th>\n",
       "      <th>repo_url</th>\n",
       "      <th>description</th>\n",
       "      <th>language</th>\n",
       "      <th>star</th>\n",
       "      <th>forks</th>\n",
       "      <th>daily_star</th>\n",
       "      <th>date</th>\n",
       "      <th>trending_category</th>\n",
       "    </tr>\n",
       "  </thead>\n",
       "  <tbody>\n",
       "    <tr>\n",
       "      <th>0</th>\n",
       "      <td>terrastruct</td>\n",
       "      <td>d2</td>\n",
       "      <td>https://github.com/terrastruct/d2</td>\n",
       "      <td>D2 is a modern diagram scripting language that...</td>\n",
       "      <td>Go</td>\n",
       "      <td>17896.0</td>\n",
       "      <td>439.0</td>\n",
       "      <td>418</td>\n",
       "      <td>2024-11-17</td>\n",
       "      <td>go</td>\n",
       "    </tr>\n",
       "    <tr>\n",
       "      <th>1</th>\n",
       "      <td>tinygo-org</td>\n",
       "      <td>tinygo</td>\n",
       "      <td>https://github.com/tinygo-org/tinygo</td>\n",
       "      <td>Go compiler for small places. Microcontrollers...</td>\n",
       "      <td>Go</td>\n",
       "      <td>15463.0</td>\n",
       "      <td>912.0</td>\n",
       "      <td>6</td>\n",
       "      <td>2024-11-17</td>\n",
       "      <td>go</td>\n",
       "    </tr>\n",
       "    <tr>\n",
       "      <th>2</th>\n",
       "      <td>Melkeydev</td>\n",
       "      <td>go-blueprint</td>\n",
       "      <td>https://github.com/Melkeydev/go-blueprint</td>\n",
       "      <td>Go-blueprint allows users to spin up a quick G...</td>\n",
       "      <td>Go</td>\n",
       "      <td>4608.0</td>\n",
       "      <td>276.0</td>\n",
       "      <td>9</td>\n",
       "      <td>2024-11-17</td>\n",
       "      <td>go</td>\n",
       "    </tr>\n",
       "    <tr>\n",
       "      <th>3</th>\n",
       "      <td>jeessy2</td>\n",
       "      <td>ddns-go</td>\n",
       "      <td>https://github.com/jeessy2/ddns-go</td>\n",
       "      <td>Simple and easy to use DDNS. Support Aliyun, T...</td>\n",
       "      <td>Go</td>\n",
       "      <td>12117.0</td>\n",
       "      <td>1398.0</td>\n",
       "      <td>25</td>\n",
       "      <td>2024-11-17</td>\n",
       "      <td>go</td>\n",
       "    </tr>\n",
       "    <tr>\n",
       "      <th>4</th>\n",
       "      <td>JanDeDobbeleer</td>\n",
       "      <td>oh-my-posh</td>\n",
       "      <td>https://github.com/JanDeDobbeleer/oh-my-posh</td>\n",
       "      <td>The most customisable and low-latency cross pl...</td>\n",
       "      <td>Go</td>\n",
       "      <td>17450.0</td>\n",
       "      <td>2390.0</td>\n",
       "      <td>16</td>\n",
       "      <td>2024-11-17</td>\n",
       "      <td>go</td>\n",
       "    </tr>\n",
       "  </tbody>\n",
       "</table>\n",
       "</div>"
      ],
      "text/plain": [
       "         org_name     repo_name                                      repo_url  \\\n",
       "0     terrastruct            d2             https://github.com/terrastruct/d2   \n",
       "1      tinygo-org        tinygo          https://github.com/tinygo-org/tinygo   \n",
       "2       Melkeydev  go-blueprint     https://github.com/Melkeydev/go-blueprint   \n",
       "3         jeessy2       ddns-go            https://github.com/jeessy2/ddns-go   \n",
       "4  JanDeDobbeleer    oh-my-posh  https://github.com/JanDeDobbeleer/oh-my-posh   \n",
       "\n",
       "                                         description language     star  \\\n",
       "0  D2 is a modern diagram scripting language that...       Go  17896.0   \n",
       "1  Go compiler for small places. Microcontrollers...       Go  15463.0   \n",
       "2  Go-blueprint allows users to spin up a quick G...       Go   4608.0   \n",
       "3  Simple and easy to use DDNS. Support Aliyun, T...       Go  12117.0   \n",
       "4  The most customisable and low-latency cross pl...       Go  17450.0   \n",
       "\n",
       "    forks  daily_star        date trending_category  \n",
       "0   439.0         418  2024-11-17                go  \n",
       "1   912.0           6  2024-11-17                go  \n",
       "2   276.0           9  2024-11-17                go  \n",
       "3  1398.0          25  2024-11-17                go  \n",
       "4  2390.0          16  2024-11-17                go  "
      ]
     },
     "execution_count": 9,
     "metadata": {},
     "output_type": "execute_result"
    }
   ],
   "source": [
    "df.head()"
   ]
  },
  {
   "cell_type": "code",
   "execution_count": 10,
   "id": "5048aca5",
   "metadata": {
    "execution": {
     "iopub.execute_input": "2025-01-10T05:02:35.659829Z",
     "iopub.status.busy": "2025-01-10T05:02:35.659361Z",
     "iopub.status.idle": "2025-01-10T05:02:35.667396Z",
     "shell.execute_reply": "2025-01-10T05:02:35.666309Z"
    },
    "papermill": {
     "duration": 0.021129,
     "end_time": "2025-01-10T05:02:35.669020",
     "exception": false,
     "start_time": "2025-01-10T05:02:35.647891",
     "status": "completed"
    },
    "tags": []
   },
   "outputs": [
    {
     "data": {
      "text/plain": [
       "array(['Go', 'Python', 'Rust', 'Ruby', 'Kotlin', 'Makefile',\n",
       "       'Jupyter Notebook', 'TypeScript', 'Svelte', 'C', 'Markdown', 'C++',\n",
       "       'C#', nan, 'Java', 'HTML', 'JavaScript', 'PHP', 'Shell', 'CSS',\n",
       "       'MDX', 'Swift', 'Dart', 'Vue', 'LLVM', 'PowerShell', 'Blade',\n",
       "       'Haskell', 'Zig', 'Lua', 'Elixir', 'PureScript', 'Scala'],\n",
       "      dtype=object)"
      ]
     },
     "execution_count": 10,
     "metadata": {},
     "output_type": "execute_result"
    }
   ],
   "source": [
    "df['language'].unique()"
   ]
  },
  {
   "cell_type": "code",
   "execution_count": 11,
   "id": "efa6da30",
   "metadata": {
    "execution": {
     "iopub.execute_input": "2025-01-10T05:02:35.691577Z",
     "iopub.status.busy": "2025-01-10T05:02:35.691162Z",
     "iopub.status.idle": "2025-01-10T05:02:35.702272Z",
     "shell.execute_reply": "2025-01-10T05:02:35.701316Z"
    },
    "papermill": {
     "duration": 0.024278,
     "end_time": "2025-01-10T05:02:35.703955",
     "exception": false,
     "start_time": "2025-01-10T05:02:35.679677",
     "status": "completed"
    },
    "tags": []
   },
   "outputs": [
    {
     "data": {
      "text/plain": [
       "437     Learn how to design large-scale systems. Prep ...\n",
       "438                               Stable Diffusion web UI\n",
       "439                  Free, open source crypto trading bot\n",
       "440             A recursive internet scanner for hackers.\n",
       "441     The official gpt4free repository | various col...\n",
       "                              ...                        \n",
       "9815             The uncompromising Python code formatter\n",
       "9816    Interact with your documents using the power o...\n",
       "9817       The official Python library for the OpenAI API\n",
       "9818    The Open edX LMS & Studio, powering education ...\n",
       "9819    Auto_Jobs_Applier_AI_Agent aims to easy job hu...\n",
       "Name: description, Length: 1358, dtype: object"
      ]
     },
     "execution_count": 11,
     "metadata": {},
     "output_type": "execute_result"
    }
   ],
   "source": [
    "df.loc[df['language'] == 'Python']['description']"
   ]
  },
  {
   "cell_type": "code",
   "execution_count": 12,
   "id": "029bfa8f",
   "metadata": {
    "execution": {
     "iopub.execute_input": "2025-01-10T05:02:35.726859Z",
     "iopub.status.busy": "2025-01-10T05:02:35.726429Z",
     "iopub.status.idle": "2025-01-10T05:02:35.733314Z",
     "shell.execute_reply": "2025-01-10T05:02:35.732270Z"
    },
    "papermill": {
     "duration": 0.01998,
     "end_time": "2025-01-10T05:02:35.734874",
     "exception": false,
     "start_time": "2025-01-10T05:02:35.714894",
     "status": "completed"
    },
    "tags": []
   },
   "outputs": [
    {
     "data": {
      "text/plain": [
       "65"
      ]
     },
     "execution_count": 12,
     "metadata": {},
     "output_type": "execute_result"
    }
   ],
   "source": [
    "df['language'].isna().sum()"
   ]
  },
  {
   "cell_type": "code",
   "execution_count": 13,
   "id": "54b9acea",
   "metadata": {
    "execution": {
     "iopub.execute_input": "2025-01-10T05:02:35.757734Z",
     "iopub.status.busy": "2025-01-10T05:02:35.757341Z",
     "iopub.status.idle": "2025-01-10T05:02:35.771854Z",
     "shell.execute_reply": "2025-01-10T05:02:35.770712Z"
    },
    "papermill": {
     "duration": 0.027743,
     "end_time": "2025-01-10T05:02:35.773490",
     "exception": false,
     "start_time": "2025-01-10T05:02:35.745747",
     "status": "completed"
    },
    "tags": []
   },
   "outputs": [
    {
     "data": {
      "text/html": [
       "<div>\n",
       "<style scoped>\n",
       "    .dataframe tbody tr th:only-of-type {\n",
       "        vertical-align: middle;\n",
       "    }\n",
       "\n",
       "    .dataframe tbody tr th {\n",
       "        vertical-align: top;\n",
       "    }\n",
       "\n",
       "    .dataframe thead th {\n",
       "        text-align: right;\n",
       "    }\n",
       "</style>\n",
       "<table border=\"1\" class=\"dataframe\">\n",
       "  <thead>\n",
       "    <tr style=\"text-align: right;\">\n",
       "      <th></th>\n",
       "      <th>org_name</th>\n",
       "      <th>repo_name</th>\n",
       "      <th>repo_url</th>\n",
       "      <th>description</th>\n",
       "      <th>language</th>\n",
       "      <th>star</th>\n",
       "      <th>forks</th>\n",
       "      <th>daily_star</th>\n",
       "      <th>date</th>\n",
       "      <th>trending_category</th>\n",
       "    </tr>\n",
       "  </thead>\n",
       "  <tbody>\n",
       "    <tr>\n",
       "      <th>0</th>\n",
       "      <td>terrastruct</td>\n",
       "      <td>d2</td>\n",
       "      <td>https://github.com/terrastruct/d2</td>\n",
       "      <td>D2 is a modern diagram scripting language that...</td>\n",
       "      <td>Go</td>\n",
       "      <td>17896.0</td>\n",
       "      <td>439.0</td>\n",
       "      <td>418</td>\n",
       "      <td>2024-11-17</td>\n",
       "      <td>go</td>\n",
       "    </tr>\n",
       "    <tr>\n",
       "      <th>1</th>\n",
       "      <td>tinygo-org</td>\n",
       "      <td>tinygo</td>\n",
       "      <td>https://github.com/tinygo-org/tinygo</td>\n",
       "      <td>Go compiler for small places. Microcontrollers...</td>\n",
       "      <td>Go</td>\n",
       "      <td>15463.0</td>\n",
       "      <td>912.0</td>\n",
       "      <td>6</td>\n",
       "      <td>2024-11-17</td>\n",
       "      <td>go</td>\n",
       "    </tr>\n",
       "    <tr>\n",
       "      <th>2</th>\n",
       "      <td>Melkeydev</td>\n",
       "      <td>go-blueprint</td>\n",
       "      <td>https://github.com/Melkeydev/go-blueprint</td>\n",
       "      <td>Go-blueprint allows users to spin up a quick G...</td>\n",
       "      <td>Go</td>\n",
       "      <td>4608.0</td>\n",
       "      <td>276.0</td>\n",
       "      <td>9</td>\n",
       "      <td>2024-11-17</td>\n",
       "      <td>go</td>\n",
       "    </tr>\n",
       "    <tr>\n",
       "      <th>3</th>\n",
       "      <td>jeessy2</td>\n",
       "      <td>ddns-go</td>\n",
       "      <td>https://github.com/jeessy2/ddns-go</td>\n",
       "      <td>Simple and easy to use DDNS. Support Aliyun, T...</td>\n",
       "      <td>Go</td>\n",
       "      <td>12117.0</td>\n",
       "      <td>1398.0</td>\n",
       "      <td>25</td>\n",
       "      <td>2024-11-17</td>\n",
       "      <td>go</td>\n",
       "    </tr>\n",
       "    <tr>\n",
       "      <th>4</th>\n",
       "      <td>JanDeDobbeleer</td>\n",
       "      <td>oh-my-posh</td>\n",
       "      <td>https://github.com/JanDeDobbeleer/oh-my-posh</td>\n",
       "      <td>The most customisable and low-latency cross pl...</td>\n",
       "      <td>Go</td>\n",
       "      <td>17450.0</td>\n",
       "      <td>2390.0</td>\n",
       "      <td>16</td>\n",
       "      <td>2024-11-17</td>\n",
       "      <td>go</td>\n",
       "    </tr>\n",
       "  </tbody>\n",
       "</table>\n",
       "</div>"
      ],
      "text/plain": [
       "         org_name     repo_name                                      repo_url  \\\n",
       "0     terrastruct            d2             https://github.com/terrastruct/d2   \n",
       "1      tinygo-org        tinygo          https://github.com/tinygo-org/tinygo   \n",
       "2       Melkeydev  go-blueprint     https://github.com/Melkeydev/go-blueprint   \n",
       "3         jeessy2       ddns-go            https://github.com/jeessy2/ddns-go   \n",
       "4  JanDeDobbeleer    oh-my-posh  https://github.com/JanDeDobbeleer/oh-my-posh   \n",
       "\n",
       "                                         description language     star  \\\n",
       "0  D2 is a modern diagram scripting language that...       Go  17896.0   \n",
       "1  Go compiler for small places. Microcontrollers...       Go  15463.0   \n",
       "2  Go-blueprint allows users to spin up a quick G...       Go   4608.0   \n",
       "3  Simple and easy to use DDNS. Support Aliyun, T...       Go  12117.0   \n",
       "4  The most customisable and low-latency cross pl...       Go  17450.0   \n",
       "\n",
       "    forks  daily_star        date trending_category  \n",
       "0   439.0         418  2024-11-17                go  \n",
       "1   912.0           6  2024-11-17                go  \n",
       "2   276.0           9  2024-11-17                go  \n",
       "3  1398.0          25  2024-11-17                go  \n",
       "4  2390.0          16  2024-11-17                go  "
      ]
     },
     "execution_count": 13,
     "metadata": {},
     "output_type": "execute_result"
    }
   ],
   "source": [
    "duplicate_df = df.copy()\n",
    "duplicate_df.head()"
   ]
  },
  {
   "cell_type": "code",
   "execution_count": 14,
   "id": "7c62f2d5",
   "metadata": {
    "execution": {
     "iopub.execute_input": "2025-01-10T05:02:35.796977Z",
     "iopub.status.busy": "2025-01-10T05:02:35.796609Z",
     "iopub.status.idle": "2025-01-10T05:02:35.808140Z",
     "shell.execute_reply": "2025-01-10T05:02:35.807068Z"
    },
    "papermill": {
     "duration": 0.025149,
     "end_time": "2025-01-10T05:02:35.809840",
     "exception": false,
     "start_time": "2025-01-10T05:02:35.784691",
     "status": "completed"
    },
    "tags": []
   },
   "outputs": [
    {
     "data": {
      "text/plain": [
       "org_name               0\n",
       "repo_name              0\n",
       "repo_url               0\n",
       "description            0\n",
       "language              65\n",
       "star                 156\n",
       "forks                156\n",
       "daily_star             0\n",
       "date                   0\n",
       "trending_category      0\n",
       "dtype: int64"
      ]
     },
     "execution_count": 14,
     "metadata": {},
     "output_type": "execute_result"
    }
   ],
   "source": [
    "duplicate_df.isna().sum()"
   ]
  },
  {
   "cell_type": "markdown",
   "id": "4ca6982f",
   "metadata": {
    "papermill": {
     "duration": 0.010814,
     "end_time": "2025-01-10T05:02:35.832023",
     "exception": false,
     "start_time": "2025-01-10T05:02:35.821209",
     "status": "completed"
    },
    "tags": []
   },
   "source": [
    "### Fill NAN values "
   ]
  },
  {
   "cell_type": "code",
   "execution_count": 15,
   "id": "887bdcb9",
   "metadata": {
    "execution": {
     "iopub.execute_input": "2025-01-10T05:02:35.855986Z",
     "iopub.status.busy": "2025-01-10T05:02:35.855608Z",
     "iopub.status.idle": "2025-01-10T05:02:35.864221Z",
     "shell.execute_reply": "2025-01-10T05:02:35.863370Z"
    },
    "papermill": {
     "duration": 0.022815,
     "end_time": "2025-01-10T05:02:35.865933",
     "exception": false,
     "start_time": "2025-01-10T05:02:35.843118",
     "status": "completed"
    },
    "tags": []
   },
   "outputs": [],
   "source": [
    "fill_values = {'language':'unavailable language', 'star': df['star'].mean(), 'forks': df['forks'].mean()}\n",
    "duplicate_df.fillna(fill_values, inplace=True)"
   ]
  },
  {
   "cell_type": "code",
   "execution_count": 16,
   "id": "b94254de",
   "metadata": {
    "execution": {
     "iopub.execute_input": "2025-01-10T05:02:35.889338Z",
     "iopub.status.busy": "2025-01-10T05:02:35.888983Z",
     "iopub.status.idle": "2025-01-10T05:02:35.896610Z",
     "shell.execute_reply": "2025-01-10T05:02:35.895603Z"
    },
    "papermill": {
     "duration": 0.021217,
     "end_time": "2025-01-10T05:02:35.898250",
     "exception": false,
     "start_time": "2025-01-10T05:02:35.877033",
     "status": "completed"
    },
    "tags": []
   },
   "outputs": [
    {
     "data": {
      "text/plain": [
       "0       2024-11-17\n",
       "1       2024-11-17\n",
       "2       2024-11-17\n",
       "3       2024-11-17\n",
       "4       2024-11-17\n",
       "           ...    \n",
       "9948    2025-01-09\n",
       "9949    2025-01-09\n",
       "9950    2025-01-09\n",
       "9951    2025-01-09\n",
       "9952    2025-01-09\n",
       "Name: date, Length: 9953, dtype: object"
      ]
     },
     "execution_count": 16,
     "metadata": {},
     "output_type": "execute_result"
    }
   ],
   "source": [
    "duplicate_df['date']"
   ]
  },
  {
   "cell_type": "markdown",
   "id": "966a9b36",
   "metadata": {
    "papermill": {
     "duration": 0.010834,
     "end_time": "2025-01-10T05:02:35.920484",
     "exception": false,
     "start_time": "2025-01-10T05:02:35.909650",
     "status": "completed"
    },
    "tags": []
   },
   "source": [
    "### Convert Date column object to date_format using pd.to_datetime()"
   ]
  },
  {
   "cell_type": "code",
   "execution_count": 17,
   "id": "993aa854",
   "metadata": {
    "execution": {
     "iopub.execute_input": "2025-01-10T05:02:35.944220Z",
     "iopub.status.busy": "2025-01-10T05:02:35.943837Z",
     "iopub.status.idle": "2025-01-10T05:02:35.953673Z",
     "shell.execute_reply": "2025-01-10T05:02:35.952572Z"
    },
    "papermill": {
     "duration": 0.023831,
     "end_time": "2025-01-10T05:02:35.955491",
     "exception": false,
     "start_time": "2025-01-10T05:02:35.931660",
     "status": "completed"
    },
    "tags": []
   },
   "outputs": [],
   "source": [
    "duplicate_df['date'] = pd.to_datetime(duplicate_df['date'], errors='coerce')\n"
   ]
  },
  {
   "cell_type": "code",
   "execution_count": 18,
   "id": "172d6d46",
   "metadata": {
    "execution": {
     "iopub.execute_input": "2025-01-10T05:02:35.979675Z",
     "iopub.status.busy": "2025-01-10T05:02:35.979257Z",
     "iopub.status.idle": "2025-01-10T05:02:35.990157Z",
     "shell.execute_reply": "2025-01-10T05:02:35.989233Z"
    },
    "papermill": {
     "duration": 0.024977,
     "end_time": "2025-01-10T05:02:35.991801",
     "exception": false,
     "start_time": "2025-01-10T05:02:35.966824",
     "status": "completed"
    },
    "tags": []
   },
   "outputs": [
    {
     "data": {
      "text/plain": [
       "org_name             0\n",
       "repo_name            0\n",
       "repo_url             0\n",
       "description          0\n",
       "language             0\n",
       "star                 0\n",
       "forks                0\n",
       "daily_star           0\n",
       "date                 0\n",
       "trending_category    0\n",
       "dtype: int64"
      ]
     },
     "execution_count": 18,
     "metadata": {},
     "output_type": "execute_result"
    }
   ],
   "source": [
    "duplicate_df.isna().sum()"
   ]
  },
  {
   "cell_type": "code",
   "execution_count": 19,
   "id": "6259e332",
   "metadata": {
    "execution": {
     "iopub.execute_input": "2025-01-10T05:02:36.015853Z",
     "iopub.status.busy": "2025-01-10T05:02:36.015496Z",
     "iopub.status.idle": "2025-01-10T05:02:36.029442Z",
     "shell.execute_reply": "2025-01-10T05:02:36.028476Z"
    },
    "papermill": {
     "duration": 0.028071,
     "end_time": "2025-01-10T05:02:36.031328",
     "exception": false,
     "start_time": "2025-01-10T05:02:36.003257",
     "status": "completed"
    },
    "tags": []
   },
   "outputs": [
    {
     "data": {
      "text/html": [
       "<div>\n",
       "<style scoped>\n",
       "    .dataframe tbody tr th:only-of-type {\n",
       "        vertical-align: middle;\n",
       "    }\n",
       "\n",
       "    .dataframe tbody tr th {\n",
       "        vertical-align: top;\n",
       "    }\n",
       "\n",
       "    .dataframe thead th {\n",
       "        text-align: right;\n",
       "    }\n",
       "</style>\n",
       "<table border=\"1\" class=\"dataframe\">\n",
       "  <thead>\n",
       "    <tr style=\"text-align: right;\">\n",
       "      <th></th>\n",
       "      <th>org_name</th>\n",
       "      <th>repo_name</th>\n",
       "      <th>repo_url</th>\n",
       "      <th>description</th>\n",
       "      <th>language</th>\n",
       "      <th>star</th>\n",
       "      <th>forks</th>\n",
       "      <th>daily_star</th>\n",
       "      <th>date</th>\n",
       "      <th>trending_category</th>\n",
       "    </tr>\n",
       "  </thead>\n",
       "  <tbody>\n",
       "    <tr>\n",
       "      <th>0</th>\n",
       "      <td>terrastruct</td>\n",
       "      <td>d2</td>\n",
       "      <td>https://github.com/terrastruct/d2</td>\n",
       "      <td>D2 is a modern diagram scripting language that...</td>\n",
       "      <td>Go</td>\n",
       "      <td>17896.0</td>\n",
       "      <td>439.0</td>\n",
       "      <td>418</td>\n",
       "      <td>2024-11-17</td>\n",
       "      <td>go</td>\n",
       "    </tr>\n",
       "    <tr>\n",
       "      <th>1</th>\n",
       "      <td>tinygo-org</td>\n",
       "      <td>tinygo</td>\n",
       "      <td>https://github.com/tinygo-org/tinygo</td>\n",
       "      <td>Go compiler for small places. Microcontrollers...</td>\n",
       "      <td>Go</td>\n",
       "      <td>15463.0</td>\n",
       "      <td>912.0</td>\n",
       "      <td>6</td>\n",
       "      <td>2024-11-17</td>\n",
       "      <td>go</td>\n",
       "    </tr>\n",
       "    <tr>\n",
       "      <th>2</th>\n",
       "      <td>Melkeydev</td>\n",
       "      <td>go-blueprint</td>\n",
       "      <td>https://github.com/Melkeydev/go-blueprint</td>\n",
       "      <td>Go-blueprint allows users to spin up a quick G...</td>\n",
       "      <td>Go</td>\n",
       "      <td>4608.0</td>\n",
       "      <td>276.0</td>\n",
       "      <td>9</td>\n",
       "      <td>2024-11-17</td>\n",
       "      <td>go</td>\n",
       "    </tr>\n",
       "    <tr>\n",
       "      <th>3</th>\n",
       "      <td>jeessy2</td>\n",
       "      <td>ddns-go</td>\n",
       "      <td>https://github.com/jeessy2/ddns-go</td>\n",
       "      <td>Simple and easy to use DDNS. Support Aliyun, T...</td>\n",
       "      <td>Go</td>\n",
       "      <td>12117.0</td>\n",
       "      <td>1398.0</td>\n",
       "      <td>25</td>\n",
       "      <td>2024-11-17</td>\n",
       "      <td>go</td>\n",
       "    </tr>\n",
       "    <tr>\n",
       "      <th>4</th>\n",
       "      <td>JanDeDobbeleer</td>\n",
       "      <td>oh-my-posh</td>\n",
       "      <td>https://github.com/JanDeDobbeleer/oh-my-posh</td>\n",
       "      <td>The most customisable and low-latency cross pl...</td>\n",
       "      <td>Go</td>\n",
       "      <td>17450.0</td>\n",
       "      <td>2390.0</td>\n",
       "      <td>16</td>\n",
       "      <td>2024-11-17</td>\n",
       "      <td>go</td>\n",
       "    </tr>\n",
       "  </tbody>\n",
       "</table>\n",
       "</div>"
      ],
      "text/plain": [
       "         org_name     repo_name                                      repo_url  \\\n",
       "0     terrastruct            d2             https://github.com/terrastruct/d2   \n",
       "1      tinygo-org        tinygo          https://github.com/tinygo-org/tinygo   \n",
       "2       Melkeydev  go-blueprint     https://github.com/Melkeydev/go-blueprint   \n",
       "3         jeessy2       ddns-go            https://github.com/jeessy2/ddns-go   \n",
       "4  JanDeDobbeleer    oh-my-posh  https://github.com/JanDeDobbeleer/oh-my-posh   \n",
       "\n",
       "                                         description language     star  \\\n",
       "0  D2 is a modern diagram scripting language that...       Go  17896.0   \n",
       "1  Go compiler for small places. Microcontrollers...       Go  15463.0   \n",
       "2  Go-blueprint allows users to spin up a quick G...       Go   4608.0   \n",
       "3  Simple and easy to use DDNS. Support Aliyun, T...       Go  12117.0   \n",
       "4  The most customisable and low-latency cross pl...       Go  17450.0   \n",
       "\n",
       "    forks  daily_star       date trending_category  \n",
       "0   439.0         418 2024-11-17                go  \n",
       "1   912.0           6 2024-11-17                go  \n",
       "2   276.0           9 2024-11-17                go  \n",
       "3  1398.0          25 2024-11-17                go  \n",
       "4  2390.0          16 2024-11-17                go  "
      ]
     },
     "execution_count": 19,
     "metadata": {},
     "output_type": "execute_result"
    }
   ],
   "source": [
    "duplicate_df.head()"
   ]
  },
  {
   "cell_type": "code",
   "execution_count": 20,
   "id": "74565d96",
   "metadata": {
    "execution": {
     "iopub.execute_input": "2025-01-10T05:02:36.055958Z",
     "iopub.status.busy": "2025-01-10T05:02:36.055553Z",
     "iopub.status.idle": "2025-01-10T05:02:36.389231Z",
     "shell.execute_reply": "2025-01-10T05:02:36.387811Z"
    },
    "papermill": {
     "duration": 0.348028,
     "end_time": "2025-01-10T05:02:36.391188",
     "exception": false,
     "start_time": "2025-01-10T05:02:36.043160",
     "status": "completed"
    },
    "tags": []
   },
   "outputs": [
    {
     "data": {
      "text/plain": [
       "<Axes: >"
      ]
     },
     "execution_count": 20,
     "metadata": {},
     "output_type": "execute_result"
    },
    {
     "data": {
      "image/png": "[encoded data removed]",
      "text/plain": [
       "<Figure size 640x480 with 1 Axes>"
      ]
     },
     "metadata": {},
     "output_type": "display_data"
    }
   ],
   "source": [
    "sns.heatmap(data=duplicate_df.isna(), cbar=False, yticklabels=False)"
   ]
  },
  {
   "cell_type": "code",
   "execution_count": 21,
   "id": "7f0d7e12",
   "metadata": {
    "execution": {
     "iopub.execute_input": "2025-01-10T05:02:36.416804Z",
     "iopub.status.busy": "2025-01-10T05:02:36.416326Z",
     "iopub.status.idle": "2025-01-10T05:02:36.703032Z",
     "shell.execute_reply": "2025-01-10T05:02:36.701791Z"
    },
    "papermill": {
     "duration": 0.301691,
     "end_time": "2025-01-10T05:02:36.705110",
     "exception": false,
     "start_time": "2025-01-10T05:02:36.403419",
     "status": "completed"
    },
    "tags": []
   },
   "outputs": [
    {
     "data": {
      "text/plain": [
       "<Axes: title={'center': 'Trending Category Language'}, xlabel='count', ylabel='trending_category'>"
      ]
     },
     "execution_count": 21,
     "metadata": {},
     "output_type": "execute_result"
    },
    {
     "data": {
      "image/png": "[encoded data removed]",
      "text/plain": [
       "<Figure size 640x480 with 1 Axes>"
      ]
     },
     "metadata": {},
     "output_type": "display_data"
    }
   ],
   "source": [
    "plt.title('Trending Category Language')\n",
    "sns.countplot(y='trending_category', data=duplicate_df)"
   ]
  },
  {
   "cell_type": "code",
   "execution_count": 22,
   "id": "4c7eb8d6",
   "metadata": {
    "execution": {
     "iopub.execute_input": "2025-01-10T05:02:36.732622Z",
     "iopub.status.busy": "2025-01-10T05:02:36.732217Z",
     "iopub.status.idle": "2025-01-10T05:02:36.753033Z",
     "shell.execute_reply": "2025-01-10T05:02:36.751899Z"
    },
    "papermill": {
     "duration": 0.0368,
     "end_time": "2025-01-10T05:02:36.754822",
     "exception": false,
     "start_time": "2025-01-10T05:02:36.718022",
     "status": "completed"
    },
    "tags": []
   },
   "outputs": [
    {
     "data": {
      "text/html": [
       "<div>\n",
       "<style scoped>\n",
       "    .dataframe tbody tr th:only-of-type {\n",
       "        vertical-align: middle;\n",
       "    }\n",
       "\n",
       "    .dataframe tbody tr th {\n",
       "        vertical-align: top;\n",
       "    }\n",
       "\n",
       "    .dataframe thead th {\n",
       "        text-align: right;\n",
       "    }\n",
       "</style>\n",
       "<table border=\"1\" class=\"dataframe\">\n",
       "  <thead>\n",
       "    <tr style=\"text-align: right;\">\n",
       "      <th></th>\n",
       "      <th>org_name</th>\n",
       "      <th>repo_name</th>\n",
       "      <th>repo_url</th>\n",
       "      <th>description</th>\n",
       "      <th>language</th>\n",
       "      <th>star</th>\n",
       "      <th>forks</th>\n",
       "      <th>daily_star</th>\n",
       "      <th>date</th>\n",
       "      <th>trending_category</th>\n",
       "    </tr>\n",
       "  </thead>\n",
       "  <tbody>\n",
       "    <tr>\n",
       "      <th>437</th>\n",
       "      <td>donnemartin</td>\n",
       "      <td>system-design-primer</td>\n",
       "      <td>https://github.com/donnemartin/system-design-p...</td>\n",
       "      <td>Learn how to design large-scale systems. Prep ...</td>\n",
       "      <td>Python</td>\n",
       "      <td>276079.0</td>\n",
       "      <td>46342.0</td>\n",
       "      <td>211</td>\n",
       "      <td>2024-11-17</td>\n",
       "      <td>python</td>\n",
       "    </tr>\n",
       "    <tr>\n",
       "      <th>438</th>\n",
       "      <td>AUTOMATIC1111</td>\n",
       "      <td>stable-diffusion-webui</td>\n",
       "      <td>https://github.com/AUTOMATIC1111/stable-diffus...</td>\n",
       "      <td>Stable Diffusion web UI</td>\n",
       "      <td>Python</td>\n",
       "      <td>142992.0</td>\n",
       "      <td>26951.0</td>\n",
       "      <td>63</td>\n",
       "      <td>2024-11-17</td>\n",
       "      <td>python</td>\n",
       "    </tr>\n",
       "    <tr>\n",
       "      <th>439</th>\n",
       "      <td>freqtrade</td>\n",
       "      <td>freqtrade</td>\n",
       "      <td>https://github.com/freqtrade/freqtrade</td>\n",
       "      <td>Free, open source crypto trading bot</td>\n",
       "      <td>Python</td>\n",
       "      <td>29089.0</td>\n",
       "      <td>6208.0</td>\n",
       "      <td>24</td>\n",
       "      <td>2024-11-17</td>\n",
       "      <td>python</td>\n",
       "    </tr>\n",
       "    <tr>\n",
       "      <th>440</th>\n",
       "      <td>blacklanternsecurity</td>\n",
       "      <td>bbot</td>\n",
       "      <td>https://github.com/blacklanternsecurity/bbot</td>\n",
       "      <td>A recursive internet scanner for hackers.</td>\n",
       "      <td>Python</td>\n",
       "      <td>5680.0</td>\n",
       "      <td>464.0</td>\n",
       "      <td>209</td>\n",
       "      <td>2024-11-17</td>\n",
       "      <td>python</td>\n",
       "    </tr>\n",
       "    <tr>\n",
       "      <th>441</th>\n",
       "      <td>xtekky</td>\n",
       "      <td>gpt4free</td>\n",
       "      <td>https://github.com/xtekky/gpt4free</td>\n",
       "      <td>The official gpt4free repository | various col...</td>\n",
       "      <td>Python</td>\n",
       "      <td>61291.0</td>\n",
       "      <td>13327.0</td>\n",
       "      <td>18</td>\n",
       "      <td>2024-11-17</td>\n",
       "      <td>python</td>\n",
       "    </tr>\n",
       "    <tr>\n",
       "      <th>...</th>\n",
       "      <td>...</td>\n",
       "      <td>...</td>\n",
       "      <td>...</td>\n",
       "      <td>...</td>\n",
       "      <td>...</td>\n",
       "      <td>...</td>\n",
       "      <td>...</td>\n",
       "      <td>...</td>\n",
       "      <td>...</td>\n",
       "      <td>...</td>\n",
       "    </tr>\n",
       "    <tr>\n",
       "      <th>9815</th>\n",
       "      <td>psf</td>\n",
       "      <td>black</td>\n",
       "      <td>https://github.com/psf/black</td>\n",
       "      <td>The uncompromising Python code formatter</td>\n",
       "      <td>Python</td>\n",
       "      <td>39415.0</td>\n",
       "      <td>2499.0</td>\n",
       "      <td>6</td>\n",
       "      <td>2025-01-09</td>\n",
       "      <td>python</td>\n",
       "    </tr>\n",
       "    <tr>\n",
       "      <th>9816</th>\n",
       "      <td>zylon-ai</td>\n",
       "      <td>private-gpt</td>\n",
       "      <td>https://github.com/zylon-ai/private-gpt</td>\n",
       "      <td>Interact with your documents using the power o...</td>\n",
       "      <td>Python</td>\n",
       "      <td>54783.0</td>\n",
       "      <td>7364.0</td>\n",
       "      <td>99</td>\n",
       "      <td>2025-01-09</td>\n",
       "      <td>python</td>\n",
       "    </tr>\n",
       "    <tr>\n",
       "      <th>9817</th>\n",
       "      <td>openai</td>\n",
       "      <td>openai-python</td>\n",
       "      <td>https://github.com/openai/openai-python</td>\n",
       "      <td>The official Python library for the OpenAI API</td>\n",
       "      <td>Python</td>\n",
       "      <td>23906.0</td>\n",
       "      <td>3395.0</td>\n",
       "      <td>19</td>\n",
       "      <td>2025-01-09</td>\n",
       "      <td>python</td>\n",
       "    </tr>\n",
       "    <tr>\n",
       "      <th>9818</th>\n",
       "      <td>openedx</td>\n",
       "      <td>edx-platform</td>\n",
       "      <td>https://github.com/openedx/edx-platform</td>\n",
       "      <td>The Open edX LMS &amp; Studio, powering education ...</td>\n",
       "      <td>Python</td>\n",
       "      <td>7524.0</td>\n",
       "      <td>3905.0</td>\n",
       "      <td>2</td>\n",
       "      <td>2025-01-09</td>\n",
       "      <td>python</td>\n",
       "    </tr>\n",
       "    <tr>\n",
       "      <th>9819</th>\n",
       "      <td>feder-cr</td>\n",
       "      <td>Jobs_Applier_AI_Agent</td>\n",
       "      <td>https://github.com/feder-cr/Jobs_Applier_AI_Agent</td>\n",
       "      <td>Auto_Jobs_Applier_AI_Agent aims to easy job hu...</td>\n",
       "      <td>Python</td>\n",
       "      <td>24401.0</td>\n",
       "      <td>3607.0</td>\n",
       "      <td>146</td>\n",
       "      <td>2025-01-09</td>\n",
       "      <td>python</td>\n",
       "    </tr>\n",
       "  </tbody>\n",
       "</table>\n",
       "<p>1026 rows × 10 columns</p>\n",
       "</div>"
      ],
      "text/plain": [
       "                  org_name               repo_name  \\\n",
       "437            donnemartin    system-design-primer   \n",
       "438          AUTOMATIC1111  stable-diffusion-webui   \n",
       "439              freqtrade               freqtrade   \n",
       "440   blacklanternsecurity                    bbot   \n",
       "441                 xtekky                gpt4free   \n",
       "...                    ...                     ...   \n",
       "9815                   psf                   black   \n",
       "9816              zylon-ai             private-gpt   \n",
       "9817                openai           openai-python   \n",
       "9818               openedx            edx-platform   \n",
       "9819              feder-cr   Jobs_Applier_AI_Agent   \n",
       "\n",
       "                                               repo_url  \\\n",
       "437   https://github.com/donnemartin/system-design-p...   \n",
       "438   https://github.com/AUTOMATIC1111/stable-diffus...   \n",
       "439              https://github.com/freqtrade/freqtrade   \n",
       "440        https://github.com/blacklanternsecurity/bbot   \n",
       "441                  https://github.com/xtekky/gpt4free   \n",
       "...                                                 ...   \n",
       "9815                       https://github.com/psf/black   \n",
       "9816            https://github.com/zylon-ai/private-gpt   \n",
       "9817            https://github.com/openai/openai-python   \n",
       "9818            https://github.com/openedx/edx-platform   \n",
       "9819  https://github.com/feder-cr/Jobs_Applier_AI_Agent   \n",
       "\n",
       "                                            description language      star  \\\n",
       "437   Learn how to design large-scale systems. Prep ...   Python  276079.0   \n",
       "438                             Stable Diffusion web UI   Python  142992.0   \n",
       "439                Free, open source crypto trading bot   Python   29089.0   \n",
       "440           A recursive internet scanner for hackers.   Python    5680.0   \n",
       "441   The official gpt4free repository | various col...   Python   61291.0   \n",
       "...                                                 ...      ...       ...   \n",
       "9815           The uncompromising Python code formatter   Python   39415.0   \n",
       "9816  Interact with your documents using the power o...   Python   54783.0   \n",
       "9817     The official Python library for the OpenAI API   Python   23906.0   \n",
       "9818  The Open edX LMS & Studio, powering education ...   Python    7524.0   \n",
       "9819  Auto_Jobs_Applier_AI_Agent aims to easy job hu...   Python   24401.0   \n",
       "\n",
       "        forks  daily_star       date trending_category  \n",
       "437   46342.0         211 2024-11-17            python  \n",
       "438   26951.0          63 2024-11-17            python  \n",
       "439    6208.0          24 2024-11-17            python  \n",
       "440     464.0         209 2024-11-17            python  \n",
       "441   13327.0          18 2024-11-17            python  \n",
       "...       ...         ...        ...               ...  \n",
       "9815   2499.0           6 2025-01-09            python  \n",
       "9816   7364.0          99 2025-01-09            python  \n",
       "9817   3395.0          19 2025-01-09            python  \n",
       "9818   3905.0           2 2025-01-09            python  \n",
       "9819   3607.0         146 2025-01-09            python  \n",
       "\n",
       "[1026 rows x 10 columns]"
      ]
     },
     "execution_count": 22,
     "metadata": {},
     "output_type": "execute_result"
    }
   ],
   "source": [
    "duplicate_df[duplicate_df['trending_category'] == 'python']"
   ]
  },
  {
   "cell_type": "code",
   "execution_count": 23,
   "id": "a0ba4d6d",
   "metadata": {
    "execution": {
     "iopub.execute_input": "2025-01-10T05:02:36.782417Z",
     "iopub.status.busy": "2025-01-10T05:02:36.782029Z",
     "iopub.status.idle": "2025-01-10T05:02:36.796119Z",
     "shell.execute_reply": "2025-01-10T05:02:36.794947Z"
    },
    "papermill": {
     "duration": 0.029739,
     "end_time": "2025-01-10T05:02:36.797882",
     "exception": false,
     "start_time": "2025-01-10T05:02:36.768143",
     "status": "completed"
    },
    "tags": []
   },
   "outputs": [
    {
     "data": {
      "text/html": [
       "<div>\n",
       "<style scoped>\n",
       "    .dataframe tbody tr th:only-of-type {\n",
       "        vertical-align: middle;\n",
       "    }\n",
       "\n",
       "    .dataframe tbody tr th {\n",
       "        vertical-align: top;\n",
       "    }\n",
       "\n",
       "    .dataframe thead th {\n",
       "        text-align: right;\n",
       "    }\n",
       "</style>\n",
       "<table border=\"1\" class=\"dataframe\">\n",
       "  <thead>\n",
       "    <tr style=\"text-align: right;\">\n",
       "      <th></th>\n",
       "      <th>org_name</th>\n",
       "      <th>repo_name</th>\n",
       "      <th>repo_url</th>\n",
       "      <th>description</th>\n",
       "      <th>language</th>\n",
       "      <th>star</th>\n",
       "      <th>forks</th>\n",
       "      <th>daily_star</th>\n",
       "      <th>date</th>\n",
       "      <th>trending_category</th>\n",
       "    </tr>\n",
       "  </thead>\n",
       "  <tbody>\n",
       "    <tr>\n",
       "      <th>0</th>\n",
       "      <td>terrastruct</td>\n",
       "      <td>d2</td>\n",
       "      <td>https://github.com/terrastruct/d2</td>\n",
       "      <td>D2 is a modern diagram scripting language that...</td>\n",
       "      <td>Go</td>\n",
       "      <td>17896.0</td>\n",
       "      <td>439.0</td>\n",
       "      <td>418</td>\n",
       "      <td>2024-11-17</td>\n",
       "      <td>go</td>\n",
       "    </tr>\n",
       "    <tr>\n",
       "      <th>1</th>\n",
       "      <td>tinygo-org</td>\n",
       "      <td>tinygo</td>\n",
       "      <td>https://github.com/tinygo-org/tinygo</td>\n",
       "      <td>Go compiler for small places. Microcontrollers...</td>\n",
       "      <td>Go</td>\n",
       "      <td>15463.0</td>\n",
       "      <td>912.0</td>\n",
       "      <td>6</td>\n",
       "      <td>2024-11-17</td>\n",
       "      <td>go</td>\n",
       "    </tr>\n",
       "    <tr>\n",
       "      <th>2</th>\n",
       "      <td>Melkeydev</td>\n",
       "      <td>go-blueprint</td>\n",
       "      <td>https://github.com/Melkeydev/go-blueprint</td>\n",
       "      <td>Go-blueprint allows users to spin up a quick G...</td>\n",
       "      <td>Go</td>\n",
       "      <td>4608.0</td>\n",
       "      <td>276.0</td>\n",
       "      <td>9</td>\n",
       "      <td>2024-11-17</td>\n",
       "      <td>go</td>\n",
       "    </tr>\n",
       "    <tr>\n",
       "      <th>3</th>\n",
       "      <td>jeessy2</td>\n",
       "      <td>ddns-go</td>\n",
       "      <td>https://github.com/jeessy2/ddns-go</td>\n",
       "      <td>Simple and easy to use DDNS. Support Aliyun, T...</td>\n",
       "      <td>Go</td>\n",
       "      <td>12117.0</td>\n",
       "      <td>1398.0</td>\n",
       "      <td>25</td>\n",
       "      <td>2024-11-17</td>\n",
       "      <td>go</td>\n",
       "    </tr>\n",
       "    <tr>\n",
       "      <th>4</th>\n",
       "      <td>JanDeDobbeleer</td>\n",
       "      <td>oh-my-posh</td>\n",
       "      <td>https://github.com/JanDeDobbeleer/oh-my-posh</td>\n",
       "      <td>The most customisable and low-latency cross pl...</td>\n",
       "      <td>Go</td>\n",
       "      <td>17450.0</td>\n",
       "      <td>2390.0</td>\n",
       "      <td>16</td>\n",
       "      <td>2024-11-17</td>\n",
       "      <td>go</td>\n",
       "    </tr>\n",
       "  </tbody>\n",
       "</table>\n",
       "</div>"
      ],
      "text/plain": [
       "         org_name     repo_name                                      repo_url  \\\n",
       "0     terrastruct            d2             https://github.com/terrastruct/d2   \n",
       "1      tinygo-org        tinygo          https://github.com/tinygo-org/tinygo   \n",
       "2       Melkeydev  go-blueprint     https://github.com/Melkeydev/go-blueprint   \n",
       "3         jeessy2       ddns-go            https://github.com/jeessy2/ddns-go   \n",
       "4  JanDeDobbeleer    oh-my-posh  https://github.com/JanDeDobbeleer/oh-my-posh   \n",
       "\n",
       "                                         description language     star  \\\n",
       "0  D2 is a modern diagram scripting language that...       Go  17896.0   \n",
       "1  Go compiler for small places. Microcontrollers...       Go  15463.0   \n",
       "2  Go-blueprint allows users to spin up a quick G...       Go   4608.0   \n",
       "3  Simple and easy to use DDNS. Support Aliyun, T...       Go  12117.0   \n",
       "4  The most customisable and low-latency cross pl...       Go  17450.0   \n",
       "\n",
       "    forks  daily_star       date trending_category  \n",
       "0   439.0         418 2024-11-17                go  \n",
       "1   912.0           6 2024-11-17                go  \n",
       "2   276.0           9 2024-11-17                go  \n",
       "3  1398.0          25 2024-11-17                go  \n",
       "4  2390.0          16 2024-11-17                go  "
      ]
     },
     "execution_count": 23,
     "metadata": {},
     "output_type": "execute_result"
    }
   ],
   "source": [
    "duplicate_df.head()"
   ]
  },
  {
   "cell_type": "code",
   "execution_count": 24,
   "id": "8062a04c",
   "metadata": {
    "execution": {
     "iopub.execute_input": "2025-01-10T05:02:36.826157Z",
     "iopub.status.busy": "2025-01-10T05:02:36.825810Z",
     "iopub.status.idle": "2025-01-10T05:02:43.399490Z",
     "shell.execute_reply": "2025-01-10T05:02:43.398082Z"
    },
    "papermill": {
     "duration": 6.590501,
     "end_time": "2025-01-10T05:02:43.401916",
     "exception": false,
     "start_time": "2025-01-10T05:02:36.811415",
     "status": "completed"
    },
    "tags": []
   },
   "outputs": [
    {
     "name": "stderr",
     "output_type": "stream",
     "text": [
      "/usr/local/lib/python3.10/dist-packages/seaborn/_oldcore.py:1119: FutureWarning: use_inf_as_na option is deprecated and will be removed in a future version. Convert inf values to NaN before operating instead.\n",
      "  with pd.option_context('mode.use_inf_as_na', True):\n",
      "/usr/local/lib/python3.10/dist-packages/seaborn/_oldcore.py:1119: FutureWarning: use_inf_as_na option is deprecated and will be removed in a future version. Convert inf values to NaN before operating instead.\n",
      "  with pd.option_context('mode.use_inf_as_na', True):\n",
      "/usr/local/lib/python3.10/dist-packages/seaborn/_oldcore.py:1119: FutureWarning: use_inf_as_na option is deprecated and will be removed in a future version. Convert inf values to NaN before operating instead.\n",
      "  with pd.option_context('mode.use_inf_as_na', True):\n"
     ]
    },
    {
     "data": {
      "text/plain": [
       "<seaborn.axisgrid.PairGrid at 0x7b99c261c6d0>"
      ]
     },
     "execution_count": 24,
     "metadata": {},
     "output_type": "execute_result"
    },
    {
     "data": {
      "image/png": "[encoded data removed]",
      "text/plain": [
       "<Figure size 750x750 with 12 Axes>"
      ]
     },
     "metadata": {},
     "output_type": "display_data"
    }
   ],
   "source": [
    "sns.pairplot(data=duplicate_df)"
   ]
  },
  {
   "cell_type": "code",
   "execution_count": 25,
   "id": "d6684041",
   "metadata": {
    "execution": {
     "iopub.execute_input": "2025-01-10T05:02:43.435257Z",
     "iopub.status.busy": "2025-01-10T05:02:43.434892Z",
     "iopub.status.idle": "2025-01-10T05:02:44.561082Z",
     "shell.execute_reply": "2025-01-10T05:02:44.559882Z"
    },
    "papermill": {
     "duration": 1.145357,
     "end_time": "2025-01-10T05:02:44.563713",
     "exception": false,
     "start_time": "2025-01-10T05:02:43.418356",
     "status": "completed"
    },
    "tags": []
   },
   "outputs": [
    {
     "data": {
      "text/plain": [
       "<Axes: xlabel='daily_star', ylabel='date'>"
      ]
     },
     "execution_count": 25,
     "metadata": {},
     "output_type": "execute_result"
    },
    {
     "data": {
      "image/png": "[encoded data removed]",
      "text/plain": [
       "<Figure size 640x480 with 1 Axes>"
      ]
     },
     "metadata": {},
     "output_type": "display_data"
    }
   ],
   "source": [
    "sns.scatterplot(data=duplicate_df, x='daily_star', y='date', hue='trending_category')"
   ]
  },
  {
   "cell_type": "code",
   "execution_count": 26,
   "id": "e7aaccca",
   "metadata": {
    "execution": {
     "iopub.execute_input": "2025-01-10T05:02:44.600425Z",
     "iopub.status.busy": "2025-01-10T05:02:44.600088Z",
     "iopub.status.idle": "2025-01-10T05:02:44.607368Z",
     "shell.execute_reply": "2025-01-10T05:02:44.606312Z"
    },
    "papermill": {
     "duration": 0.02736,
     "end_time": "2025-01-10T05:02:44.609013",
     "exception": false,
     "start_time": "2025-01-10T05:02:44.581653",
     "status": "completed"
    },
    "tags": []
   },
   "outputs": [
    {
     "data": {
      "text/plain": [
       "<DatetimeArray>\n",
       "['2024-11-17 00:00:00', '2024-11-18 00:00:00', '2024-11-08 00:00:00',\n",
       " '2024-11-21 00:00:00', '2024-11-10 00:00:00', '2024-11-16 00:00:00',\n",
       " '2024-11-14 00:00:00', '2024-11-22 00:00:00', '2024-11-07 00:00:00',\n",
       " '2024-11-15 00:00:00', '2024-11-25 00:00:00', '2024-11-20 00:00:00',\n",
       " '2024-11-24 00:00:00', '2024-11-06 00:00:00', '2024-11-13 00:00:00',\n",
       " '2024-11-23 00:00:00', '2024-11-09 00:00:00', '2024-11-11 00:00:00',\n",
       " '2024-11-19 00:00:00', '2024-11-12 00:00:00', '2024-11-26 00:00:00',\n",
       " '2024-11-27 00:00:00', '2024-11-28 00:00:00', '2024-11-29 00:00:00',\n",
       " '2024-11-30 00:00:00', '2024-12-01 00:00:00', '2024-12-02 00:00:00',\n",
       " '2024-12-03 00:00:00', '2024-12-04 00:00:00', '2024-12-05 00:00:00',\n",
       " '2024-12-06 00:00:00', '2024-12-07 00:00:00', '2024-12-08 00:00:00',\n",
       " '2024-12-09 00:00:00', '2024-12-10 00:00:00', '2024-12-11 00:00:00',\n",
       " '2024-12-12 00:00:00', '2024-12-13 00:00:00', '2024-12-14 00:00:00',\n",
       " '2024-12-15 00:00:00', '2024-12-16 00:00:00', '2024-12-17 00:00:00',\n",
       " '2024-12-18 00:00:00', '2024-12-19 00:00:00', '2024-12-20 00:00:00',\n",
       " '2024-12-21 00:00:00', '2024-12-22 00:00:00', '2024-12-23 00:00:00',\n",
       " '2024-12-24 00:00:00', '2024-12-25 00:00:00', '2024-12-26 00:00:00',\n",
       " '2024-12-27 00:00:00', '2024-12-28 00:00:00', '2024-12-29 00:00:00',\n",
       " '2024-12-30 00:00:00', '2024-12-31 00:00:00', '2025-01-01 00:00:00',\n",
       " '2025-01-02 00:00:00', '2025-01-03 00:00:00', '2025-01-04 00:00:00',\n",
       " '2025-01-05 00:00:00', '2025-01-06 00:00:00', '2025-01-07 00:00:00',\n",
       " '2025-01-08 00:00:00', '2025-01-09 00:00:00']\n",
       "Length: 65, dtype: datetime64[ns]"
      ]
     },
     "execution_count": 26,
     "metadata": {},
     "output_type": "execute_result"
    }
   ],
   "source": [
    "duplicate_df['date'].unique()"
   ]
  },
  {
   "cell_type": "code",
   "execution_count": 27,
   "id": "8176a1e1",
   "metadata": {
    "execution": {
     "iopub.execute_input": "2025-01-10T05:02:44.646306Z",
     "iopub.status.busy": "2025-01-10T05:02:44.645912Z",
     "iopub.status.idle": "2025-01-10T05:02:44.652599Z",
     "shell.execute_reply": "2025-01-10T05:02:44.651511Z"
    },
    "papermill": {
     "duration": 0.027332,
     "end_time": "2025-01-10T05:02:44.654224",
     "exception": false,
     "start_time": "2025-01-10T05:02:44.626892",
     "status": "completed"
    },
    "tags": []
   },
   "outputs": [
    {
     "data": {
      "text/plain": [
       "array(['terrastruct', 'tinygo-org', 'Melkeydev', ..., 'rage-rb', 'a2x',\n",
       "       'twmb'], dtype=object)"
      ]
     },
     "execution_count": 27,
     "metadata": {},
     "output_type": "execute_result"
    }
   ],
   "source": [
    "duplicate_df['org_name'].unique()"
   ]
  },
  {
   "cell_type": "code",
   "execution_count": 28,
   "id": "d25d7563",
   "metadata": {
    "execution": {
     "iopub.execute_input": "2025-01-10T05:02:44.691893Z",
     "iopub.status.busy": "2025-01-10T05:02:44.691394Z",
     "iopub.status.idle": "2025-01-10T05:02:44.897071Z",
     "shell.execute_reply": "2025-01-10T05:02:44.896005Z"
    },
    "papermill": {
     "duration": 0.226419,
     "end_time": "2025-01-10T05:02:44.898678",
     "exception": false,
     "start_time": "2025-01-10T05:02:44.672259",
     "status": "completed"
    },
    "tags": []
   },
   "outputs": [
    {
     "data": {
      "text/plain": [
       "<Axes: >"
      ]
     },
     "execution_count": 28,
     "metadata": {},
     "output_type": "execute_result"
    },
    {
     "data": {
      "image/png": "[encoded data removed]",
      "text/plain": [
       "<Figure size 640x480 with 1 Axes>"
      ]
     },
     "metadata": {},
     "output_type": "display_data"
    }
   ],
   "source": [
    "sns.boxplot(data=duplicate_df)"
   ]
  },
  {
   "cell_type": "code",
   "execution_count": 29,
   "id": "1bf7f958",
   "metadata": {
    "execution": {
     "iopub.execute_input": "2025-01-10T05:02:44.936912Z",
     "iopub.status.busy": "2025-01-10T05:02:44.936534Z",
     "iopub.status.idle": "2025-01-10T05:02:50.083745Z",
     "shell.execute_reply": "2025-01-10T05:02:50.082522Z"
    },
    "papermill": {
     "duration": 5.168565,
     "end_time": "2025-01-10T05:02:50.085783",
     "exception": false,
     "start_time": "2025-01-10T05:02:44.917218",
     "status": "completed"
    },
    "tags": []
   },
   "outputs": [
    {
     "name": "stderr",
     "output_type": "stream",
     "text": [
      "/usr/local/lib/python3.10/dist-packages/seaborn/_oldcore.py:1119: FutureWarning: use_inf_as_na option is deprecated and will be removed in a future version. Convert inf values to NaN before operating instead.\n",
      "  with pd.option_context('mode.use_inf_as_na', True):\n"
     ]
    },
    {
     "data": {
      "text/plain": [
       "<Axes: ylabel='Count'>"
      ]
     },
     "execution_count": 29,
     "metadata": {},
     "output_type": "execute_result"
    },
    {
     "data": {
      "image/png": "[encoded data removed]",
      "text/plain": [
       "<Figure size 640x480 with 1 Axes>"
      ]
     },
     "metadata": {},
     "output_type": "display_data"
    }
   ],
   "source": [
    "sns.histplot(data=duplicate_df)"
   ]
  },
  {
   "cell_type": "code",
   "execution_count": 30,
   "id": "a417ab30",
   "metadata": {
    "execution": {
     "iopub.execute_input": "2025-01-10T05:02:50.126044Z",
     "iopub.status.busy": "2025-01-10T05:02:50.125654Z",
     "iopub.status.idle": "2025-01-10T05:02:50.135618Z",
     "shell.execute_reply": "2025-01-10T05:02:50.134522Z"
    },
    "papermill": {
     "duration": 0.032259,
     "end_time": "2025-01-10T05:02:50.137417",
     "exception": false,
     "start_time": "2025-01-10T05:02:50.105158",
     "status": "completed"
    },
    "tags": []
   },
   "outputs": [
    {
     "data": {
      "text/html": [
       "<div>\n",
       "<style scoped>\n",
       "    .dataframe tbody tr th:only-of-type {\n",
       "        vertical-align: middle;\n",
       "    }\n",
       "\n",
       "    .dataframe tbody tr th {\n",
       "        vertical-align: top;\n",
       "    }\n",
       "\n",
       "    .dataframe thead th {\n",
       "        text-align: right;\n",
       "    }\n",
       "</style>\n",
       "<table border=\"1\" class=\"dataframe\">\n",
       "  <thead>\n",
       "    <tr style=\"text-align: right;\">\n",
       "      <th></th>\n",
       "      <th>date</th>\n",
       "    </tr>\n",
       "  </thead>\n",
       "  <tbody>\n",
       "    <tr>\n",
       "      <th>0</th>\n",
       "      <td>2024-11-17</td>\n",
       "    </tr>\n",
       "    <tr>\n",
       "      <th>1</th>\n",
       "      <td>2024-11-17</td>\n",
       "    </tr>\n",
       "    <tr>\n",
       "      <th>2</th>\n",
       "      <td>2024-11-17</td>\n",
       "    </tr>\n",
       "    <tr>\n",
       "      <th>3</th>\n",
       "      <td>2024-11-17</td>\n",
       "    </tr>\n",
       "    <tr>\n",
       "      <th>4</th>\n",
       "      <td>2024-11-17</td>\n",
       "    </tr>\n",
       "  </tbody>\n",
       "</table>\n",
       "</div>"
      ],
      "text/plain": [
       "         date\n",
       "0  2024-11-17\n",
       "1  2024-11-17\n",
       "2  2024-11-17\n",
       "3  2024-11-17\n",
       "4  2024-11-17"
      ]
     },
     "execution_count": 30,
     "metadata": {},
     "output_type": "execute_result"
    }
   ],
   "source": [
    "df.loc[0:4, ['date']]"
   ]
  },
  {
   "cell_type": "code",
   "execution_count": 31,
   "id": "7cc41a9f",
   "metadata": {
    "execution": {
     "iopub.execute_input": "2025-01-10T05:02:50.177486Z",
     "iopub.status.busy": "2025-01-10T05:02:50.177074Z",
     "iopub.status.idle": "2025-01-10T05:02:50.187148Z",
     "shell.execute_reply": "2025-01-10T05:02:50.185903Z"
    },
    "papermill": {
     "duration": 0.032304,
     "end_time": "2025-01-10T05:02:50.189243",
     "exception": false,
     "start_time": "2025-01-10T05:02:50.156939",
     "status": "completed"
    },
    "tags": []
   },
   "outputs": [
    {
     "data": {
      "text/html": [
       "<div>\n",
       "<style scoped>\n",
       "    .dataframe tbody tr th:only-of-type {\n",
       "        vertical-align: middle;\n",
       "    }\n",
       "\n",
       "    .dataframe tbody tr th {\n",
       "        vertical-align: top;\n",
       "    }\n",
       "\n",
       "    .dataframe thead th {\n",
       "        text-align: right;\n",
       "    }\n",
       "</style>\n",
       "<table border=\"1\" class=\"dataframe\">\n",
       "  <thead>\n",
       "    <tr style=\"text-align: right;\">\n",
       "      <th></th>\n",
       "      <th>date</th>\n",
       "    </tr>\n",
       "  </thead>\n",
       "  <tbody>\n",
       "    <tr>\n",
       "      <th>0</th>\n",
       "      <td>2024-11-17</td>\n",
       "    </tr>\n",
       "    <tr>\n",
       "      <th>1</th>\n",
       "      <td>2024-11-17</td>\n",
       "    </tr>\n",
       "    <tr>\n",
       "      <th>2</th>\n",
       "      <td>2024-11-17</td>\n",
       "    </tr>\n",
       "    <tr>\n",
       "      <th>3</th>\n",
       "      <td>2024-11-17</td>\n",
       "    </tr>\n",
       "    <tr>\n",
       "      <th>4</th>\n",
       "      <td>2024-11-17</td>\n",
       "    </tr>\n",
       "    <tr>\n",
       "      <th>5</th>\n",
       "      <td>2024-11-17</td>\n",
       "    </tr>\n",
       "  </tbody>\n",
       "</table>\n",
       "</div>"
      ],
      "text/plain": [
       "         date\n",
       "0  2024-11-17\n",
       "1  2024-11-17\n",
       "2  2024-11-17\n",
       "3  2024-11-17\n",
       "4  2024-11-17\n",
       "5  2024-11-17"
      ]
     },
     "execution_count": 31,
     "metadata": {},
     "output_type": "execute_result"
    }
   ],
   "source": [
    "df.loc[0:5, ['date']]"
   ]
  },
  {
   "cell_type": "code",
   "execution_count": 32,
   "id": "1ba6e430",
   "metadata": {
    "execution": {
     "iopub.execute_input": "2025-01-10T05:02:50.229797Z",
     "iopub.status.busy": "2025-01-10T05:02:50.229385Z",
     "iopub.status.idle": "2025-01-10T05:02:50.238711Z",
     "shell.execute_reply": "2025-01-10T05:02:50.237636Z"
    },
    "papermill": {
     "duration": 0.031191,
     "end_time": "2025-01-10T05:02:50.240276",
     "exception": false,
     "start_time": "2025-01-10T05:02:50.209085",
     "status": "completed"
    },
    "tags": []
   },
   "outputs": [
    {
     "data": {
      "text/html": [
       "<div>\n",
       "<style scoped>\n",
       "    .dataframe tbody tr th:only-of-type {\n",
       "        vertical-align: middle;\n",
       "    }\n",
       "\n",
       "    .dataframe tbody tr th {\n",
       "        vertical-align: top;\n",
       "    }\n",
       "\n",
       "    .dataframe thead th {\n",
       "        text-align: right;\n",
       "    }\n",
       "</style>\n",
       "<table border=\"1\" class=\"dataframe\">\n",
       "  <thead>\n",
       "    <tr style=\"text-align: right;\">\n",
       "      <th></th>\n",
       "      <th>date</th>\n",
       "    </tr>\n",
       "  </thead>\n",
       "  <tbody>\n",
       "    <tr>\n",
       "      <th>0</th>\n",
       "      <td>2024-11-17</td>\n",
       "    </tr>\n",
       "    <tr>\n",
       "      <th>1</th>\n",
       "      <td>2024-11-17</td>\n",
       "    </tr>\n",
       "    <tr>\n",
       "      <th>2</th>\n",
       "      <td>2024-11-17</td>\n",
       "    </tr>\n",
       "    <tr>\n",
       "      <th>3</th>\n",
       "      <td>2024-11-17</td>\n",
       "    </tr>\n",
       "    <tr>\n",
       "      <th>4</th>\n",
       "      <td>2024-11-17</td>\n",
       "    </tr>\n",
       "    <tr>\n",
       "      <th>5</th>\n",
       "      <td>2024-11-17</td>\n",
       "    </tr>\n",
       "  </tbody>\n",
       "</table>\n",
       "</div>"
      ],
      "text/plain": [
       "         date\n",
       "0  2024-11-17\n",
       "1  2024-11-17\n",
       "2  2024-11-17\n",
       "3  2024-11-17\n",
       "4  2024-11-17\n",
       "5  2024-11-17"
      ]
     },
     "execution_count": 32,
     "metadata": {},
     "output_type": "execute_result"
    }
   ],
   "source": [
    "df.loc[:5, ['date']]"
   ]
  },
  {
   "cell_type": "code",
   "execution_count": 33,
   "id": "f3df861d",
   "metadata": {
    "execution": {
     "iopub.execute_input": "2025-01-10T05:02:50.281209Z",
     "iopub.status.busy": "2025-01-10T05:02:50.280842Z",
     "iopub.status.idle": "2025-01-10T05:02:50.290438Z",
     "shell.execute_reply": "2025-01-10T05:02:50.289434Z"
    },
    "papermill": {
     "duration": 0.031705,
     "end_time": "2025-01-10T05:02:50.292031",
     "exception": false,
     "start_time": "2025-01-10T05:02:50.260326",
     "status": "completed"
    },
    "tags": []
   },
   "outputs": [
    {
     "data": {
      "text/html": [
       "<div>\n",
       "<style scoped>\n",
       "    .dataframe tbody tr th:only-of-type {\n",
       "        vertical-align: middle;\n",
       "    }\n",
       "\n",
       "    .dataframe tbody tr th {\n",
       "        vertical-align: top;\n",
       "    }\n",
       "\n",
       "    .dataframe thead th {\n",
       "        text-align: right;\n",
       "    }\n",
       "</style>\n",
       "<table border=\"1\" class=\"dataframe\">\n",
       "  <thead>\n",
       "    <tr style=\"text-align: right;\">\n",
       "      <th></th>\n",
       "      <th>date</th>\n",
       "    </tr>\n",
       "  </thead>\n",
       "  <tbody>\n",
       "    <tr>\n",
       "      <th>0</th>\n",
       "      <td>2024-11-17</td>\n",
       "    </tr>\n",
       "    <tr>\n",
       "      <th>1</th>\n",
       "      <td>2024-11-17</td>\n",
       "    </tr>\n",
       "    <tr>\n",
       "      <th>2</th>\n",
       "      <td>2024-11-17</td>\n",
       "    </tr>\n",
       "    <tr>\n",
       "      <th>3</th>\n",
       "      <td>2024-11-17</td>\n",
       "    </tr>\n",
       "    <tr>\n",
       "      <th>4</th>\n",
       "      <td>2024-11-17</td>\n",
       "    </tr>\n",
       "  </tbody>\n",
       "</table>\n",
       "</div>"
      ],
      "text/plain": [
       "         date\n",
       "0  2024-11-17\n",
       "1  2024-11-17\n",
       "2  2024-11-17\n",
       "3  2024-11-17\n",
       "4  2024-11-17"
      ]
     },
     "execution_count": 33,
     "metadata": {},
     "output_type": "execute_result"
    }
   ],
   "source": [
    "df.loc[:4, ['date']]"
   ]
  },
  {
   "cell_type": "code",
   "execution_count": 34,
   "id": "b906c71c",
   "metadata": {
    "execution": {
     "iopub.execute_input": "2025-01-10T05:02:50.332846Z",
     "iopub.status.busy": "2025-01-10T05:02:50.332433Z",
     "iopub.status.idle": "2025-01-10T05:02:50.346280Z",
     "shell.execute_reply": "2025-01-10T05:02:50.345328Z"
    },
    "papermill": {
     "duration": 0.036149,
     "end_time": "2025-01-10T05:02:50.347884",
     "exception": false,
     "start_time": "2025-01-10T05:02:50.311735",
     "status": "completed"
    },
    "tags": []
   },
   "outputs": [
    {
     "data": {
      "text/html": [
       "<div>\n",
       "<style scoped>\n",
       "    .dataframe tbody tr th:only-of-type {\n",
       "        vertical-align: middle;\n",
       "    }\n",
       "\n",
       "    .dataframe tbody tr th {\n",
       "        vertical-align: top;\n",
       "    }\n",
       "\n",
       "    .dataframe thead th {\n",
       "        text-align: right;\n",
       "    }\n",
       "</style>\n",
       "<table border=\"1\" class=\"dataframe\">\n",
       "  <thead>\n",
       "    <tr style=\"text-align: right;\">\n",
       "      <th></th>\n",
       "      <th>org_name</th>\n",
       "      <th>repo_name</th>\n",
       "      <th>repo_url</th>\n",
       "      <th>description</th>\n",
       "      <th>language</th>\n",
       "      <th>star</th>\n",
       "      <th>forks</th>\n",
       "      <th>daily_star</th>\n",
       "      <th>date</th>\n",
       "      <th>trending_category</th>\n",
       "    </tr>\n",
       "  </thead>\n",
       "  <tbody>\n",
       "    <tr>\n",
       "      <th>0</th>\n",
       "      <td>terrastruct</td>\n",
       "      <td>d2</td>\n",
       "      <td>https://github.com/terrastruct/d2</td>\n",
       "      <td>D2 is a modern diagram scripting language that...</td>\n",
       "      <td>Go</td>\n",
       "      <td>17896.0</td>\n",
       "      <td>439.0</td>\n",
       "      <td>418</td>\n",
       "      <td>2024-11-17</td>\n",
       "      <td>go</td>\n",
       "    </tr>\n",
       "    <tr>\n",
       "      <th>1</th>\n",
       "      <td>tinygo-org</td>\n",
       "      <td>tinygo</td>\n",
       "      <td>https://github.com/tinygo-org/tinygo</td>\n",
       "      <td>Go compiler for small places. Microcontrollers...</td>\n",
       "      <td>Go</td>\n",
       "      <td>15463.0</td>\n",
       "      <td>912.0</td>\n",
       "      <td>6</td>\n",
       "      <td>2024-11-17</td>\n",
       "      <td>go</td>\n",
       "    </tr>\n",
       "    <tr>\n",
       "      <th>2</th>\n",
       "      <td>Melkeydev</td>\n",
       "      <td>go-blueprint</td>\n",
       "      <td>https://github.com/Melkeydev/go-blueprint</td>\n",
       "      <td>Go-blueprint allows users to spin up a quick G...</td>\n",
       "      <td>Go</td>\n",
       "      <td>4608.0</td>\n",
       "      <td>276.0</td>\n",
       "      <td>9</td>\n",
       "      <td>2024-11-17</td>\n",
       "      <td>go</td>\n",
       "    </tr>\n",
       "    <tr>\n",
       "      <th>3</th>\n",
       "      <td>jeessy2</td>\n",
       "      <td>ddns-go</td>\n",
       "      <td>https://github.com/jeessy2/ddns-go</td>\n",
       "      <td>Simple and easy to use DDNS. Support Aliyun, T...</td>\n",
       "      <td>Go</td>\n",
       "      <td>12117.0</td>\n",
       "      <td>1398.0</td>\n",
       "      <td>25</td>\n",
       "      <td>2024-11-17</td>\n",
       "      <td>go</td>\n",
       "    </tr>\n",
       "    <tr>\n",
       "      <th>4</th>\n",
       "      <td>JanDeDobbeleer</td>\n",
       "      <td>oh-my-posh</td>\n",
       "      <td>https://github.com/JanDeDobbeleer/oh-my-posh</td>\n",
       "      <td>The most customisable and low-latency cross pl...</td>\n",
       "      <td>Go</td>\n",
       "      <td>17450.0</td>\n",
       "      <td>2390.0</td>\n",
       "      <td>16</td>\n",
       "      <td>2024-11-17</td>\n",
       "      <td>go</td>\n",
       "    </tr>\n",
       "  </tbody>\n",
       "</table>\n",
       "</div>"
      ],
      "text/plain": [
       "         org_name     repo_name                                      repo_url  \\\n",
       "0     terrastruct            d2             https://github.com/terrastruct/d2   \n",
       "1      tinygo-org        tinygo          https://github.com/tinygo-org/tinygo   \n",
       "2       Melkeydev  go-blueprint     https://github.com/Melkeydev/go-blueprint   \n",
       "3         jeessy2       ddns-go            https://github.com/jeessy2/ddns-go   \n",
       "4  JanDeDobbeleer    oh-my-posh  https://github.com/JanDeDobbeleer/oh-my-posh   \n",
       "\n",
       "                                         description language     star  \\\n",
       "0  D2 is a modern diagram scripting language that...       Go  17896.0   \n",
       "1  Go compiler for small places. Microcontrollers...       Go  15463.0   \n",
       "2  Go-blueprint allows users to spin up a quick G...       Go   4608.0   \n",
       "3  Simple and easy to use DDNS. Support Aliyun, T...       Go  12117.0   \n",
       "4  The most customisable and low-latency cross pl...       Go  17450.0   \n",
       "\n",
       "    forks  daily_star        date trending_category  \n",
       "0   439.0         418  2024-11-17                go  \n",
       "1   912.0           6  2024-11-17                go  \n",
       "2   276.0           9  2024-11-17                go  \n",
       "3  1398.0          25  2024-11-17                go  \n",
       "4  2390.0          16  2024-11-17                go  "
      ]
     },
     "execution_count": 34,
     "metadata": {},
     "output_type": "execute_result"
    }
   ],
   "source": [
    "df.head()"
   ]
  },
  {
   "cell_type": "code",
   "execution_count": 35,
   "id": "7bebe5e5",
   "metadata": {
    "execution": {
     "iopub.execute_input": "2025-01-10T05:02:50.389872Z",
     "iopub.status.busy": "2025-01-10T05:02:50.389396Z",
     "iopub.status.idle": "2025-01-10T05:02:50.400564Z",
     "shell.execute_reply": "2025-01-10T05:02:50.399396Z"
    },
    "papermill": {
     "duration": 0.034696,
     "end_time": "2025-01-10T05:02:50.402439",
     "exception": false,
     "start_time": "2025-01-10T05:02:50.367743",
     "status": "completed"
    },
    "tags": []
   },
   "outputs": [
    {
     "data": {
      "text/html": [
       "<div>\n",
       "<style scoped>\n",
       "    .dataframe tbody tr th:only-of-type {\n",
       "        vertical-align: middle;\n",
       "    }\n",
       "\n",
       "    .dataframe tbody tr th {\n",
       "        vertical-align: top;\n",
       "    }\n",
       "\n",
       "    .dataframe thead th {\n",
       "        text-align: right;\n",
       "    }\n",
       "</style>\n",
       "<table border=\"1\" class=\"dataframe\">\n",
       "  <thead>\n",
       "    <tr style=\"text-align: right;\">\n",
       "      <th></th>\n",
       "      <th>org_name</th>\n",
       "      <th>repo_name</th>\n",
       "    </tr>\n",
       "  </thead>\n",
       "  <tbody>\n",
       "  </tbody>\n",
       "</table>\n",
       "</div>"
      ],
      "text/plain": [
       "Empty DataFrame\n",
       "Columns: [org_name, repo_name]\n",
       "Index: []"
      ]
     },
     "execution_count": 35,
     "metadata": {},
     "output_type": "execute_result"
    }
   ],
   "source": [
    "df.loc[(df['daily_star'] < 5) & (df['daily_star'] > 20), ['org_name', 'repo_name']]"
   ]
  },
  {
   "cell_type": "code",
   "execution_count": 36,
   "id": "ef353a52",
   "metadata": {
    "execution": {
     "iopub.execute_input": "2025-01-10T05:02:50.443968Z",
     "iopub.status.busy": "2025-01-10T05:02:50.443536Z",
     "iopub.status.idle": "2025-01-10T05:02:50.462641Z",
     "shell.execute_reply": "2025-01-10T05:02:50.461520Z"
    },
    "papermill": {
     "duration": 0.041821,
     "end_time": "2025-01-10T05:02:50.464347",
     "exception": false,
     "start_time": "2025-01-10T05:02:50.422526",
     "status": "completed"
    },
    "tags": []
   },
   "outputs": [
    {
     "data": {
      "text/html": [
       "<div>\n",
       "<style scoped>\n",
       "    .dataframe tbody tr th:only-of-type {\n",
       "        vertical-align: middle;\n",
       "    }\n",
       "\n",
       "    .dataframe tbody tr th {\n",
       "        vertical-align: top;\n",
       "    }\n",
       "\n",
       "    .dataframe thead th {\n",
       "        text-align: right;\n",
       "    }\n",
       "</style>\n",
       "<table border=\"1\" class=\"dataframe\">\n",
       "  <thead>\n",
       "    <tr style=\"text-align: right;\">\n",
       "      <th></th>\n",
       "      <th>org_name</th>\n",
       "      <th>repo_name</th>\n",
       "      <th>repo_url</th>\n",
       "      <th>description</th>\n",
       "      <th>language</th>\n",
       "      <th>star</th>\n",
       "      <th>forks</th>\n",
       "      <th>daily_star</th>\n",
       "      <th>date</th>\n",
       "      <th>trending_category</th>\n",
       "    </tr>\n",
       "  </thead>\n",
       "  <tbody>\n",
       "    <tr>\n",
       "      <th>0</th>\n",
       "      <td>terrastruct</td>\n",
       "      <td>d2</td>\n",
       "      <td>https://github.com/terrastruct/d2</td>\n",
       "      <td>D2 is a modern diagram scripting language that...</td>\n",
       "      <td>Go</td>\n",
       "      <td>17896.0</td>\n",
       "      <td>439.0</td>\n",
       "      <td>418</td>\n",
       "      <td>2024-11-17</td>\n",
       "      <td>go</td>\n",
       "    </tr>\n",
       "    <tr>\n",
       "      <th>3</th>\n",
       "      <td>jeessy2</td>\n",
       "      <td>ddns-go</td>\n",
       "      <td>https://github.com/jeessy2/ddns-go</td>\n",
       "      <td>Simple and easy to use DDNS. Support Aliyun, T...</td>\n",
       "      <td>Go</td>\n",
       "      <td>12117.0</td>\n",
       "      <td>1398.0</td>\n",
       "      <td>25</td>\n",
       "      <td>2024-11-17</td>\n",
       "      <td>go</td>\n",
       "    </tr>\n",
       "    <tr>\n",
       "      <th>6</th>\n",
       "      <td>daytonaio</td>\n",
       "      <td>daytona</td>\n",
       "      <td>https://github.com/daytonaio/daytona</td>\n",
       "      <td>The Open Source Dev Environment Manager.</td>\n",
       "      <td>Go</td>\n",
       "      <td>10583.0</td>\n",
       "      <td>839.0</td>\n",
       "      <td>155</td>\n",
       "      <td>2024-11-17</td>\n",
       "      <td>go</td>\n",
       "    </tr>\n",
       "    <tr>\n",
       "      <th>8</th>\n",
       "      <td>milvus-io</td>\n",
       "      <td>milvus</td>\n",
       "      <td>https://github.com/milvus-io/milvus</td>\n",
       "      <td>A cloud-native vector database, storage for ne...</td>\n",
       "      <td>Go</td>\n",
       "      <td>30702.0</td>\n",
       "      <td>2927.0</td>\n",
       "      <td>23</td>\n",
       "      <td>2024-11-17</td>\n",
       "      <td>go</td>\n",
       "    </tr>\n",
       "    <tr>\n",
       "      <th>13</th>\n",
       "      <td>FiloSottile</td>\n",
       "      <td>mkcert</td>\n",
       "      <td>https://github.com/FiloSottile/mkcert</td>\n",
       "      <td>A simple zero-config tool to make locally trus...</td>\n",
       "      <td>Go</td>\n",
       "      <td>50227.0</td>\n",
       "      <td>2626.0</td>\n",
       "      <td>94</td>\n",
       "      <td>2024-11-17</td>\n",
       "      <td>go</td>\n",
       "    </tr>\n",
       "    <tr>\n",
       "      <th>...</th>\n",
       "      <td>...</td>\n",
       "      <td>...</td>\n",
       "      <td>...</td>\n",
       "      <td>...</td>\n",
       "      <td>...</td>\n",
       "      <td>...</td>\n",
       "      <td>...</td>\n",
       "      <td>...</td>\n",
       "      <td>...</td>\n",
       "      <td>...</td>\n",
       "    </tr>\n",
       "    <tr>\n",
       "      <th>9935</th>\n",
       "      <td>prometheus</td>\n",
       "      <td>prometheus</td>\n",
       "      <td>https://github.com/prometheus/prometheus</td>\n",
       "      <td>The Prometheus monitoring system and time seri...</td>\n",
       "      <td>Go</td>\n",
       "      <td>56753.0</td>\n",
       "      <td>9280.0</td>\n",
       "      <td>33</td>\n",
       "      <td>2025-01-09</td>\n",
       "      <td>go</td>\n",
       "    </tr>\n",
       "    <tr>\n",
       "      <th>9938</th>\n",
       "      <td>abiosoft</td>\n",
       "      <td>colima</td>\n",
       "      <td>https://github.com/abiosoft/colima</td>\n",
       "      <td>Container runtimes on macOS (and Linux) with m...</td>\n",
       "      <td>Go</td>\n",
       "      <td>20337.0</td>\n",
       "      <td>408.0</td>\n",
       "      <td>32</td>\n",
       "      <td>2025-01-09</td>\n",
       "      <td>go</td>\n",
       "    </tr>\n",
       "    <tr>\n",
       "      <th>9942</th>\n",
       "      <td>XTLS</td>\n",
       "      <td>Xray-core</td>\n",
       "      <td>https://github.com/XTLS/Xray-core</td>\n",
       "      <td>Xray, Penetrates Everything. Also the best v2r...</td>\n",
       "      <td>Go</td>\n",
       "      <td>26633.0</td>\n",
       "      <td>4052.0</td>\n",
       "      <td>51</td>\n",
       "      <td>2025-01-09</td>\n",
       "      <td>go</td>\n",
       "    </tr>\n",
       "    <tr>\n",
       "      <th>9945</th>\n",
       "      <td>kubernetes</td>\n",
       "      <td>kubernetes</td>\n",
       "      <td>https://github.com/kubernetes/kubernetes</td>\n",
       "      <td>Production-Grade Container Scheduling and Mana...</td>\n",
       "      <td>Go</td>\n",
       "      <td>112260.0</td>\n",
       "      <td>39983.0</td>\n",
       "      <td>34</td>\n",
       "      <td>2025-01-09</td>\n",
       "      <td>go</td>\n",
       "    </tr>\n",
       "    <tr>\n",
       "      <th>9946</th>\n",
       "      <td>danielmiessler</td>\n",
       "      <td>fabric</td>\n",
       "      <td>https://github.com/danielmiessler/fabric</td>\n",
       "      <td>fabric is an open-source framework for augment...</td>\n",
       "      <td>Go</td>\n",
       "      <td>26610.0</td>\n",
       "      <td>2824.0</td>\n",
       "      <td>51</td>\n",
       "      <td>2025-01-09</td>\n",
       "      <td>go</td>\n",
       "    </tr>\n",
       "  </tbody>\n",
       "</table>\n",
       "<p>4156 rows × 10 columns</p>\n",
       "</div>"
      ],
      "text/plain": [
       "            org_name   repo_name                                  repo_url  \\\n",
       "0        terrastruct          d2         https://github.com/terrastruct/d2   \n",
       "3            jeessy2     ddns-go        https://github.com/jeessy2/ddns-go   \n",
       "6          daytonaio     daytona      https://github.com/daytonaio/daytona   \n",
       "8          milvus-io      milvus       https://github.com/milvus-io/milvus   \n",
       "13       FiloSottile      mkcert     https://github.com/FiloSottile/mkcert   \n",
       "...              ...         ...                                       ...   \n",
       "9935      prometheus  prometheus  https://github.com/prometheus/prometheus   \n",
       "9938        abiosoft      colima        https://github.com/abiosoft/colima   \n",
       "9942            XTLS   Xray-core         https://github.com/XTLS/Xray-core   \n",
       "9945      kubernetes  kubernetes  https://github.com/kubernetes/kubernetes   \n",
       "9946  danielmiessler      fabric  https://github.com/danielmiessler/fabric   \n",
       "\n",
       "                                            description language      star  \\\n",
       "0     D2 is a modern diagram scripting language that...       Go   17896.0   \n",
       "3     Simple and easy to use DDNS. Support Aliyun, T...       Go   12117.0   \n",
       "6              The Open Source Dev Environment Manager.       Go   10583.0   \n",
       "8     A cloud-native vector database, storage for ne...       Go   30702.0   \n",
       "13    A simple zero-config tool to make locally trus...       Go   50227.0   \n",
       "...                                                 ...      ...       ...   \n",
       "9935  The Prometheus monitoring system and time seri...       Go   56753.0   \n",
       "9938  Container runtimes on macOS (and Linux) with m...       Go   20337.0   \n",
       "9942  Xray, Penetrates Everything. Also the best v2r...       Go   26633.0   \n",
       "9945  Production-Grade Container Scheduling and Mana...       Go  112260.0   \n",
       "9946  fabric is an open-source framework for augment...       Go   26610.0   \n",
       "\n",
       "        forks  daily_star        date trending_category  \n",
       "0       439.0         418  2024-11-17                go  \n",
       "3      1398.0          25  2024-11-17                go  \n",
       "6       839.0         155  2024-11-17                go  \n",
       "8      2927.0          23  2024-11-17                go  \n",
       "13     2626.0          94  2024-11-17                go  \n",
       "...       ...         ...         ...               ...  \n",
       "9935   9280.0          33  2025-01-09                go  \n",
       "9938    408.0          32  2025-01-09                go  \n",
       "9942   4052.0          51  2025-01-09                go  \n",
       "9945  39983.0          34  2025-01-09                go  \n",
       "9946   2824.0          51  2025-01-09                go  \n",
       "\n",
       "[4156 rows x 10 columns]"
      ]
     },
     "execution_count": 36,
     "metadata": {},
     "output_type": "execute_result"
    }
   ],
   "source": [
    "df[df['daily_star'] > 20]"
   ]
  },
  {
   "cell_type": "code",
   "execution_count": 37,
   "id": "124b5f34",
   "metadata": {
    "execution": {
     "iopub.execute_input": "2025-01-10T05:02:50.506407Z",
     "iopub.status.busy": "2025-01-10T05:02:50.506052Z",
     "iopub.status.idle": "2025-01-10T05:02:50.526267Z",
     "shell.execute_reply": "2025-01-10T05:02:50.525163Z"
    },
    "papermill": {
     "duration": 0.043524,
     "end_time": "2025-01-10T05:02:50.528227",
     "exception": false,
     "start_time": "2025-01-10T05:02:50.484703",
     "status": "completed"
    },
    "tags": []
   },
   "outputs": [
    {
     "data": {
      "text/html": [
       "<div>\n",
       "<style scoped>\n",
       "    .dataframe tbody tr th:only-of-type {\n",
       "        vertical-align: middle;\n",
       "    }\n",
       "\n",
       "    .dataframe tbody tr th {\n",
       "        vertical-align: top;\n",
       "    }\n",
       "\n",
       "    .dataframe thead th {\n",
       "        text-align: right;\n",
       "    }\n",
       "</style>\n",
       "<table border=\"1\" class=\"dataframe\">\n",
       "  <thead>\n",
       "    <tr style=\"text-align: right;\">\n",
       "      <th></th>\n",
       "      <th>org_name</th>\n",
       "      <th>repo_name</th>\n",
       "      <th>repo_url</th>\n",
       "      <th>description</th>\n",
       "      <th>language</th>\n",
       "      <th>star</th>\n",
       "      <th>forks</th>\n",
       "      <th>daily_star</th>\n",
       "      <th>date</th>\n",
       "      <th>trending_category</th>\n",
       "    </tr>\n",
       "  </thead>\n",
       "  <tbody>\n",
       "    <tr>\n",
       "      <th>0</th>\n",
       "      <td>terrastruct</td>\n",
       "      <td>d2</td>\n",
       "      <td>https://github.com/terrastruct/d2</td>\n",
       "      <td>D2 is a modern diagram scripting language that...</td>\n",
       "      <td>Go</td>\n",
       "      <td>17896.0</td>\n",
       "      <td>439.0</td>\n",
       "      <td>418</td>\n",
       "      <td>2024-11-17</td>\n",
       "      <td>go</td>\n",
       "    </tr>\n",
       "    <tr>\n",
       "      <th>3</th>\n",
       "      <td>jeessy2</td>\n",
       "      <td>ddns-go</td>\n",
       "      <td>https://github.com/jeessy2/ddns-go</td>\n",
       "      <td>Simple and easy to use DDNS. Support Aliyun, T...</td>\n",
       "      <td>Go</td>\n",
       "      <td>12117.0</td>\n",
       "      <td>1398.0</td>\n",
       "      <td>25</td>\n",
       "      <td>2024-11-17</td>\n",
       "      <td>go</td>\n",
       "    </tr>\n",
       "    <tr>\n",
       "      <th>6</th>\n",
       "      <td>daytonaio</td>\n",
       "      <td>daytona</td>\n",
       "      <td>https://github.com/daytonaio/daytona</td>\n",
       "      <td>The Open Source Dev Environment Manager.</td>\n",
       "      <td>Go</td>\n",
       "      <td>10583.0</td>\n",
       "      <td>839.0</td>\n",
       "      <td>155</td>\n",
       "      <td>2024-11-17</td>\n",
       "      <td>go</td>\n",
       "    </tr>\n",
       "    <tr>\n",
       "      <th>8</th>\n",
       "      <td>milvus-io</td>\n",
       "      <td>milvus</td>\n",
       "      <td>https://github.com/milvus-io/milvus</td>\n",
       "      <td>A cloud-native vector database, storage for ne...</td>\n",
       "      <td>Go</td>\n",
       "      <td>30702.0</td>\n",
       "      <td>2927.0</td>\n",
       "      <td>23</td>\n",
       "      <td>2024-11-17</td>\n",
       "      <td>go</td>\n",
       "    </tr>\n",
       "    <tr>\n",
       "      <th>13</th>\n",
       "      <td>FiloSottile</td>\n",
       "      <td>mkcert</td>\n",
       "      <td>https://github.com/FiloSottile/mkcert</td>\n",
       "      <td>A simple zero-config tool to make locally trus...</td>\n",
       "      <td>Go</td>\n",
       "      <td>50227.0</td>\n",
       "      <td>2626.0</td>\n",
       "      <td>94</td>\n",
       "      <td>2024-11-17</td>\n",
       "      <td>go</td>\n",
       "    </tr>\n",
       "    <tr>\n",
       "      <th>...</th>\n",
       "      <td>...</td>\n",
       "      <td>...</td>\n",
       "      <td>...</td>\n",
       "      <td>...</td>\n",
       "      <td>...</td>\n",
       "      <td>...</td>\n",
       "      <td>...</td>\n",
       "      <td>...</td>\n",
       "      <td>...</td>\n",
       "      <td>...</td>\n",
       "    </tr>\n",
       "    <tr>\n",
       "      <th>9935</th>\n",
       "      <td>prometheus</td>\n",
       "      <td>prometheus</td>\n",
       "      <td>https://github.com/prometheus/prometheus</td>\n",
       "      <td>The Prometheus monitoring system and time seri...</td>\n",
       "      <td>Go</td>\n",
       "      <td>56753.0</td>\n",
       "      <td>9280.0</td>\n",
       "      <td>33</td>\n",
       "      <td>2025-01-09</td>\n",
       "      <td>go</td>\n",
       "    </tr>\n",
       "    <tr>\n",
       "      <th>9938</th>\n",
       "      <td>abiosoft</td>\n",
       "      <td>colima</td>\n",
       "      <td>https://github.com/abiosoft/colima</td>\n",
       "      <td>Container runtimes on macOS (and Linux) with m...</td>\n",
       "      <td>Go</td>\n",
       "      <td>20337.0</td>\n",
       "      <td>408.0</td>\n",
       "      <td>32</td>\n",
       "      <td>2025-01-09</td>\n",
       "      <td>go</td>\n",
       "    </tr>\n",
       "    <tr>\n",
       "      <th>9942</th>\n",
       "      <td>XTLS</td>\n",
       "      <td>Xray-core</td>\n",
       "      <td>https://github.com/XTLS/Xray-core</td>\n",
       "      <td>Xray, Penetrates Everything. Also the best v2r...</td>\n",
       "      <td>Go</td>\n",
       "      <td>26633.0</td>\n",
       "      <td>4052.0</td>\n",
       "      <td>51</td>\n",
       "      <td>2025-01-09</td>\n",
       "      <td>go</td>\n",
       "    </tr>\n",
       "    <tr>\n",
       "      <th>9945</th>\n",
       "      <td>kubernetes</td>\n",
       "      <td>kubernetes</td>\n",
       "      <td>https://github.com/kubernetes/kubernetes</td>\n",
       "      <td>Production-Grade Container Scheduling and Mana...</td>\n",
       "      <td>Go</td>\n",
       "      <td>112260.0</td>\n",
       "      <td>39983.0</td>\n",
       "      <td>34</td>\n",
       "      <td>2025-01-09</td>\n",
       "      <td>go</td>\n",
       "    </tr>\n",
       "    <tr>\n",
       "      <th>9946</th>\n",
       "      <td>danielmiessler</td>\n",
       "      <td>fabric</td>\n",
       "      <td>https://github.com/danielmiessler/fabric</td>\n",
       "      <td>fabric is an open-source framework for augment...</td>\n",
       "      <td>Go</td>\n",
       "      <td>26610.0</td>\n",
       "      <td>2824.0</td>\n",
       "      <td>51</td>\n",
       "      <td>2025-01-09</td>\n",
       "      <td>go</td>\n",
       "    </tr>\n",
       "  </tbody>\n",
       "</table>\n",
       "<p>4156 rows × 10 columns</p>\n",
       "</div>"
      ],
      "text/plain": [
       "            org_name   repo_name                                  repo_url  \\\n",
       "0        terrastruct          d2         https://github.com/terrastruct/d2   \n",
       "3            jeessy2     ddns-go        https://github.com/jeessy2/ddns-go   \n",
       "6          daytonaio     daytona      https://github.com/daytonaio/daytona   \n",
       "8          milvus-io      milvus       https://github.com/milvus-io/milvus   \n",
       "13       FiloSottile      mkcert     https://github.com/FiloSottile/mkcert   \n",
       "...              ...         ...                                       ...   \n",
       "9935      prometheus  prometheus  https://github.com/prometheus/prometheus   \n",
       "9938        abiosoft      colima        https://github.com/abiosoft/colima   \n",
       "9942            XTLS   Xray-core         https://github.com/XTLS/Xray-core   \n",
       "9945      kubernetes  kubernetes  https://github.com/kubernetes/kubernetes   \n",
       "9946  danielmiessler      fabric  https://github.com/danielmiessler/fabric   \n",
       "\n",
       "                                            description language      star  \\\n",
       "0     D2 is a modern diagram scripting language that...       Go   17896.0   \n",
       "3     Simple and easy to use DDNS. Support Aliyun, T...       Go   12117.0   \n",
       "6              The Open Source Dev Environment Manager.       Go   10583.0   \n",
       "8     A cloud-native vector database, storage for ne...       Go   30702.0   \n",
       "13    A simple zero-config tool to make locally trus...       Go   50227.0   \n",
       "...                                                 ...      ...       ...   \n",
       "9935  The Prometheus monitoring system and time seri...       Go   56753.0   \n",
       "9938  Container runtimes on macOS (and Linux) with m...       Go   20337.0   \n",
       "9942  Xray, Penetrates Everything. Also the best v2r...       Go   26633.0   \n",
       "9945  Production-Grade Container Scheduling and Mana...       Go  112260.0   \n",
       "9946  fabric is an open-source framework for augment...       Go   26610.0   \n",
       "\n",
       "        forks  daily_star        date trending_category  \n",
       "0       439.0         418  2024-11-17                go  \n",
       "3      1398.0          25  2024-11-17                go  \n",
       "6       839.0         155  2024-11-17                go  \n",
       "8      2927.0          23  2024-11-17                go  \n",
       "13     2626.0          94  2024-11-17                go  \n",
       "...       ...         ...         ...               ...  \n",
       "9935   9280.0          33  2025-01-09                go  \n",
       "9938    408.0          32  2025-01-09                go  \n",
       "9942   4052.0          51  2025-01-09                go  \n",
       "9945  39983.0          34  2025-01-09                go  \n",
       "9946   2824.0          51  2025-01-09                go  \n",
       "\n",
       "[4156 rows x 10 columns]"
      ]
     },
     "execution_count": 37,
     "metadata": {},
     "output_type": "execute_result"
    }
   ],
   "source": [
    "df.loc[df['daily_star'] > 20]"
   ]
  },
  {
   "cell_type": "code",
   "execution_count": 38,
   "id": "200a3603",
   "metadata": {
    "execution": {
     "iopub.execute_input": "2025-01-10T05:02:50.571589Z",
     "iopub.status.busy": "2025-01-10T05:02:50.571175Z",
     "iopub.status.idle": "2025-01-10T05:02:50.591082Z",
     "shell.execute_reply": "2025-01-10T05:02:50.589798Z"
    },
    "papermill": {
     "duration": 0.043842,
     "end_time": "2025-01-10T05:02:50.593001",
     "exception": false,
     "start_time": "2025-01-10T05:02:50.549159",
     "status": "completed"
    },
    "tags": []
   },
   "outputs": [
    {
     "data": {
      "text/html": [
       "<div>\n",
       "<style scoped>\n",
       "    .dataframe tbody tr th:only-of-type {\n",
       "        vertical-align: middle;\n",
       "    }\n",
       "\n",
       "    .dataframe tbody tr th {\n",
       "        vertical-align: top;\n",
       "    }\n",
       "\n",
       "    .dataframe thead th {\n",
       "        text-align: right;\n",
       "    }\n",
       "</style>\n",
       "<table border=\"1\" class=\"dataframe\">\n",
       "  <thead>\n",
       "    <tr style=\"text-align: right;\">\n",
       "      <th></th>\n",
       "      <th>org_name</th>\n",
       "      <th>repo_name</th>\n",
       "      <th>repo_url</th>\n",
       "      <th>description</th>\n",
       "      <th>language</th>\n",
       "      <th>star</th>\n",
       "      <th>forks</th>\n",
       "      <th>daily_star</th>\n",
       "      <th>date</th>\n",
       "      <th>trending_category</th>\n",
       "    </tr>\n",
       "  </thead>\n",
       "  <tbody>\n",
       "    <tr>\n",
       "      <th>0</th>\n",
       "      <td>terrastruct</td>\n",
       "      <td>d2</td>\n",
       "      <td>https://github.com/terrastruct/d2</td>\n",
       "      <td>D2 is a modern diagram scripting language that...</td>\n",
       "      <td>Go</td>\n",
       "      <td>17896.0</td>\n",
       "      <td>439.0</td>\n",
       "      <td>418</td>\n",
       "      <td>2024-11-17</td>\n",
       "      <td>go</td>\n",
       "    </tr>\n",
       "    <tr>\n",
       "      <th>1</th>\n",
       "      <td>tinygo-org</td>\n",
       "      <td>tinygo</td>\n",
       "      <td>https://github.com/tinygo-org/tinygo</td>\n",
       "      <td>Go compiler for small places. Microcontrollers...</td>\n",
       "      <td>Go</td>\n",
       "      <td>15463.0</td>\n",
       "      <td>912.0</td>\n",
       "      <td>6</td>\n",
       "      <td>2024-11-17</td>\n",
       "      <td>go</td>\n",
       "    </tr>\n",
       "    <tr>\n",
       "      <th>2</th>\n",
       "      <td>Melkeydev</td>\n",
       "      <td>go-blueprint</td>\n",
       "      <td>https://github.com/Melkeydev/go-blueprint</td>\n",
       "      <td>Go-blueprint allows users to spin up a quick G...</td>\n",
       "      <td>Go</td>\n",
       "      <td>4608.0</td>\n",
       "      <td>276.0</td>\n",
       "      <td>9</td>\n",
       "      <td>2024-11-17</td>\n",
       "      <td>go</td>\n",
       "    </tr>\n",
       "    <tr>\n",
       "      <th>3</th>\n",
       "      <td>jeessy2</td>\n",
       "      <td>ddns-go</td>\n",
       "      <td>https://github.com/jeessy2/ddns-go</td>\n",
       "      <td>Simple and easy to use DDNS. Support Aliyun, T...</td>\n",
       "      <td>Go</td>\n",
       "      <td>12117.0</td>\n",
       "      <td>1398.0</td>\n",
       "      <td>25</td>\n",
       "      <td>2024-11-17</td>\n",
       "      <td>go</td>\n",
       "    </tr>\n",
       "    <tr>\n",
       "      <th>4</th>\n",
       "      <td>JanDeDobbeleer</td>\n",
       "      <td>oh-my-posh</td>\n",
       "      <td>https://github.com/JanDeDobbeleer/oh-my-posh</td>\n",
       "      <td>The most customisable and low-latency cross pl...</td>\n",
       "      <td>Go</td>\n",
       "      <td>17450.0</td>\n",
       "      <td>2390.0</td>\n",
       "      <td>16</td>\n",
       "      <td>2024-11-17</td>\n",
       "      <td>go</td>\n",
       "    </tr>\n",
       "    <tr>\n",
       "      <th>...</th>\n",
       "      <td>...</td>\n",
       "      <td>...</td>\n",
       "      <td>...</td>\n",
       "      <td>...</td>\n",
       "      <td>...</td>\n",
       "      <td>...</td>\n",
       "      <td>...</td>\n",
       "      <td>...</td>\n",
       "      <td>...</td>\n",
       "      <td>...</td>\n",
       "    </tr>\n",
       "    <tr>\n",
       "      <th>9948</th>\n",
       "      <td>moby</td>\n",
       "      <td>moby</td>\n",
       "      <td>https://github.com/moby/moby</td>\n",
       "      <td>The Moby Project - a collaborative project for...</td>\n",
       "      <td>Go</td>\n",
       "      <td>68983.0</td>\n",
       "      <td>18676.0</td>\n",
       "      <td>10</td>\n",
       "      <td>2025-01-09</td>\n",
       "      <td>go</td>\n",
       "    </tr>\n",
       "    <tr>\n",
       "      <th>9949</th>\n",
       "      <td>twmb</td>\n",
       "      <td>franz-go</td>\n",
       "      <td>https://github.com/twmb/franz-go</td>\n",
       "      <td>franz-go contains a feature complete, pure Go ...</td>\n",
       "      <td>Go</td>\n",
       "      <td>1935.0</td>\n",
       "      <td>196.0</td>\n",
       "      <td>6</td>\n",
       "      <td>2025-01-09</td>\n",
       "      <td>go</td>\n",
       "    </tr>\n",
       "    <tr>\n",
       "      <th>9950</th>\n",
       "      <td>prometheus</td>\n",
       "      <td>client_golang</td>\n",
       "      <td>https://github.com/prometheus/client_golang</td>\n",
       "      <td>Prometheus instrumentation library for Go appl...</td>\n",
       "      <td>Go</td>\n",
       "      <td>5481.0</td>\n",
       "      <td>1191.0</td>\n",
       "      <td>0</td>\n",
       "      <td>2025-01-09</td>\n",
       "      <td>go</td>\n",
       "    </tr>\n",
       "    <tr>\n",
       "      <th>9951</th>\n",
       "      <td>kubernetes</td>\n",
       "      <td>autoscaler</td>\n",
       "      <td>https://github.com/kubernetes/autoscaler</td>\n",
       "      <td>Autoscaling components for Kubernetes</td>\n",
       "      <td>Go</td>\n",
       "      <td>8173.0</td>\n",
       "      <td>3999.0</td>\n",
       "      <td>4</td>\n",
       "      <td>2025-01-09</td>\n",
       "      <td>go</td>\n",
       "    </tr>\n",
       "    <tr>\n",
       "      <th>9952</th>\n",
       "      <td>bytebase</td>\n",
       "      <td>bytebase</td>\n",
       "      <td>https://github.com/bytebase/bytebase</td>\n",
       "      <td>World's most advanced database DevSecOps solut...</td>\n",
       "      <td>Go</td>\n",
       "      <td>11775.0</td>\n",
       "      <td>757.0</td>\n",
       "      <td>13</td>\n",
       "      <td>2025-01-09</td>\n",
       "      <td>go</td>\n",
       "    </tr>\n",
       "  </tbody>\n",
       "</table>\n",
       "<p>2864 rows × 10 columns</p>\n",
       "</div>"
      ],
      "text/plain": [
       "            org_name      repo_name  \\\n",
       "0        terrastruct             d2   \n",
       "1         tinygo-org         tinygo   \n",
       "2          Melkeydev   go-blueprint   \n",
       "3            jeessy2        ddns-go   \n",
       "4     JanDeDobbeleer     oh-my-posh   \n",
       "...              ...            ...   \n",
       "9948            moby           moby   \n",
       "9949            twmb       franz-go   \n",
       "9950      prometheus  client_golang   \n",
       "9951      kubernetes     autoscaler   \n",
       "9952        bytebase       bytebase   \n",
       "\n",
       "                                          repo_url  \\\n",
       "0                https://github.com/terrastruct/d2   \n",
       "1             https://github.com/tinygo-org/tinygo   \n",
       "2        https://github.com/Melkeydev/go-blueprint   \n",
       "3               https://github.com/jeessy2/ddns-go   \n",
       "4     https://github.com/JanDeDobbeleer/oh-my-posh   \n",
       "...                                            ...   \n",
       "9948                  https://github.com/moby/moby   \n",
       "9949              https://github.com/twmb/franz-go   \n",
       "9950   https://github.com/prometheus/client_golang   \n",
       "9951      https://github.com/kubernetes/autoscaler   \n",
       "9952          https://github.com/bytebase/bytebase   \n",
       "\n",
       "                                            description language     star  \\\n",
       "0     D2 is a modern diagram scripting language that...       Go  17896.0   \n",
       "1     Go compiler for small places. Microcontrollers...       Go  15463.0   \n",
       "2     Go-blueprint allows users to spin up a quick G...       Go   4608.0   \n",
       "3     Simple and easy to use DDNS. Support Aliyun, T...       Go  12117.0   \n",
       "4     The most customisable and low-latency cross pl...       Go  17450.0   \n",
       "...                                                 ...      ...      ...   \n",
       "9948  The Moby Project - a collaborative project for...       Go  68983.0   \n",
       "9949  franz-go contains a feature complete, pure Go ...       Go   1935.0   \n",
       "9950  Prometheus instrumentation library for Go appl...       Go   5481.0   \n",
       "9951              Autoscaling components for Kubernetes       Go   8173.0   \n",
       "9952  World's most advanced database DevSecOps solut...       Go  11775.0   \n",
       "\n",
       "        forks  daily_star        date trending_category  \n",
       "0       439.0         418  2024-11-17                go  \n",
       "1       912.0           6  2024-11-17                go  \n",
       "2       276.0           9  2024-11-17                go  \n",
       "3      1398.0          25  2024-11-17                go  \n",
       "4      2390.0          16  2024-11-17                go  \n",
       "...       ...         ...         ...               ...  \n",
       "9948  18676.0          10  2025-01-09                go  \n",
       "9949    196.0           6  2025-01-09                go  \n",
       "9950   1191.0           0  2025-01-09                go  \n",
       "9951   3999.0           4  2025-01-09                go  \n",
       "9952    757.0          13  2025-01-09                go  \n",
       "\n",
       "[2864 rows x 10 columns]"
      ]
     },
     "execution_count": 38,
     "metadata": {},
     "output_type": "execute_result"
    }
   ],
   "source": [
    "df.loc[df['language'].isin(['Go', 'Python'])]"
   ]
  },
  {
   "cell_type": "code",
   "execution_count": 39,
   "id": "48c0bf2a",
   "metadata": {
    "execution": {
     "iopub.execute_input": "2025-01-10T05:02:50.637530Z",
     "iopub.status.busy": "2025-01-10T05:02:50.637142Z",
     "iopub.status.idle": "2025-01-10T05:02:50.651631Z",
     "shell.execute_reply": "2025-01-10T05:02:50.650563Z"
    },
    "papermill": {
     "duration": 0.039304,
     "end_time": "2025-01-10T05:02:50.653560",
     "exception": false,
     "start_time": "2025-01-10T05:02:50.614256",
     "status": "completed"
    },
    "tags": []
   },
   "outputs": [
    {
     "data": {
      "text/html": [
       "<div>\n",
       "<style scoped>\n",
       "    .dataframe tbody tr th:only-of-type {\n",
       "        vertical-align: middle;\n",
       "    }\n",
       "\n",
       "    .dataframe tbody tr th {\n",
       "        vertical-align: top;\n",
       "    }\n",
       "\n",
       "    .dataframe thead th {\n",
       "        text-align: right;\n",
       "    }\n",
       "</style>\n",
       "<table border=\"1\" class=\"dataframe\">\n",
       "  <thead>\n",
       "    <tr style=\"text-align: right;\">\n",
       "      <th></th>\n",
       "      <th>org_name</th>\n",
       "      <th>repo_name</th>\n",
       "      <th>repo_url</th>\n",
       "      <th>description</th>\n",
       "      <th>language</th>\n",
       "      <th>star</th>\n",
       "      <th>forks</th>\n",
       "      <th>daily_star</th>\n",
       "      <th>date</th>\n",
       "      <th>trending_category</th>\n",
       "    </tr>\n",
       "  </thead>\n",
       "  <tbody>\n",
       "    <tr>\n",
       "      <th>0</th>\n",
       "      <td>terrastruct</td>\n",
       "      <td>d2</td>\n",
       "      <td>https://github.com/terrastruct/d2</td>\n",
       "      <td>D2 is a modern diagram scripting language that...</td>\n",
       "      <td>Go</td>\n",
       "      <td>17896.0</td>\n",
       "      <td>439.0</td>\n",
       "      <td>418</td>\n",
       "      <td>2024-11-17</td>\n",
       "      <td>go</td>\n",
       "    </tr>\n",
       "    <tr>\n",
       "      <th>1</th>\n",
       "      <td>tinygo-org</td>\n",
       "      <td>tinygo</td>\n",
       "      <td>https://github.com/tinygo-org/tinygo</td>\n",
       "      <td>Go compiler for small places. Microcontrollers...</td>\n",
       "      <td>Go</td>\n",
       "      <td>15463.0</td>\n",
       "      <td>912.0</td>\n",
       "      <td>6</td>\n",
       "      <td>2024-11-17</td>\n",
       "      <td>go</td>\n",
       "    </tr>\n",
       "    <tr>\n",
       "      <th>2</th>\n",
       "      <td>Melkeydev</td>\n",
       "      <td>go-blueprint</td>\n",
       "      <td>https://github.com/Melkeydev/go-blueprint</td>\n",
       "      <td>Go-blueprint allows users to spin up a quick G...</td>\n",
       "      <td>Go</td>\n",
       "      <td>4608.0</td>\n",
       "      <td>276.0</td>\n",
       "      <td>9</td>\n",
       "      <td>2024-11-17</td>\n",
       "      <td>go</td>\n",
       "    </tr>\n",
       "  </tbody>\n",
       "</table>\n",
       "</div>"
      ],
      "text/plain": [
       "      org_name     repo_name                                   repo_url  \\\n",
       "0  terrastruct            d2          https://github.com/terrastruct/d2   \n",
       "1   tinygo-org        tinygo       https://github.com/tinygo-org/tinygo   \n",
       "2    Melkeydev  go-blueprint  https://github.com/Melkeydev/go-blueprint   \n",
       "\n",
       "                                         description language     star  forks  \\\n",
       "0  D2 is a modern diagram scripting language that...       Go  17896.0  439.0   \n",
       "1  Go compiler for small places. Microcontrollers...       Go  15463.0  912.0   \n",
       "2  Go-blueprint allows users to spin up a quick G...       Go   4608.0  276.0   \n",
       "\n",
       "   daily_star        date trending_category  \n",
       "0         418  2024-11-17                go  \n",
       "1           6  2024-11-17                go  \n",
       "2           9  2024-11-17                go  "
      ]
     },
     "execution_count": 39,
     "metadata": {},
     "output_type": "execute_result"
    }
   ],
   "source": [
    "df.loc[[0,1,2]]"
   ]
  },
  {
   "cell_type": "code",
   "execution_count": 40,
   "id": "4ccbdf94",
   "metadata": {
    "execution": {
     "iopub.execute_input": "2025-01-10T05:02:50.697056Z",
     "iopub.status.busy": "2025-01-10T05:02:50.696599Z",
     "iopub.status.idle": "2025-01-10T05:02:50.703712Z",
     "shell.execute_reply": "2025-01-10T05:02:50.702658Z"
    },
    "papermill": {
     "duration": 0.030721,
     "end_time": "2025-01-10T05:02:50.705388",
     "exception": false,
     "start_time": "2025-01-10T05:02:50.674667",
     "status": "completed"
    },
    "tags": []
   },
   "outputs": [
    {
     "data": {
      "text/plain": [
       "org_name                                                JanDeDobbeleer\n",
       "repo_name                                                   oh-my-posh\n",
       "repo_url                  https://github.com/JanDeDobbeleer/oh-my-posh\n",
       "description          The most customisable and low-latency cross pl...\n",
       "language                                                            Go\n",
       "star                                                           17450.0\n",
       "forks                                                           2390.0\n",
       "daily_star                                                          16\n",
       "date                                                        2024-11-17\n",
       "trending_category                                                   go\n",
       "Name: 4, dtype: object"
      ]
     },
     "execution_count": 40,
     "metadata": {},
     "output_type": "execute_result"
    }
   ],
   "source": [
    "df.loc[4]"
   ]
  },
  {
   "cell_type": "code",
   "execution_count": 41,
   "id": "5f05230c",
   "metadata": {
    "execution": {
     "iopub.execute_input": "2025-01-10T05:02:50.749924Z",
     "iopub.status.busy": "2025-01-10T05:02:50.749574Z",
     "iopub.status.idle": "2025-01-10T05:02:50.756373Z",
     "shell.execute_reply": "2025-01-10T05:02:50.755391Z"
    },
    "papermill": {
     "duration": 0.030978,
     "end_time": "2025-01-10T05:02:50.758044",
     "exception": false,
     "start_time": "2025-01-10T05:02:50.727066",
     "status": "completed"
    },
    "tags": []
   },
   "outputs": [
    {
     "data": {
      "text/plain": [
       "org_name                                                JanDeDobbeleer\n",
       "repo_name                                                   oh-my-posh\n",
       "repo_url                  https://github.com/JanDeDobbeleer/oh-my-posh\n",
       "description          The most customisable and low-latency cross pl...\n",
       "language                                                            Go\n",
       "star                                                           17450.0\n",
       "forks                                                           2390.0\n",
       "daily_star                                                          16\n",
       "date                                                        2024-11-17\n",
       "trending_category                                                   go\n",
       "Name: 4, dtype: object"
      ]
     },
     "execution_count": 41,
     "metadata": {},
     "output_type": "execute_result"
    }
   ],
   "source": [
    "df.iloc[4]"
   ]
  },
  {
   "cell_type": "code",
   "execution_count": 42,
   "id": "f95e9542",
   "metadata": {
    "execution": {
     "iopub.execute_input": "2025-01-10T05:02:50.802401Z",
     "iopub.status.busy": "2025-01-10T05:02:50.802060Z",
     "iopub.status.idle": "2025-01-10T05:02:50.811438Z",
     "shell.execute_reply": "2025-01-10T05:02:50.810428Z"
    },
    "papermill": {
     "duration": 0.033631,
     "end_time": "2025-01-10T05:02:50.813124",
     "exception": false,
     "start_time": "2025-01-10T05:02:50.779493",
     "status": "completed"
    },
    "tags": []
   },
   "outputs": [
    {
     "data": {
      "text/plain": [
       "count      9797.000000\n",
       "mean      23821.563029\n",
       "std       40314.013752\n",
       "min          23.000000\n",
       "25%        4556.000000\n",
       "50%       12002.000000\n",
       "75%       26332.000000\n",
       "max      408622.000000\n",
       "Name: star, dtype: float64"
      ]
     },
     "execution_count": 42,
     "metadata": {},
     "output_type": "execute_result"
    }
   ],
   "source": [
    "df['star'].describe()"
   ]
  },
  {
   "cell_type": "code",
   "execution_count": null,
   "id": "5ab48e45",
   "metadata": {
    "papermill": {
     "duration": 0.021284,
     "end_time": "2025-01-10T05:02:50.855982",
     "exception": false,
     "start_time": "2025-01-10T05:02:50.834698",
     "status": "completed"
    },
    "tags": []
   },
   "outputs": [],
   "source": []
  },
  {
   "cell_type": "code",
   "execution_count": 43,
   "id": "96ce7b06",
   "metadata": {
    "execution": {
     "iopub.execute_input": "2025-01-10T05:02:50.900622Z",
     "iopub.status.busy": "2025-01-10T05:02:50.900214Z",
     "iopub.status.idle": "2025-01-10T05:02:51.186947Z",
     "shell.execute_reply": "2025-01-10T05:02:51.185791Z"
    },
    "papermill": {
     "duration": 0.311012,
     "end_time": "2025-01-10T05:02:51.188571",
     "exception": false,
     "start_time": "2025-01-10T05:02:50.877559",
     "status": "completed"
    },
    "tags": []
   },
   "outputs": [
    {
     "data": {
      "text/plain": [
       "<Axes: >"
      ]
     },
     "execution_count": 43,
     "metadata": {},
     "output_type": "execute_result"
    },
    {
     "data": {
      "image/png": "[encoded data removed]",
      "text/plain": [
       "<Figure size 640x480 with 1 Axes>"
      ]
     },
     "metadata": {},
     "output_type": "display_data"
    }
   ],
   "source": [
    "popular_repo = df.loc[df['star'] > df['star'].mean()]\n",
    "popular_repo.head(10).plot()"
   ]
  },
  {
   "cell_type": "code",
   "execution_count": 44,
   "id": "4b4b0264",
   "metadata": {
    "execution": {
     "iopub.execute_input": "2025-01-10T05:02:51.236480Z",
     "iopub.status.busy": "2025-01-10T05:02:51.236104Z",
     "iopub.status.idle": "2025-01-10T05:02:51.250496Z",
     "shell.execute_reply": "2025-01-10T05:02:51.249244Z"
    },
    "papermill": {
     "duration": 0.040441,
     "end_time": "2025-01-10T05:02:51.252082",
     "exception": false,
     "start_time": "2025-01-10T05:02:51.211641",
     "status": "completed"
    },
    "tags": []
   },
   "outputs": [
    {
     "data": {
      "text/html": [
       "<div>\n",
       "<style scoped>\n",
       "    .dataframe tbody tr th:only-of-type {\n",
       "        vertical-align: middle;\n",
       "    }\n",
       "\n",
       "    .dataframe tbody tr th {\n",
       "        vertical-align: top;\n",
       "    }\n",
       "\n",
       "    .dataframe thead th {\n",
       "        text-align: right;\n",
       "    }\n",
       "</style>\n",
       "<table border=\"1\" class=\"dataframe\">\n",
       "  <thead>\n",
       "    <tr style=\"text-align: right;\">\n",
       "      <th></th>\n",
       "      <th>org_name</th>\n",
       "      <th>repo_name</th>\n",
       "      <th>repo_url</th>\n",
       "      <th>description</th>\n",
       "      <th>language</th>\n",
       "      <th>star</th>\n",
       "      <th>forks</th>\n",
       "      <th>daily_star</th>\n",
       "      <th>date</th>\n",
       "      <th>trending_category</th>\n",
       "    </tr>\n",
       "  </thead>\n",
       "  <tbody>\n",
       "    <tr>\n",
       "      <th>5</th>\n",
       "      <td>v2fly</td>\n",
       "      <td>v2ray-core</td>\n",
       "      <td>https://github.com/v2fly/v2ray-core</td>\n",
       "      <td>A platform for building proxies to bypass netw...</td>\n",
       "      <td>Go</td>\n",
       "      <td>29573.0</td>\n",
       "      <td>4663.0</td>\n",
       "      <td>12</td>\n",
       "      <td>2024-11-17</td>\n",
       "      <td>go</td>\n",
       "    </tr>\n",
       "    <tr>\n",
       "      <th>8</th>\n",
       "      <td>milvus-io</td>\n",
       "      <td>milvus</td>\n",
       "      <td>https://github.com/milvus-io/milvus</td>\n",
       "      <td>A cloud-native vector database, storage for ne...</td>\n",
       "      <td>Go</td>\n",
       "      <td>30702.0</td>\n",
       "      <td>2927.0</td>\n",
       "      <td>23</td>\n",
       "      <td>2024-11-17</td>\n",
       "      <td>go</td>\n",
       "    </tr>\n",
       "    <tr>\n",
       "      <th>13</th>\n",
       "      <td>FiloSottile</td>\n",
       "      <td>mkcert</td>\n",
       "      <td>https://github.com/FiloSottile/mkcert</td>\n",
       "      <td>A simple zero-config tool to make locally trus...</td>\n",
       "      <td>Go</td>\n",
       "      <td>50227.0</td>\n",
       "      <td>2626.0</td>\n",
       "      <td>94</td>\n",
       "      <td>2024-11-17</td>\n",
       "      <td>go</td>\n",
       "    </tr>\n",
       "    <tr>\n",
       "      <th>17</th>\n",
       "      <td>XTLS</td>\n",
       "      <td>Xray-core</td>\n",
       "      <td>https://github.com/XTLS/Xray-core</td>\n",
       "      <td>Xray, Penetrates Everything. Also the best v2r...</td>\n",
       "      <td>Go</td>\n",
       "      <td>25613.0</td>\n",
       "      <td>3956.0</td>\n",
       "      <td>21</td>\n",
       "      <td>2024-11-17</td>\n",
       "      <td>go</td>\n",
       "    </tr>\n",
       "    <tr>\n",
       "      <th>19</th>\n",
       "      <td>junegunn</td>\n",
       "      <td>fzf</td>\n",
       "      <td>https://github.com/junegunn/fzf</td>\n",
       "      <td>🌸 A command-line fuzzy finder</td>\n",
       "      <td>Go</td>\n",
       "      <td>65610.0</td>\n",
       "      <td>2405.0</td>\n",
       "      <td>37</td>\n",
       "      <td>2024-11-17</td>\n",
       "      <td>go</td>\n",
       "    </tr>\n",
       "  </tbody>\n",
       "</table>\n",
       "</div>"
      ],
      "text/plain": [
       "       org_name   repo_name                               repo_url  \\\n",
       "5         v2fly  v2ray-core    https://github.com/v2fly/v2ray-core   \n",
       "8     milvus-io      milvus    https://github.com/milvus-io/milvus   \n",
       "13  FiloSottile      mkcert  https://github.com/FiloSottile/mkcert   \n",
       "17         XTLS   Xray-core      https://github.com/XTLS/Xray-core   \n",
       "19     junegunn         fzf        https://github.com/junegunn/fzf   \n",
       "\n",
       "                                          description language     star  \\\n",
       "5   A platform for building proxies to bypass netw...       Go  29573.0   \n",
       "8   A cloud-native vector database, storage for ne...       Go  30702.0   \n",
       "13  A simple zero-config tool to make locally trus...       Go  50227.0   \n",
       "17  Xray, Penetrates Everything. Also the best v2r...       Go  25613.0   \n",
       "19                      🌸 A command-line fuzzy finder       Go  65610.0   \n",
       "\n",
       "     forks  daily_star        date trending_category  \n",
       "5   4663.0          12  2024-11-17                go  \n",
       "8   2927.0          23  2024-11-17                go  \n",
       "13  2626.0          94  2024-11-17                go  \n",
       "17  3956.0          21  2024-11-17                go  \n",
       "19  2405.0          37  2024-11-17                go  "
      ]
     },
     "execution_count": 44,
     "metadata": {},
     "output_type": "execute_result"
    }
   ],
   "source": [
    "popular_repo.head()"
   ]
  },
  {
   "cell_type": "code",
   "execution_count": 45,
   "id": "bf1f8ebc",
   "metadata": {
    "execution": {
     "iopub.execute_input": "2025-01-10T05:02:51.304099Z",
     "iopub.status.busy": "2025-01-10T05:02:51.303668Z",
     "iopub.status.idle": "2025-01-10T05:02:51.313522Z",
     "shell.execute_reply": "2025-01-10T05:02:51.312579Z"
    },
    "papermill": {
     "duration": 0.037471,
     "end_time": "2025-01-10T05:02:51.315247",
     "exception": false,
     "start_time": "2025-01-10T05:02:51.277776",
     "status": "completed"
    },
    "tags": []
   },
   "outputs": [
    {
     "data": {
      "text/plain": [
       "count    9953.000000\n",
       "mean       76.110921\n",
       "std       246.852491\n",
       "min         0.000000\n",
       "25%         5.000000\n",
       "50%        15.000000\n",
       "75%        49.000000\n",
       "max      8559.000000\n",
       "Name: daily_star, dtype: float64"
      ]
     },
     "execution_count": 45,
     "metadata": {},
     "output_type": "execute_result"
    }
   ],
   "source": [
    "daily_star = duplicate_df['daily_star']\n",
    "daily_star.describe()"
   ]
  },
  {
   "cell_type": "code",
   "execution_count": 46,
   "id": "d9ec6829",
   "metadata": {
    "execution": {
     "iopub.execute_input": "2025-01-10T05:02:51.367745Z",
     "iopub.status.busy": "2025-01-10T05:02:51.367326Z",
     "iopub.status.idle": "2025-01-10T05:02:51.738996Z",
     "shell.execute_reply": "2025-01-10T05:02:51.737793Z"
    },
    "papermill": {
     "duration": 0.399999,
     "end_time": "2025-01-10T05:02:51.740859",
     "exception": false,
     "start_time": "2025-01-10T05:02:51.340860",
     "status": "completed"
    },
    "tags": []
   },
   "outputs": [
    {
     "data": {
      "text/plain": [
       "<Axes: >"
      ]
     },
     "execution_count": 46,
     "metadata": {},
     "output_type": "execute_result"
    },
    {
     "data": {
      "image/png": "[encoded data removed]",
      "text/plain": [
       "<Figure size 640x480 with 1 Axes>"
      ]
     },
     "metadata": {},
     "output_type": "display_data"
    }
   ],
   "source": [
    "popular_daily_star = duplicate_df.loc[daily_star > daily_star.mean()]\n",
    "popular_daily_star.head(10).plot()"
   ]
  },
  {
   "cell_type": "code",
   "execution_count": 47,
   "id": "42f925b5",
   "metadata": {
    "execution": {
     "iopub.execute_input": "2025-01-10T05:02:51.795659Z",
     "iopub.status.busy": "2025-01-10T05:02:51.795257Z",
     "iopub.status.idle": "2025-01-10T05:02:52.114541Z",
     "shell.execute_reply": "2025-01-10T05:02:52.113330Z"
    },
    "papermill": {
     "duration": 0.348408,
     "end_time": "2025-01-10T05:02:52.116252",
     "exception": false,
     "start_time": "2025-01-10T05:02:51.767844",
     "status": "completed"
    },
    "tags": []
   },
   "outputs": [
    {
     "data": {
      "text/plain": [
       "<Axes: >"
      ]
     },
     "execution_count": 47,
     "metadata": {},
     "output_type": "execute_result"
    },
    {
     "data": {
      "image/png": "[encoded data removed]",
      "text/plain": [
       "<Figure size 640x480 with 1 Axes>"
      ]
     },
     "metadata": {},
     "output_type": "display_data"
    }
   ],
   "source": [
    "sns.scatterplot(data=popular_daily_star.head(10))"
   ]
  },
  {
   "cell_type": "code",
   "execution_count": 48,
   "id": "3ce1bc0b",
   "metadata": {
    "execution": {
     "iopub.execute_input": "2025-01-10T05:02:52.172407Z",
     "iopub.status.busy": "2025-01-10T05:02:52.172047Z",
     "iopub.status.idle": "2025-01-10T05:02:52.565966Z",
     "shell.execute_reply": "2025-01-10T05:02:52.564763Z"
    },
    "papermill": {
     "duration": 0.423991,
     "end_time": "2025-01-10T05:02:52.567969",
     "exception": false,
     "start_time": "2025-01-10T05:02:52.143978",
     "status": "completed"
    },
    "tags": []
   },
   "outputs": [
    {
     "data": {
      "text/plain": [
       "<Axes: xlabel='count', ylabel='language'>"
      ]
     },
     "execution_count": 48,
     "metadata": {},
     "output_type": "execute_result"
    },
    {
     "data": {
      "image/png": "[encoded data removed]",
      "text/plain": [
       "<Figure size 640x480 with 1 Axes>"
      ]
     },
     "metadata": {},
     "output_type": "display_data"
    }
   ],
   "source": [
    "sns.countplot(data=popular_daily_star, y='language')"
   ]
  },
  {
   "cell_type": "code",
   "execution_count": null,
   "id": "c6dac373",
   "metadata": {
    "papermill": {
     "duration": 0.027712,
     "end_time": "2025-01-10T05:02:52.624366",
     "exception": false,
     "start_time": "2025-01-10T05:02:52.596654",
     "status": "completed"
    },
    "tags": []
   },
   "outputs": [],
   "source": []
  }
 ],
 "metadata": {
  "kaggle": {
   "accelerator": "none",
   "dataSources": [
    {
     "databundleVersionId": 10733222,
     "datasetId": 6019930,
     "sourceId": 10415341,
     "sourceType": "datasetVersion"
    }
   ],
   "dockerImageVersionId": 30822,
   "isGpuEnabled": false,
   "isInternetEnabled": true,
   "language": "python",
   "sourceType": "notebook"
  },
  "kernelspec": {
   "display_name": "Python 3",
   "language": "python",
   "name": "python3"
  },
  "language_info": {
   "codemirror_mode": {
    "name": "ipython",
    "version": 3
   },
   "file_extension": ".py",
   "mimetype": "text/x-python",
   "name": "python",
   "nbconvert_exporter": "python",
   "pygments_lexer": "ipython3",
   "version": "3.10.12"
  },
  "papermill": {
   "default_parameters": {},
   "duration": 24.032867,
   "end_time": "2025-01-10T05:02:53.774132",
   "environment_variables": {},
   "exception": null,
   "input_path": "__notebook__.ipynb",
   "output_path": "__notebook__.ipynb",
   "parameters": {},
   "start_time": "2025-01-10T05:02:29.741265",
   "version": "2.6.0"
  }
 },
 "nbformat": 4,
 "nbformat_minor": 5
}
