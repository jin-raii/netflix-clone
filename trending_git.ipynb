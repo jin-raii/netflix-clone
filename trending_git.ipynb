{
 "cells": [
  {
   "cell_type": "code",
   "execution_count": 1,
   "id": "ce35e883",
   "metadata": {
    "_cell_guid": "b1076dfc-b9ad-4769-8c92-a6c4dae69d19",
    "_uuid": "8f2839f25d086af736a60e9eeb907d3b93b6e0e5",
    "execution": {
     "iopub.execute_input": "2025-01-26T09:05:50.972520Z",
     "iopub.status.busy": "2025-01-26T09:05:50.972142Z",
     "iopub.status.idle": "2025-01-26T09:05:53.335487Z",
     "shell.execute_reply": "2025-01-26T09:05:53.334399Z"
    },
    "papermill": {
     "duration": 2.378927,
     "end_time": "2025-01-26T09:05:53.337302",
     "exception": false,
     "start_time": "2025-01-26T09:05:50.958375",
     "status": "completed"
    },
    "tags": []
   },
   "outputs": [
    {
     "name": "stdout",
     "output_type": "stream",
     "text": [
      "/kaggle/input/github-daily-trending-repos/github_daily_trending.csv\n"
     ]
    }
   ],
   "source": [
    "# This Python 3 environment comes with many helpful analytics libraries installed\n",
    "# It is defined by the kaggle/python Docker image: https://github.com/kaggle/docker-python\n",
    "# For example, here's several helpful packages to load\n",
    "\n",
    "import numpy as np # linear algebra\n",
    "import pandas as pd # data processing, CSV file I/O (e.g. pd.read_csv)\n",
    "from matplotlib import pyplot as plt\n",
    "import seaborn as sns\n",
    "\n",
    "# Input data files are available in the read-only \"../input/\" directory\n",
    "# For example, running this (by clicking run or pressing Shift+Enter) will list all files under the input directory\n",
    "\n",
    "import os\n",
    "for dirname, _, filenames in os.walk('/kaggle/input'):\n",
    "    for filename in filenames:\n",
    "        print(os.path.join(dirname, filename))\n",
    "\n",
    "# You can write up to 20GB to the current directory (/kaggle/working/) that gets preserved as output when you create a version using \"Save & Run All\" \n",
    "# You can also write temporary files to /kaggle/temp/, but they won't be saved outside of the current session"
   ]
  },
  {
   "cell_type": "code",
   "execution_count": 2,
   "id": "8f6c6719",
   "metadata": {
    "execution": {
     "iopub.execute_input": "2025-01-26T09:05:53.362065Z",
     "iopub.status.busy": "2025-01-26T09:05:53.361568Z",
     "iopub.status.idle": "2025-01-26T09:05:53.490483Z",
     "shell.execute_reply": "2025-01-26T09:05:53.489116Z"
    },
    "papermill": {
     "duration": 0.143684,
     "end_time": "2025-01-26T09:05:53.492550",
     "exception": false,
     "start_time": "2025-01-26T09:05:53.348866",
     "status": "completed"
    },
    "tags": []
   },
   "outputs": [
    {
     "name": "stdout",
     "output_type": "stream",
     "text": [
      "__notebook__.ipynb\r\n"
     ]
    }
   ],
   "source": [
    "!ls"
   ]
  },
  {
   "cell_type": "code",
   "execution_count": 3,
   "id": "312d221d",
   "metadata": {
    "execution": {
     "iopub.execute_input": "2025-01-26T09:05:53.516880Z",
     "iopub.status.busy": "2025-01-26T09:05:53.516503Z",
     "iopub.status.idle": "2025-01-26T09:05:53.667403Z",
     "shell.execute_reply": "2025-01-26T09:05:53.666267Z"
    },
    "papermill": {
     "duration": 0.164933,
     "end_time": "2025-01-26T09:05:53.669119",
     "exception": false,
     "start_time": "2025-01-26T09:05:53.504186",
     "status": "completed"
    },
    "tags": []
   },
   "outputs": [
    {
     "data": {
      "text/html": [
       "<div>\n",
       "<style scoped>\n",
       "    .dataframe tbody tr th:only-of-type {\n",
       "        vertical-align: middle;\n",
       "    }\n",
       "\n",
       "    .dataframe tbody tr th {\n",
       "        vertical-align: top;\n",
       "    }\n",
       "\n",
       "    .dataframe thead th {\n",
       "        text-align: right;\n",
       "    }\n",
       "</style>\n",
       "<table border=\"1\" class=\"dataframe\">\n",
       "  <thead>\n",
       "    <tr style=\"text-align: right;\">\n",
       "      <th></th>\n",
       "      <th>org_name</th>\n",
       "      <th>repo_name</th>\n",
       "      <th>repo_url</th>\n",
       "      <th>description</th>\n",
       "      <th>language</th>\n",
       "      <th>star</th>\n",
       "      <th>forks</th>\n",
       "      <th>daily_star</th>\n",
       "      <th>date</th>\n",
       "      <th>trending_category</th>\n",
       "    </tr>\n",
       "  </thead>\n",
       "  <tbody>\n",
       "    <tr>\n",
       "      <th>0</th>\n",
       "      <td>terrastruct</td>\n",
       "      <td>d2</td>\n",
       "      <td>https://github.com/terrastruct/d2</td>\n",
       "      <td>D2 is a modern diagram scripting language that...</td>\n",
       "      <td>Go</td>\n",
       "      <td>17896.0</td>\n",
       "      <td>439.0</td>\n",
       "      <td>418</td>\n",
       "      <td>2024-11-17</td>\n",
       "      <td>go</td>\n",
       "    </tr>\n",
       "    <tr>\n",
       "      <th>1</th>\n",
       "      <td>tinygo-org</td>\n",
       "      <td>tinygo</td>\n",
       "      <td>https://github.com/tinygo-org/tinygo</td>\n",
       "      <td>Go compiler for small places. Microcontrollers...</td>\n",
       "      <td>Go</td>\n",
       "      <td>15463.0</td>\n",
       "      <td>912.0</td>\n",
       "      <td>6</td>\n",
       "      <td>2024-11-17</td>\n",
       "      <td>go</td>\n",
       "    </tr>\n",
       "    <tr>\n",
       "      <th>2</th>\n",
       "      <td>Melkeydev</td>\n",
       "      <td>go-blueprint</td>\n",
       "      <td>https://github.com/Melkeydev/go-blueprint</td>\n",
       "      <td>Go-blueprint allows users to spin up a quick G...</td>\n",
       "      <td>Go</td>\n",
       "      <td>4608.0</td>\n",
       "      <td>276.0</td>\n",
       "      <td>9</td>\n",
       "      <td>2024-11-17</td>\n",
       "      <td>go</td>\n",
       "    </tr>\n",
       "    <tr>\n",
       "      <th>3</th>\n",
       "      <td>jeessy2</td>\n",
       "      <td>ddns-go</td>\n",
       "      <td>https://github.com/jeessy2/ddns-go</td>\n",
       "      <td>Simple and easy to use DDNS. Support Aliyun, T...</td>\n",
       "      <td>Go</td>\n",
       "      <td>12117.0</td>\n",
       "      <td>1398.0</td>\n",
       "      <td>25</td>\n",
       "      <td>2024-11-17</td>\n",
       "      <td>go</td>\n",
       "    </tr>\n",
       "    <tr>\n",
       "      <th>4</th>\n",
       "      <td>JanDeDobbeleer</td>\n",
       "      <td>oh-my-posh</td>\n",
       "      <td>https://github.com/JanDeDobbeleer/oh-my-posh</td>\n",
       "      <td>The most customisable and low-latency cross pl...</td>\n",
       "      <td>Go</td>\n",
       "      <td>17450.0</td>\n",
       "      <td>2390.0</td>\n",
       "      <td>16</td>\n",
       "      <td>2024-11-17</td>\n",
       "      <td>go</td>\n",
       "    </tr>\n",
       "  </tbody>\n",
       "</table>\n",
       "</div>"
      ],
      "text/plain": [
       "         org_name     repo_name                                      repo_url  \\\n",
       "0     terrastruct            d2             https://github.com/terrastruct/d2   \n",
       "1      tinygo-org        tinygo          https://github.com/tinygo-org/tinygo   \n",
       "2       Melkeydev  go-blueprint     https://github.com/Melkeydev/go-blueprint   \n",
       "3         jeessy2       ddns-go            https://github.com/jeessy2/ddns-go   \n",
       "4  JanDeDobbeleer    oh-my-posh  https://github.com/JanDeDobbeleer/oh-my-posh   \n",
       "\n",
       "                                         description language     star  \\\n",
       "0  D2 is a modern diagram scripting language that...       Go  17896.0   \n",
       "1  Go compiler for small places. Microcontrollers...       Go  15463.0   \n",
       "2  Go-blueprint allows users to spin up a quick G...       Go   4608.0   \n",
       "3  Simple and easy to use DDNS. Support Aliyun, T...       Go  12117.0   \n",
       "4  The most customisable and low-latency cross pl...       Go  17450.0   \n",
       "\n",
       "    forks  daily_star        date trending_category  \n",
       "0   439.0         418  2024-11-17                go  \n",
       "1   912.0           6  2024-11-17                go  \n",
       "2   276.0           9  2024-11-17                go  \n",
       "3  1398.0          25  2024-11-17                go  \n",
       "4  2390.0          16  2024-11-17                go  "
      ]
     },
     "execution_count": 3,
     "metadata": {},
     "output_type": "execute_result"
    }
   ],
   "source": [
    "df = pd.read_csv('/kaggle/input/github-daily-trending-repos/github_daily_trending.csv')\n",
    "df.head()"
   ]
  },
  {
   "cell_type": "code",
   "execution_count": 4,
   "id": "ac55cf60",
   "metadata": {
    "execution": {
     "iopub.execute_input": "2025-01-26T09:05:53.695721Z",
     "iopub.status.busy": "2025-01-26T09:05:53.695383Z",
     "iopub.status.idle": "2025-01-26T09:05:53.709637Z",
     "shell.execute_reply": "2025-01-26T09:05:53.708564Z"
    },
    "papermill": {
     "duration": 0.02959,
     "end_time": "2025-01-26T09:05:53.711449",
     "exception": false,
     "start_time": "2025-01-26T09:05:53.681859",
     "status": "completed"
    },
    "tags": []
   },
   "outputs": [
    {
     "data": {
      "text/plain": [
       "org_name               0\n",
       "repo_name              0\n",
       "repo_url               0\n",
       "description            0\n",
       "language              74\n",
       "star                 156\n",
       "forks                156\n",
       "daily_star             0\n",
       "date                   0\n",
       "trending_category      0\n",
       "dtype: int64"
      ]
     },
     "execution_count": 4,
     "metadata": {},
     "output_type": "execute_result"
    }
   ],
   "source": [
    "df.isna().sum()"
   ]
  },
  {
   "cell_type": "code",
   "execution_count": 5,
   "id": "36ffed73",
   "metadata": {
    "execution": {
     "iopub.execute_input": "2025-01-26T09:05:53.735696Z",
     "iopub.status.busy": "2025-01-26T09:05:53.735242Z",
     "iopub.status.idle": "2025-01-26T09:05:53.794476Z",
     "shell.execute_reply": "2025-01-26T09:05:53.793257Z"
    },
    "papermill": {
     "duration": 0.073595,
     "end_time": "2025-01-26T09:05:53.796421",
     "exception": false,
     "start_time": "2025-01-26T09:05:53.722826",
     "status": "completed"
    },
    "tags": []
   },
   "outputs": [
    {
     "data": {
      "text/html": [
       "<div>\n",
       "<style scoped>\n",
       "    .dataframe tbody tr th:only-of-type {\n",
       "        vertical-align: middle;\n",
       "    }\n",
       "\n",
       "    .dataframe tbody tr th {\n",
       "        vertical-align: top;\n",
       "    }\n",
       "\n",
       "    .dataframe thead th {\n",
       "        text-align: right;\n",
       "    }\n",
       "</style>\n",
       "<table border=\"1\" class=\"dataframe\">\n",
       "  <thead>\n",
       "    <tr style=\"text-align: right;\">\n",
       "      <th></th>\n",
       "      <th>org_name</th>\n",
       "      <th>repo_name</th>\n",
       "      <th>repo_url</th>\n",
       "      <th>description</th>\n",
       "      <th>language</th>\n",
       "      <th>star</th>\n",
       "      <th>forks</th>\n",
       "      <th>daily_star</th>\n",
       "      <th>date</th>\n",
       "      <th>trending_category</th>\n",
       "    </tr>\n",
       "  </thead>\n",
       "  <tbody>\n",
       "    <tr>\n",
       "      <th>count</th>\n",
       "      <td>12432</td>\n",
       "      <td>12432</td>\n",
       "      <td>12432</td>\n",
       "      <td>12432</td>\n",
       "      <td>12358</td>\n",
       "      <td>12276.000000</td>\n",
       "      <td>12276.000000</td>\n",
       "      <td>12432.000000</td>\n",
       "      <td>12432</td>\n",
       "      <td>12432</td>\n",
       "    </tr>\n",
       "    <tr>\n",
       "      <th>unique</th>\n",
       "      <td>2044</td>\n",
       "      <td>2473</td>\n",
       "      <td>2515</td>\n",
       "      <td>2563</td>\n",
       "      <td>35</td>\n",
       "      <td>NaN</td>\n",
       "      <td>NaN</td>\n",
       "      <td>NaN</td>\n",
       "      <td>81</td>\n",
       "      <td>8</td>\n",
       "    </tr>\n",
       "    <tr>\n",
       "      <th>top</th>\n",
       "      <td>JetBrains</td>\n",
       "      <td>metasploit-framework</td>\n",
       "      <td>https://github.com/rapid7/metasploit-framework</td>\n",
       "      <td>No description</td>\n",
       "      <td>Rust</td>\n",
       "      <td>NaN</td>\n",
       "      <td>NaN</td>\n",
       "      <td>NaN</td>\n",
       "      <td>2024-11-15</td>\n",
       "      <td>rust</td>\n",
       "    </tr>\n",
       "    <tr>\n",
       "      <th>freq</th>\n",
       "      <td>122</td>\n",
       "      <td>59</td>\n",
       "      <td>59</td>\n",
       "      <td>109</td>\n",
       "      <td>1924</td>\n",
       "      <td>NaN</td>\n",
       "      <td>NaN</td>\n",
       "      <td>NaN</td>\n",
       "      <td>171</td>\n",
       "      <td>1853</td>\n",
       "    </tr>\n",
       "    <tr>\n",
       "      <th>mean</th>\n",
       "      <td>NaN</td>\n",
       "      <td>NaN</td>\n",
       "      <td>NaN</td>\n",
       "      <td>NaN</td>\n",
       "      <td>NaN</td>\n",
       "      <td>23532.086347</td>\n",
       "      <td>3706.084229</td>\n",
       "      <td>76.185972</td>\n",
       "      <td>NaN</td>\n",
       "      <td>NaN</td>\n",
       "    </tr>\n",
       "    <tr>\n",
       "      <th>std</th>\n",
       "      <td>NaN</td>\n",
       "      <td>NaN</td>\n",
       "      <td>NaN</td>\n",
       "      <td>NaN</td>\n",
       "      <td>NaN</td>\n",
       "      <td>39536.411889</td>\n",
       "      <td>7426.706566</td>\n",
       "      <td>239.753693</td>\n",
       "      <td>NaN</td>\n",
       "      <td>NaN</td>\n",
       "    </tr>\n",
       "    <tr>\n",
       "      <th>min</th>\n",
       "      <td>NaN</td>\n",
       "      <td>NaN</td>\n",
       "      <td>NaN</td>\n",
       "      <td>NaN</td>\n",
       "      <td>NaN</td>\n",
       "      <td>20.000000</td>\n",
       "      <td>3.000000</td>\n",
       "      <td>0.000000</td>\n",
       "      <td>NaN</td>\n",
       "      <td>NaN</td>\n",
       "    </tr>\n",
       "    <tr>\n",
       "      <th>25%</th>\n",
       "      <td>NaN</td>\n",
       "      <td>NaN</td>\n",
       "      <td>NaN</td>\n",
       "      <td>NaN</td>\n",
       "      <td>NaN</td>\n",
       "      <td>4589.000000</td>\n",
       "      <td>499.000000</td>\n",
       "      <td>5.000000</td>\n",
       "      <td>NaN</td>\n",
       "      <td>NaN</td>\n",
       "    </tr>\n",
       "    <tr>\n",
       "      <th>50%</th>\n",
       "      <td>NaN</td>\n",
       "      <td>NaN</td>\n",
       "      <td>NaN</td>\n",
       "      <td>NaN</td>\n",
       "      <td>NaN</td>\n",
       "      <td>11849.000000</td>\n",
       "      <td>1341.000000</td>\n",
       "      <td>15.000000</td>\n",
       "      <td>NaN</td>\n",
       "      <td>NaN</td>\n",
       "    </tr>\n",
       "    <tr>\n",
       "      <th>75%</th>\n",
       "      <td>NaN</td>\n",
       "      <td>NaN</td>\n",
       "      <td>NaN</td>\n",
       "      <td>NaN</td>\n",
       "      <td>NaN</td>\n",
       "      <td>26171.000000</td>\n",
       "      <td>3571.000000</td>\n",
       "      <td>50.000000</td>\n",
       "      <td>NaN</td>\n",
       "      <td>NaN</td>\n",
       "    </tr>\n",
       "    <tr>\n",
       "      <th>max</th>\n",
       "      <td>NaN</td>\n",
       "      <td>NaN</td>\n",
       "      <td>NaN</td>\n",
       "      <td>NaN</td>\n",
       "      <td>NaN</td>\n",
       "      <td>408622.000000</td>\n",
       "      <td>78973.000000</td>\n",
       "      <td>8559.000000</td>\n",
       "      <td>NaN</td>\n",
       "      <td>NaN</td>\n",
       "    </tr>\n",
       "  </tbody>\n",
       "</table>\n",
       "</div>"
      ],
      "text/plain": [
       "         org_name             repo_name  \\\n",
       "count       12432                 12432   \n",
       "unique       2044                  2473   \n",
       "top     JetBrains  metasploit-framework   \n",
       "freq          122                    59   \n",
       "mean          NaN                   NaN   \n",
       "std           NaN                   NaN   \n",
       "min           NaN                   NaN   \n",
       "25%           NaN                   NaN   \n",
       "50%           NaN                   NaN   \n",
       "75%           NaN                   NaN   \n",
       "max           NaN                   NaN   \n",
       "\n",
       "                                              repo_url     description  \\\n",
       "count                                            12432           12432   \n",
       "unique                                            2515            2563   \n",
       "top     https://github.com/rapid7/metasploit-framework  No description   \n",
       "freq                                                59             109   \n",
       "mean                                               NaN             NaN   \n",
       "std                                                NaN             NaN   \n",
       "min                                                NaN             NaN   \n",
       "25%                                                NaN             NaN   \n",
       "50%                                                NaN             NaN   \n",
       "75%                                                NaN             NaN   \n",
       "max                                                NaN             NaN   \n",
       "\n",
       "       language           star         forks    daily_star        date  \\\n",
       "count     12358   12276.000000  12276.000000  12432.000000       12432   \n",
       "unique       35            NaN           NaN           NaN          81   \n",
       "top        Rust            NaN           NaN           NaN  2024-11-15   \n",
       "freq       1924            NaN           NaN           NaN         171   \n",
       "mean        NaN   23532.086347   3706.084229     76.185972         NaN   \n",
       "std         NaN   39536.411889   7426.706566    239.753693         NaN   \n",
       "min         NaN      20.000000      3.000000      0.000000         NaN   \n",
       "25%         NaN    4589.000000    499.000000      5.000000         NaN   \n",
       "50%         NaN   11849.000000   1341.000000     15.000000         NaN   \n",
       "75%         NaN   26171.000000   3571.000000     50.000000         NaN   \n",
       "max         NaN  408622.000000  78973.000000   8559.000000         NaN   \n",
       "\n",
       "       trending_category  \n",
       "count              12432  \n",
       "unique                 8  \n",
       "top                 rust  \n",
       "freq                1853  \n",
       "mean                 NaN  \n",
       "std                  NaN  \n",
       "min                  NaN  \n",
       "25%                  NaN  \n",
       "50%                  NaN  \n",
       "75%                  NaN  \n",
       "max                  NaN  "
      ]
     },
     "execution_count": 5,
     "metadata": {},
     "output_type": "execute_result"
    }
   ],
   "source": [
    "df.describe(include='all')"
   ]
  },
  {
   "cell_type": "code",
   "execution_count": 6,
   "id": "c22687c0",
   "metadata": {
    "execution": {
     "iopub.execute_input": "2025-01-26T09:05:53.821721Z",
     "iopub.status.busy": "2025-01-26T09:05:53.821382Z",
     "iopub.status.idle": "2025-01-26T09:05:53.841479Z",
     "shell.execute_reply": "2025-01-26T09:05:53.840237Z"
    },
    "papermill": {
     "duration": 0.034823,
     "end_time": "2025-01-26T09:05:53.843441",
     "exception": false,
     "start_time": "2025-01-26T09:05:53.808618",
     "status": "completed"
    },
    "tags": []
   },
   "outputs": [
    {
     "name": "stdout",
     "output_type": "stream",
     "text": [
      "<class 'pandas.core.frame.DataFrame'>\n",
      "RangeIndex: 12432 entries, 0 to 12431\n",
      "Data columns (total 10 columns):\n",
      " #   Column             Non-Null Count  Dtype  \n",
      "---  ------             --------------  -----  \n",
      " 0   org_name           12432 non-null  object \n",
      " 1   repo_name          12432 non-null  object \n",
      " 2   repo_url           12432 non-null  object \n",
      " 3   description        12432 non-null  object \n",
      " 4   language           12358 non-null  object \n",
      " 5   star               12276 non-null  float64\n",
      " 6   forks              12276 non-null  float64\n",
      " 7   daily_star         12432 non-null  int64  \n",
      " 8   date               12432 non-null  object \n",
      " 9   trending_category  12432 non-null  object \n",
      "dtypes: float64(2), int64(1), object(7)\n",
      "memory usage: 971.4+ KB\n"
     ]
    }
   ],
   "source": [
    "df.info()"
   ]
  },
  {
   "cell_type": "code",
   "execution_count": 7,
   "id": "179a5c42",
   "metadata": {
    "execution": {
     "iopub.execute_input": "2025-01-26T09:05:53.869190Z",
     "iopub.status.busy": "2025-01-26T09:05:53.868802Z",
     "iopub.status.idle": "2025-01-26T09:05:54.307874Z",
     "shell.execute_reply": "2025-01-26T09:05:54.306884Z"
    },
    "papermill": {
     "duration": 0.453991,
     "end_time": "2025-01-26T09:05:54.309726",
     "exception": false,
     "start_time": "2025-01-26T09:05:53.855735",
     "status": "completed"
    },
    "tags": []
   },
   "outputs": [
    {
     "data": {
      "text/plain": [
       "<Axes: >"
      ]
     },
     "execution_count": 7,
     "metadata": {},
     "output_type": "execute_result"
    },
    {
     "data": {
      "image/png": "[encoded data removed]",
      "text/plain": [
       "<Figure size 640x480 with 1 Axes>"
      ]
     },
     "metadata": {},
     "output_type": "display_data"
    }
   ],
   "source": [
    "sns.heatmap(data=df.isna(), cbar=False, yticklabels=False)"
   ]
  },
  {
   "cell_type": "code",
   "execution_count": 8,
   "id": "197c5872",
   "metadata": {
    "execution": {
     "iopub.execute_input": "2025-01-26T09:05:54.336786Z",
     "iopub.status.busy": "2025-01-26T09:05:54.336451Z",
     "iopub.status.idle": "2025-01-26T09:05:54.342076Z",
     "shell.execute_reply": "2025-01-26T09:05:54.341141Z"
    },
    "papermill": {
     "duration": 0.020286,
     "end_time": "2025-01-26T09:05:54.343491",
     "exception": false,
     "start_time": "2025-01-26T09:05:54.323205",
     "status": "completed"
    },
    "tags": []
   },
   "outputs": [
    {
     "data": {
      "text/plain": [
       "Index(['org_name', 'repo_name', 'repo_url', 'description', 'language', 'star',\n",
       "       'forks', 'daily_star', 'date', 'trending_category'],\n",
       "      dtype='object')"
      ]
     },
     "execution_count": 8,
     "metadata": {},
     "output_type": "execute_result"
    }
   ],
   "source": [
    "df.columns"
   ]
  },
  {
   "cell_type": "code",
   "execution_count": 9,
   "id": "62079916",
   "metadata": {
    "execution": {
     "iopub.execute_input": "2025-01-26T09:05:54.369780Z",
     "iopub.status.busy": "2025-01-26T09:05:54.369433Z",
     "iopub.status.idle": "2025-01-26T09:05:54.383659Z",
     "shell.execute_reply": "2025-01-26T09:05:54.382588Z"
    },
    "papermill": {
     "duration": 0.029283,
     "end_time": "2025-01-26T09:05:54.385368",
     "exception": false,
     "start_time": "2025-01-26T09:05:54.356085",
     "status": "completed"
    },
    "tags": []
   },
   "outputs": [
    {
     "data": {
      "text/html": [
       "<div>\n",
       "<style scoped>\n",
       "    .dataframe tbody tr th:only-of-type {\n",
       "        vertical-align: middle;\n",
       "    }\n",
       "\n",
       "    .dataframe tbody tr th {\n",
       "        vertical-align: top;\n",
       "    }\n",
       "\n",
       "    .dataframe thead th {\n",
       "        text-align: right;\n",
       "    }\n",
       "</style>\n",
       "<table border=\"1\" class=\"dataframe\">\n",
       "  <thead>\n",
       "    <tr style=\"text-align: right;\">\n",
       "      <th></th>\n",
       "      <th>org_name</th>\n",
       "      <th>repo_name</th>\n",
       "      <th>repo_url</th>\n",
       "      <th>description</th>\n",
       "      <th>language</th>\n",
       "      <th>star</th>\n",
       "      <th>forks</th>\n",
       "      <th>daily_star</th>\n",
       "      <th>date</th>\n",
       "      <th>trending_category</th>\n",
       "    </tr>\n",
       "  </thead>\n",
       "  <tbody>\n",
       "    <tr>\n",
       "      <th>0</th>\n",
       "      <td>terrastruct</td>\n",
       "      <td>d2</td>\n",
       "      <td>https://github.com/terrastruct/d2</td>\n",
       "      <td>D2 is a modern diagram scripting language that...</td>\n",
       "      <td>Go</td>\n",
       "      <td>17896.0</td>\n",
       "      <td>439.0</td>\n",
       "      <td>418</td>\n",
       "      <td>2024-11-17</td>\n",
       "      <td>go</td>\n",
       "    </tr>\n",
       "    <tr>\n",
       "      <th>1</th>\n",
       "      <td>tinygo-org</td>\n",
       "      <td>tinygo</td>\n",
       "      <td>https://github.com/tinygo-org/tinygo</td>\n",
       "      <td>Go compiler for small places. Microcontrollers...</td>\n",
       "      <td>Go</td>\n",
       "      <td>15463.0</td>\n",
       "      <td>912.0</td>\n",
       "      <td>6</td>\n",
       "      <td>2024-11-17</td>\n",
       "      <td>go</td>\n",
       "    </tr>\n",
       "    <tr>\n",
       "      <th>2</th>\n",
       "      <td>Melkeydev</td>\n",
       "      <td>go-blueprint</td>\n",
       "      <td>https://github.com/Melkeydev/go-blueprint</td>\n",
       "      <td>Go-blueprint allows users to spin up a quick G...</td>\n",
       "      <td>Go</td>\n",
       "      <td>4608.0</td>\n",
       "      <td>276.0</td>\n",
       "      <td>9</td>\n",
       "      <td>2024-11-17</td>\n",
       "      <td>go</td>\n",
       "    </tr>\n",
       "    <tr>\n",
       "      <th>3</th>\n",
       "      <td>jeessy2</td>\n",
       "      <td>ddns-go</td>\n",
       "      <td>https://github.com/jeessy2/ddns-go</td>\n",
       "      <td>Simple and easy to use DDNS. Support Aliyun, T...</td>\n",
       "      <td>Go</td>\n",
       "      <td>12117.0</td>\n",
       "      <td>1398.0</td>\n",
       "      <td>25</td>\n",
       "      <td>2024-11-17</td>\n",
       "      <td>go</td>\n",
       "    </tr>\n",
       "    <tr>\n",
       "      <th>4</th>\n",
       "      <td>JanDeDobbeleer</td>\n",
       "      <td>oh-my-posh</td>\n",
       "      <td>https://github.com/JanDeDobbeleer/oh-my-posh</td>\n",
       "      <td>The most customisable and low-latency cross pl...</td>\n",
       "      <td>Go</td>\n",
       "      <td>17450.0</td>\n",
       "      <td>2390.0</td>\n",
       "      <td>16</td>\n",
       "      <td>2024-11-17</td>\n",
       "      <td>go</td>\n",
       "    </tr>\n",
       "  </tbody>\n",
       "</table>\n",
       "</div>"
      ],
      "text/plain": [
       "         org_name     repo_name                                      repo_url  \\\n",
       "0     terrastruct            d2             https://github.com/terrastruct/d2   \n",
       "1      tinygo-org        tinygo          https://github.com/tinygo-org/tinygo   \n",
       "2       Melkeydev  go-blueprint     https://github.com/Melkeydev/go-blueprint   \n",
       "3         jeessy2       ddns-go            https://github.com/jeessy2/ddns-go   \n",
       "4  JanDeDobbeleer    oh-my-posh  https://github.com/JanDeDobbeleer/oh-my-posh   \n",
       "\n",
       "                                         description language     star  \\\n",
       "0  D2 is a modern diagram scripting language that...       Go  17896.0   \n",
       "1  Go compiler for small places. Microcontrollers...       Go  15463.0   \n",
       "2  Go-blueprint allows users to spin up a quick G...       Go   4608.0   \n",
       "3  Simple and easy to use DDNS. Support Aliyun, T...       Go  12117.0   \n",
       "4  The most customisable and low-latency cross pl...       Go  17450.0   \n",
       "\n",
       "    forks  daily_star        date trending_category  \n",
       "0   439.0         418  2024-11-17                go  \n",
       "1   912.0           6  2024-11-17                go  \n",
       "2   276.0           9  2024-11-17                go  \n",
       "3  1398.0          25  2024-11-17                go  \n",
       "4  2390.0          16  2024-11-17                go  "
      ]
     },
     "execution_count": 9,
     "metadata": {},
     "output_type": "execute_result"
    }
   ],
   "source": [
    "df.head()"
   ]
  },
  {
   "cell_type": "code",
   "execution_count": 10,
   "id": "3b3428ce",
   "metadata": {
    "execution": {
     "iopub.execute_input": "2025-01-26T09:05:54.412538Z",
     "iopub.status.busy": "2025-01-26T09:05:54.412144Z",
     "iopub.status.idle": "2025-01-26T09:05:54.421233Z",
     "shell.execute_reply": "2025-01-26T09:05:54.420113Z"
    },
    "papermill": {
     "duration": 0.024466,
     "end_time": "2025-01-26T09:05:54.422978",
     "exception": false,
     "start_time": "2025-01-26T09:05:54.398512",
     "status": "completed"
    },
    "tags": []
   },
   "outputs": [
    {
     "data": {
      "text/plain": [
       "array(['Go', 'Python', 'Rust', 'Ruby', 'Kotlin', 'Makefile',\n",
       "       'Jupyter Notebook', 'TypeScript', 'Svelte', 'C', 'Markdown', 'C++',\n",
       "       'C#', nan, 'Java', 'HTML', 'JavaScript', 'PHP', 'Shell', 'CSS',\n",
       "       'MDX', 'Swift', 'Dart', 'Vue', 'LLVM', 'PowerShell', 'Blade',\n",
       "       'Haskell', 'Zig', 'Lua', 'Elixir', 'PureScript', 'Scala', 'CMake',\n",
       "       'Clojure', 'Dockerfile'], dtype=object)"
      ]
     },
     "execution_count": 10,
     "metadata": {},
     "output_type": "execute_result"
    }
   ],
   "source": [
    "df['language'].unique()"
   ]
  },
  {
   "cell_type": "code",
   "execution_count": 11,
   "id": "b1b868e0",
   "metadata": {
    "execution": {
     "iopub.execute_input": "2025-01-26T09:05:54.449910Z",
     "iopub.status.busy": "2025-01-26T09:05:54.449563Z",
     "iopub.status.idle": "2025-01-26T09:05:54.459238Z",
     "shell.execute_reply": "2025-01-26T09:05:54.458379Z"
    },
    "papermill": {
     "duration": 0.025011,
     "end_time": "2025-01-26T09:05:54.460980",
     "exception": false,
     "start_time": "2025-01-26T09:05:54.435969",
     "status": "completed"
    },
    "tags": []
   },
   "outputs": [
    {
     "data": {
      "text/plain": [
       "437      Learn how to design large-scale systems. Prep ...\n",
       "438                                Stable Diffusion web UI\n",
       "439                   Free, open source crypto trading bot\n",
       "440              A recursive internet scanner for hackers.\n",
       "441      The official gpt4free repository | various col...\n",
       "                               ...                        \n",
       "12301    Qlib is an AI-oriented quantitative investment...\n",
       "12302    Free and Open Source Enterprise Resource Plann...\n",
       "12303       An open-sourced end-to-end VLM-based GUI Agent\n",
       "12304    Annotate better with CVAT, the industry-leadin...\n",
       "12305                                       No description\n",
       "Name: description, Length: 1667, dtype: object"
      ]
     },
     "execution_count": 11,
     "metadata": {},
     "output_type": "execute_result"
    }
   ],
   "source": [
    "df.loc[df['language'] == 'Python']['description']"
   ]
  },
  {
   "cell_type": "code",
   "execution_count": 12,
   "id": "01771a75",
   "metadata": {
    "execution": {
     "iopub.execute_input": "2025-01-26T09:05:54.488654Z",
     "iopub.status.busy": "2025-01-26T09:05:54.488229Z",
     "iopub.status.idle": "2025-01-26T09:05:54.495055Z",
     "shell.execute_reply": "2025-01-26T09:05:54.494125Z"
    },
    "papermill": {
     "duration": 0.022405,
     "end_time": "2025-01-26T09:05:54.496549",
     "exception": false,
     "start_time": "2025-01-26T09:05:54.474144",
     "status": "completed"
    },
    "tags": []
   },
   "outputs": [
    {
     "data": {
      "text/plain": [
       "74"
      ]
     },
     "execution_count": 12,
     "metadata": {},
     "output_type": "execute_result"
    }
   ],
   "source": [
    "df['language'].isna().sum()"
   ]
  },
  {
   "cell_type": "code",
   "execution_count": 13,
   "id": "f2a86445",
   "metadata": {
    "execution": {
     "iopub.execute_input": "2025-01-26T09:05:54.524173Z",
     "iopub.status.busy": "2025-01-26T09:05:54.523758Z",
     "iopub.status.idle": "2025-01-26T09:05:54.538046Z",
     "shell.execute_reply": "2025-01-26T09:05:54.537040Z"
    },
    "papermill": {
     "duration": 0.030053,
     "end_time": "2025-01-26T09:05:54.539881",
     "exception": false,
     "start_time": "2025-01-26T09:05:54.509828",
     "status": "completed"
    },
    "tags": []
   },
   "outputs": [
    {
     "data": {
      "text/html": [
       "<div>\n",
       "<style scoped>\n",
       "    .dataframe tbody tr th:only-of-type {\n",
       "        vertical-align: middle;\n",
       "    }\n",
       "\n",
       "    .dataframe tbody tr th {\n",
       "        vertical-align: top;\n",
       "    }\n",
       "\n",
       "    .dataframe thead th {\n",
       "        text-align: right;\n",
       "    }\n",
       "</style>\n",
       "<table border=\"1\" class=\"dataframe\">\n",
       "  <thead>\n",
       "    <tr style=\"text-align: right;\">\n",
       "      <th></th>\n",
       "      <th>org_name</th>\n",
       "      <th>repo_name</th>\n",
       "      <th>repo_url</th>\n",
       "      <th>description</th>\n",
       "      <th>language</th>\n",
       "      <th>star</th>\n",
       "      <th>forks</th>\n",
       "      <th>daily_star</th>\n",
       "      <th>date</th>\n",
       "      <th>trending_category</th>\n",
       "    </tr>\n",
       "  </thead>\n",
       "  <tbody>\n",
       "    <tr>\n",
       "      <th>0</th>\n",
       "      <td>terrastruct</td>\n",
       "      <td>d2</td>\n",
       "      <td>https://github.com/terrastruct/d2</td>\n",
       "      <td>D2 is a modern diagram scripting language that...</td>\n",
       "      <td>Go</td>\n",
       "      <td>17896.0</td>\n",
       "      <td>439.0</td>\n",
       "      <td>418</td>\n",
       "      <td>2024-11-17</td>\n",
       "      <td>go</td>\n",
       "    </tr>\n",
       "    <tr>\n",
       "      <th>1</th>\n",
       "      <td>tinygo-org</td>\n",
       "      <td>tinygo</td>\n",
       "      <td>https://github.com/tinygo-org/tinygo</td>\n",
       "      <td>Go compiler for small places. Microcontrollers...</td>\n",
       "      <td>Go</td>\n",
       "      <td>15463.0</td>\n",
       "      <td>912.0</td>\n",
       "      <td>6</td>\n",
       "      <td>2024-11-17</td>\n",
       "      <td>go</td>\n",
       "    </tr>\n",
       "    <tr>\n",
       "      <th>2</th>\n",
       "      <td>Melkeydev</td>\n",
       "      <td>go-blueprint</td>\n",
       "      <td>https://github.com/Melkeydev/go-blueprint</td>\n",
       "      <td>Go-blueprint allows users to spin up a quick G...</td>\n",
       "      <td>Go</td>\n",
       "      <td>4608.0</td>\n",
       "      <td>276.0</td>\n",
       "      <td>9</td>\n",
       "      <td>2024-11-17</td>\n",
       "      <td>go</td>\n",
       "    </tr>\n",
       "    <tr>\n",
       "      <th>3</th>\n",
       "      <td>jeessy2</td>\n",
       "      <td>ddns-go</td>\n",
       "      <td>https://github.com/jeessy2/ddns-go</td>\n",
       "      <td>Simple and easy to use DDNS. Support Aliyun, T...</td>\n",
       "      <td>Go</td>\n",
       "      <td>12117.0</td>\n",
       "      <td>1398.0</td>\n",
       "      <td>25</td>\n",
       "      <td>2024-11-17</td>\n",
       "      <td>go</td>\n",
       "    </tr>\n",
       "    <tr>\n",
       "      <th>4</th>\n",
       "      <td>JanDeDobbeleer</td>\n",
       "      <td>oh-my-posh</td>\n",
       "      <td>https://github.com/JanDeDobbeleer/oh-my-posh</td>\n",
       "      <td>The most customisable and low-latency cross pl...</td>\n",
       "      <td>Go</td>\n",
       "      <td>17450.0</td>\n",
       "      <td>2390.0</td>\n",
       "      <td>16</td>\n",
       "      <td>2024-11-17</td>\n",
       "      <td>go</td>\n",
       "    </tr>\n",
       "  </tbody>\n",
       "</table>\n",
       "</div>"
      ],
      "text/plain": [
       "         org_name     repo_name                                      repo_url  \\\n",
       "0     terrastruct            d2             https://github.com/terrastruct/d2   \n",
       "1      tinygo-org        tinygo          https://github.com/tinygo-org/tinygo   \n",
       "2       Melkeydev  go-blueprint     https://github.com/Melkeydev/go-blueprint   \n",
       "3         jeessy2       ddns-go            https://github.com/jeessy2/ddns-go   \n",
       "4  JanDeDobbeleer    oh-my-posh  https://github.com/JanDeDobbeleer/oh-my-posh   \n",
       "\n",
       "                                         description language     star  \\\n",
       "0  D2 is a modern diagram scripting language that...       Go  17896.0   \n",
       "1  Go compiler for small places. Microcontrollers...       Go  15463.0   \n",
       "2  Go-blueprint allows users to spin up a quick G...       Go   4608.0   \n",
       "3  Simple and easy to use DDNS. Support Aliyun, T...       Go  12117.0   \n",
       "4  The most customisable and low-latency cross pl...       Go  17450.0   \n",
       "\n",
       "    forks  daily_star        date trending_category  \n",
       "0   439.0         418  2024-11-17                go  \n",
       "1   912.0           6  2024-11-17                go  \n",
       "2   276.0           9  2024-11-17                go  \n",
       "3  1398.0          25  2024-11-17                go  \n",
       "4  2390.0          16  2024-11-17                go  "
      ]
     },
     "execution_count": 13,
     "metadata": {},
     "output_type": "execute_result"
    }
   ],
   "source": [
    "duplicate_df = df.copy()\n",
    "duplicate_df.head()"
   ]
  },
  {
   "cell_type": "code",
   "execution_count": 14,
   "id": "c75e49ed",
   "metadata": {
    "execution": {
     "iopub.execute_input": "2025-01-26T09:05:54.568109Z",
     "iopub.status.busy": "2025-01-26T09:05:54.567757Z",
     "iopub.status.idle": "2025-01-26T09:05:54.580455Z",
     "shell.execute_reply": "2025-01-26T09:05:54.579250Z"
    },
    "papermill": {
     "duration": 0.028781,
     "end_time": "2025-01-26T09:05:54.582169",
     "exception": false,
     "start_time": "2025-01-26T09:05:54.553388",
     "status": "completed"
    },
    "tags": []
   },
   "outputs": [
    {
     "data": {
      "text/plain": [
       "org_name               0\n",
       "repo_name              0\n",
       "repo_url               0\n",
       "description            0\n",
       "language              74\n",
       "star                 156\n",
       "forks                156\n",
       "daily_star             0\n",
       "date                   0\n",
       "trending_category      0\n",
       "dtype: int64"
      ]
     },
     "execution_count": 14,
     "metadata": {},
     "output_type": "execute_result"
    }
   ],
   "source": [
    "duplicate_df.isna().sum()"
   ]
  },
  {
   "cell_type": "markdown",
   "id": "093b412d",
   "metadata": {
    "papermill": {
     "duration": 0.012933,
     "end_time": "2025-01-26T09:05:54.608700",
     "exception": false,
     "start_time": "2025-01-26T09:05:54.595767",
     "status": "completed"
    },
    "tags": []
   },
   "source": [
    "### Fill NAN values "
   ]
  },
  {
   "cell_type": "code",
   "execution_count": 15,
   "id": "446ca202",
   "metadata": {
    "execution": {
     "iopub.execute_input": "2025-01-26T09:05:54.636349Z",
     "iopub.status.busy": "2025-01-26T09:05:54.635944Z",
     "iopub.status.idle": "2025-01-26T09:05:54.644644Z",
     "shell.execute_reply": "2025-01-26T09:05:54.643770Z"
    },
    "papermill": {
     "duration": 0.024443,
     "end_time": "2025-01-26T09:05:54.646315",
     "exception": false,
     "start_time": "2025-01-26T09:05:54.621872",
     "status": "completed"
    },
    "tags": []
   },
   "outputs": [],
   "source": [
    "fill_values = {'language':'unavailable language', 'star': df['star'].mean(), 'forks': df['forks'].mean()}\n",
    "duplicate_df.fillna(fill_values, inplace=True)"
   ]
  },
  {
   "cell_type": "code",
   "execution_count": 16,
   "id": "fe0ec28d",
   "metadata": {
    "execution": {
     "iopub.execute_input": "2025-01-26T09:05:54.674129Z",
     "iopub.status.busy": "2025-01-26T09:05:54.673709Z",
     "iopub.status.idle": "2025-01-26T09:05:54.681014Z",
     "shell.execute_reply": "2025-01-26T09:05:54.679988Z"
    },
    "papermill": {
     "duration": 0.022863,
     "end_time": "2025-01-26T09:05:54.682690",
     "exception": false,
     "start_time": "2025-01-26T09:05:54.659827",
     "status": "completed"
    },
    "tags": []
   },
   "outputs": [
    {
     "data": {
      "text/plain": [
       "0        2024-11-17\n",
       "1        2024-11-17\n",
       "2        2024-11-17\n",
       "3        2024-11-17\n",
       "4        2024-11-17\n",
       "            ...    \n",
       "12427    2025-01-25\n",
       "12428    2025-01-25\n",
       "12429    2025-01-25\n",
       "12430    2025-01-25\n",
       "12431    2025-01-25\n",
       "Name: date, Length: 12432, dtype: object"
      ]
     },
     "execution_count": 16,
     "metadata": {},
     "output_type": "execute_result"
    }
   ],
   "source": [
    "duplicate_df['date']"
   ]
  },
  {
   "cell_type": "markdown",
   "id": "40b7e934",
   "metadata": {
    "papermill": {
     "duration": 0.013123,
     "end_time": "2025-01-26T09:05:54.710059",
     "exception": false,
     "start_time": "2025-01-26T09:05:54.696936",
     "status": "completed"
    },
    "tags": []
   },
   "source": [
    "### Convert Date column object to date_format using pd.to_datetime()"
   ]
  },
  {
   "cell_type": "code",
   "execution_count": 17,
   "id": "7eddaf05",
   "metadata": {
    "execution": {
     "iopub.execute_input": "2025-01-26T09:05:54.738255Z",
     "iopub.status.busy": "2025-01-26T09:05:54.737819Z",
     "iopub.status.idle": "2025-01-26T09:05:54.748266Z",
     "shell.execute_reply": "2025-01-26T09:05:54.747180Z"
    },
    "papermill": {
     "duration": 0.026482,
     "end_time": "2025-01-26T09:05:54.750070",
     "exception": false,
     "start_time": "2025-01-26T09:05:54.723588",
     "status": "completed"
    },
    "tags": []
   },
   "outputs": [],
   "source": [
    "duplicate_df['date'] = pd.to_datetime(duplicate_df['date'], errors='coerce')\n"
   ]
  },
  {
   "cell_type": "code",
   "execution_count": 18,
   "id": "fdf86ac2",
   "metadata": {
    "execution": {
     "iopub.execute_input": "2025-01-26T09:05:54.781184Z",
     "iopub.status.busy": "2025-01-26T09:05:54.780790Z",
     "iopub.status.idle": "2025-01-26T09:05:54.793623Z",
     "shell.execute_reply": "2025-01-26T09:05:54.792492Z"
    },
    "papermill": {
     "duration": 0.030884,
     "end_time": "2025-01-26T09:05:54.795465",
     "exception": false,
     "start_time": "2025-01-26T09:05:54.764581",
     "status": "completed"
    },
    "tags": []
   },
   "outputs": [
    {
     "data": {
      "text/plain": [
       "org_name             0\n",
       "repo_name            0\n",
       "repo_url             0\n",
       "description          0\n",
       "language             0\n",
       "star                 0\n",
       "forks                0\n",
       "daily_star           0\n",
       "date                 0\n",
       "trending_category    0\n",
       "dtype: int64"
      ]
     },
     "execution_count": 18,
     "metadata": {},
     "output_type": "execute_result"
    }
   ],
   "source": [
    "duplicate_df.isna().sum()"
   ]
  },
  {
   "cell_type": "code",
   "execution_count": 19,
   "id": "3d6d5861",
   "metadata": {
    "execution": {
     "iopub.execute_input": "2025-01-26T09:05:54.824731Z",
     "iopub.status.busy": "2025-01-26T09:05:54.824363Z",
     "iopub.status.idle": "2025-01-26T09:05:54.838172Z",
     "shell.execute_reply": "2025-01-26T09:05:54.837143Z"
    },
    "papermill": {
     "duration": 0.030621,
     "end_time": "2025-01-26T09:05:54.839750",
     "exception": false,
     "start_time": "2025-01-26T09:05:54.809129",
     "status": "completed"
    },
    "tags": []
   },
   "outputs": [
    {
     "data": {
      "text/html": [
       "<div>\n",
       "<style scoped>\n",
       "    .dataframe tbody tr th:only-of-type {\n",
       "        vertical-align: middle;\n",
       "    }\n",
       "\n",
       "    .dataframe tbody tr th {\n",
       "        vertical-align: top;\n",
       "    }\n",
       "\n",
       "    .dataframe thead th {\n",
       "        text-align: right;\n",
       "    }\n",
       "</style>\n",
       "<table border=\"1\" class=\"dataframe\">\n",
       "  <thead>\n",
       "    <tr style=\"text-align: right;\">\n",
       "      <th></th>\n",
       "      <th>org_name</th>\n",
       "      <th>repo_name</th>\n",
       "      <th>repo_url</th>\n",
       "      <th>description</th>\n",
       "      <th>language</th>\n",
       "      <th>star</th>\n",
       "      <th>forks</th>\n",
       "      <th>daily_star</th>\n",
       "      <th>date</th>\n",
       "      <th>trending_category</th>\n",
       "    </tr>\n",
       "  </thead>\n",
       "  <tbody>\n",
       "    <tr>\n",
       "      <th>0</th>\n",
       "      <td>terrastruct</td>\n",
       "      <td>d2</td>\n",
       "      <td>https://github.com/terrastruct/d2</td>\n",
       "      <td>D2 is a modern diagram scripting language that...</td>\n",
       "      <td>Go</td>\n",
       "      <td>17896.0</td>\n",
       "      <td>439.0</td>\n",
       "      <td>418</td>\n",
       "      <td>2024-11-17</td>\n",
       "      <td>go</td>\n",
       "    </tr>\n",
       "    <tr>\n",
       "      <th>1</th>\n",
       "      <td>tinygo-org</td>\n",
       "      <td>tinygo</td>\n",
       "      <td>https://github.com/tinygo-org/tinygo</td>\n",
       "      <td>Go compiler for small places. Microcontrollers...</td>\n",
       "      <td>Go</td>\n",
       "      <td>15463.0</td>\n",
       "      <td>912.0</td>\n",
       "      <td>6</td>\n",
       "      <td>2024-11-17</td>\n",
       "      <td>go</td>\n",
       "    </tr>\n",
       "    <tr>\n",
       "      <th>2</th>\n",
       "      <td>Melkeydev</td>\n",
       "      <td>go-blueprint</td>\n",
       "      <td>https://github.com/Melkeydev/go-blueprint</td>\n",
       "      <td>Go-blueprint allows users to spin up a quick G...</td>\n",
       "      <td>Go</td>\n",
       "      <td>4608.0</td>\n",
       "      <td>276.0</td>\n",
       "      <td>9</td>\n",
       "      <td>2024-11-17</td>\n",
       "      <td>go</td>\n",
       "    </tr>\n",
       "    <tr>\n",
       "      <th>3</th>\n",
       "      <td>jeessy2</td>\n",
       "      <td>ddns-go</td>\n",
       "      <td>https://github.com/jeessy2/ddns-go</td>\n",
       "      <td>Simple and easy to use DDNS. Support Aliyun, T...</td>\n",
       "      <td>Go</td>\n",
       "      <td>12117.0</td>\n",
       "      <td>1398.0</td>\n",
       "      <td>25</td>\n",
       "      <td>2024-11-17</td>\n",
       "      <td>go</td>\n",
       "    </tr>\n",
       "    <tr>\n",
       "      <th>4</th>\n",
       "      <td>JanDeDobbeleer</td>\n",
       "      <td>oh-my-posh</td>\n",
       "      <td>https://github.com/JanDeDobbeleer/oh-my-posh</td>\n",
       "      <td>The most customisable and low-latency cross pl...</td>\n",
       "      <td>Go</td>\n",
       "      <td>17450.0</td>\n",
       "      <td>2390.0</td>\n",
       "      <td>16</td>\n",
       "      <td>2024-11-17</td>\n",
       "      <td>go</td>\n",
       "    </tr>\n",
       "  </tbody>\n",
       "</table>\n",
       "</div>"
      ],
      "text/plain": [
       "         org_name     repo_name                                      repo_url  \\\n",
       "0     terrastruct            d2             https://github.com/terrastruct/d2   \n",
       "1      tinygo-org        tinygo          https://github.com/tinygo-org/tinygo   \n",
       "2       Melkeydev  go-blueprint     https://github.com/Melkeydev/go-blueprint   \n",
       "3         jeessy2       ddns-go            https://github.com/jeessy2/ddns-go   \n",
       "4  JanDeDobbeleer    oh-my-posh  https://github.com/JanDeDobbeleer/oh-my-posh   \n",
       "\n",
       "                                         description language     star  \\\n",
       "0  D2 is a modern diagram scripting language that...       Go  17896.0   \n",
       "1  Go compiler for small places. Microcontrollers...       Go  15463.0   \n",
       "2  Go-blueprint allows users to spin up a quick G...       Go   4608.0   \n",
       "3  Simple and easy to use DDNS. Support Aliyun, T...       Go  12117.0   \n",
       "4  The most customisable and low-latency cross pl...       Go  17450.0   \n",
       "\n",
       "    forks  daily_star       date trending_category  \n",
       "0   439.0         418 2024-11-17                go  \n",
       "1   912.0           6 2024-11-17                go  \n",
       "2   276.0           9 2024-11-17                go  \n",
       "3  1398.0          25 2024-11-17                go  \n",
       "4  2390.0          16 2024-11-17                go  "
      ]
     },
     "execution_count": 19,
     "metadata": {},
     "output_type": "execute_result"
    }
   ],
   "source": [
    "duplicate_df.head()"
   ]
  },
  {
   "cell_type": "code",
   "execution_count": 20,
   "id": "7769745a",
   "metadata": {
    "execution": {
     "iopub.execute_input": "2025-01-26T09:05:54.868907Z",
     "iopub.status.busy": "2025-01-26T09:05:54.868529Z",
     "iopub.status.idle": "2025-01-26T09:05:55.250747Z",
     "shell.execute_reply": "2025-01-26T09:05:55.249794Z"
    },
    "papermill": {
     "duration": 0.398849,
     "end_time": "2025-01-26T09:05:55.252465",
     "exception": false,
     "start_time": "2025-01-26T09:05:54.853616",
     "status": "completed"
    },
    "tags": []
   },
   "outputs": [
    {
     "data": {
      "text/plain": [
       "<Axes: >"
      ]
     },
     "execution_count": 20,
     "metadata": {},
     "output_type": "execute_result"
    },
    {
     "data": {
      "image/png": "[encoded data removed]",
      "text/plain": [
       "<Figure size 640x480 with 1 Axes>"
      ]
     },
     "metadata": {},
     "output_type": "display_data"
    }
   ],
   "source": [
    "sns.heatmap(data=duplicate_df.isna(), cbar=False, yticklabels=False)"
   ]
  },
  {
   "cell_type": "code",
   "execution_count": 21,
   "id": "91e23e3a",
   "metadata": {
    "execution": {
     "iopub.execute_input": "2025-01-26T09:05:55.282213Z",
     "iopub.status.busy": "2025-01-26T09:05:55.281768Z",
     "iopub.status.idle": "2025-01-26T09:05:55.577689Z",
     "shell.execute_reply": "2025-01-26T09:05:55.576568Z"
    },
    "papermill": {
     "duration": 0.312654,
     "end_time": "2025-01-26T09:05:55.579521",
     "exception": false,
     "start_time": "2025-01-26T09:05:55.266867",
     "status": "completed"
    },
    "tags": []
   },
   "outputs": [
    {
     "data": {
      "text/plain": [
       "<Axes: title={'center': 'Trending Category Language'}, xlabel='count', ylabel='trending_category'>"
      ]
     },
     "execution_count": 21,
     "metadata": {},
     "output_type": "execute_result"
    },
    {
     "data": {
      "image/png": "[encoded data removed]",
      "text/plain": [
       "<Figure size 640x480 with 1 Axes>"
      ]
     },
     "metadata": {},
     "output_type": "display_data"
    }
   ],
   "source": [
    "plt.title('Trending Category Language')\n",
    "sns.countplot(y='trending_category', data=duplicate_df)"
   ]
  },
  {
   "cell_type": "code",
   "execution_count": 22,
   "id": "3d81f005",
   "metadata": {
    "execution": {
     "iopub.execute_input": "2025-01-26T09:05:55.611020Z",
     "iopub.status.busy": "2025-01-26T09:05:55.610687Z",
     "iopub.status.idle": "2025-01-26T09:05:55.630405Z",
     "shell.execute_reply": "2025-01-26T09:05:55.629374Z"
    },
    "papermill": {
     "duration": 0.037429,
     "end_time": "2025-01-26T09:05:55.632115",
     "exception": false,
     "start_time": "2025-01-26T09:05:55.594686",
     "status": "completed"
    },
    "tags": []
   },
   "outputs": [
    {
     "data": {
      "text/html": [
       "<div>\n",
       "<style scoped>\n",
       "    .dataframe tbody tr th:only-of-type {\n",
       "        vertical-align: middle;\n",
       "    }\n",
       "\n",
       "    .dataframe tbody tr th {\n",
       "        vertical-align: top;\n",
       "    }\n",
       "\n",
       "    .dataframe thead th {\n",
       "        text-align: right;\n",
       "    }\n",
       "</style>\n",
       "<table border=\"1\" class=\"dataframe\">\n",
       "  <thead>\n",
       "    <tr style=\"text-align: right;\">\n",
       "      <th></th>\n",
       "      <th>org_name</th>\n",
       "      <th>repo_name</th>\n",
       "      <th>repo_url</th>\n",
       "      <th>description</th>\n",
       "      <th>language</th>\n",
       "      <th>star</th>\n",
       "      <th>forks</th>\n",
       "      <th>daily_star</th>\n",
       "      <th>date</th>\n",
       "      <th>trending_category</th>\n",
       "    </tr>\n",
       "  </thead>\n",
       "  <tbody>\n",
       "    <tr>\n",
       "      <th>437</th>\n",
       "      <td>donnemartin</td>\n",
       "      <td>system-design-primer</td>\n",
       "      <td>https://github.com/donnemartin/system-design-p...</td>\n",
       "      <td>Learn how to design large-scale systems. Prep ...</td>\n",
       "      <td>Python</td>\n",
       "      <td>276079.0</td>\n",
       "      <td>46342.0</td>\n",
       "      <td>211</td>\n",
       "      <td>2024-11-17</td>\n",
       "      <td>python</td>\n",
       "    </tr>\n",
       "    <tr>\n",
       "      <th>438</th>\n",
       "      <td>AUTOMATIC1111</td>\n",
       "      <td>stable-diffusion-webui</td>\n",
       "      <td>https://github.com/AUTOMATIC1111/stable-diffus...</td>\n",
       "      <td>Stable Diffusion web UI</td>\n",
       "      <td>Python</td>\n",
       "      <td>142992.0</td>\n",
       "      <td>26951.0</td>\n",
       "      <td>63</td>\n",
       "      <td>2024-11-17</td>\n",
       "      <td>python</td>\n",
       "    </tr>\n",
       "    <tr>\n",
       "      <th>439</th>\n",
       "      <td>freqtrade</td>\n",
       "      <td>freqtrade</td>\n",
       "      <td>https://github.com/freqtrade/freqtrade</td>\n",
       "      <td>Free, open source crypto trading bot</td>\n",
       "      <td>Python</td>\n",
       "      <td>29089.0</td>\n",
       "      <td>6208.0</td>\n",
       "      <td>24</td>\n",
       "      <td>2024-11-17</td>\n",
       "      <td>python</td>\n",
       "    </tr>\n",
       "    <tr>\n",
       "      <th>440</th>\n",
       "      <td>blacklanternsecurity</td>\n",
       "      <td>bbot</td>\n",
       "      <td>https://github.com/blacklanternsecurity/bbot</td>\n",
       "      <td>A recursive internet scanner for hackers.</td>\n",
       "      <td>Python</td>\n",
       "      <td>5680.0</td>\n",
       "      <td>464.0</td>\n",
       "      <td>209</td>\n",
       "      <td>2024-11-17</td>\n",
       "      <td>python</td>\n",
       "    </tr>\n",
       "    <tr>\n",
       "      <th>441</th>\n",
       "      <td>xtekky</td>\n",
       "      <td>gpt4free</td>\n",
       "      <td>https://github.com/xtekky/gpt4free</td>\n",
       "      <td>The official gpt4free repository | various col...</td>\n",
       "      <td>Python</td>\n",
       "      <td>61291.0</td>\n",
       "      <td>13327.0</td>\n",
       "      <td>18</td>\n",
       "      <td>2024-11-17</td>\n",
       "      <td>python</td>\n",
       "    </tr>\n",
       "    <tr>\n",
       "      <th>...</th>\n",
       "      <td>...</td>\n",
       "      <td>...</td>\n",
       "      <td>...</td>\n",
       "      <td>...</td>\n",
       "      <td>...</td>\n",
       "      <td>...</td>\n",
       "      <td>...</td>\n",
       "      <td>...</td>\n",
       "      <td>...</td>\n",
       "      <td>...</td>\n",
       "    </tr>\n",
       "    <tr>\n",
       "      <th>12301</th>\n",
       "      <td>microsoft</td>\n",
       "      <td>qlib</td>\n",
       "      <td>https://github.com/microsoft/qlib</td>\n",
       "      <td>Qlib is an AI-oriented quantitative investment...</td>\n",
       "      <td>Python</td>\n",
       "      <td>16157.0</td>\n",
       "      <td>2746.0</td>\n",
       "      <td>63</td>\n",
       "      <td>2025-01-25</td>\n",
       "      <td>python</td>\n",
       "    </tr>\n",
       "    <tr>\n",
       "      <th>12302</th>\n",
       "      <td>frappe</td>\n",
       "      <td>erpnext</td>\n",
       "      <td>https://github.com/frappe/erpnext</td>\n",
       "      <td>Free and Open Source Enterprise Resource Plann...</td>\n",
       "      <td>Python</td>\n",
       "      <td>23011.0</td>\n",
       "      <td>7634.0</td>\n",
       "      <td>155</td>\n",
       "      <td>2025-01-25</td>\n",
       "      <td>python</td>\n",
       "    </tr>\n",
       "    <tr>\n",
       "      <th>12303</th>\n",
       "      <td>THUDM</td>\n",
       "      <td>CogAgent</td>\n",
       "      <td>https://github.com/THUDM/CogAgent</td>\n",
       "      <td>An open-sourced end-to-end VLM-based GUI Agent</td>\n",
       "      <td>Python</td>\n",
       "      <td>616.0</td>\n",
       "      <td>43.0</td>\n",
       "      <td>10</td>\n",
       "      <td>2025-01-25</td>\n",
       "      <td>python</td>\n",
       "    </tr>\n",
       "    <tr>\n",
       "      <th>12304</th>\n",
       "      <td>cvat-ai</td>\n",
       "      <td>cvat</td>\n",
       "      <td>https://github.com/cvat-ai/cvat</td>\n",
       "      <td>Annotate better with CVAT, the industry-leadin...</td>\n",
       "      <td>Python</td>\n",
       "      <td>13057.0</td>\n",
       "      <td>3101.0</td>\n",
       "      <td>10</td>\n",
       "      <td>2025-01-25</td>\n",
       "      <td>python</td>\n",
       "    </tr>\n",
       "    <tr>\n",
       "      <th>12305</th>\n",
       "      <td>kyutai-labs</td>\n",
       "      <td>moshi</td>\n",
       "      <td>https://github.com/kyutai-labs/moshi</td>\n",
       "      <td>No description</td>\n",
       "      <td>Python</td>\n",
       "      <td>7246.0</td>\n",
       "      <td>570.0</td>\n",
       "      <td>27</td>\n",
       "      <td>2025-01-25</td>\n",
       "      <td>python</td>\n",
       "    </tr>\n",
       "  </tbody>\n",
       "</table>\n",
       "<p>1265 rows × 10 columns</p>\n",
       "</div>"
      ],
      "text/plain": [
       "                   org_name               repo_name  \\\n",
       "437             donnemartin    system-design-primer   \n",
       "438           AUTOMATIC1111  stable-diffusion-webui   \n",
       "439               freqtrade               freqtrade   \n",
       "440    blacklanternsecurity                    bbot   \n",
       "441                  xtekky                gpt4free   \n",
       "...                     ...                     ...   \n",
       "12301             microsoft                    qlib   \n",
       "12302                frappe                 erpnext   \n",
       "12303                 THUDM                CogAgent   \n",
       "12304               cvat-ai                    cvat   \n",
       "12305           kyutai-labs                   moshi   \n",
       "\n",
       "                                                repo_url  \\\n",
       "437    https://github.com/donnemartin/system-design-p...   \n",
       "438    https://github.com/AUTOMATIC1111/stable-diffus...   \n",
       "439               https://github.com/freqtrade/freqtrade   \n",
       "440         https://github.com/blacklanternsecurity/bbot   \n",
       "441                   https://github.com/xtekky/gpt4free   \n",
       "...                                                  ...   \n",
       "12301                  https://github.com/microsoft/qlib   \n",
       "12302                  https://github.com/frappe/erpnext   \n",
       "12303                  https://github.com/THUDM/CogAgent   \n",
       "12304                    https://github.com/cvat-ai/cvat   \n",
       "12305               https://github.com/kyutai-labs/moshi   \n",
       "\n",
       "                                             description language      star  \\\n",
       "437    Learn how to design large-scale systems. Prep ...   Python  276079.0   \n",
       "438                              Stable Diffusion web UI   Python  142992.0   \n",
       "439                 Free, open source crypto trading bot   Python   29089.0   \n",
       "440            A recursive internet scanner for hackers.   Python    5680.0   \n",
       "441    The official gpt4free repository | various col...   Python   61291.0   \n",
       "...                                                  ...      ...       ...   \n",
       "12301  Qlib is an AI-oriented quantitative investment...   Python   16157.0   \n",
       "12302  Free and Open Source Enterprise Resource Plann...   Python   23011.0   \n",
       "12303     An open-sourced end-to-end VLM-based GUI Agent   Python     616.0   \n",
       "12304  Annotate better with CVAT, the industry-leadin...   Python   13057.0   \n",
       "12305                                     No description   Python    7246.0   \n",
       "\n",
       "         forks  daily_star       date trending_category  \n",
       "437    46342.0         211 2024-11-17            python  \n",
       "438    26951.0          63 2024-11-17            python  \n",
       "439     6208.0          24 2024-11-17            python  \n",
       "440      464.0         209 2024-11-17            python  \n",
       "441    13327.0          18 2024-11-17            python  \n",
       "...        ...         ...        ...               ...  \n",
       "12301   2746.0          63 2025-01-25            python  \n",
       "12302   7634.0         155 2025-01-25            python  \n",
       "12303     43.0          10 2025-01-25            python  \n",
       "12304   3101.0          10 2025-01-25            python  \n",
       "12305    570.0          27 2025-01-25            python  \n",
       "\n",
       "[1265 rows x 10 columns]"
      ]
     },
     "execution_count": 22,
     "metadata": {},
     "output_type": "execute_result"
    }
   ],
   "source": [
    "duplicate_df[duplicate_df['trending_category'] == 'python']"
   ]
  },
  {
   "cell_type": "code",
   "execution_count": 23,
   "id": "9b3cc77e",
   "metadata": {
    "execution": {
     "iopub.execute_input": "2025-01-26T09:05:55.664685Z",
     "iopub.status.busy": "2025-01-26T09:05:55.664347Z",
     "iopub.status.idle": "2025-01-26T09:05:55.678174Z",
     "shell.execute_reply": "2025-01-26T09:05:55.677119Z"
    },
    "papermill": {
     "duration": 0.031874,
     "end_time": "2025-01-26T09:05:55.679981",
     "exception": false,
     "start_time": "2025-01-26T09:05:55.648107",
     "status": "completed"
    },
    "tags": []
   },
   "outputs": [
    {
     "data": {
      "text/html": [
       "<div>\n",
       "<style scoped>\n",
       "    .dataframe tbody tr th:only-of-type {\n",
       "        vertical-align: middle;\n",
       "    }\n",
       "\n",
       "    .dataframe tbody tr th {\n",
       "        vertical-align: top;\n",
       "    }\n",
       "\n",
       "    .dataframe thead th {\n",
       "        text-align: right;\n",
       "    }\n",
       "</style>\n",
       "<table border=\"1\" class=\"dataframe\">\n",
       "  <thead>\n",
       "    <tr style=\"text-align: right;\">\n",
       "      <th></th>\n",
       "      <th>org_name</th>\n",
       "      <th>repo_name</th>\n",
       "      <th>repo_url</th>\n",
       "      <th>description</th>\n",
       "      <th>language</th>\n",
       "      <th>star</th>\n",
       "      <th>forks</th>\n",
       "      <th>daily_star</th>\n",
       "      <th>date</th>\n",
       "      <th>trending_category</th>\n",
       "    </tr>\n",
       "  </thead>\n",
       "  <tbody>\n",
       "    <tr>\n",
       "      <th>0</th>\n",
       "      <td>terrastruct</td>\n",
       "      <td>d2</td>\n",
       "      <td>https://github.com/terrastruct/d2</td>\n",
       "      <td>D2 is a modern diagram scripting language that...</td>\n",
       "      <td>Go</td>\n",
       "      <td>17896.0</td>\n",
       "      <td>439.0</td>\n",
       "      <td>418</td>\n",
       "      <td>2024-11-17</td>\n",
       "      <td>go</td>\n",
       "    </tr>\n",
       "    <tr>\n",
       "      <th>1</th>\n",
       "      <td>tinygo-org</td>\n",
       "      <td>tinygo</td>\n",
       "      <td>https://github.com/tinygo-org/tinygo</td>\n",
       "      <td>Go compiler for small places. Microcontrollers...</td>\n",
       "      <td>Go</td>\n",
       "      <td>15463.0</td>\n",
       "      <td>912.0</td>\n",
       "      <td>6</td>\n",
       "      <td>2024-11-17</td>\n",
       "      <td>go</td>\n",
       "    </tr>\n",
       "    <tr>\n",
       "      <th>2</th>\n",
       "      <td>Melkeydev</td>\n",
       "      <td>go-blueprint</td>\n",
       "      <td>https://github.com/Melkeydev/go-blueprint</td>\n",
       "      <td>Go-blueprint allows users to spin up a quick G...</td>\n",
       "      <td>Go</td>\n",
       "      <td>4608.0</td>\n",
       "      <td>276.0</td>\n",
       "      <td>9</td>\n",
       "      <td>2024-11-17</td>\n",
       "      <td>go</td>\n",
       "    </tr>\n",
       "    <tr>\n",
       "      <th>3</th>\n",
       "      <td>jeessy2</td>\n",
       "      <td>ddns-go</td>\n",
       "      <td>https://github.com/jeessy2/ddns-go</td>\n",
       "      <td>Simple and easy to use DDNS. Support Aliyun, T...</td>\n",
       "      <td>Go</td>\n",
       "      <td>12117.0</td>\n",
       "      <td>1398.0</td>\n",
       "      <td>25</td>\n",
       "      <td>2024-11-17</td>\n",
       "      <td>go</td>\n",
       "    </tr>\n",
       "    <tr>\n",
       "      <th>4</th>\n",
       "      <td>JanDeDobbeleer</td>\n",
       "      <td>oh-my-posh</td>\n",
       "      <td>https://github.com/JanDeDobbeleer/oh-my-posh</td>\n",
       "      <td>The most customisable and low-latency cross pl...</td>\n",
       "      <td>Go</td>\n",
       "      <td>17450.0</td>\n",
       "      <td>2390.0</td>\n",
       "      <td>16</td>\n",
       "      <td>2024-11-17</td>\n",
       "      <td>go</td>\n",
       "    </tr>\n",
       "  </tbody>\n",
       "</table>\n",
       "</div>"
      ],
      "text/plain": [
       "         org_name     repo_name                                      repo_url  \\\n",
       "0     terrastruct            d2             https://github.com/terrastruct/d2   \n",
       "1      tinygo-org        tinygo          https://github.com/tinygo-org/tinygo   \n",
       "2       Melkeydev  go-blueprint     https://github.com/Melkeydev/go-blueprint   \n",
       "3         jeessy2       ddns-go            https://github.com/jeessy2/ddns-go   \n",
       "4  JanDeDobbeleer    oh-my-posh  https://github.com/JanDeDobbeleer/oh-my-posh   \n",
       "\n",
       "                                         description language     star  \\\n",
       "0  D2 is a modern diagram scripting language that...       Go  17896.0   \n",
       "1  Go compiler for small places. Microcontrollers...       Go  15463.0   \n",
       "2  Go-blueprint allows users to spin up a quick G...       Go   4608.0   \n",
       "3  Simple and easy to use DDNS. Support Aliyun, T...       Go  12117.0   \n",
       "4  The most customisable and low-latency cross pl...       Go  17450.0   \n",
       "\n",
       "    forks  daily_star       date trending_category  \n",
       "0   439.0         418 2024-11-17                go  \n",
       "1   912.0           6 2024-11-17                go  \n",
       "2   276.0           9 2024-11-17                go  \n",
       "3  1398.0          25 2024-11-17                go  \n",
       "4  2390.0          16 2024-11-17                go  "
      ]
     },
     "execution_count": 23,
     "metadata": {},
     "output_type": "execute_result"
    }
   ],
   "source": [
    "duplicate_df.head()"
   ]
  },
  {
   "cell_type": "code",
   "execution_count": 24,
   "id": "d38f6595",
   "metadata": {
    "execution": {
     "iopub.execute_input": "2025-01-26T09:05:55.712147Z",
     "iopub.status.busy": "2025-01-26T09:05:55.711746Z",
     "iopub.status.idle": "2025-01-26T09:06:02.565421Z",
     "shell.execute_reply": "2025-01-26T09:06:02.564362Z"
    },
    "papermill": {
     "duration": 6.872457,
     "end_time": "2025-01-26T09:06:02.567953",
     "exception": false,
     "start_time": "2025-01-26T09:05:55.695496",
     "status": "completed"
    },
    "tags": []
   },
   "outputs": [
    {
     "name": "stderr",
     "output_type": "stream",
     "text": [
      "/usr/local/lib/python3.10/dist-packages/seaborn/_oldcore.py:1119: FutureWarning: use_inf_as_na option is deprecated and will be removed in a future version. Convert inf values to NaN before operating instead.\n",
      "  with pd.option_context('mode.use_inf_as_na', True):\n",
      "/usr/local/lib/python3.10/dist-packages/seaborn/_oldcore.py:1119: FutureWarning: use_inf_as_na option is deprecated and will be removed in a future version. Convert inf values to NaN before operating instead.\n",
      "  with pd.option_context('mode.use_inf_as_na', True):\n",
      "/usr/local/lib/python3.10/dist-packages/seaborn/_oldcore.py:1119: FutureWarning: use_inf_as_na option is deprecated and will be removed in a future version. Convert inf values to NaN before operating instead.\n",
      "  with pd.option_context('mode.use_inf_as_na', True):\n"
     ]
    },
    {
     "data": {
      "text/plain": [
       "<seaborn.axisgrid.PairGrid at 0x7900dce7e860>"
      ]
     },
     "execution_count": 24,
     "metadata": {},
     "output_type": "execute_result"
    },
    {
     "data": {
      "image/png": "[encoded data removed]",
      "text/plain": [
       "<Figure size 750x750 with 12 Axes>"
      ]
     },
     "metadata": {},
     "output_type": "display_data"
    }
   ],
   "source": [
    "sns.pairplot(data=duplicate_df)"
   ]
  },
  {
   "cell_type": "code",
   "execution_count": 25,
   "id": "e95be83f",
   "metadata": {
    "execution": {
     "iopub.execute_input": "2025-01-26T09:06:02.605617Z",
     "iopub.status.busy": "2025-01-26T09:06:02.605222Z",
     "iopub.status.idle": "2025-01-26T09:06:04.003867Z",
     "shell.execute_reply": "2025-01-26T09:06:04.002873Z"
    },
    "papermill": {
     "duration": 1.420211,
     "end_time": "2025-01-26T09:06:04.006656",
     "exception": false,
     "start_time": "2025-01-26T09:06:02.586445",
     "status": "completed"
    },
    "tags": []
   },
   "outputs": [
    {
     "data": {
      "text/plain": [
       "<Axes: xlabel='daily_star', ylabel='date'>"
      ]
     },
     "execution_count": 25,
     "metadata": {},
     "output_type": "execute_result"
    },
    {
     "data": {
      "image/png": "[encoded data removed]",
      "text/plain": [
       "<Figure size 640x480 with 1 Axes>"
      ]
     },
     "metadata": {},
     "output_type": "display_data"
    }
   ],
   "source": [
    "sns.scatterplot(data=duplicate_df, x='daily_star', y='date', hue='trending_category')"
   ]
  },
  {
   "cell_type": "code",
   "execution_count": 26,
   "id": "7fa289bd",
   "metadata": {
    "execution": {
     "iopub.execute_input": "2025-01-26T09:06:04.049253Z",
     "iopub.status.busy": "2025-01-26T09:06:04.048840Z",
     "iopub.status.idle": "2025-01-26T09:06:04.056058Z",
     "shell.execute_reply": "2025-01-26T09:06:04.055112Z"
    },
    "papermill": {
     "duration": 0.030257,
     "end_time": "2025-01-26T09:06:04.057711",
     "exception": false,
     "start_time": "2025-01-26T09:06:04.027454",
     "status": "completed"
    },
    "tags": []
   },
   "outputs": [
    {
     "data": {
      "text/plain": [
       "<DatetimeArray>\n",
       "['2024-11-17 00:00:00', '2024-11-18 00:00:00', '2024-11-08 00:00:00',\n",
       " '2024-11-21 00:00:00', '2024-11-10 00:00:00', '2024-11-16 00:00:00',\n",
       " '2024-11-14 00:00:00', '2024-11-22 00:00:00', '2024-11-07 00:00:00',\n",
       " '2024-11-15 00:00:00', '2024-11-25 00:00:00', '2024-11-20 00:00:00',\n",
       " '2024-11-24 00:00:00', '2024-11-06 00:00:00', '2024-11-13 00:00:00',\n",
       " '2024-11-23 00:00:00', '2024-11-09 00:00:00', '2024-11-11 00:00:00',\n",
       " '2024-11-19 00:00:00', '2024-11-12 00:00:00', '2024-11-26 00:00:00',\n",
       " '2024-11-27 00:00:00', '2024-11-28 00:00:00', '2024-11-29 00:00:00',\n",
       " '2024-11-30 00:00:00', '2024-12-01 00:00:00', '2024-12-02 00:00:00',\n",
       " '2024-12-03 00:00:00', '2024-12-04 00:00:00', '2024-12-05 00:00:00',\n",
       " '2024-12-06 00:00:00', '2024-12-07 00:00:00', '2024-12-08 00:00:00',\n",
       " '2024-12-09 00:00:00', '2024-12-10 00:00:00', '2024-12-11 00:00:00',\n",
       " '2024-12-12 00:00:00', '2024-12-13 00:00:00', '2024-12-14 00:00:00',\n",
       " '2024-12-15 00:00:00', '2024-12-16 00:00:00', '2024-12-17 00:00:00',\n",
       " '2024-12-18 00:00:00', '2024-12-19 00:00:00', '2024-12-20 00:00:00',\n",
       " '2024-12-21 00:00:00', '2024-12-22 00:00:00', '2024-12-23 00:00:00',\n",
       " '2024-12-24 00:00:00', '2024-12-25 00:00:00', '2024-12-26 00:00:00',\n",
       " '2024-12-27 00:00:00', '2024-12-28 00:00:00', '2024-12-29 00:00:00',\n",
       " '2024-12-30 00:00:00', '2024-12-31 00:00:00', '2025-01-01 00:00:00',\n",
       " '2025-01-02 00:00:00', '2025-01-03 00:00:00', '2025-01-04 00:00:00',\n",
       " '2025-01-05 00:00:00', '2025-01-06 00:00:00', '2025-01-07 00:00:00',\n",
       " '2025-01-08 00:00:00', '2025-01-09 00:00:00', '2025-01-10 00:00:00',\n",
       " '2025-01-11 00:00:00', '2025-01-12 00:00:00', '2025-01-13 00:00:00',\n",
       " '2025-01-14 00:00:00', '2025-01-15 00:00:00', '2025-01-16 00:00:00',\n",
       " '2025-01-17 00:00:00', '2025-01-18 00:00:00', '2025-01-19 00:00:00',\n",
       " '2025-01-20 00:00:00', '2025-01-21 00:00:00', '2025-01-22 00:00:00',\n",
       " '2025-01-23 00:00:00', '2025-01-24 00:00:00', '2025-01-25 00:00:00']\n",
       "Length: 81, dtype: datetime64[ns]"
      ]
     },
     "execution_count": 26,
     "metadata": {},
     "output_type": "execute_result"
    }
   ],
   "source": [
    "duplicate_df['date'].unique()"
   ]
  },
  {
   "cell_type": "code",
   "execution_count": 27,
   "id": "fde229af",
   "metadata": {
    "execution": {
     "iopub.execute_input": "2025-01-26T09:06:04.100192Z",
     "iopub.status.busy": "2025-01-26T09:06:04.099691Z",
     "iopub.status.idle": "2025-01-26T09:06:04.107335Z",
     "shell.execute_reply": "2025-01-26T09:06:04.106197Z"
    },
    "papermill": {
     "duration": 0.03111,
     "end_time": "2025-01-26T09:06:04.108921",
     "exception": false,
     "start_time": "2025-01-26T09:06:04.077811",
     "status": "completed"
    },
    "tags": []
   },
   "outputs": [
    {
     "data": {
      "text/plain": [
       "array(['terrastruct', 'tinygo-org', 'Melkeydev', ..., 'cloudnative-pg',\n",
       "       'k8sgpt-ai', 'metallb'], dtype=object)"
      ]
     },
     "execution_count": 27,
     "metadata": {},
     "output_type": "execute_result"
    }
   ],
   "source": [
    "duplicate_df['org_name'].unique()"
   ]
  },
  {
   "cell_type": "code",
   "execution_count": 28,
   "id": "7cfe86b5",
   "metadata": {
    "execution": {
     "iopub.execute_input": "2025-01-26T09:06:04.151527Z",
     "iopub.status.busy": "2025-01-26T09:06:04.151136Z",
     "iopub.status.idle": "2025-01-26T09:06:04.425861Z",
     "shell.execute_reply": "2025-01-26T09:06:04.424826Z"
    },
    "papermill": {
     "duration": 0.297892,
     "end_time": "2025-01-26T09:06:04.427473",
     "exception": false,
     "start_time": "2025-01-26T09:06:04.129581",
     "status": "completed"
    },
    "tags": []
   },
   "outputs": [
    {
     "data": {
      "text/plain": [
       "<Axes: >"
      ]
     },
     "execution_count": 28,
     "metadata": {},
     "output_type": "execute_result"
    },
    {
     "data": {
      "image/png": "[encoded data removed]",
      "text/plain": [
       "<Figure size 640x480 with 1 Axes>"
      ]
     },
     "metadata": {},
     "output_type": "display_data"
    }
   ],
   "source": [
    "sns.boxplot(data=duplicate_df)"
   ]
  },
  {
   "cell_type": "code",
   "execution_count": 29,
   "id": "ec9ea0d0",
   "metadata": {
    "execution": {
     "iopub.execute_input": "2025-01-26T09:06:04.469725Z",
     "iopub.status.busy": "2025-01-26T09:06:04.469364Z",
     "iopub.status.idle": "2025-01-26T09:06:09.770640Z",
     "shell.execute_reply": "2025-01-26T09:06:09.769614Z"
    },
    "papermill": {
     "duration": 5.32429,
     "end_time": "2025-01-26T09:06:09.772422",
     "exception": false,
     "start_time": "2025-01-26T09:06:04.448132",
     "status": "completed"
    },
    "tags": []
   },
   "outputs": [
    {
     "name": "stderr",
     "output_type": "stream",
     "text": [
      "/usr/local/lib/python3.10/dist-packages/seaborn/_oldcore.py:1119: FutureWarning: use_inf_as_na option is deprecated and will be removed in a future version. Convert inf values to NaN before operating instead.\n",
      "  with pd.option_context('mode.use_inf_as_na', True):\n"
     ]
    },
    {
     "data": {
      "text/plain": [
       "<Axes: ylabel='Count'>"
      ]
     },
     "execution_count": 29,
     "metadata": {},
     "output_type": "execute_result"
    },
    {
     "data": {
      "image/png": "[encoded data removed]",
      "text/plain": [
       "<Figure size 640x480 with 1 Axes>"
      ]
     },
     "metadata": {},
     "output_type": "display_data"
    }
   ],
   "source": [
    "sns.histplot(data=duplicate_df)"
   ]
  },
  {
   "cell_type": "code",
   "execution_count": 30,
   "id": "a8aa893f",
   "metadata": {
    "execution": {
     "iopub.execute_input": "2025-01-26T09:06:09.818153Z",
     "iopub.status.busy": "2025-01-26T09:06:09.817799Z",
     "iopub.status.idle": "2025-01-26T09:06:09.826943Z",
     "shell.execute_reply": "2025-01-26T09:06:09.825936Z"
    },
    "papermill": {
     "duration": 0.033754,
     "end_time": "2025-01-26T09:06:09.828549",
     "exception": false,
     "start_time": "2025-01-26T09:06:09.794795",
     "status": "completed"
    },
    "tags": []
   },
   "outputs": [
    {
     "data": {
      "text/html": [
       "<div>\n",
       "<style scoped>\n",
       "    .dataframe tbody tr th:only-of-type {\n",
       "        vertical-align: middle;\n",
       "    }\n",
       "\n",
       "    .dataframe tbody tr th {\n",
       "        vertical-align: top;\n",
       "    }\n",
       "\n",
       "    .dataframe thead th {\n",
       "        text-align: right;\n",
       "    }\n",
       "</style>\n",
       "<table border=\"1\" class=\"dataframe\">\n",
       "  <thead>\n",
       "    <tr style=\"text-align: right;\">\n",
       "      <th></th>\n",
       "      <th>date</th>\n",
       "    </tr>\n",
       "  </thead>\n",
       "  <tbody>\n",
       "    <tr>\n",
       "      <th>0</th>\n",
       "      <td>2024-11-17</td>\n",
       "    </tr>\n",
       "    <tr>\n",
       "      <th>1</th>\n",
       "      <td>2024-11-17</td>\n",
       "    </tr>\n",
       "    <tr>\n",
       "      <th>2</th>\n",
       "      <td>2024-11-17</td>\n",
       "    </tr>\n",
       "    <tr>\n",
       "      <th>3</th>\n",
       "      <td>2024-11-17</td>\n",
       "    </tr>\n",
       "    <tr>\n",
       "      <th>4</th>\n",
       "      <td>2024-11-17</td>\n",
       "    </tr>\n",
       "  </tbody>\n",
       "</table>\n",
       "</div>"
      ],
      "text/plain": [
       "         date\n",
       "0  2024-11-17\n",
       "1  2024-11-17\n",
       "2  2024-11-17\n",
       "3  2024-11-17\n",
       "4  2024-11-17"
      ]
     },
     "execution_count": 30,
     "metadata": {},
     "output_type": "execute_result"
    }
   ],
   "source": [
    "df.loc[0:4, ['date']]"
   ]
  },
  {
   "cell_type": "code",
   "execution_count": 31,
   "id": "4c9375ca",
   "metadata": {
    "execution": {
     "iopub.execute_input": "2025-01-26T09:06:09.873260Z",
     "iopub.status.busy": "2025-01-26T09:06:09.872924Z",
     "iopub.status.idle": "2025-01-26T09:06:09.881662Z",
     "shell.execute_reply": "2025-01-26T09:06:09.880703Z"
    },
    "papermill": {
     "duration": 0.032818,
     "end_time": "2025-01-26T09:06:09.883216",
     "exception": false,
     "start_time": "2025-01-26T09:06:09.850398",
     "status": "completed"
    },
    "tags": []
   },
   "outputs": [
    {
     "data": {
      "text/html": [
       "<div>\n",
       "<style scoped>\n",
       "    .dataframe tbody tr th:only-of-type {\n",
       "        vertical-align: middle;\n",
       "    }\n",
       "\n",
       "    .dataframe tbody tr th {\n",
       "        vertical-align: top;\n",
       "    }\n",
       "\n",
       "    .dataframe thead th {\n",
       "        text-align: right;\n",
       "    }\n",
       "</style>\n",
       "<table border=\"1\" class=\"dataframe\">\n",
       "  <thead>\n",
       "    <tr style=\"text-align: right;\">\n",
       "      <th></th>\n",
       "      <th>date</th>\n",
       "    </tr>\n",
       "  </thead>\n",
       "  <tbody>\n",
       "    <tr>\n",
       "      <th>0</th>\n",
       "      <td>2024-11-17</td>\n",
       "    </tr>\n",
       "    <tr>\n",
       "      <th>1</th>\n",
       "      <td>2024-11-17</td>\n",
       "    </tr>\n",
       "    <tr>\n",
       "      <th>2</th>\n",
       "      <td>2024-11-17</td>\n",
       "    </tr>\n",
       "    <tr>\n",
       "      <th>3</th>\n",
       "      <td>2024-11-17</td>\n",
       "    </tr>\n",
       "    <tr>\n",
       "      <th>4</th>\n",
       "      <td>2024-11-17</td>\n",
       "    </tr>\n",
       "    <tr>\n",
       "      <th>5</th>\n",
       "      <td>2024-11-17</td>\n",
       "    </tr>\n",
       "  </tbody>\n",
       "</table>\n",
       "</div>"
      ],
      "text/plain": [
       "         date\n",
       "0  2024-11-17\n",
       "1  2024-11-17\n",
       "2  2024-11-17\n",
       "3  2024-11-17\n",
       "4  2024-11-17\n",
       "5  2024-11-17"
      ]
     },
     "execution_count": 31,
     "metadata": {},
     "output_type": "execute_result"
    }
   ],
   "source": [
    "df.loc[0:5, ['date']]"
   ]
  },
  {
   "cell_type": "code",
   "execution_count": 32,
   "id": "6a3c44a3",
   "metadata": {
    "execution": {
     "iopub.execute_input": "2025-01-26T09:06:09.927695Z",
     "iopub.status.busy": "2025-01-26T09:06:09.927367Z",
     "iopub.status.idle": "2025-01-26T09:06:09.936258Z",
     "shell.execute_reply": "2025-01-26T09:06:09.935217Z"
    },
    "papermill": {
     "duration": 0.032644,
     "end_time": "2025-01-26T09:06:09.937940",
     "exception": false,
     "start_time": "2025-01-26T09:06:09.905296",
     "status": "completed"
    },
    "tags": []
   },
   "outputs": [
    {
     "data": {
      "text/html": [
       "<div>\n",
       "<style scoped>\n",
       "    .dataframe tbody tr th:only-of-type {\n",
       "        vertical-align: middle;\n",
       "    }\n",
       "\n",
       "    .dataframe tbody tr th {\n",
       "        vertical-align: top;\n",
       "    }\n",
       "\n",
       "    .dataframe thead th {\n",
       "        text-align: right;\n",
       "    }\n",
       "</style>\n",
       "<table border=\"1\" class=\"dataframe\">\n",
       "  <thead>\n",
       "    <tr style=\"text-align: right;\">\n",
       "      <th></th>\n",
       "      <th>date</th>\n",
       "    </tr>\n",
       "  </thead>\n",
       "  <tbody>\n",
       "    <tr>\n",
       "      <th>0</th>\n",
       "      <td>2024-11-17</td>\n",
       "    </tr>\n",
       "    <tr>\n",
       "      <th>1</th>\n",
       "      <td>2024-11-17</td>\n",
       "    </tr>\n",
       "    <tr>\n",
       "      <th>2</th>\n",
       "      <td>2024-11-17</td>\n",
       "    </tr>\n",
       "    <tr>\n",
       "      <th>3</th>\n",
       "      <td>2024-11-17</td>\n",
       "    </tr>\n",
       "    <tr>\n",
       "      <th>4</th>\n",
       "      <td>2024-11-17</td>\n",
       "    </tr>\n",
       "    <tr>\n",
       "      <th>5</th>\n",
       "      <td>2024-11-17</td>\n",
       "    </tr>\n",
       "  </tbody>\n",
       "</table>\n",
       "</div>"
      ],
      "text/plain": [
       "         date\n",
       "0  2024-11-17\n",
       "1  2024-11-17\n",
       "2  2024-11-17\n",
       "3  2024-11-17\n",
       "4  2024-11-17\n",
       "5  2024-11-17"
      ]
     },
     "execution_count": 32,
     "metadata": {},
     "output_type": "execute_result"
    }
   ],
   "source": [
    "df.loc[:5, ['date']]"
   ]
  },
  {
   "cell_type": "code",
   "execution_count": 33,
   "id": "e142df95",
   "metadata": {
    "execution": {
     "iopub.execute_input": "2025-01-26T09:06:09.982196Z",
     "iopub.status.busy": "2025-01-26T09:06:09.981865Z",
     "iopub.status.idle": "2025-01-26T09:06:09.990926Z",
     "shell.execute_reply": "2025-01-26T09:06:09.989943Z"
    },
    "papermill": {
     "duration": 0.032924,
     "end_time": "2025-01-26T09:06:09.992403",
     "exception": false,
     "start_time": "2025-01-26T09:06:09.959479",
     "status": "completed"
    },
    "tags": []
   },
   "outputs": [
    {
     "data": {
      "text/html": [
       "<div>\n",
       "<style scoped>\n",
       "    .dataframe tbody tr th:only-of-type {\n",
       "        vertical-align: middle;\n",
       "    }\n",
       "\n",
       "    .dataframe tbody tr th {\n",
       "        vertical-align: top;\n",
       "    }\n",
       "\n",
       "    .dataframe thead th {\n",
       "        text-align: right;\n",
       "    }\n",
       "</style>\n",
       "<table border=\"1\" class=\"dataframe\">\n",
       "  <thead>\n",
       "    <tr style=\"text-align: right;\">\n",
       "      <th></th>\n",
       "      <th>date</th>\n",
       "    </tr>\n",
       "  </thead>\n",
       "  <tbody>\n",
       "    <tr>\n",
       "      <th>0</th>\n",
       "      <td>2024-11-17</td>\n",
       "    </tr>\n",
       "    <tr>\n",
       "      <th>1</th>\n",
       "      <td>2024-11-17</td>\n",
       "    </tr>\n",
       "    <tr>\n",
       "      <th>2</th>\n",
       "      <td>2024-11-17</td>\n",
       "    </tr>\n",
       "    <tr>\n",
       "      <th>3</th>\n",
       "      <td>2024-11-17</td>\n",
       "    </tr>\n",
       "    <tr>\n",
       "      <th>4</th>\n",
       "      <td>2024-11-17</td>\n",
       "    </tr>\n",
       "  </tbody>\n",
       "</table>\n",
       "</div>"
      ],
      "text/plain": [
       "         date\n",
       "0  2024-11-17\n",
       "1  2024-11-17\n",
       "2  2024-11-17\n",
       "3  2024-11-17\n",
       "4  2024-11-17"
      ]
     },
     "execution_count": 33,
     "metadata": {},
     "output_type": "execute_result"
    }
   ],
   "source": [
    "df.loc[:4, ['date']]"
   ]
  },
  {
   "cell_type": "code",
   "execution_count": 34,
   "id": "6fa48a92",
   "metadata": {
    "execution": {
     "iopub.execute_input": "2025-01-26T09:06:10.036858Z",
     "iopub.status.busy": "2025-01-26T09:06:10.036524Z",
     "iopub.status.idle": "2025-01-26T09:06:10.049928Z",
     "shell.execute_reply": "2025-01-26T09:06:10.049027Z"
    },
    "papermill": {
     "duration": 0.037566,
     "end_time": "2025-01-26T09:06:10.051484",
     "exception": false,
     "start_time": "2025-01-26T09:06:10.013918",
     "status": "completed"
    },
    "tags": []
   },
   "outputs": [
    {
     "data": {
      "text/html": [
       "<div>\n",
       "<style scoped>\n",
       "    .dataframe tbody tr th:only-of-type {\n",
       "        vertical-align: middle;\n",
       "    }\n",
       "\n",
       "    .dataframe tbody tr th {\n",
       "        vertical-align: top;\n",
       "    }\n",
       "\n",
       "    .dataframe thead th {\n",
       "        text-align: right;\n",
       "    }\n",
       "</style>\n",
       "<table border=\"1\" class=\"dataframe\">\n",
       "  <thead>\n",
       "    <tr style=\"text-align: right;\">\n",
       "      <th></th>\n",
       "      <th>org_name</th>\n",
       "      <th>repo_name</th>\n",
       "      <th>repo_url</th>\n",
       "      <th>description</th>\n",
       "      <th>language</th>\n",
       "      <th>star</th>\n",
       "      <th>forks</th>\n",
       "      <th>daily_star</th>\n",
       "      <th>date</th>\n",
       "      <th>trending_category</th>\n",
       "    </tr>\n",
       "  </thead>\n",
       "  <tbody>\n",
       "    <tr>\n",
       "      <th>0</th>\n",
       "      <td>terrastruct</td>\n",
       "      <td>d2</td>\n",
       "      <td>https://github.com/terrastruct/d2</td>\n",
       "      <td>D2 is a modern diagram scripting language that...</td>\n",
       "      <td>Go</td>\n",
       "      <td>17896.0</td>\n",
       "      <td>439.0</td>\n",
       "      <td>418</td>\n",
       "      <td>2024-11-17</td>\n",
       "      <td>go</td>\n",
       "    </tr>\n",
       "    <tr>\n",
       "      <th>1</th>\n",
       "      <td>tinygo-org</td>\n",
       "      <td>tinygo</td>\n",
       "      <td>https://github.com/tinygo-org/tinygo</td>\n",
       "      <td>Go compiler for small places. Microcontrollers...</td>\n",
       "      <td>Go</td>\n",
       "      <td>15463.0</td>\n",
       "      <td>912.0</td>\n",
       "      <td>6</td>\n",
       "      <td>2024-11-17</td>\n",
       "      <td>go</td>\n",
       "    </tr>\n",
       "    <tr>\n",
       "      <th>2</th>\n",
       "      <td>Melkeydev</td>\n",
       "      <td>go-blueprint</td>\n",
       "      <td>https://github.com/Melkeydev/go-blueprint</td>\n",
       "      <td>Go-blueprint allows users to spin up a quick G...</td>\n",
       "      <td>Go</td>\n",
       "      <td>4608.0</td>\n",
       "      <td>276.0</td>\n",
       "      <td>9</td>\n",
       "      <td>2024-11-17</td>\n",
       "      <td>go</td>\n",
       "    </tr>\n",
       "    <tr>\n",
       "      <th>3</th>\n",
       "      <td>jeessy2</td>\n",
       "      <td>ddns-go</td>\n",
       "      <td>https://github.com/jeessy2/ddns-go</td>\n",
       "      <td>Simple and easy to use DDNS. Support Aliyun, T...</td>\n",
       "      <td>Go</td>\n",
       "      <td>12117.0</td>\n",
       "      <td>1398.0</td>\n",
       "      <td>25</td>\n",
       "      <td>2024-11-17</td>\n",
       "      <td>go</td>\n",
       "    </tr>\n",
       "    <tr>\n",
       "      <th>4</th>\n",
       "      <td>JanDeDobbeleer</td>\n",
       "      <td>oh-my-posh</td>\n",
       "      <td>https://github.com/JanDeDobbeleer/oh-my-posh</td>\n",
       "      <td>The most customisable and low-latency cross pl...</td>\n",
       "      <td>Go</td>\n",
       "      <td>17450.0</td>\n",
       "      <td>2390.0</td>\n",
       "      <td>16</td>\n",
       "      <td>2024-11-17</td>\n",
       "      <td>go</td>\n",
       "    </tr>\n",
       "  </tbody>\n",
       "</table>\n",
       "</div>"
      ],
      "text/plain": [
       "         org_name     repo_name                                      repo_url  \\\n",
       "0     terrastruct            d2             https://github.com/terrastruct/d2   \n",
       "1      tinygo-org        tinygo          https://github.com/tinygo-org/tinygo   \n",
       "2       Melkeydev  go-blueprint     https://github.com/Melkeydev/go-blueprint   \n",
       "3         jeessy2       ddns-go            https://github.com/jeessy2/ddns-go   \n",
       "4  JanDeDobbeleer    oh-my-posh  https://github.com/JanDeDobbeleer/oh-my-posh   \n",
       "\n",
       "                                         description language     star  \\\n",
       "0  D2 is a modern diagram scripting language that...       Go  17896.0   \n",
       "1  Go compiler for small places. Microcontrollers...       Go  15463.0   \n",
       "2  Go-blueprint allows users to spin up a quick G...       Go   4608.0   \n",
       "3  Simple and easy to use DDNS. Support Aliyun, T...       Go  12117.0   \n",
       "4  The most customisable and low-latency cross pl...       Go  17450.0   \n",
       "\n",
       "    forks  daily_star        date trending_category  \n",
       "0   439.0         418  2024-11-17                go  \n",
       "1   912.0           6  2024-11-17                go  \n",
       "2   276.0           9  2024-11-17                go  \n",
       "3  1398.0          25  2024-11-17                go  \n",
       "4  2390.0          16  2024-11-17                go  "
      ]
     },
     "execution_count": 34,
     "metadata": {},
     "output_type": "execute_result"
    }
   ],
   "source": [
    "df.head()"
   ]
  },
  {
   "cell_type": "code",
   "execution_count": 35,
   "id": "6047da59",
   "metadata": {
    "execution": {
     "iopub.execute_input": "2025-01-26T09:06:10.098720Z",
     "iopub.status.busy": "2025-01-26T09:06:10.098390Z",
     "iopub.status.idle": "2025-01-26T09:06:10.108429Z",
     "shell.execute_reply": "2025-01-26T09:06:10.107484Z"
    },
    "papermill": {
     "duration": 0.035083,
     "end_time": "2025-01-26T09:06:10.109961",
     "exception": false,
     "start_time": "2025-01-26T09:06:10.074878",
     "status": "completed"
    },
    "tags": []
   },
   "outputs": [
    {
     "data": {
      "text/html": [
       "<div>\n",
       "<style scoped>\n",
       "    .dataframe tbody tr th:only-of-type {\n",
       "        vertical-align: middle;\n",
       "    }\n",
       "\n",
       "    .dataframe tbody tr th {\n",
       "        vertical-align: top;\n",
       "    }\n",
       "\n",
       "    .dataframe thead th {\n",
       "        text-align: right;\n",
       "    }\n",
       "</style>\n",
       "<table border=\"1\" class=\"dataframe\">\n",
       "  <thead>\n",
       "    <tr style=\"text-align: right;\">\n",
       "      <th></th>\n",
       "      <th>org_name</th>\n",
       "      <th>repo_name</th>\n",
       "    </tr>\n",
       "  </thead>\n",
       "  <tbody>\n",
       "  </tbody>\n",
       "</table>\n",
       "</div>"
      ],
      "text/plain": [
       "Empty DataFrame\n",
       "Columns: [org_name, repo_name]\n",
       "Index: []"
      ]
     },
     "execution_count": 35,
     "metadata": {},
     "output_type": "execute_result"
    }
   ],
   "source": [
    "df.loc[(df['daily_star'] < 5) & (df['daily_star'] > 20), ['org_name', 'repo_name']]"
   ]
  },
  {
   "cell_type": "code",
   "execution_count": 36,
   "id": "350ed1dd",
   "metadata": {
    "execution": {
     "iopub.execute_input": "2025-01-26T09:06:10.155995Z",
     "iopub.status.busy": "2025-01-26T09:06:10.155668Z",
     "iopub.status.idle": "2025-01-26T09:06:10.173627Z",
     "shell.execute_reply": "2025-01-26T09:06:10.172668Z"
    },
    "papermill": {
     "duration": 0.043246,
     "end_time": "2025-01-26T09:06:10.175395",
     "exception": false,
     "start_time": "2025-01-26T09:06:10.132149",
     "status": "completed"
    },
    "tags": []
   },
   "outputs": [
    {
     "data": {
      "text/html": [
       "<div>\n",
       "<style scoped>\n",
       "    .dataframe tbody tr th:only-of-type {\n",
       "        vertical-align: middle;\n",
       "    }\n",
       "\n",
       "    .dataframe tbody tr th {\n",
       "        vertical-align: top;\n",
       "    }\n",
       "\n",
       "    .dataframe thead th {\n",
       "        text-align: right;\n",
       "    }\n",
       "</style>\n",
       "<table border=\"1\" class=\"dataframe\">\n",
       "  <thead>\n",
       "    <tr style=\"text-align: right;\">\n",
       "      <th></th>\n",
       "      <th>org_name</th>\n",
       "      <th>repo_name</th>\n",
       "      <th>repo_url</th>\n",
       "      <th>description</th>\n",
       "      <th>language</th>\n",
       "      <th>star</th>\n",
       "      <th>forks</th>\n",
       "      <th>daily_star</th>\n",
       "      <th>date</th>\n",
       "      <th>trending_category</th>\n",
       "    </tr>\n",
       "  </thead>\n",
       "  <tbody>\n",
       "    <tr>\n",
       "      <th>0</th>\n",
       "      <td>terrastruct</td>\n",
       "      <td>d2</td>\n",
       "      <td>https://github.com/terrastruct/d2</td>\n",
       "      <td>D2 is a modern diagram scripting language that...</td>\n",
       "      <td>Go</td>\n",
       "      <td>17896.0</td>\n",
       "      <td>439.0</td>\n",
       "      <td>418</td>\n",
       "      <td>2024-11-17</td>\n",
       "      <td>go</td>\n",
       "    </tr>\n",
       "    <tr>\n",
       "      <th>3</th>\n",
       "      <td>jeessy2</td>\n",
       "      <td>ddns-go</td>\n",
       "      <td>https://github.com/jeessy2/ddns-go</td>\n",
       "      <td>Simple and easy to use DDNS. Support Aliyun, T...</td>\n",
       "      <td>Go</td>\n",
       "      <td>12117.0</td>\n",
       "      <td>1398.0</td>\n",
       "      <td>25</td>\n",
       "      <td>2024-11-17</td>\n",
       "      <td>go</td>\n",
       "    </tr>\n",
       "    <tr>\n",
       "      <th>6</th>\n",
       "      <td>daytonaio</td>\n",
       "      <td>daytona</td>\n",
       "      <td>https://github.com/daytonaio/daytona</td>\n",
       "      <td>The Open Source Dev Environment Manager.</td>\n",
       "      <td>Go</td>\n",
       "      <td>10583.0</td>\n",
       "      <td>839.0</td>\n",
       "      <td>155</td>\n",
       "      <td>2024-11-17</td>\n",
       "      <td>go</td>\n",
       "    </tr>\n",
       "    <tr>\n",
       "      <th>8</th>\n",
       "      <td>milvus-io</td>\n",
       "      <td>milvus</td>\n",
       "      <td>https://github.com/milvus-io/milvus</td>\n",
       "      <td>A cloud-native vector database, storage for ne...</td>\n",
       "      <td>Go</td>\n",
       "      <td>30702.0</td>\n",
       "      <td>2927.0</td>\n",
       "      <td>23</td>\n",
       "      <td>2024-11-17</td>\n",
       "      <td>go</td>\n",
       "    </tr>\n",
       "    <tr>\n",
       "      <th>13</th>\n",
       "      <td>FiloSottile</td>\n",
       "      <td>mkcert</td>\n",
       "      <td>https://github.com/FiloSottile/mkcert</td>\n",
       "      <td>A simple zero-config tool to make locally trus...</td>\n",
       "      <td>Go</td>\n",
       "      <td>50227.0</td>\n",
       "      <td>2626.0</td>\n",
       "      <td>94</td>\n",
       "      <td>2024-11-17</td>\n",
       "      <td>go</td>\n",
       "    </tr>\n",
       "    <tr>\n",
       "      <th>...</th>\n",
       "      <td>...</td>\n",
       "      <td>...</td>\n",
       "      <td>...</td>\n",
       "      <td>...</td>\n",
       "      <td>...</td>\n",
       "      <td>...</td>\n",
       "      <td>...</td>\n",
       "      <td>...</td>\n",
       "      <td>...</td>\n",
       "      <td>...</td>\n",
       "    </tr>\n",
       "    <tr>\n",
       "      <th>12412</th>\n",
       "      <td>kubernetes</td>\n",
       "      <td>kubernetes</td>\n",
       "      <td>https://github.com/kubernetes/kubernetes</td>\n",
       "      <td>Production-Grade Container Scheduling and Mana...</td>\n",
       "      <td>Go</td>\n",
       "      <td>112603.0</td>\n",
       "      <td>40092.0</td>\n",
       "      <td>54</td>\n",
       "      <td>2025-01-25</td>\n",
       "      <td>go</td>\n",
       "    </tr>\n",
       "    <tr>\n",
       "      <th>12414</th>\n",
       "      <td>ffuf</td>\n",
       "      <td>ffuf</td>\n",
       "      <td>https://github.com/ffuf/ffuf</td>\n",
       "      <td>Fast web fuzzer written in Go</td>\n",
       "      <td>Go</td>\n",
       "      <td>13207.0</td>\n",
       "      <td>1344.0</td>\n",
       "      <td>39</td>\n",
       "      <td>2025-01-25</td>\n",
       "      <td>go</td>\n",
       "    </tr>\n",
       "    <tr>\n",
       "      <th>12415</th>\n",
       "      <td>mk6i</td>\n",
       "      <td>retro-aim-server</td>\n",
       "      <td>https://github.com/mk6i/retro-aim-server</td>\n",
       "      <td>Open-source instant messaging server that make...</td>\n",
       "      <td>Go</td>\n",
       "      <td>495.0</td>\n",
       "      <td>25.0</td>\n",
       "      <td>42</td>\n",
       "      <td>2025-01-25</td>\n",
       "      <td>go</td>\n",
       "    </tr>\n",
       "    <tr>\n",
       "      <th>12416</th>\n",
       "      <td>cubefs</td>\n",
       "      <td>cubefs</td>\n",
       "      <td>https://github.com/cubefs/cubefs</td>\n",
       "      <td>cloud-native distributed storage</td>\n",
       "      <td>Go</td>\n",
       "      <td>4863.0</td>\n",
       "      <td>680.0</td>\n",
       "      <td>23</td>\n",
       "      <td>2025-01-25</td>\n",
       "      <td>go</td>\n",
       "    </tr>\n",
       "    <tr>\n",
       "      <th>12428</th>\n",
       "      <td>putyy</td>\n",
       "      <td>res-downloader</td>\n",
       "      <td>https://github.com/putyy/res-downloader</td>\n",
       "      <td>视频号、小程序、抖音、快手、小红书、直播流、m3u8、酷狗、QQ音乐等常见网络资源下载!</td>\n",
       "      <td>Go</td>\n",
       "      <td>4522.0</td>\n",
       "      <td>622.0</td>\n",
       "      <td>33</td>\n",
       "      <td>2025-01-25</td>\n",
       "      <td>go</td>\n",
       "    </tr>\n",
       "  </tbody>\n",
       "</table>\n",
       "<p>5203 rows × 10 columns</p>\n",
       "</div>"
      ],
      "text/plain": [
       "          org_name         repo_name  \\\n",
       "0      terrastruct                d2   \n",
       "3          jeessy2           ddns-go   \n",
       "6        daytonaio           daytona   \n",
       "8        milvus-io            milvus   \n",
       "13     FiloSottile            mkcert   \n",
       "...            ...               ...   \n",
       "12412   kubernetes        kubernetes   \n",
       "12414         ffuf              ffuf   \n",
       "12415         mk6i  retro-aim-server   \n",
       "12416       cubefs            cubefs   \n",
       "12428        putyy    res-downloader   \n",
       "\n",
       "                                       repo_url  \\\n",
       "0             https://github.com/terrastruct/d2   \n",
       "3            https://github.com/jeessy2/ddns-go   \n",
       "6          https://github.com/daytonaio/daytona   \n",
       "8           https://github.com/milvus-io/milvus   \n",
       "13        https://github.com/FiloSottile/mkcert   \n",
       "...                                         ...   \n",
       "12412  https://github.com/kubernetes/kubernetes   \n",
       "12414              https://github.com/ffuf/ffuf   \n",
       "12415  https://github.com/mk6i/retro-aim-server   \n",
       "12416          https://github.com/cubefs/cubefs   \n",
       "12428   https://github.com/putyy/res-downloader   \n",
       "\n",
       "                                             description language      star  \\\n",
       "0      D2 is a modern diagram scripting language that...       Go   17896.0   \n",
       "3      Simple and easy to use DDNS. Support Aliyun, T...       Go   12117.0   \n",
       "6               The Open Source Dev Environment Manager.       Go   10583.0   \n",
       "8      A cloud-native vector database, storage for ne...       Go   30702.0   \n",
       "13     A simple zero-config tool to make locally trus...       Go   50227.0   \n",
       "...                                                  ...      ...       ...   \n",
       "12412  Production-Grade Container Scheduling and Mana...       Go  112603.0   \n",
       "12414                      Fast web fuzzer written in Go       Go   13207.0   \n",
       "12415  Open-source instant messaging server that make...       Go     495.0   \n",
       "12416                   cloud-native distributed storage       Go    4863.0   \n",
       "12428       视频号、小程序、抖音、快手、小红书、直播流、m3u8、酷狗、QQ音乐等常见网络资源下载!       Go    4522.0   \n",
       "\n",
       "         forks  daily_star        date trending_category  \n",
       "0        439.0         418  2024-11-17                go  \n",
       "3       1398.0          25  2024-11-17                go  \n",
       "6        839.0         155  2024-11-17                go  \n",
       "8       2927.0          23  2024-11-17                go  \n",
       "13      2626.0          94  2024-11-17                go  \n",
       "...        ...         ...         ...               ...  \n",
       "12412  40092.0          54  2025-01-25                go  \n",
       "12414   1344.0          39  2025-01-25                go  \n",
       "12415     25.0          42  2025-01-25                go  \n",
       "12416    680.0          23  2025-01-25                go  \n",
       "12428    622.0          33  2025-01-25                go  \n",
       "\n",
       "[5203 rows x 10 columns]"
      ]
     },
     "execution_count": 36,
     "metadata": {},
     "output_type": "execute_result"
    }
   ],
   "source": [
    "df[df['daily_star'] > 20]"
   ]
  },
  {
   "cell_type": "code",
   "execution_count": 37,
   "id": "2c4abf36",
   "metadata": {
    "execution": {
     "iopub.execute_input": "2025-01-26T09:06:10.224161Z",
     "iopub.status.busy": "2025-01-26T09:06:10.223793Z",
     "iopub.status.idle": "2025-01-26T09:06:10.241487Z",
     "shell.execute_reply": "2025-01-26T09:06:10.240426Z"
    },
    "papermill": {
     "duration": 0.043309,
     "end_time": "2025-01-26T09:06:10.243104",
     "exception": false,
     "start_time": "2025-01-26T09:06:10.199795",
     "status": "completed"
    },
    "tags": []
   },
   "outputs": [
    {
     "data": {
      "text/html": [
       "<div>\n",
       "<style scoped>\n",
       "    .dataframe tbody tr th:only-of-type {\n",
       "        vertical-align: middle;\n",
       "    }\n",
       "\n",
       "    .dataframe tbody tr th {\n",
       "        vertical-align: top;\n",
       "    }\n",
       "\n",
       "    .dataframe thead th {\n",
       "        text-align: right;\n",
       "    }\n",
       "</style>\n",
       "<table border=\"1\" class=\"dataframe\">\n",
       "  <thead>\n",
       "    <tr style=\"text-align: right;\">\n",
       "      <th></th>\n",
       "      <th>org_name</th>\n",
       "      <th>repo_name</th>\n",
       "      <th>repo_url</th>\n",
       "      <th>description</th>\n",
       "      <th>language</th>\n",
       "      <th>star</th>\n",
       "      <th>forks</th>\n",
       "      <th>daily_star</th>\n",
       "      <th>date</th>\n",
       "      <th>trending_category</th>\n",
       "    </tr>\n",
       "  </thead>\n",
       "  <tbody>\n",
       "    <tr>\n",
       "      <th>0</th>\n",
       "      <td>terrastruct</td>\n",
       "      <td>d2</td>\n",
       "      <td>https://github.com/terrastruct/d2</td>\n",
       "      <td>D2 is a modern diagram scripting language that...</td>\n",
       "      <td>Go</td>\n",
       "      <td>17896.0</td>\n",
       "      <td>439.0</td>\n",
       "      <td>418</td>\n",
       "      <td>2024-11-17</td>\n",
       "      <td>go</td>\n",
       "    </tr>\n",
       "    <tr>\n",
       "      <th>3</th>\n",
       "      <td>jeessy2</td>\n",
       "      <td>ddns-go</td>\n",
       "      <td>https://github.com/jeessy2/ddns-go</td>\n",
       "      <td>Simple and easy to use DDNS. Support Aliyun, T...</td>\n",
       "      <td>Go</td>\n",
       "      <td>12117.0</td>\n",
       "      <td>1398.0</td>\n",
       "      <td>25</td>\n",
       "      <td>2024-11-17</td>\n",
       "      <td>go</td>\n",
       "    </tr>\n",
       "    <tr>\n",
       "      <th>6</th>\n",
       "      <td>daytonaio</td>\n",
       "      <td>daytona</td>\n",
       "      <td>https://github.com/daytonaio/daytona</td>\n",
       "      <td>The Open Source Dev Environment Manager.</td>\n",
       "      <td>Go</td>\n",
       "      <td>10583.0</td>\n",
       "      <td>839.0</td>\n",
       "      <td>155</td>\n",
       "      <td>2024-11-17</td>\n",
       "      <td>go</td>\n",
       "    </tr>\n",
       "    <tr>\n",
       "      <th>8</th>\n",
       "      <td>milvus-io</td>\n",
       "      <td>milvus</td>\n",
       "      <td>https://github.com/milvus-io/milvus</td>\n",
       "      <td>A cloud-native vector database, storage for ne...</td>\n",
       "      <td>Go</td>\n",
       "      <td>30702.0</td>\n",
       "      <td>2927.0</td>\n",
       "      <td>23</td>\n",
       "      <td>2024-11-17</td>\n",
       "      <td>go</td>\n",
       "    </tr>\n",
       "    <tr>\n",
       "      <th>13</th>\n",
       "      <td>FiloSottile</td>\n",
       "      <td>mkcert</td>\n",
       "      <td>https://github.com/FiloSottile/mkcert</td>\n",
       "      <td>A simple zero-config tool to make locally trus...</td>\n",
       "      <td>Go</td>\n",
       "      <td>50227.0</td>\n",
       "      <td>2626.0</td>\n",
       "      <td>94</td>\n",
       "      <td>2024-11-17</td>\n",
       "      <td>go</td>\n",
       "    </tr>\n",
       "    <tr>\n",
       "      <th>...</th>\n",
       "      <td>...</td>\n",
       "      <td>...</td>\n",
       "      <td>...</td>\n",
       "      <td>...</td>\n",
       "      <td>...</td>\n",
       "      <td>...</td>\n",
       "      <td>...</td>\n",
       "      <td>...</td>\n",
       "      <td>...</td>\n",
       "      <td>...</td>\n",
       "    </tr>\n",
       "    <tr>\n",
       "      <th>12412</th>\n",
       "      <td>kubernetes</td>\n",
       "      <td>kubernetes</td>\n",
       "      <td>https://github.com/kubernetes/kubernetes</td>\n",
       "      <td>Production-Grade Container Scheduling and Mana...</td>\n",
       "      <td>Go</td>\n",
       "      <td>112603.0</td>\n",
       "      <td>40092.0</td>\n",
       "      <td>54</td>\n",
       "      <td>2025-01-25</td>\n",
       "      <td>go</td>\n",
       "    </tr>\n",
       "    <tr>\n",
       "      <th>12414</th>\n",
       "      <td>ffuf</td>\n",
       "      <td>ffuf</td>\n",
       "      <td>https://github.com/ffuf/ffuf</td>\n",
       "      <td>Fast web fuzzer written in Go</td>\n",
       "      <td>Go</td>\n",
       "      <td>13207.0</td>\n",
       "      <td>1344.0</td>\n",
       "      <td>39</td>\n",
       "      <td>2025-01-25</td>\n",
       "      <td>go</td>\n",
       "    </tr>\n",
       "    <tr>\n",
       "      <th>12415</th>\n",
       "      <td>mk6i</td>\n",
       "      <td>retro-aim-server</td>\n",
       "      <td>https://github.com/mk6i/retro-aim-server</td>\n",
       "      <td>Open-source instant messaging server that make...</td>\n",
       "      <td>Go</td>\n",
       "      <td>495.0</td>\n",
       "      <td>25.0</td>\n",
       "      <td>42</td>\n",
       "      <td>2025-01-25</td>\n",
       "      <td>go</td>\n",
       "    </tr>\n",
       "    <tr>\n",
       "      <th>12416</th>\n",
       "      <td>cubefs</td>\n",
       "      <td>cubefs</td>\n",
       "      <td>https://github.com/cubefs/cubefs</td>\n",
       "      <td>cloud-native distributed storage</td>\n",
       "      <td>Go</td>\n",
       "      <td>4863.0</td>\n",
       "      <td>680.0</td>\n",
       "      <td>23</td>\n",
       "      <td>2025-01-25</td>\n",
       "      <td>go</td>\n",
       "    </tr>\n",
       "    <tr>\n",
       "      <th>12428</th>\n",
       "      <td>putyy</td>\n",
       "      <td>res-downloader</td>\n",
       "      <td>https://github.com/putyy/res-downloader</td>\n",
       "      <td>视频号、小程序、抖音、快手、小红书、直播流、m3u8、酷狗、QQ音乐等常见网络资源下载!</td>\n",
       "      <td>Go</td>\n",
       "      <td>4522.0</td>\n",
       "      <td>622.0</td>\n",
       "      <td>33</td>\n",
       "      <td>2025-01-25</td>\n",
       "      <td>go</td>\n",
       "    </tr>\n",
       "  </tbody>\n",
       "</table>\n",
       "<p>5203 rows × 10 columns</p>\n",
       "</div>"
      ],
      "text/plain": [
       "          org_name         repo_name  \\\n",
       "0      terrastruct                d2   \n",
       "3          jeessy2           ddns-go   \n",
       "6        daytonaio           daytona   \n",
       "8        milvus-io            milvus   \n",
       "13     FiloSottile            mkcert   \n",
       "...            ...               ...   \n",
       "12412   kubernetes        kubernetes   \n",
       "12414         ffuf              ffuf   \n",
       "12415         mk6i  retro-aim-server   \n",
       "12416       cubefs            cubefs   \n",
       "12428        putyy    res-downloader   \n",
       "\n",
       "                                       repo_url  \\\n",
       "0             https://github.com/terrastruct/d2   \n",
       "3            https://github.com/jeessy2/ddns-go   \n",
       "6          https://github.com/daytonaio/daytona   \n",
       "8           https://github.com/milvus-io/milvus   \n",
       "13        https://github.com/FiloSottile/mkcert   \n",
       "...                                         ...   \n",
       "12412  https://github.com/kubernetes/kubernetes   \n",
       "12414              https://github.com/ffuf/ffuf   \n",
       "12415  https://github.com/mk6i/retro-aim-server   \n",
       "12416          https://github.com/cubefs/cubefs   \n",
       "12428   https://github.com/putyy/res-downloader   \n",
       "\n",
       "                                             description language      star  \\\n",
       "0      D2 is a modern diagram scripting language that...       Go   17896.0   \n",
       "3      Simple and easy to use DDNS. Support Aliyun, T...       Go   12117.0   \n",
       "6               The Open Source Dev Environment Manager.       Go   10583.0   \n",
       "8      A cloud-native vector database, storage for ne...       Go   30702.0   \n",
       "13     A simple zero-config tool to make locally trus...       Go   50227.0   \n",
       "...                                                  ...      ...       ...   \n",
       "12412  Production-Grade Container Scheduling and Mana...       Go  112603.0   \n",
       "12414                      Fast web fuzzer written in Go       Go   13207.0   \n",
       "12415  Open-source instant messaging server that make...       Go     495.0   \n",
       "12416                   cloud-native distributed storage       Go    4863.0   \n",
       "12428       视频号、小程序、抖音、快手、小红书、直播流、m3u8、酷狗、QQ音乐等常见网络资源下载!       Go    4522.0   \n",
       "\n",
       "         forks  daily_star        date trending_category  \n",
       "0        439.0         418  2024-11-17                go  \n",
       "3       1398.0          25  2024-11-17                go  \n",
       "6        839.0         155  2024-11-17                go  \n",
       "8       2927.0          23  2024-11-17                go  \n",
       "13      2626.0          94  2024-11-17                go  \n",
       "...        ...         ...         ...               ...  \n",
       "12412  40092.0          54  2025-01-25                go  \n",
       "12414   1344.0          39  2025-01-25                go  \n",
       "12415     25.0          42  2025-01-25                go  \n",
       "12416    680.0          23  2025-01-25                go  \n",
       "12428    622.0          33  2025-01-25                go  \n",
       "\n",
       "[5203 rows x 10 columns]"
      ]
     },
     "execution_count": 37,
     "metadata": {},
     "output_type": "execute_result"
    }
   ],
   "source": [
    "df.loc[df['daily_star'] > 20]"
   ]
  },
  {
   "cell_type": "code",
   "execution_count": 38,
   "id": "acd5fb7e",
   "metadata": {
    "execution": {
     "iopub.execute_input": "2025-01-26T09:06:10.291924Z",
     "iopub.status.busy": "2025-01-26T09:06:10.291604Z",
     "iopub.status.idle": "2025-01-26T09:06:10.308893Z",
     "shell.execute_reply": "2025-01-26T09:06:10.307907Z"
    },
    "papermill": {
     "duration": 0.043724,
     "end_time": "2025-01-26T09:06:10.310630",
     "exception": false,
     "start_time": "2025-01-26T09:06:10.266906",
     "status": "completed"
    },
    "tags": []
   },
   "outputs": [
    {
     "data": {
      "text/html": [
       "<div>\n",
       "<style scoped>\n",
       "    .dataframe tbody tr th:only-of-type {\n",
       "        vertical-align: middle;\n",
       "    }\n",
       "\n",
       "    .dataframe tbody tr th {\n",
       "        vertical-align: top;\n",
       "    }\n",
       "\n",
       "    .dataframe thead th {\n",
       "        text-align: right;\n",
       "    }\n",
       "</style>\n",
       "<table border=\"1\" class=\"dataframe\">\n",
       "  <thead>\n",
       "    <tr style=\"text-align: right;\">\n",
       "      <th></th>\n",
       "      <th>org_name</th>\n",
       "      <th>repo_name</th>\n",
       "      <th>repo_url</th>\n",
       "      <th>description</th>\n",
       "      <th>language</th>\n",
       "      <th>star</th>\n",
       "      <th>forks</th>\n",
       "      <th>daily_star</th>\n",
       "      <th>date</th>\n",
       "      <th>trending_category</th>\n",
       "    </tr>\n",
       "  </thead>\n",
       "  <tbody>\n",
       "    <tr>\n",
       "      <th>0</th>\n",
       "      <td>terrastruct</td>\n",
       "      <td>d2</td>\n",
       "      <td>https://github.com/terrastruct/d2</td>\n",
       "      <td>D2 is a modern diagram scripting language that...</td>\n",
       "      <td>Go</td>\n",
       "      <td>17896.0</td>\n",
       "      <td>439.0</td>\n",
       "      <td>418</td>\n",
       "      <td>2024-11-17</td>\n",
       "      <td>go</td>\n",
       "    </tr>\n",
       "    <tr>\n",
       "      <th>1</th>\n",
       "      <td>tinygo-org</td>\n",
       "      <td>tinygo</td>\n",
       "      <td>https://github.com/tinygo-org/tinygo</td>\n",
       "      <td>Go compiler for small places. Microcontrollers...</td>\n",
       "      <td>Go</td>\n",
       "      <td>15463.0</td>\n",
       "      <td>912.0</td>\n",
       "      <td>6</td>\n",
       "      <td>2024-11-17</td>\n",
       "      <td>go</td>\n",
       "    </tr>\n",
       "    <tr>\n",
       "      <th>2</th>\n",
       "      <td>Melkeydev</td>\n",
       "      <td>go-blueprint</td>\n",
       "      <td>https://github.com/Melkeydev/go-blueprint</td>\n",
       "      <td>Go-blueprint allows users to spin up a quick G...</td>\n",
       "      <td>Go</td>\n",
       "      <td>4608.0</td>\n",
       "      <td>276.0</td>\n",
       "      <td>9</td>\n",
       "      <td>2024-11-17</td>\n",
       "      <td>go</td>\n",
       "    </tr>\n",
       "    <tr>\n",
       "      <th>3</th>\n",
       "      <td>jeessy2</td>\n",
       "      <td>ddns-go</td>\n",
       "      <td>https://github.com/jeessy2/ddns-go</td>\n",
       "      <td>Simple and easy to use DDNS. Support Aliyun, T...</td>\n",
       "      <td>Go</td>\n",
       "      <td>12117.0</td>\n",
       "      <td>1398.0</td>\n",
       "      <td>25</td>\n",
       "      <td>2024-11-17</td>\n",
       "      <td>go</td>\n",
       "    </tr>\n",
       "    <tr>\n",
       "      <th>4</th>\n",
       "      <td>JanDeDobbeleer</td>\n",
       "      <td>oh-my-posh</td>\n",
       "      <td>https://github.com/JanDeDobbeleer/oh-my-posh</td>\n",
       "      <td>The most customisable and low-latency cross pl...</td>\n",
       "      <td>Go</td>\n",
       "      <td>17450.0</td>\n",
       "      <td>2390.0</td>\n",
       "      <td>16</td>\n",
       "      <td>2024-11-17</td>\n",
       "      <td>go</td>\n",
       "    </tr>\n",
       "    <tr>\n",
       "      <th>...</th>\n",
       "      <td>...</td>\n",
       "      <td>...</td>\n",
       "      <td>...</td>\n",
       "      <td>...</td>\n",
       "      <td>...</td>\n",
       "      <td>...</td>\n",
       "      <td>...</td>\n",
       "      <td>...</td>\n",
       "      <td>...</td>\n",
       "      <td>...</td>\n",
       "    </tr>\n",
       "    <tr>\n",
       "      <th>12427</th>\n",
       "      <td>prometheus-community</td>\n",
       "      <td>postgres_exporter</td>\n",
       "      <td>https://github.com/prometheus-community/postgr...</td>\n",
       "      <td>A PostgreSQL metric exporter for Prometheus</td>\n",
       "      <td>Go</td>\n",
       "      <td>2894.0</td>\n",
       "      <td>760.0</td>\n",
       "      <td>2</td>\n",
       "      <td>2025-01-25</td>\n",
       "      <td>go</td>\n",
       "    </tr>\n",
       "    <tr>\n",
       "      <th>12428</th>\n",
       "      <td>putyy</td>\n",
       "      <td>res-downloader</td>\n",
       "      <td>https://github.com/putyy/res-downloader</td>\n",
       "      <td>视频号、小程序、抖音、快手、小红书、直播流、m3u8、酷狗、QQ音乐等常见网络资源下载!</td>\n",
       "      <td>Go</td>\n",
       "      <td>4522.0</td>\n",
       "      <td>622.0</td>\n",
       "      <td>33</td>\n",
       "      <td>2025-01-25</td>\n",
       "      <td>go</td>\n",
       "    </tr>\n",
       "    <tr>\n",
       "      <th>12429</th>\n",
       "      <td>metallb</td>\n",
       "      <td>metallb</td>\n",
       "      <td>https://github.com/metallb/metallb</td>\n",
       "      <td>A network load-balancer implementation for Kub...</td>\n",
       "      <td>Go</td>\n",
       "      <td>7255.0</td>\n",
       "      <td>930.0</td>\n",
       "      <td>4</td>\n",
       "      <td>2025-01-25</td>\n",
       "      <td>go</td>\n",
       "    </tr>\n",
       "    <tr>\n",
       "      <th>12430</th>\n",
       "      <td>spf13</td>\n",
       "      <td>cobra</td>\n",
       "      <td>https://github.com/spf13/cobra</td>\n",
       "      <td>A Commander for modern Go CLI interactions</td>\n",
       "      <td>Go</td>\n",
       "      <td>38964.0</td>\n",
       "      <td>2874.0</td>\n",
       "      <td>13</td>\n",
       "      <td>2025-01-25</td>\n",
       "      <td>go</td>\n",
       "    </tr>\n",
       "    <tr>\n",
       "      <th>12431</th>\n",
       "      <td>moby</td>\n",
       "      <td>buildkit</td>\n",
       "      <td>https://github.com/moby/buildkit</td>\n",
       "      <td>concurrent, cache-efficient, and Dockerfile-ag...</td>\n",
       "      <td>Go</td>\n",
       "      <td>8419.0</td>\n",
       "      <td>1201.0</td>\n",
       "      <td>5</td>\n",
       "      <td>2025-01-25</td>\n",
       "      <td>go</td>\n",
       "    </tr>\n",
       "  </tbody>\n",
       "</table>\n",
       "<p>3552 rows × 10 columns</p>\n",
       "</div>"
      ],
      "text/plain": [
       "                   org_name          repo_name  \\\n",
       "0               terrastruct                 d2   \n",
       "1                tinygo-org             tinygo   \n",
       "2                 Melkeydev       go-blueprint   \n",
       "3                   jeessy2            ddns-go   \n",
       "4            JanDeDobbeleer         oh-my-posh   \n",
       "...                     ...                ...   \n",
       "12427  prometheus-community  postgres_exporter   \n",
       "12428                 putyy     res-downloader   \n",
       "12429               metallb            metallb   \n",
       "12430                 spf13              cobra   \n",
       "12431                  moby           buildkit   \n",
       "\n",
       "                                                repo_url  \\\n",
       "0                      https://github.com/terrastruct/d2   \n",
       "1                   https://github.com/tinygo-org/tinygo   \n",
       "2              https://github.com/Melkeydev/go-blueprint   \n",
       "3                     https://github.com/jeessy2/ddns-go   \n",
       "4           https://github.com/JanDeDobbeleer/oh-my-posh   \n",
       "...                                                  ...   \n",
       "12427  https://github.com/prometheus-community/postgr...   \n",
       "12428            https://github.com/putyy/res-downloader   \n",
       "12429                 https://github.com/metallb/metallb   \n",
       "12430                     https://github.com/spf13/cobra   \n",
       "12431                   https://github.com/moby/buildkit   \n",
       "\n",
       "                                             description language     star  \\\n",
       "0      D2 is a modern diagram scripting language that...       Go  17896.0   \n",
       "1      Go compiler for small places. Microcontrollers...       Go  15463.0   \n",
       "2      Go-blueprint allows users to spin up a quick G...       Go   4608.0   \n",
       "3      Simple and easy to use DDNS. Support Aliyun, T...       Go  12117.0   \n",
       "4      The most customisable and low-latency cross pl...       Go  17450.0   \n",
       "...                                                  ...      ...      ...   \n",
       "12427        A PostgreSQL metric exporter for Prometheus       Go   2894.0   \n",
       "12428       视频号、小程序、抖音、快手、小红书、直播流、m3u8、酷狗、QQ音乐等常见网络资源下载!       Go   4522.0   \n",
       "12429  A network load-balancer implementation for Kub...       Go   7255.0   \n",
       "12430         A Commander for modern Go CLI interactions       Go  38964.0   \n",
       "12431  concurrent, cache-efficient, and Dockerfile-ag...       Go   8419.0   \n",
       "\n",
       "        forks  daily_star        date trending_category  \n",
       "0       439.0         418  2024-11-17                go  \n",
       "1       912.0           6  2024-11-17                go  \n",
       "2       276.0           9  2024-11-17                go  \n",
       "3      1398.0          25  2024-11-17                go  \n",
       "4      2390.0          16  2024-11-17                go  \n",
       "...       ...         ...         ...               ...  \n",
       "12427   760.0           2  2025-01-25                go  \n",
       "12428   622.0          33  2025-01-25                go  \n",
       "12429   930.0           4  2025-01-25                go  \n",
       "12430  2874.0          13  2025-01-25                go  \n",
       "12431  1201.0           5  2025-01-25                go  \n",
       "\n",
       "[3552 rows x 10 columns]"
      ]
     },
     "execution_count": 38,
     "metadata": {},
     "output_type": "execute_result"
    }
   ],
   "source": [
    "df.loc[df['language'].isin(['Go', 'Python'])]"
   ]
  },
  {
   "cell_type": "code",
   "execution_count": 39,
   "id": "b9e25e11",
   "metadata": {
    "execution": {
     "iopub.execute_input": "2025-01-26T09:06:10.360896Z",
     "iopub.status.busy": "2025-01-26T09:06:10.360575Z",
     "iopub.status.idle": "2025-01-26T09:06:10.374205Z",
     "shell.execute_reply": "2025-01-26T09:06:10.373117Z"
    },
    "papermill": {
     "duration": 0.04015,
     "end_time": "2025-01-26T09:06:10.375811",
     "exception": false,
     "start_time": "2025-01-26T09:06:10.335661",
     "status": "completed"
    },
    "tags": []
   },
   "outputs": [
    {
     "data": {
      "text/html": [
       "<div>\n",
       "<style scoped>\n",
       "    .dataframe tbody tr th:only-of-type {\n",
       "        vertical-align: middle;\n",
       "    }\n",
       "\n",
       "    .dataframe tbody tr th {\n",
       "        vertical-align: top;\n",
       "    }\n",
       "\n",
       "    .dataframe thead th {\n",
       "        text-align: right;\n",
       "    }\n",
       "</style>\n",
       "<table border=\"1\" class=\"dataframe\">\n",
       "  <thead>\n",
       "    <tr style=\"text-align: right;\">\n",
       "      <th></th>\n",
       "      <th>org_name</th>\n",
       "      <th>repo_name</th>\n",
       "      <th>repo_url</th>\n",
       "      <th>description</th>\n",
       "      <th>language</th>\n",
       "      <th>star</th>\n",
       "      <th>forks</th>\n",
       "      <th>daily_star</th>\n",
       "      <th>date</th>\n",
       "      <th>trending_category</th>\n",
       "    </tr>\n",
       "  </thead>\n",
       "  <tbody>\n",
       "    <tr>\n",
       "      <th>0</th>\n",
       "      <td>terrastruct</td>\n",
       "      <td>d2</td>\n",
       "      <td>https://github.com/terrastruct/d2</td>\n",
       "      <td>D2 is a modern diagram scripting language that...</td>\n",
       "      <td>Go</td>\n",
       "      <td>17896.0</td>\n",
       "      <td>439.0</td>\n",
       "      <td>418</td>\n",
       "      <td>2024-11-17</td>\n",
       "      <td>go</td>\n",
       "    </tr>\n",
       "    <tr>\n",
       "      <th>1</th>\n",
       "      <td>tinygo-org</td>\n",
       "      <td>tinygo</td>\n",
       "      <td>https://github.com/tinygo-org/tinygo</td>\n",
       "      <td>Go compiler for small places. Microcontrollers...</td>\n",
       "      <td>Go</td>\n",
       "      <td>15463.0</td>\n",
       "      <td>912.0</td>\n",
       "      <td>6</td>\n",
       "      <td>2024-11-17</td>\n",
       "      <td>go</td>\n",
       "    </tr>\n",
       "    <tr>\n",
       "      <th>2</th>\n",
       "      <td>Melkeydev</td>\n",
       "      <td>go-blueprint</td>\n",
       "      <td>https://github.com/Melkeydev/go-blueprint</td>\n",
       "      <td>Go-blueprint allows users to spin up a quick G...</td>\n",
       "      <td>Go</td>\n",
       "      <td>4608.0</td>\n",
       "      <td>276.0</td>\n",
       "      <td>9</td>\n",
       "      <td>2024-11-17</td>\n",
       "      <td>go</td>\n",
       "    </tr>\n",
       "    <tr>\n",
       "      <th>4</th>\n",
       "      <td>JanDeDobbeleer</td>\n",
       "      <td>oh-my-posh</td>\n",
       "      <td>https://github.com/JanDeDobbeleer/oh-my-posh</td>\n",
       "      <td>The most customisable and low-latency cross pl...</td>\n",
       "      <td>Go</td>\n",
       "      <td>17450.0</td>\n",
       "      <td>2390.0</td>\n",
       "      <td>16</td>\n",
       "      <td>2024-11-17</td>\n",
       "      <td>go</td>\n",
       "    </tr>\n",
       "  </tbody>\n",
       "</table>\n",
       "</div>"
      ],
      "text/plain": [
       "         org_name     repo_name                                      repo_url  \\\n",
       "0     terrastruct            d2             https://github.com/terrastruct/d2   \n",
       "1      tinygo-org        tinygo          https://github.com/tinygo-org/tinygo   \n",
       "2       Melkeydev  go-blueprint     https://github.com/Melkeydev/go-blueprint   \n",
       "4  JanDeDobbeleer    oh-my-posh  https://github.com/JanDeDobbeleer/oh-my-posh   \n",
       "\n",
       "                                         description language     star  \\\n",
       "0  D2 is a modern diagram scripting language that...       Go  17896.0   \n",
       "1  Go compiler for small places. Microcontrollers...       Go  15463.0   \n",
       "2  Go-blueprint allows users to spin up a quick G...       Go   4608.0   \n",
       "4  The most customisable and low-latency cross pl...       Go  17450.0   \n",
       "\n",
       "    forks  daily_star        date trending_category  \n",
       "0   439.0         418  2024-11-17                go  \n",
       "1   912.0           6  2024-11-17                go  \n",
       "2   276.0           9  2024-11-17                go  \n",
       "4  2390.0          16  2024-11-17                go  "
      ]
     },
     "execution_count": 39,
     "metadata": {},
     "output_type": "execute_result"
    }
   ],
   "source": [
    "df.loc[[0,1,2,4]]"
   ]
  },
  {
   "cell_type": "code",
   "execution_count": 40,
   "id": "71654450",
   "metadata": {
    "execution": {
     "iopub.execute_input": "2025-01-26T09:06:10.425367Z",
     "iopub.status.busy": "2025-01-26T09:06:10.424949Z",
     "iopub.status.idle": "2025-01-26T09:06:10.431688Z",
     "shell.execute_reply": "2025-01-26T09:06:10.430767Z"
    },
    "papermill": {
     "duration": 0.033495,
     "end_time": "2025-01-26T09:06:10.433342",
     "exception": false,
     "start_time": "2025-01-26T09:06:10.399847",
     "status": "completed"
    },
    "tags": []
   },
   "outputs": [
    {
     "data": {
      "text/plain": [
       "org_name                                                JanDeDobbeleer\n",
       "repo_name                                                   oh-my-posh\n",
       "repo_url                  https://github.com/JanDeDobbeleer/oh-my-posh\n",
       "description          The most customisable and low-latency cross pl...\n",
       "language                                                            Go\n",
       "star                                                           17450.0\n",
       "forks                                                           2390.0\n",
       "daily_star                                                          16\n",
       "date                                                        2024-11-17\n",
       "trending_category                                                   go\n",
       "Name: 4, dtype: object"
      ]
     },
     "execution_count": 40,
     "metadata": {},
     "output_type": "execute_result"
    }
   ],
   "source": [
    "df.loc[4]"
   ]
  },
  {
   "cell_type": "code",
   "execution_count": 41,
   "id": "60a5f102",
   "metadata": {
    "execution": {
     "iopub.execute_input": "2025-01-26T09:06:10.483633Z",
     "iopub.status.busy": "2025-01-26T09:06:10.483268Z",
     "iopub.status.idle": "2025-01-26T09:06:10.490083Z",
     "shell.execute_reply": "2025-01-26T09:06:10.489135Z"
    },
    "papermill": {
     "duration": 0.033835,
     "end_time": "2025-01-26T09:06:10.491765",
     "exception": false,
     "start_time": "2025-01-26T09:06:10.457930",
     "status": "completed"
    },
    "tags": []
   },
   "outputs": [
    {
     "data": {
      "text/plain": [
       "org_name                                                JanDeDobbeleer\n",
       "repo_name                                                   oh-my-posh\n",
       "repo_url                  https://github.com/JanDeDobbeleer/oh-my-posh\n",
       "description          The most customisable and low-latency cross pl...\n",
       "language                                                            Go\n",
       "star                                                           17450.0\n",
       "forks                                                           2390.0\n",
       "daily_star                                                          16\n",
       "date                                                        2024-11-17\n",
       "trending_category                                                   go\n",
       "Name: 4, dtype: object"
      ]
     },
     "execution_count": 41,
     "metadata": {},
     "output_type": "execute_result"
    }
   ],
   "source": [
    "df.iloc[4]"
   ]
  },
  {
   "cell_type": "code",
   "execution_count": 42,
   "id": "562b4d74",
   "metadata": {
    "execution": {
     "iopub.execute_input": "2025-01-26T09:06:10.543164Z",
     "iopub.status.busy": "2025-01-26T09:06:10.542793Z",
     "iopub.status.idle": "2025-01-26T09:06:10.552229Z",
     "shell.execute_reply": "2025-01-26T09:06:10.551207Z"
    },
    "papermill": {
     "duration": 0.036488,
     "end_time": "2025-01-26T09:06:10.554135",
     "exception": false,
     "start_time": "2025-01-26T09:06:10.517647",
     "status": "completed"
    },
    "tags": []
   },
   "outputs": [
    {
     "data": {
      "text/plain": [
       "count     12276.000000\n",
       "mean      23532.086347\n",
       "std       39536.411889\n",
       "min          20.000000\n",
       "25%        4589.000000\n",
       "50%       11849.000000\n",
       "75%       26171.000000\n",
       "max      408622.000000\n",
       "Name: star, dtype: float64"
      ]
     },
     "execution_count": 42,
     "metadata": {},
     "output_type": "execute_result"
    }
   ],
   "source": [
    "df['star'].describe(include='all')"
   ]
  },
  {
   "cell_type": "code",
   "execution_count": null,
   "id": "ba72ef86",
   "metadata": {
    "papermill": {
     "duration": 0.024275,
     "end_time": "2025-01-26T09:06:10.603389",
     "exception": false,
     "start_time": "2025-01-26T09:06:10.579114",
     "status": "completed"
    },
    "tags": []
   },
   "outputs": [],
   "source": []
  },
  {
   "cell_type": "code",
   "execution_count": 43,
   "id": "2307f019",
   "metadata": {
    "execution": {
     "iopub.execute_input": "2025-01-26T09:06:10.653201Z",
     "iopub.status.busy": "2025-01-26T09:06:10.652805Z",
     "iopub.status.idle": "2025-01-26T09:06:10.947586Z",
     "shell.execute_reply": "2025-01-26T09:06:10.946540Z"
    },
    "papermill": {
     "duration": 0.321528,
     "end_time": "2025-01-26T09:06:10.949150",
     "exception": false,
     "start_time": "2025-01-26T09:06:10.627622",
     "status": "completed"
    },
    "tags": []
   },
   "outputs": [
    {
     "data": {
      "text/plain": [
       "<Axes: >"
      ]
     },
     "execution_count": 43,
     "metadata": {},
     "output_type": "execute_result"
    },
    {
     "data": {
      "image/png": "[encoded data removed]",
      "text/plain": [
       "<Figure size 640x480 with 1 Axes>"
      ]
     },
     "metadata": {},
     "output_type": "display_data"
    }
   ],
   "source": [
    "popular_repo = df.loc[df['star'] > df['star'].mean()]\n",
    "popular_repo.head(10).plot()"
   ]
  },
  {
   "cell_type": "code",
   "execution_count": 44,
   "id": "c61e547e",
   "metadata": {
    "execution": {
     "iopub.execute_input": "2025-01-26T09:06:11.001084Z",
     "iopub.status.busy": "2025-01-26T09:06:11.000712Z",
     "iopub.status.idle": "2025-01-26T09:06:11.014506Z",
     "shell.execute_reply": "2025-01-26T09:06:11.013545Z"
    },
    "papermill": {
     "duration": 0.041452,
     "end_time": "2025-01-26T09:06:11.016079",
     "exception": false,
     "start_time": "2025-01-26T09:06:10.974627",
     "status": "completed"
    },
    "tags": []
   },
   "outputs": [
    {
     "data": {
      "text/html": [
       "<div>\n",
       "<style scoped>\n",
       "    .dataframe tbody tr th:only-of-type {\n",
       "        vertical-align: middle;\n",
       "    }\n",
       "\n",
       "    .dataframe tbody tr th {\n",
       "        vertical-align: top;\n",
       "    }\n",
       "\n",
       "    .dataframe thead th {\n",
       "        text-align: right;\n",
       "    }\n",
       "</style>\n",
       "<table border=\"1\" class=\"dataframe\">\n",
       "  <thead>\n",
       "    <tr style=\"text-align: right;\">\n",
       "      <th></th>\n",
       "      <th>org_name</th>\n",
       "      <th>repo_name</th>\n",
       "      <th>repo_url</th>\n",
       "      <th>description</th>\n",
       "      <th>language</th>\n",
       "      <th>star</th>\n",
       "      <th>forks</th>\n",
       "      <th>daily_star</th>\n",
       "      <th>date</th>\n",
       "      <th>trending_category</th>\n",
       "    </tr>\n",
       "  </thead>\n",
       "  <tbody>\n",
       "    <tr>\n",
       "      <th>5</th>\n",
       "      <td>v2fly</td>\n",
       "      <td>v2ray-core</td>\n",
       "      <td>https://github.com/v2fly/v2ray-core</td>\n",
       "      <td>A platform for building proxies to bypass netw...</td>\n",
       "      <td>Go</td>\n",
       "      <td>29573.0</td>\n",
       "      <td>4663.0</td>\n",
       "      <td>12</td>\n",
       "      <td>2024-11-17</td>\n",
       "      <td>go</td>\n",
       "    </tr>\n",
       "    <tr>\n",
       "      <th>8</th>\n",
       "      <td>milvus-io</td>\n",
       "      <td>milvus</td>\n",
       "      <td>https://github.com/milvus-io/milvus</td>\n",
       "      <td>A cloud-native vector database, storage for ne...</td>\n",
       "      <td>Go</td>\n",
       "      <td>30702.0</td>\n",
       "      <td>2927.0</td>\n",
       "      <td>23</td>\n",
       "      <td>2024-11-17</td>\n",
       "      <td>go</td>\n",
       "    </tr>\n",
       "    <tr>\n",
       "      <th>13</th>\n",
       "      <td>FiloSottile</td>\n",
       "      <td>mkcert</td>\n",
       "      <td>https://github.com/FiloSottile/mkcert</td>\n",
       "      <td>A simple zero-config tool to make locally trus...</td>\n",
       "      <td>Go</td>\n",
       "      <td>50227.0</td>\n",
       "      <td>2626.0</td>\n",
       "      <td>94</td>\n",
       "      <td>2024-11-17</td>\n",
       "      <td>go</td>\n",
       "    </tr>\n",
       "    <tr>\n",
       "      <th>17</th>\n",
       "      <td>XTLS</td>\n",
       "      <td>Xray-core</td>\n",
       "      <td>https://github.com/XTLS/Xray-core</td>\n",
       "      <td>Xray, Penetrates Everything. Also the best v2r...</td>\n",
       "      <td>Go</td>\n",
       "      <td>25613.0</td>\n",
       "      <td>3956.0</td>\n",
       "      <td>21</td>\n",
       "      <td>2024-11-17</td>\n",
       "      <td>go</td>\n",
       "    </tr>\n",
       "    <tr>\n",
       "      <th>19</th>\n",
       "      <td>junegunn</td>\n",
       "      <td>fzf</td>\n",
       "      <td>https://github.com/junegunn/fzf</td>\n",
       "      <td>🌸 A command-line fuzzy finder</td>\n",
       "      <td>Go</td>\n",
       "      <td>65610.0</td>\n",
       "      <td>2405.0</td>\n",
       "      <td>37</td>\n",
       "      <td>2024-11-17</td>\n",
       "      <td>go</td>\n",
       "    </tr>\n",
       "  </tbody>\n",
       "</table>\n",
       "</div>"
      ],
      "text/plain": [
       "       org_name   repo_name                               repo_url  \\\n",
       "5         v2fly  v2ray-core    https://github.com/v2fly/v2ray-core   \n",
       "8     milvus-io      milvus    https://github.com/milvus-io/milvus   \n",
       "13  FiloSottile      mkcert  https://github.com/FiloSottile/mkcert   \n",
       "17         XTLS   Xray-core      https://github.com/XTLS/Xray-core   \n",
       "19     junegunn         fzf        https://github.com/junegunn/fzf   \n",
       "\n",
       "                                          description language     star  \\\n",
       "5   A platform for building proxies to bypass netw...       Go  29573.0   \n",
       "8   A cloud-native vector database, storage for ne...       Go  30702.0   \n",
       "13  A simple zero-config tool to make locally trus...       Go  50227.0   \n",
       "17  Xray, Penetrates Everything. Also the best v2r...       Go  25613.0   \n",
       "19                      🌸 A command-line fuzzy finder       Go  65610.0   \n",
       "\n",
       "     forks  daily_star        date trending_category  \n",
       "5   4663.0          12  2024-11-17                go  \n",
       "8   2927.0          23  2024-11-17                go  \n",
       "13  2626.0          94  2024-11-17                go  \n",
       "17  3956.0          21  2024-11-17                go  \n",
       "19  2405.0          37  2024-11-17                go  "
      ]
     },
     "execution_count": 44,
     "metadata": {},
     "output_type": "execute_result"
    }
   ],
   "source": [
    "popular_repo.head()"
   ]
  },
  {
   "cell_type": "code",
   "execution_count": 45,
   "id": "880ec9b8",
   "metadata": {
    "execution": {
     "iopub.execute_input": "2025-01-26T09:06:11.071649Z",
     "iopub.status.busy": "2025-01-26T09:06:11.071252Z",
     "iopub.status.idle": "2025-01-26T09:06:11.080956Z",
     "shell.execute_reply": "2025-01-26T09:06:11.080039Z"
    },
    "papermill": {
     "duration": 0.038837,
     "end_time": "2025-01-26T09:06:11.082609",
     "exception": false,
     "start_time": "2025-01-26T09:06:11.043772",
     "status": "completed"
    },
    "tags": []
   },
   "outputs": [
    {
     "data": {
      "text/plain": [
       "count    12432.000000\n",
       "mean        76.185972\n",
       "std        239.753693\n",
       "min          0.000000\n",
       "25%          5.000000\n",
       "50%         15.000000\n",
       "75%         50.000000\n",
       "max       8559.000000\n",
       "Name: daily_star, dtype: float64"
      ]
     },
     "execution_count": 45,
     "metadata": {},
     "output_type": "execute_result"
    }
   ],
   "source": [
    "daily_star = duplicate_df['daily_star']\n",
    "daily_star.describe()"
   ]
  },
  {
   "cell_type": "code",
   "execution_count": 46,
   "id": "6e7e0b15",
   "metadata": {
    "execution": {
     "iopub.execute_input": "2025-01-26T09:06:11.138966Z",
     "iopub.status.busy": "2025-01-26T09:06:11.138595Z",
     "iopub.status.idle": "2025-01-26T09:06:11.515709Z",
     "shell.execute_reply": "2025-01-26T09:06:11.514511Z"
    },
    "papermill": {
     "duration": 0.407257,
     "end_time": "2025-01-26T09:06:11.517474",
     "exception": false,
     "start_time": "2025-01-26T09:06:11.110217",
     "status": "completed"
    },
    "tags": []
   },
   "outputs": [
    {
     "data": {
      "text/plain": [
       "<Axes: >"
      ]
     },
     "execution_count": 46,
     "metadata": {},
     "output_type": "execute_result"
    },
    {
     "data": {
      "image/png": "[encoded data removed]",
      "text/plain": [
       "<Figure size 640x480 with 1 Axes>"
      ]
     },
     "metadata": {},
     "output_type": "display_data"
    }
   ],
   "source": [
    "popular_daily_star = duplicate_df.loc[daily_star > daily_star.mean()]\n",
    "popular_daily_star.head(10).plot()"
   ]
  },
  {
   "cell_type": "code",
   "execution_count": 47,
   "id": "b7499f7a",
   "metadata": {
    "execution": {
     "iopub.execute_input": "2025-01-26T09:06:11.575643Z",
     "iopub.status.busy": "2025-01-26T09:06:11.575236Z",
     "iopub.status.idle": "2025-01-26T09:06:11.909345Z",
     "shell.execute_reply": "2025-01-26T09:06:11.908212Z"
    },
    "papermill": {
     "duration": 0.364752,
     "end_time": "2025-01-26T09:06:11.911021",
     "exception": false,
     "start_time": "2025-01-26T09:06:11.546269",
     "status": "completed"
    },
    "tags": []
   },
   "outputs": [
    {
     "data": {
      "text/plain": [
       "<Axes: >"
      ]
     },
     "execution_count": 47,
     "metadata": {},
     "output_type": "execute_result"
    },
    {
     "data": {
      "image/png": "[encoded data removed]",
      "text/plain": [
       "<Figure size 640x480 with 1 Axes>"
      ]
     },
     "metadata": {},
     "output_type": "display_data"
    }
   ],
   "source": [
    "sns.scatterplot(data=popular_daily_star.head(10))"
   ]
  },
  {
   "cell_type": "code",
   "execution_count": 48,
   "id": "a66895b4",
   "metadata": {
    "execution": {
     "iopub.execute_input": "2025-01-26T09:06:11.972489Z",
     "iopub.status.busy": "2025-01-26T09:06:11.972109Z",
     "iopub.status.idle": "2025-01-26T09:06:12.374349Z",
     "shell.execute_reply": "2025-01-26T09:06:12.373368Z"
    },
    "papermill": {
     "duration": 0.434649,
     "end_time": "2025-01-26T09:06:12.376070",
     "exception": false,
     "start_time": "2025-01-26T09:06:11.941421",
     "status": "completed"
    },
    "tags": []
   },
   "outputs": [
    {
     "data": {
      "text/plain": [
       "<Axes: xlabel='count', ylabel='language'>"
      ]
     },
     "execution_count": 48,
     "metadata": {},
     "output_type": "execute_result"
    },
    {
     "data": {
      "image/png": "[encoded data removed]",
      "text/plain": [
       "<Figure size 640x480 with 1 Axes>"
      ]
     },
     "metadata": {},
     "output_type": "display_data"
    }
   ],
   "source": [
    "sns.countplot(data=popular_daily_star, y='language')"
   ]
  },
  {
   "cell_type": "code",
   "execution_count": 49,
   "id": "07477b3c",
   "metadata": {
    "execution": {
     "iopub.execute_input": "2025-01-26T09:06:12.440478Z",
     "iopub.status.busy": "2025-01-26T09:06:12.440095Z",
     "iopub.status.idle": "2025-01-26T09:06:12.445570Z",
     "shell.execute_reply": "2025-01-26T09:06:12.444744Z"
    },
    "papermill": {
     "duration": 0.039772,
     "end_time": "2025-01-26T09:06:12.447115",
     "exception": false,
     "start_time": "2025-01-26T09:06:12.407343",
     "status": "completed"
    },
    "tags": []
   },
   "outputs": [],
   "source": [
    "lan_col = duplicate_df.loc[duplicate_df.trending_category.isin(['Python', 'TypeScript'])]"
   ]
  },
  {
   "cell_type": "code",
   "execution_count": 50,
   "id": "3825488c",
   "metadata": {
    "execution": {
     "iopub.execute_input": "2025-01-26T09:06:12.510880Z",
     "iopub.status.busy": "2025-01-26T09:06:12.510549Z",
     "iopub.status.idle": "2025-01-26T09:06:12.519234Z",
     "shell.execute_reply": "2025-01-26T09:06:12.518354Z"
    },
    "papermill": {
     "duration": 0.04208,
     "end_time": "2025-01-26T09:06:12.520822",
     "exception": false,
     "start_time": "2025-01-26T09:06:12.478742",
     "status": "completed"
    },
    "tags": []
   },
   "outputs": [
    {
     "data": {
      "text/html": [
       "<div>\n",
       "<style scoped>\n",
       "    .dataframe tbody tr th:only-of-type {\n",
       "        vertical-align: middle;\n",
       "    }\n",
       "\n",
       "    .dataframe tbody tr th {\n",
       "        vertical-align: top;\n",
       "    }\n",
       "\n",
       "    .dataframe thead th {\n",
       "        text-align: right;\n",
       "    }\n",
       "</style>\n",
       "<table border=\"1\" class=\"dataframe\">\n",
       "  <thead>\n",
       "    <tr style=\"text-align: right;\">\n",
       "      <th></th>\n",
       "      <th>org_name</th>\n",
       "      <th>repo_name</th>\n",
       "      <th>repo_url</th>\n",
       "      <th>description</th>\n",
       "      <th>language</th>\n",
       "      <th>star</th>\n",
       "      <th>forks</th>\n",
       "      <th>daily_star</th>\n",
       "      <th>date</th>\n",
       "      <th>trending_category</th>\n",
       "    </tr>\n",
       "  </thead>\n",
       "  <tbody>\n",
       "  </tbody>\n",
       "</table>\n",
       "</div>"
      ],
      "text/plain": [
       "Empty DataFrame\n",
       "Columns: [org_name, repo_name, repo_url, description, language, star, forks, daily_star, date, trending_category]\n",
       "Index: []"
      ]
     },
     "execution_count": 50,
     "metadata": {},
     "output_type": "execute_result"
    }
   ],
   "source": [
    "lan_col"
   ]
  },
  {
   "cell_type": "code",
   "execution_count": null,
   "id": "cfdd39a3",
   "metadata": {
    "papermill": {
     "duration": 0.031245,
     "end_time": "2025-01-26T09:06:12.583170",
     "exception": false,
     "start_time": "2025-01-26T09:06:12.551925",
     "status": "completed"
    },
    "tags": []
   },
   "outputs": [],
   "source": []
  },
  {
   "cell_type": "code",
   "execution_count": 51,
   "id": "bd57ca66",
   "metadata": {
    "execution": {
     "iopub.execute_input": "2025-01-26T09:06:12.646137Z",
     "iopub.status.busy": "2025-01-26T09:06:12.645765Z",
     "iopub.status.idle": "2025-01-26T09:06:12.976406Z",
     "shell.execute_reply": "2025-01-26T09:06:12.975218Z"
    },
    "papermill": {
     "duration": 0.364219,
     "end_time": "2025-01-26T09:06:12.978082",
     "exception": false,
     "start_time": "2025-01-26T09:06:12.613863",
     "status": "completed"
    },
    "tags": []
   },
   "outputs": [
    {
     "data": {
      "text/plain": [
       "Text(0.5, 1.0, 'Star Vs Daily Star')"
      ]
     },
     "execution_count": 51,
     "metadata": {},
     "output_type": "execute_result"
    },
    {
     "data": {
      "image/png": "[encoded data removed]",
      "text/plain": [
       "<Figure size 640x480 with 1 Axes>"
      ]
     },
     "metadata": {},
     "output_type": "display_data"
    }
   ],
   "source": [
    "sns.scatterplot(data=duplicate_df, x='star', y='daily_star')\n",
    "plt.xlabel('Star')\n",
    "plt.ylabel('Daily Star')\n",
    "plt.title('Star Vs Daily Star')"
   ]
  },
  {
   "cell_type": "code",
   "execution_count": 52,
   "id": "ad239a0c",
   "metadata": {
    "execution": {
     "iopub.execute_input": "2025-01-26T09:06:13.044151Z",
     "iopub.status.busy": "2025-01-26T09:06:13.043804Z",
     "iopub.status.idle": "2025-01-26T09:06:13.057803Z",
     "shell.execute_reply": "2025-01-26T09:06:13.056762Z"
    },
    "papermill": {
     "duration": 0.048359,
     "end_time": "2025-01-26T09:06:13.059372",
     "exception": false,
     "start_time": "2025-01-26T09:06:13.011013",
     "status": "completed"
    },
    "tags": []
   },
   "outputs": [
    {
     "data": {
      "text/html": [
       "<div>\n",
       "<style scoped>\n",
       "    .dataframe tbody tr th:only-of-type {\n",
       "        vertical-align: middle;\n",
       "    }\n",
       "\n",
       "    .dataframe tbody tr th {\n",
       "        vertical-align: top;\n",
       "    }\n",
       "\n",
       "    .dataframe thead th {\n",
       "        text-align: right;\n",
       "    }\n",
       "</style>\n",
       "<table border=\"1\" class=\"dataframe\">\n",
       "  <thead>\n",
       "    <tr style=\"text-align: right;\">\n",
       "      <th></th>\n",
       "      <th>org_name</th>\n",
       "      <th>repo_name</th>\n",
       "      <th>repo_url</th>\n",
       "      <th>description</th>\n",
       "      <th>language</th>\n",
       "      <th>star</th>\n",
       "      <th>forks</th>\n",
       "      <th>daily_star</th>\n",
       "      <th>date</th>\n",
       "      <th>trending_category</th>\n",
       "    </tr>\n",
       "  </thead>\n",
       "  <tbody>\n",
       "    <tr>\n",
       "      <th>0</th>\n",
       "      <td>terrastruct</td>\n",
       "      <td>d2</td>\n",
       "      <td>https://github.com/terrastruct/d2</td>\n",
       "      <td>D2 is a modern diagram scripting language that...</td>\n",
       "      <td>Go</td>\n",
       "      <td>17896.0</td>\n",
       "      <td>439.0</td>\n",
       "      <td>418</td>\n",
       "      <td>2024-11-17</td>\n",
       "      <td>go</td>\n",
       "    </tr>\n",
       "    <tr>\n",
       "      <th>1</th>\n",
       "      <td>tinygo-org</td>\n",
       "      <td>tinygo</td>\n",
       "      <td>https://github.com/tinygo-org/tinygo</td>\n",
       "      <td>Go compiler for small places. Microcontrollers...</td>\n",
       "      <td>Go</td>\n",
       "      <td>15463.0</td>\n",
       "      <td>912.0</td>\n",
       "      <td>6</td>\n",
       "      <td>2024-11-17</td>\n",
       "      <td>go</td>\n",
       "    </tr>\n",
       "    <tr>\n",
       "      <th>2</th>\n",
       "      <td>Melkeydev</td>\n",
       "      <td>go-blueprint</td>\n",
       "      <td>https://github.com/Melkeydev/go-blueprint</td>\n",
       "      <td>Go-blueprint allows users to spin up a quick G...</td>\n",
       "      <td>Go</td>\n",
       "      <td>4608.0</td>\n",
       "      <td>276.0</td>\n",
       "      <td>9</td>\n",
       "      <td>2024-11-17</td>\n",
       "      <td>go</td>\n",
       "    </tr>\n",
       "    <tr>\n",
       "      <th>3</th>\n",
       "      <td>jeessy2</td>\n",
       "      <td>ddns-go</td>\n",
       "      <td>https://github.com/jeessy2/ddns-go</td>\n",
       "      <td>Simple and easy to use DDNS. Support Aliyun, T...</td>\n",
       "      <td>Go</td>\n",
       "      <td>12117.0</td>\n",
       "      <td>1398.0</td>\n",
       "      <td>25</td>\n",
       "      <td>2024-11-17</td>\n",
       "      <td>go</td>\n",
       "    </tr>\n",
       "    <tr>\n",
       "      <th>4</th>\n",
       "      <td>JanDeDobbeleer</td>\n",
       "      <td>oh-my-posh</td>\n",
       "      <td>https://github.com/JanDeDobbeleer/oh-my-posh</td>\n",
       "      <td>The most customisable and low-latency cross pl...</td>\n",
       "      <td>Go</td>\n",
       "      <td>17450.0</td>\n",
       "      <td>2390.0</td>\n",
       "      <td>16</td>\n",
       "      <td>2024-11-17</td>\n",
       "      <td>go</td>\n",
       "    </tr>\n",
       "  </tbody>\n",
       "</table>\n",
       "</div>"
      ],
      "text/plain": [
       "         org_name     repo_name                                      repo_url  \\\n",
       "0     terrastruct            d2             https://github.com/terrastruct/d2   \n",
       "1      tinygo-org        tinygo          https://github.com/tinygo-org/tinygo   \n",
       "2       Melkeydev  go-blueprint     https://github.com/Melkeydev/go-blueprint   \n",
       "3         jeessy2       ddns-go            https://github.com/jeessy2/ddns-go   \n",
       "4  JanDeDobbeleer    oh-my-posh  https://github.com/JanDeDobbeleer/oh-my-posh   \n",
       "\n",
       "                                         description language     star  \\\n",
       "0  D2 is a modern diagram scripting language that...       Go  17896.0   \n",
       "1  Go compiler for small places. Microcontrollers...       Go  15463.0   \n",
       "2  Go-blueprint allows users to spin up a quick G...       Go   4608.0   \n",
       "3  Simple and easy to use DDNS. Support Aliyun, T...       Go  12117.0   \n",
       "4  The most customisable and low-latency cross pl...       Go  17450.0   \n",
       "\n",
       "    forks  daily_star       date trending_category  \n",
       "0   439.0         418 2024-11-17                go  \n",
       "1   912.0           6 2024-11-17                go  \n",
       "2   276.0           9 2024-11-17                go  \n",
       "3  1398.0          25 2024-11-17                go  \n",
       "4  2390.0          16 2024-11-17                go  "
      ]
     },
     "execution_count": 52,
     "metadata": {},
     "output_type": "execute_result"
    }
   ],
   "source": [
    "duplicate_df.head()"
   ]
  },
  {
   "cell_type": "code",
   "execution_count": 53,
   "id": "638edfbe",
   "metadata": {
    "execution": {
     "iopub.execute_input": "2025-01-26T09:06:13.127168Z",
     "iopub.status.busy": "2025-01-26T09:06:13.126822Z",
     "iopub.status.idle": "2025-01-26T09:06:13.139315Z",
     "shell.execute_reply": "2025-01-26T09:06:13.138422Z"
    },
    "papermill": {
     "duration": 0.047596,
     "end_time": "2025-01-26T09:06:13.140805",
     "exception": false,
     "start_time": "2025-01-26T09:06:13.093209",
     "status": "completed"
    },
    "tags": []
   },
   "outputs": [
    {
     "data": {
      "text/html": [
       "<div>\n",
       "<style scoped>\n",
       "    .dataframe tbody tr th:only-of-type {\n",
       "        vertical-align: middle;\n",
       "    }\n",
       "\n",
       "    .dataframe tbody tr th {\n",
       "        vertical-align: top;\n",
       "    }\n",
       "\n",
       "    .dataframe thead th {\n",
       "        text-align: right;\n",
       "    }\n",
       "</style>\n",
       "<table border=\"1\" class=\"dataframe\">\n",
       "  <thead>\n",
       "    <tr style=\"text-align: right;\">\n",
       "      <th></th>\n",
       "      <th>star</th>\n",
       "      <th>forks</th>\n",
       "      <th>daily_star</th>\n",
       "    </tr>\n",
       "  </thead>\n",
       "  <tbody>\n",
       "    <tr>\n",
       "      <th>star</th>\n",
       "      <td>1.000000</td>\n",
       "      <td>0.797488</td>\n",
       "      <td>0.075284</td>\n",
       "    </tr>\n",
       "    <tr>\n",
       "      <th>forks</th>\n",
       "      <td>0.797488</td>\n",
       "      <td>1.000000</td>\n",
       "      <td>0.009853</td>\n",
       "    </tr>\n",
       "    <tr>\n",
       "      <th>daily_star</th>\n",
       "      <td>0.075284</td>\n",
       "      <td>0.009853</td>\n",
       "      <td>1.000000</td>\n",
       "    </tr>\n",
       "  </tbody>\n",
       "</table>\n",
       "</div>"
      ],
      "text/plain": [
       "                star     forks  daily_star\n",
       "star        1.000000  0.797488    0.075284\n",
       "forks       0.797488  1.000000    0.009853\n",
       "daily_star  0.075284  0.009853    1.000000"
      ]
     },
     "execution_count": 53,
     "metadata": {},
     "output_type": "execute_result"
    }
   ],
   "source": [
    "# numeric_values = df.loc[duplicate_df[['star'], ['forks'],['daily_star']]]\n",
    "correlation_matrix = duplicate_df[['star', 'forks', 'daily_star']]\n",
    "correlation_matrix.corr()"
   ]
  },
  {
   "cell_type": "code",
   "execution_count": 54,
   "id": "6bd9c704",
   "metadata": {
    "execution": {
     "iopub.execute_input": "2025-01-26T09:06:13.207127Z",
     "iopub.status.busy": "2025-01-26T09:06:13.206773Z",
     "iopub.status.idle": "2025-01-26T09:07:34.658761Z",
     "shell.execute_reply": "2025-01-26T09:07:34.657579Z"
    },
    "papermill": {
     "duration": 81.52279,
     "end_time": "2025-01-26T09:07:34.696080",
     "exception": false,
     "start_time": "2025-01-26T09:06:13.173290",
     "status": "completed"
    },
    "tags": []
   },
   "outputs": [
    {
     "data": {
      "text/plain": [
       "<Axes: >"
      ]
     },
     "execution_count": 54,
     "metadata": {},
     "output_type": "execute_result"
    },
    {
     "data": {
      "image/png": "[encoded data removed]",
      "text/plain": [
       "<Figure size 640x480 with 2 Axes>"
      ]
     },
     "metadata": {},
     "output_type": "display_data"
    }
   ],
   "source": [
    "sns.heatmap(data=correlation_matrix, annot=True, cmap='coolwarm', vmin=1, vmax=1)"
   ]
  },
  {
   "cell_type": "markdown",
   "id": "c1ff9aa4",
   "metadata": {
    "papermill": {
     "duration": 0.034144,
     "end_time": "2025-01-26T09:07:34.765214",
     "exception": false,
     "start_time": "2025-01-26T09:07:34.731070",
     "status": "completed"
    },
    "tags": []
   },
   "source": [
    "### Number of Repo by language"
   ]
  },
  {
   "cell_type": "code",
   "execution_count": 55,
   "id": "b4a93e35",
   "metadata": {
    "execution": {
     "iopub.execute_input": "2025-01-26T09:07:34.890941Z",
     "iopub.status.busy": "2025-01-26T09:07:34.890566Z",
     "iopub.status.idle": "2025-01-26T09:07:35.176431Z",
     "shell.execute_reply": "2025-01-26T09:07:35.175344Z"
    },
    "papermill": {
     "duration": 0.322777,
     "end_time": "2025-01-26T09:07:35.178407",
     "exception": false,
     "start_time": "2025-01-26T09:07:34.855630",
     "status": "completed"
    },
    "tags": []
   },
   "outputs": [
    {
     "data": {
      "text/plain": [
       "<Axes: xlabel='language'>"
      ]
     },
     "execution_count": 55,
     "metadata": {},
     "output_type": "execute_result"
    },
    {
     "data": {
      "image/png": "[encoded data removed]",
      "text/plain": [
       "<Figure size 640x480 with 1 Axes>"
      ]
     },
     "metadata": {},
     "output_type": "display_data"
    }
   ],
   "source": [
    "lang_count = duplicate_df['language'].value_counts()\n",
    "lang_count[:10].plot(kind='bar')"
   ]
  },
  {
   "cell_type": "code",
   "execution_count": 56,
   "id": "fc81e0e5",
   "metadata": {
    "execution": {
     "iopub.execute_input": "2025-01-26T09:07:35.250989Z",
     "iopub.status.busy": "2025-01-26T09:07:35.250610Z",
     "iopub.status.idle": "2025-01-26T09:07:35.604526Z",
     "shell.execute_reply": "2025-01-26T09:07:35.603483Z"
    },
    "papermill": {
     "duration": 0.392057,
     "end_time": "2025-01-26T09:07:35.606370",
     "exception": false,
     "start_time": "2025-01-26T09:07:35.214313",
     "status": "completed"
    },
    "tags": []
   },
   "outputs": [
    {
     "data": {
      "text/plain": [
       "<Axes: title={'center': 'Star VS Fork'}, xlabel='star', ylabel='forks'>"
      ]
     },
     "execution_count": 56,
     "metadata": {},
     "output_type": "execute_result"
    },
    {
     "data": {
      "image/png": "[encoded data removed]",
      "text/plain": [
       "<Figure size 640x480 with 1 Axes>"
      ]
     },
     "metadata": {},
     "output_type": "display_data"
    }
   ],
   "source": [
    "plt.title('Star VS Fork')\n",
    "sns.scatterplot(x=duplicate_df['star'], y=duplicate_df['forks'])\n"
   ]
  },
  {
   "cell_type": "code",
   "execution_count": 57,
   "id": "b157e964",
   "metadata": {
    "execution": {
     "iopub.execute_input": "2025-01-26T09:07:35.681440Z",
     "iopub.status.busy": "2025-01-26T09:07:35.681042Z",
     "iopub.status.idle": "2025-01-26T09:07:35.911879Z",
     "shell.execute_reply": "2025-01-26T09:07:35.909704Z"
    },
    "papermill": {
     "duration": 0.271184,
     "end_time": "2025-01-26T09:07:35.914673",
     "exception": false,
     "start_time": "2025-01-26T09:07:35.643489",
     "status": "completed"
    },
    "tags": []
   },
   "outputs": [
    {
     "data": {
      "image/png": "[encoded data removed]",
      "text/plain": [
       "<Figure size 1200x600 with 1 Axes>"
      ]
     },
     "metadata": {},
     "output_type": "display_data"
    }
   ],
   "source": [
    "# duplicate_df.set_index('date', inplace=True)\n",
    "duplicate_df['daily_star'].plot(figsize=(12,6))\n",
    "plt.title('Daily Stars Over Time')\n",
    "plt.xlabel('Date')\n",
    "plt.ylabel('Daily Stars')\n",
    "plt.show()"
   ]
  },
  {
   "cell_type": "markdown",
   "id": "b3595da7",
   "metadata": {
    "papermill": {
     "duration": 0.03817,
     "end_time": "2025-01-26T09:07:36.001512",
     "exception": false,
     "start_time": "2025-01-26T09:07:35.963342",
     "status": "completed"
    },
    "tags": []
   },
   "source": [
    "### Preparing Data for Prediction"
   ]
  },
  {
   "cell_type": "code",
   "execution_count": 58,
   "id": "d503cde3",
   "metadata": {
    "execution": {
     "iopub.execute_input": "2025-01-26T09:07:36.083610Z",
     "iopub.status.busy": "2025-01-26T09:07:36.083247Z",
     "iopub.status.idle": "2025-01-26T09:07:36.263560Z",
     "shell.execute_reply": "2025-01-26T09:07:36.262368Z"
    },
    "papermill": {
     "duration": 0.223896,
     "end_time": "2025-01-26T09:07:36.265217",
     "exception": false,
     "start_time": "2025-01-26T09:07:36.041321",
     "status": "completed"
    },
    "tags": []
   },
   "outputs": [
    {
     "data": {
      "text/html": [
       "<div>\n",
       "<style scoped>\n",
       "    .dataframe tbody tr th:only-of-type {\n",
       "        vertical-align: middle;\n",
       "    }\n",
       "\n",
       "    .dataframe tbody tr th {\n",
       "        vertical-align: top;\n",
       "    }\n",
       "\n",
       "    .dataframe thead th {\n",
       "        text-align: right;\n",
       "    }\n",
       "</style>\n",
       "<table border=\"1\" class=\"dataframe\">\n",
       "  <thead>\n",
       "    <tr style=\"text-align: right;\">\n",
       "      <th></th>\n",
       "      <th>org_name</th>\n",
       "      <th>repo_name</th>\n",
       "      <th>repo_url</th>\n",
       "      <th>description</th>\n",
       "      <th>language</th>\n",
       "      <th>star</th>\n",
       "      <th>forks</th>\n",
       "      <th>daily_star</th>\n",
       "      <th>date</th>\n",
       "      <th>trending_category</th>\n",
       "      <th>language_encoded</th>\n",
       "      <th>trending_category_encoded</th>\n",
       "    </tr>\n",
       "  </thead>\n",
       "  <tbody>\n",
       "    <tr>\n",
       "      <th>600</th>\n",
       "      <td>QwenLM</td>\n",
       "      <td>Qwen2.5-Coder</td>\n",
       "      <td>https://github.com/QwenLM/Qwen2.5-Coder</td>\n",
       "      <td>Qwen2.5-Coder is the code version of Qwen2.5, ...</td>\n",
       "      <td>Python</td>\n",
       "      <td>2309.0</td>\n",
       "      <td>149.0</td>\n",
       "      <td>323</td>\n",
       "      <td>2024-11-15</td>\n",
       "      <td>python</td>\n",
       "      <td>25</td>\n",
       "      <td>3</td>\n",
       "    </tr>\n",
       "    <tr>\n",
       "      <th>601</th>\n",
       "      <td>blacklanternsecurity</td>\n",
       "      <td>bbot</td>\n",
       "      <td>https://github.com/blacklanternsecurity/bbot</td>\n",
       "      <td>A recursive internet scanner for hackers.</td>\n",
       "      <td>Python</td>\n",
       "      <td>5232.0</td>\n",
       "      <td>453.0</td>\n",
       "      <td>330</td>\n",
       "      <td>2024-11-15</td>\n",
       "      <td>python</td>\n",
       "      <td>25</td>\n",
       "      <td>3</td>\n",
       "    </tr>\n",
       "    <tr>\n",
       "      <th>602</th>\n",
       "      <td>hiyouga</td>\n",
       "      <td>LLaMA-Factory</td>\n",
       "      <td>https://github.com/hiyouga/LLaMA-Factory</td>\n",
       "      <td>Unified Efficient Fine-Tuning of 100+ LLMs (AC...</td>\n",
       "      <td>Python</td>\n",
       "      <td>34347.0</td>\n",
       "      <td>4234.0</td>\n",
       "      <td>65</td>\n",
       "      <td>2024-11-15</td>\n",
       "      <td>python</td>\n",
       "      <td>25</td>\n",
       "      <td>3</td>\n",
       "    </tr>\n",
       "    <tr>\n",
       "      <th>603</th>\n",
       "      <td>explodinggradients</td>\n",
       "      <td>ragas</td>\n",
       "      <td>https://github.com/explodinggradients/ragas</td>\n",
       "      <td>Supercharge Your LLM Application Evaluations 🚀</td>\n",
       "      <td>Python</td>\n",
       "      <td>7220.0</td>\n",
       "      <td>737.0</td>\n",
       "      <td>12</td>\n",
       "      <td>2024-11-15</td>\n",
       "      <td>python</td>\n",
       "      <td>25</td>\n",
       "      <td>3</td>\n",
       "    </tr>\n",
       "    <tr>\n",
       "      <th>604</th>\n",
       "      <td>roboflow</td>\n",
       "      <td>supervision</td>\n",
       "      <td>https://github.com/roboflow/supervision</td>\n",
       "      <td>We write your reusable computer vision tools. 💜</td>\n",
       "      <td>Python</td>\n",
       "      <td>24187.0</td>\n",
       "      <td>1796.0</td>\n",
       "      <td>55</td>\n",
       "      <td>2024-11-15</td>\n",
       "      <td>python</td>\n",
       "      <td>25</td>\n",
       "      <td>3</td>\n",
       "    </tr>\n",
       "    <tr>\n",
       "      <th>605</th>\n",
       "      <td>huggingface</td>\n",
       "      <td>text-generation-inference</td>\n",
       "      <td>https://github.com/huggingface/text-generation...</td>\n",
       "      <td>Large Language Model Text Generation Inference</td>\n",
       "      <td>Python</td>\n",
       "      <td>9092.0</td>\n",
       "      <td>1069.0</td>\n",
       "      <td>19</td>\n",
       "      <td>2024-11-15</td>\n",
       "      <td>python</td>\n",
       "      <td>25</td>\n",
       "      <td>3</td>\n",
       "    </tr>\n",
       "    <tr>\n",
       "      <th>606</th>\n",
       "      <td>spack</td>\n",
       "      <td>spack</td>\n",
       "      <td>https://github.com/spack/spack</td>\n",
       "      <td>A flexible package manager that supports multi...</td>\n",
       "      <td>Python</td>\n",
       "      <td>4392.0</td>\n",
       "      <td>2282.0</td>\n",
       "      <td>79</td>\n",
       "      <td>2024-11-15</td>\n",
       "      <td>python</td>\n",
       "      <td>25</td>\n",
       "      <td>3</td>\n",
       "    </tr>\n",
       "    <tr>\n",
       "      <th>607</th>\n",
       "      <td>google-deepmind</td>\n",
       "      <td>alphafold</td>\n",
       "      <td>https://github.com/google-deepmind/alphafold</td>\n",
       "      <td>Open source code for AlphaFold 2.</td>\n",
       "      <td>Python</td>\n",
       "      <td>12849.0</td>\n",
       "      <td>2282.0</td>\n",
       "      <td>11</td>\n",
       "      <td>2024-11-15</td>\n",
       "      <td>python</td>\n",
       "      <td>25</td>\n",
       "      <td>3</td>\n",
       "    </tr>\n",
       "    <tr>\n",
       "      <th>608</th>\n",
       "      <td>LibraHp</td>\n",
       "      <td>GetQzonehistory</td>\n",
       "      <td>https://github.com/LibraHp/GetQzonehistory</td>\n",
       "      <td>获取QQ空间发布的历史说说</td>\n",
       "      <td>Python</td>\n",
       "      <td>5240.0</td>\n",
       "      <td>389.0</td>\n",
       "      <td>307</td>\n",
       "      <td>2024-11-15</td>\n",
       "      <td>python</td>\n",
       "      <td>25</td>\n",
       "      <td>3</td>\n",
       "    </tr>\n",
       "    <tr>\n",
       "      <th>609</th>\n",
       "      <td>Azure-Samples</td>\n",
       "      <td>graphrag-accelerator</td>\n",
       "      <td>https://github.com/Azure-Samples/graphrag-acce...</td>\n",
       "      <td>One-click deploy of a Knowledge Graph powered ...</td>\n",
       "      <td>Python</td>\n",
       "      <td>1859.0</td>\n",
       "      <td>307.0</td>\n",
       "      <td>3</td>\n",
       "      <td>2024-11-15</td>\n",
       "      <td>python</td>\n",
       "      <td>25</td>\n",
       "      <td>3</td>\n",
       "    </tr>\n",
       "    <tr>\n",
       "      <th>610</th>\n",
       "      <td>jackfrued</td>\n",
       "      <td>Python-100-Days</td>\n",
       "      <td>https://github.com/jackfrued/Python-100-Days</td>\n",
       "      <td>Python - 100天从新手到大师</td>\n",
       "      <td>Python</td>\n",
       "      <td>157420.0</td>\n",
       "      <td>52423.0</td>\n",
       "      <td>73</td>\n",
       "      <td>2024-11-15</td>\n",
       "      <td>python</td>\n",
       "      <td>25</td>\n",
       "      <td>3</td>\n",
       "    </tr>\n",
       "    <tr>\n",
       "      <th>611</th>\n",
       "      <td>localstack</td>\n",
       "      <td>localstack</td>\n",
       "      <td>https://github.com/localstack/localstack</td>\n",
       "      <td>💻 A fully functional local AWS cloud stack. De...</td>\n",
       "      <td>Python</td>\n",
       "      <td>56426.0</td>\n",
       "      <td>4023.0</td>\n",
       "      <td>28</td>\n",
       "      <td>2024-11-15</td>\n",
       "      <td>python</td>\n",
       "      <td>25</td>\n",
       "      <td>3</td>\n",
       "    </tr>\n",
       "    <tr>\n",
       "      <th>612</th>\n",
       "      <td>Python-World</td>\n",
       "      <td>python-mini-projects</td>\n",
       "      <td>https://github.com/Python-World/python-mini-pr...</td>\n",
       "      <td>A collection of simple python mini projects to...</td>\n",
       "      <td>Python</td>\n",
       "      <td>14976.0</td>\n",
       "      <td>4887.0</td>\n",
       "      <td>12</td>\n",
       "      <td>2024-11-15</td>\n",
       "      <td>python</td>\n",
       "      <td>25</td>\n",
       "      <td>3</td>\n",
       "    </tr>\n",
       "    <tr>\n",
       "      <th>613</th>\n",
       "      <td>g0ldyy</td>\n",
       "      <td>comet</td>\n",
       "      <td>https://github.com/g0ldyy/comet</td>\n",
       "      <td>Stremio's fastest torrent/debrid search add-on.</td>\n",
       "      <td>Python</td>\n",
       "      <td>224.0</td>\n",
       "      <td>40.0</td>\n",
       "      <td>7</td>\n",
       "      <td>2024-11-15</td>\n",
       "      <td>python</td>\n",
       "      <td>25</td>\n",
       "      <td>3</td>\n",
       "    </tr>\n",
       "    <tr>\n",
       "      <th>614</th>\n",
       "      <td>abi</td>\n",
       "      <td>screenshot-to-code</td>\n",
       "      <td>https://github.com/abi/screenshot-to-code</td>\n",
       "      <td>Drop in a screenshot and convert it to clean c...</td>\n",
       "      <td>Python</td>\n",
       "      <td>61435.0</td>\n",
       "      <td>7513.0</td>\n",
       "      <td>492</td>\n",
       "      <td>2024-11-25</td>\n",
       "      <td>python</td>\n",
       "      <td>25</td>\n",
       "      <td>3</td>\n",
       "    </tr>\n",
       "    <tr>\n",
       "      <th>615</th>\n",
       "      <td>black-forest-labs</td>\n",
       "      <td>flux</td>\n",
       "      <td>https://github.com/black-forest-labs/flux</td>\n",
       "      <td>Official inference repo for FLUX.1 models</td>\n",
       "      <td>Python</td>\n",
       "      <td>17528.0</td>\n",
       "      <td>1240.0</td>\n",
       "      <td>770</td>\n",
       "      <td>2024-11-25</td>\n",
       "      <td>python</td>\n",
       "      <td>25</td>\n",
       "      <td>3</td>\n",
       "    </tr>\n",
       "    <tr>\n",
       "      <th>616</th>\n",
       "      <td>OpenInterpreter</td>\n",
       "      <td>open-interpreter</td>\n",
       "      <td>https://github.com/OpenInterpreter/open-interp...</td>\n",
       "      <td>A natural language interface for computers</td>\n",
       "      <td>Python</td>\n",
       "      <td>55959.0</td>\n",
       "      <td>4848.0</td>\n",
       "      <td>107</td>\n",
       "      <td>2024-11-25</td>\n",
       "      <td>python</td>\n",
       "      <td>25</td>\n",
       "      <td>3</td>\n",
       "    </tr>\n",
       "    <tr>\n",
       "      <th>617</th>\n",
       "      <td>public-apis</td>\n",
       "      <td>public-apis</td>\n",
       "      <td>https://github.com/public-apis/public-apis</td>\n",
       "      <td>A collective list of free APIs</td>\n",
       "      <td>Python</td>\n",
       "      <td>318447.0</td>\n",
       "      <td>33920.0</td>\n",
       "      <td>106</td>\n",
       "      <td>2024-11-25</td>\n",
       "      <td>python</td>\n",
       "      <td>25</td>\n",
       "      <td>3</td>\n",
       "    </tr>\n",
       "    <tr>\n",
       "      <th>618</th>\n",
       "      <td>Asabeneh</td>\n",
       "      <td>30-Days-Of-Python</td>\n",
       "      <td>https://github.com/Asabeneh/30-Days-Of-Python</td>\n",
       "      <td>30 days of Python programming challenge is a s...</td>\n",
       "      <td>Python</td>\n",
       "      <td>42947.0</td>\n",
       "      <td>8196.0</td>\n",
       "      <td>60</td>\n",
       "      <td>2024-11-25</td>\n",
       "      <td>python</td>\n",
       "      <td>25</td>\n",
       "      <td>3</td>\n",
       "    </tr>\n",
       "    <tr>\n",
       "      <th>619</th>\n",
       "      <td>searxng</td>\n",
       "      <td>searxng</td>\n",
       "      <td>https://github.com/searxng/searxng</td>\n",
       "      <td>SearXNG is a free internet metasearch engine w...</td>\n",
       "      <td>Python</td>\n",
       "      <td>14176.0</td>\n",
       "      <td>1472.0</td>\n",
       "      <td>46</td>\n",
       "      <td>2024-11-25</td>\n",
       "      <td>python</td>\n",
       "      <td>25</td>\n",
       "      <td>3</td>\n",
       "    </tr>\n",
       "    <tr>\n",
       "      <th>620</th>\n",
       "      <td>yt-dlp</td>\n",
       "      <td>yt-dlp</td>\n",
       "      <td>https://github.com/yt-dlp/yt-dlp</td>\n",
       "      <td>A feature-rich command-line audio/video downlo...</td>\n",
       "      <td>Python</td>\n",
       "      <td>90893.0</td>\n",
       "      <td>7065.0</td>\n",
       "      <td>104</td>\n",
       "      <td>2024-11-25</td>\n",
       "      <td>python</td>\n",
       "      <td>25</td>\n",
       "      <td>3</td>\n",
       "    </tr>\n",
       "    <tr>\n",
       "      <th>621</th>\n",
       "      <td>Guovin</td>\n",
       "      <td>IPTV</td>\n",
       "      <td>https://github.com/Guovin/IPTV</td>\n",
       "      <td>📺IPTV电视直播源更新工具🚀：包含💰央视、📡卫视、☘️广东及各省份地方台、🌊港·澳·台、🎬...</td>\n",
       "      <td>Python</td>\n",
       "      <td>6125.0</td>\n",
       "      <td>1391.0</td>\n",
       "      <td>96</td>\n",
       "      <td>2024-11-25</td>\n",
       "      <td>python</td>\n",
       "      <td>25</td>\n",
       "      <td>3</td>\n",
       "    </tr>\n",
       "    <tr>\n",
       "      <th>622</th>\n",
       "      <td>home-assistant</td>\n",
       "      <td>core</td>\n",
       "      <td>https://github.com/home-assistant/core</td>\n",
       "      <td>🏡 Open source home automation that puts local ...</td>\n",
       "      <td>Python</td>\n",
       "      <td>73949.0</td>\n",
       "      <td>31000.0</td>\n",
       "      <td>39</td>\n",
       "      <td>2024-11-25</td>\n",
       "      <td>python</td>\n",
       "      <td>25</td>\n",
       "      <td>3</td>\n",
       "    </tr>\n",
       "    <tr>\n",
       "      <th>623</th>\n",
       "      <td>mingrammer</td>\n",
       "      <td>diagrams</td>\n",
       "      <td>https://github.com/mingrammer/diagrams</td>\n",
       "      <td>🎨 Diagram as Code for prototyping cloud system...</td>\n",
       "      <td>Python</td>\n",
       "      <td>39668.0</td>\n",
       "      <td>2543.0</td>\n",
       "      <td>42</td>\n",
       "      <td>2024-11-25</td>\n",
       "      <td>python</td>\n",
       "      <td>25</td>\n",
       "      <td>3</td>\n",
       "    </tr>\n",
       "    <tr>\n",
       "      <th>624</th>\n",
       "      <td>allenai</td>\n",
       "      <td>open-instruct</td>\n",
       "      <td>https://github.com/allenai/open-instruct</td>\n",
       "      <td>No description</td>\n",
       "      <td>Python</td>\n",
       "      <td>1548.0</td>\n",
       "      <td>186.0</td>\n",
       "      <td>84</td>\n",
       "      <td>2024-11-25</td>\n",
       "      <td>python</td>\n",
       "      <td>25</td>\n",
       "      <td>3</td>\n",
       "    </tr>\n",
       "    <tr>\n",
       "      <th>625</th>\n",
       "      <td>python-telegram-bot</td>\n",
       "      <td>python-telegram-bot</td>\n",
       "      <td>https://github.com/python-telegram-bot/python-...</td>\n",
       "      <td>We have made you a wrapper you can't refuse</td>\n",
       "      <td>Python</td>\n",
       "      <td>26370.0</td>\n",
       "      <td>5355.0</td>\n",
       "      <td>20</td>\n",
       "      <td>2024-11-25</td>\n",
       "      <td>python</td>\n",
       "      <td>25</td>\n",
       "      <td>3</td>\n",
       "    </tr>\n",
       "    <tr>\n",
       "      <th>626</th>\n",
       "      <td>openai</td>\n",
       "      <td>openai-python</td>\n",
       "      <td>https://github.com/openai/openai-python</td>\n",
       "      <td>The official Python library for the OpenAI API</td>\n",
       "      <td>Python</td>\n",
       "      <td>23142.0</td>\n",
       "      <td>3263.0</td>\n",
       "      <td>16</td>\n",
       "      <td>2024-11-25</td>\n",
       "      <td>python</td>\n",
       "      <td>25</td>\n",
       "      <td>3</td>\n",
       "    </tr>\n",
       "    <tr>\n",
       "      <th>627</th>\n",
       "      <td>exo-explore</td>\n",
       "      <td>exo</td>\n",
       "      <td>https://github.com/exo-explore/exo</td>\n",
       "      <td>Run your own AI cluster at home with everyday ...</td>\n",
       "      <td>Python</td>\n",
       "      <td>15975.0</td>\n",
       "      <td>846.0</td>\n",
       "      <td>272</td>\n",
       "      <td>2024-11-25</td>\n",
       "      <td>python</td>\n",
       "      <td>25</td>\n",
       "      <td>3</td>\n",
       "    </tr>\n",
       "    <tr>\n",
       "      <th>628</th>\n",
       "      <td>Bambu-Research-Group</td>\n",
       "      <td>RFID-Tag-Guide</td>\n",
       "      <td>https://github.com/Bambu-Research-Group/RFID-T...</td>\n",
       "      <td>Instructions on how to read out the bambulab n...</td>\n",
       "      <td>Python</td>\n",
       "      <td>732.0</td>\n",
       "      <td>68.0</td>\n",
       "      <td>10</td>\n",
       "      <td>2024-11-25</td>\n",
       "      <td>python</td>\n",
       "      <td>25</td>\n",
       "      <td>3</td>\n",
       "    </tr>\n",
       "    <tr>\n",
       "      <th>629</th>\n",
       "      <td>levihsu</td>\n",
       "      <td>OOTDiffusion</td>\n",
       "      <td>https://github.com/levihsu/OOTDiffusion</td>\n",
       "      <td>Official implementation of OOTDiffusion: Outfi...</td>\n",
       "      <td>Python</td>\n",
       "      <td>5708.0</td>\n",
       "      <td>822.0</td>\n",
       "      <td>25</td>\n",
       "      <td>2024-11-25</td>\n",
       "      <td>python</td>\n",
       "      <td>25</td>\n",
       "      <td>3</td>\n",
       "    </tr>\n",
       "    <tr>\n",
       "      <th>630</th>\n",
       "      <td>blacklanternsecurity</td>\n",
       "      <td>bbot</td>\n",
       "      <td>https://github.com/blacklanternsecurity/bbot</td>\n",
       "      <td>A recursive internet scanner for hackers.</td>\n",
       "      <td>Python</td>\n",
       "      <td>6452.0</td>\n",
       "      <td>502.0</td>\n",
       "      <td>267</td>\n",
       "      <td>2024-11-20</td>\n",
       "      <td>python</td>\n",
       "      <td>25</td>\n",
       "      <td>3</td>\n",
       "    </tr>\n",
       "    <tr>\n",
       "      <th>631</th>\n",
       "      <td>langflow-ai</td>\n",
       "      <td>langflow</td>\n",
       "      <td>https://github.com/langflow-ai/langflow</td>\n",
       "      <td>Langflow is a low-code app builder for RAG and...</td>\n",
       "      <td>Python</td>\n",
       "      <td>34776.0</td>\n",
       "      <td>4167.0</td>\n",
       "      <td>115</td>\n",
       "      <td>2024-11-20</td>\n",
       "      <td>python</td>\n",
       "      <td>25</td>\n",
       "      <td>3</td>\n",
       "    </tr>\n",
       "    <tr>\n",
       "      <th>632</th>\n",
       "      <td>freqtrade</td>\n",
       "      <td>freqtrade</td>\n",
       "      <td>https://github.com/freqtrade/freqtrade</td>\n",
       "      <td>Free, open source crypto trading bot</td>\n",
       "      <td>Python</td>\n",
       "      <td>30678.0</td>\n",
       "      <td>6320.0</td>\n",
       "      <td>383</td>\n",
       "      <td>2024-11-20</td>\n",
       "      <td>python</td>\n",
       "      <td>25</td>\n",
       "      <td>3</td>\n",
       "    </tr>\n",
       "    <tr>\n",
       "      <th>633</th>\n",
       "      <td>pytorch</td>\n",
       "      <td>pytorch</td>\n",
       "      <td>https://github.com/pytorch/pytorch</td>\n",
       "      <td>Tensors and Dynamic neural networks in Python ...</td>\n",
       "      <td>Python</td>\n",
       "      <td>84279.0</td>\n",
       "      <td>22692.0</td>\n",
       "      <td>150</td>\n",
       "      <td>2024-11-20</td>\n",
       "      <td>python</td>\n",
       "      <td>25</td>\n",
       "      <td>3</td>\n",
       "    </tr>\n",
       "    <tr>\n",
       "      <th>634</th>\n",
       "      <td>xtekky</td>\n",
       "      <td>gpt4free</td>\n",
       "      <td>https://github.com/xtekky/gpt4free</td>\n",
       "      <td>The official gpt4free repository | various col...</td>\n",
       "      <td>Python</td>\n",
       "      <td>61952.0</td>\n",
       "      <td>13359.0</td>\n",
       "      <td>235</td>\n",
       "      <td>2024-11-20</td>\n",
       "      <td>python</td>\n",
       "      <td>25</td>\n",
       "      <td>3</td>\n",
       "    </tr>\n",
       "    <tr>\n",
       "      <th>635</th>\n",
       "      <td>python-poetry</td>\n",
       "      <td>poetry</td>\n",
       "      <td>https://github.com/python-poetry/poetry</td>\n",
       "      <td>Python packaging and dependency management mad...</td>\n",
       "      <td>Python</td>\n",
       "      <td>31769.0</td>\n",
       "      <td>2273.0</td>\n",
       "      <td>12</td>\n",
       "      <td>2024-11-20</td>\n",
       "      <td>python</td>\n",
       "      <td>25</td>\n",
       "      <td>3</td>\n",
       "    </tr>\n",
       "    <tr>\n",
       "      <th>636</th>\n",
       "      <td>521xueweihan</td>\n",
       "      <td>GitHub520</td>\n",
       "      <td>https://github.com/521xueweihan/GitHub520</td>\n",
       "      <td>😘 让你“爱”上 GitHub，解决访问时图裂、加载慢的问题。（无需安装）</td>\n",
       "      <td>Python</td>\n",
       "      <td>22831.0</td>\n",
       "      <td>2264.0</td>\n",
       "      <td>116</td>\n",
       "      <td>2024-11-20</td>\n",
       "      <td>python</td>\n",
       "      <td>25</td>\n",
       "      <td>3</td>\n",
       "    </tr>\n",
       "    <tr>\n",
       "      <th>637</th>\n",
       "      <td>apache</td>\n",
       "      <td>airflow</td>\n",
       "      <td>https://github.com/apache/airflow</td>\n",
       "      <td>Apache Airflow - A platform to programmaticall...</td>\n",
       "      <td>Python</td>\n",
       "      <td>37217.0</td>\n",
       "      <td>14325.0</td>\n",
       "      <td>39</td>\n",
       "      <td>2024-11-20</td>\n",
       "      <td>python</td>\n",
       "      <td>25</td>\n",
       "      <td>3</td>\n",
       "    </tr>\n",
       "    <tr>\n",
       "      <th>638</th>\n",
       "      <td>Marker-Inc-Korea</td>\n",
       "      <td>AutoRAG</td>\n",
       "      <td>https://github.com/Marker-Inc-Korea/AutoRAG</td>\n",
       "      <td>AutoML tool for RAG</td>\n",
       "      <td>Python</td>\n",
       "      <td>2744.0</td>\n",
       "      <td>215.0</td>\n",
       "      <td>16</td>\n",
       "      <td>2024-11-20</td>\n",
       "      <td>python</td>\n",
       "      <td>25</td>\n",
       "      <td>3</td>\n",
       "    </tr>\n",
       "    <tr>\n",
       "      <th>639</th>\n",
       "      <td>stanfordnlp</td>\n",
       "      <td>dspy</td>\n",
       "      <td>https://github.com/stanfordnlp/dspy</td>\n",
       "      <td>DSPy: The framework for programming—not prompt...</td>\n",
       "      <td>Python</td>\n",
       "      <td>18962.0</td>\n",
       "      <td>1450.0</td>\n",
       "      <td>52</td>\n",
       "      <td>2024-11-20</td>\n",
       "      <td>python</td>\n",
       "      <td>25</td>\n",
       "      <td>3</td>\n",
       "    </tr>\n",
       "    <tr>\n",
       "      <th>640</th>\n",
       "      <td>cvat-ai</td>\n",
       "      <td>cvat</td>\n",
       "      <td>https://github.com/cvat-ai/cvat</td>\n",
       "      <td>Annotate better with CVAT, the industry-leadin...</td>\n",
       "      <td>Python</td>\n",
       "      <td>12648.0</td>\n",
       "      <td>3014.0</td>\n",
       "      <td>12</td>\n",
       "      <td>2024-11-20</td>\n",
       "      <td>python</td>\n",
       "      <td>25</td>\n",
       "      <td>3</td>\n",
       "    </tr>\n",
       "    <tr>\n",
       "      <th>641</th>\n",
       "      <td>mlflow</td>\n",
       "      <td>mlflow</td>\n",
       "      <td>https://github.com/mlflow/mlflow</td>\n",
       "      <td>Open source platform for the machine learning ...</td>\n",
       "      <td>Python</td>\n",
       "      <td>18819.0</td>\n",
       "      <td>4246.0</td>\n",
       "      <td>15</td>\n",
       "      <td>2024-11-20</td>\n",
       "      <td>python</td>\n",
       "      <td>25</td>\n",
       "      <td>3</td>\n",
       "    </tr>\n",
       "    <tr>\n",
       "      <th>642</th>\n",
       "      <td>NVIDIA</td>\n",
       "      <td>garak</td>\n",
       "      <td>https://github.com/NVIDIA/garak</td>\n",
       "      <td>the LLM vulnerability scanner</td>\n",
       "      <td>Python</td>\n",
       "      <td>2656.0</td>\n",
       "      <td>233.0</td>\n",
       "      <td>242</td>\n",
       "      <td>2024-11-20</td>\n",
       "      <td>python</td>\n",
       "      <td>25</td>\n",
       "      <td>3</td>\n",
       "    </tr>\n",
       "    <tr>\n",
       "      <th>643</th>\n",
       "      <td>meta-llama</td>\n",
       "      <td>llama-models</td>\n",
       "      <td>https://github.com/meta-llama/llama-models</td>\n",
       "      <td>Utilities intended for use with Llama models.</td>\n",
       "      <td>Python</td>\n",
       "      <td>4856.0</td>\n",
       "      <td>836.0</td>\n",
       "      <td>16</td>\n",
       "      <td>2024-11-20</td>\n",
       "      <td>python</td>\n",
       "      <td>25</td>\n",
       "      <td>3</td>\n",
       "    </tr>\n",
       "    <tr>\n",
       "      <th>644</th>\n",
       "      <td>exo-explore</td>\n",
       "      <td>exo</td>\n",
       "      <td>https://github.com/exo-explore/exo</td>\n",
       "      <td>Run your own AI cluster at home with everyday ...</td>\n",
       "      <td>Python</td>\n",
       "      <td>13156.0</td>\n",
       "      <td>731.0</td>\n",
       "      <td>598</td>\n",
       "      <td>2024-11-12</td>\n",
       "      <td>python</td>\n",
       "      <td>25</td>\n",
       "      <td>3</td>\n",
       "    </tr>\n",
       "    <tr>\n",
       "      <th>645</th>\n",
       "      <td>infinition</td>\n",
       "      <td>Bjorn</td>\n",
       "      <td>https://github.com/infinition/Bjorn</td>\n",
       "      <td>Bjorn is a powerful network scanning and offen...</td>\n",
       "      <td>Python</td>\n",
       "      <td>1698.0</td>\n",
       "      <td>54.0</td>\n",
       "      <td>493</td>\n",
       "      <td>2024-11-12</td>\n",
       "      <td>python</td>\n",
       "      <td>25</td>\n",
       "      <td>3</td>\n",
       "    </tr>\n",
       "    <tr>\n",
       "      <th>646</th>\n",
       "      <td>hacksider</td>\n",
       "      <td>Deep-Live-Cam</td>\n",
       "      <td>https://github.com/hacksider/Deep-Live-Cam</td>\n",
       "      <td>real time face swap and one-click video deepfa...</td>\n",
       "      <td>Python</td>\n",
       "      <td>40367.0</td>\n",
       "      <td>5887.0</td>\n",
       "      <td>330</td>\n",
       "      <td>2024-11-12</td>\n",
       "      <td>python</td>\n",
       "      <td>25</td>\n",
       "      <td>3</td>\n",
       "    </tr>\n",
       "    <tr>\n",
       "      <th>647</th>\n",
       "      <td>harry0703</td>\n",
       "      <td>MoneyPrinterTurbo</td>\n",
       "      <td>https://github.com/harry0703/MoneyPrinterTurbo</td>\n",
       "      <td>利用AI大模型，一键生成高清短视频 Generate short videos with o...</td>\n",
       "      <td>Python</td>\n",
       "      <td>17697.0</td>\n",
       "      <td>2754.0</td>\n",
       "      <td>289</td>\n",
       "      <td>2024-11-12</td>\n",
       "      <td>python</td>\n",
       "      <td>25</td>\n",
       "      <td>3</td>\n",
       "    </tr>\n",
       "    <tr>\n",
       "      <th>648</th>\n",
       "      <td>khoj-ai</td>\n",
       "      <td>khoj</td>\n",
       "      <td>https://github.com/khoj-ai/khoj</td>\n",
       "      <td>Your AI second brain. Self-hostable. Get answe...</td>\n",
       "      <td>Python</td>\n",
       "      <td>14563.0</td>\n",
       "      <td>728.0</td>\n",
       "      <td>135</td>\n",
       "      <td>2024-11-12</td>\n",
       "      <td>python</td>\n",
       "      <td>25</td>\n",
       "      <td>3</td>\n",
       "    </tr>\n",
       "    <tr>\n",
       "      <th>649</th>\n",
       "      <td>LibraHp</td>\n",
       "      <td>GetQzonehistory</td>\n",
       "      <td>https://github.com/LibraHp/GetQzonehistory</td>\n",
       "      <td>获取QQ空间发布的历史说说</td>\n",
       "      <td>Python</td>\n",
       "      <td>3579.0</td>\n",
       "      <td>279.0</td>\n",
       "      <td>289</td>\n",
       "      <td>2024-11-12</td>\n",
       "      <td>python</td>\n",
       "      <td>25</td>\n",
       "      <td>3</td>\n",
       "    </tr>\n",
       "  </tbody>\n",
       "</table>\n",
       "</div>"
      ],
      "text/plain": [
       "                 org_name                  repo_name  \\\n",
       "600                QwenLM              Qwen2.5-Coder   \n",
       "601  blacklanternsecurity                       bbot   \n",
       "602               hiyouga              LLaMA-Factory   \n",
       "603    explodinggradients                      ragas   \n",
       "604              roboflow                supervision   \n",
       "605           huggingface  text-generation-inference   \n",
       "606                 spack                      spack   \n",
       "607       google-deepmind                  alphafold   \n",
       "608               LibraHp            GetQzonehistory   \n",
       "609         Azure-Samples       graphrag-accelerator   \n",
       "610             jackfrued            Python-100-Days   \n",
       "611            localstack                 localstack   \n",
       "612          Python-World       python-mini-projects   \n",
       "613                g0ldyy                      comet   \n",
       "614                   abi         screenshot-to-code   \n",
       "615     black-forest-labs                       flux   \n",
       "616       OpenInterpreter           open-interpreter   \n",
       "617           public-apis                public-apis   \n",
       "618              Asabeneh          30-Days-Of-Python   \n",
       "619               searxng                    searxng   \n",
       "620                yt-dlp                     yt-dlp   \n",
       "621                Guovin                       IPTV   \n",
       "622        home-assistant                       core   \n",
       "623            mingrammer                   diagrams   \n",
       "624               allenai              open-instruct   \n",
       "625   python-telegram-bot        python-telegram-bot   \n",
       "626                openai              openai-python   \n",
       "627           exo-explore                        exo   \n",
       "628  Bambu-Research-Group             RFID-Tag-Guide   \n",
       "629               levihsu               OOTDiffusion   \n",
       "630  blacklanternsecurity                       bbot   \n",
       "631           langflow-ai                   langflow   \n",
       "632             freqtrade                  freqtrade   \n",
       "633               pytorch                    pytorch   \n",
       "634                xtekky                   gpt4free   \n",
       "635         python-poetry                     poetry   \n",
       "636          521xueweihan                  GitHub520   \n",
       "637                apache                    airflow   \n",
       "638      Marker-Inc-Korea                    AutoRAG   \n",
       "639           stanfordnlp                       dspy   \n",
       "640               cvat-ai                       cvat   \n",
       "641                mlflow                     mlflow   \n",
       "642                NVIDIA                      garak   \n",
       "643            meta-llama               llama-models   \n",
       "644           exo-explore                        exo   \n",
       "645            infinition                      Bjorn   \n",
       "646             hacksider              Deep-Live-Cam   \n",
       "647             harry0703          MoneyPrinterTurbo   \n",
       "648               khoj-ai                       khoj   \n",
       "649               LibraHp            GetQzonehistory   \n",
       "\n",
       "                                              repo_url  \\\n",
       "600            https://github.com/QwenLM/Qwen2.5-Coder   \n",
       "601       https://github.com/blacklanternsecurity/bbot   \n",
       "602           https://github.com/hiyouga/LLaMA-Factory   \n",
       "603        https://github.com/explodinggradients/ragas   \n",
       "604            https://github.com/roboflow/supervision   \n",
       "605  https://github.com/huggingface/text-generation...   \n",
       "606                     https://github.com/spack/spack   \n",
       "607       https://github.com/google-deepmind/alphafold   \n",
       "608         https://github.com/LibraHp/GetQzonehistory   \n",
       "609  https://github.com/Azure-Samples/graphrag-acce...   \n",
       "610       https://github.com/jackfrued/Python-100-Days   \n",
       "611           https://github.com/localstack/localstack   \n",
       "612  https://github.com/Python-World/python-mini-pr...   \n",
       "613                    https://github.com/g0ldyy/comet   \n",
       "614          https://github.com/abi/screenshot-to-code   \n",
       "615          https://github.com/black-forest-labs/flux   \n",
       "616  https://github.com/OpenInterpreter/open-interp...   \n",
       "617         https://github.com/public-apis/public-apis   \n",
       "618      https://github.com/Asabeneh/30-Days-Of-Python   \n",
       "619                 https://github.com/searxng/searxng   \n",
       "620                   https://github.com/yt-dlp/yt-dlp   \n",
       "621                     https://github.com/Guovin/IPTV   \n",
       "622             https://github.com/home-assistant/core   \n",
       "623             https://github.com/mingrammer/diagrams   \n",
       "624           https://github.com/allenai/open-instruct   \n",
       "625  https://github.com/python-telegram-bot/python-...   \n",
       "626            https://github.com/openai/openai-python   \n",
       "627                 https://github.com/exo-explore/exo   \n",
       "628  https://github.com/Bambu-Research-Group/RFID-T...   \n",
       "629            https://github.com/levihsu/OOTDiffusion   \n",
       "630       https://github.com/blacklanternsecurity/bbot   \n",
       "631            https://github.com/langflow-ai/langflow   \n",
       "632             https://github.com/freqtrade/freqtrade   \n",
       "633                 https://github.com/pytorch/pytorch   \n",
       "634                 https://github.com/xtekky/gpt4free   \n",
       "635            https://github.com/python-poetry/poetry   \n",
       "636          https://github.com/521xueweihan/GitHub520   \n",
       "637                  https://github.com/apache/airflow   \n",
       "638        https://github.com/Marker-Inc-Korea/AutoRAG   \n",
       "639                https://github.com/stanfordnlp/dspy   \n",
       "640                    https://github.com/cvat-ai/cvat   \n",
       "641                   https://github.com/mlflow/mlflow   \n",
       "642                    https://github.com/NVIDIA/garak   \n",
       "643         https://github.com/meta-llama/llama-models   \n",
       "644                 https://github.com/exo-explore/exo   \n",
       "645                https://github.com/infinition/Bjorn   \n",
       "646         https://github.com/hacksider/Deep-Live-Cam   \n",
       "647     https://github.com/harry0703/MoneyPrinterTurbo   \n",
       "648                    https://github.com/khoj-ai/khoj   \n",
       "649         https://github.com/LibraHp/GetQzonehistory   \n",
       "\n",
       "                                           description language      star  \\\n",
       "600  Qwen2.5-Coder is the code version of Qwen2.5, ...   Python    2309.0   \n",
       "601          A recursive internet scanner for hackers.   Python    5232.0   \n",
       "602  Unified Efficient Fine-Tuning of 100+ LLMs (AC...   Python   34347.0   \n",
       "603     Supercharge Your LLM Application Evaluations 🚀   Python    7220.0   \n",
       "604    We write your reusable computer vision tools. 💜   Python   24187.0   \n",
       "605     Large Language Model Text Generation Inference   Python    9092.0   \n",
       "606  A flexible package manager that supports multi...   Python    4392.0   \n",
       "607                  Open source code for AlphaFold 2.   Python   12849.0   \n",
       "608                                      获取QQ空间发布的历史说说   Python    5240.0   \n",
       "609  One-click deploy of a Knowledge Graph powered ...   Python    1859.0   \n",
       "610                                Python - 100天从新手到大师   Python  157420.0   \n",
       "611  💻 A fully functional local AWS cloud stack. De...   Python   56426.0   \n",
       "612  A collection of simple python mini projects to...   Python   14976.0   \n",
       "613    Stremio's fastest torrent/debrid search add-on.   Python     224.0   \n",
       "614  Drop in a screenshot and convert it to clean c...   Python   61435.0   \n",
       "615          Official inference repo for FLUX.1 models   Python   17528.0   \n",
       "616         A natural language interface for computers   Python   55959.0   \n",
       "617                     A collective list of free APIs   Python  318447.0   \n",
       "618  30 days of Python programming challenge is a s...   Python   42947.0   \n",
       "619  SearXNG is a free internet metasearch engine w...   Python   14176.0   \n",
       "620  A feature-rich command-line audio/video downlo...   Python   90893.0   \n",
       "621  📺IPTV电视直播源更新工具🚀：包含💰央视、📡卫视、☘️广东及各省份地方台、🌊港·澳·台、🎬...   Python    6125.0   \n",
       "622  🏡 Open source home automation that puts local ...   Python   73949.0   \n",
       "623  🎨 Diagram as Code for prototyping cloud system...   Python   39668.0   \n",
       "624                                     No description   Python    1548.0   \n",
       "625        We have made you a wrapper you can't refuse   Python   26370.0   \n",
       "626     The official Python library for the OpenAI API   Python   23142.0   \n",
       "627  Run your own AI cluster at home with everyday ...   Python   15975.0   \n",
       "628  Instructions on how to read out the bambulab n...   Python     732.0   \n",
       "629  Official implementation of OOTDiffusion: Outfi...   Python    5708.0   \n",
       "630          A recursive internet scanner for hackers.   Python    6452.0   \n",
       "631  Langflow is a low-code app builder for RAG and...   Python   34776.0   \n",
       "632               Free, open source crypto trading bot   Python   30678.0   \n",
       "633  Tensors and Dynamic neural networks in Python ...   Python   84279.0   \n",
       "634  The official gpt4free repository | various col...   Python   61952.0   \n",
       "635  Python packaging and dependency management mad...   Python   31769.0   \n",
       "636              😘 让你“爱”上 GitHub，解决访问时图裂、加载慢的问题。（无需安装）   Python   22831.0   \n",
       "637  Apache Airflow - A platform to programmaticall...   Python   37217.0   \n",
       "638                                AutoML tool for RAG   Python    2744.0   \n",
       "639  DSPy: The framework for programming—not prompt...   Python   18962.0   \n",
       "640  Annotate better with CVAT, the industry-leadin...   Python   12648.0   \n",
       "641  Open source platform for the machine learning ...   Python   18819.0   \n",
       "642                      the LLM vulnerability scanner   Python    2656.0   \n",
       "643      Utilities intended for use with Llama models.   Python    4856.0   \n",
       "644  Run your own AI cluster at home with everyday ...   Python   13156.0   \n",
       "645  Bjorn is a powerful network scanning and offen...   Python    1698.0   \n",
       "646  real time face swap and one-click video deepfa...   Python   40367.0   \n",
       "647  利用AI大模型，一键生成高清短视频 Generate short videos with o...   Python   17697.0   \n",
       "648  Your AI second brain. Self-hostable. Get answe...   Python   14563.0   \n",
       "649                                      获取QQ空间发布的历史说说   Python    3579.0   \n",
       "\n",
       "       forks  daily_star       date trending_category  language_encoded  \\\n",
       "600    149.0         323 2024-11-15            python                25   \n",
       "601    453.0         330 2024-11-15            python                25   \n",
       "602   4234.0          65 2024-11-15            python                25   \n",
       "603    737.0          12 2024-11-15            python                25   \n",
       "604   1796.0          55 2024-11-15            python                25   \n",
       "605   1069.0          19 2024-11-15            python                25   \n",
       "606   2282.0          79 2024-11-15            python                25   \n",
       "607   2282.0          11 2024-11-15            python                25   \n",
       "608    389.0         307 2024-11-15            python                25   \n",
       "609    307.0           3 2024-11-15            python                25   \n",
       "610  52423.0          73 2024-11-15            python                25   \n",
       "611   4023.0          28 2024-11-15            python                25   \n",
       "612   4887.0          12 2024-11-15            python                25   \n",
       "613     40.0           7 2024-11-15            python                25   \n",
       "614   7513.0         492 2024-11-25            python                25   \n",
       "615   1240.0         770 2024-11-25            python                25   \n",
       "616   4848.0         107 2024-11-25            python                25   \n",
       "617  33920.0         106 2024-11-25            python                25   \n",
       "618   8196.0          60 2024-11-25            python                25   \n",
       "619   1472.0          46 2024-11-25            python                25   \n",
       "620   7065.0         104 2024-11-25            python                25   \n",
       "621   1391.0          96 2024-11-25            python                25   \n",
       "622  31000.0          39 2024-11-25            python                25   \n",
       "623   2543.0          42 2024-11-25            python                25   \n",
       "624    186.0          84 2024-11-25            python                25   \n",
       "625   5355.0          20 2024-11-25            python                25   \n",
       "626   3263.0          16 2024-11-25            python                25   \n",
       "627    846.0         272 2024-11-25            python                25   \n",
       "628     68.0          10 2024-11-25            python                25   \n",
       "629    822.0          25 2024-11-25            python                25   \n",
       "630    502.0         267 2024-11-20            python                25   \n",
       "631   4167.0         115 2024-11-20            python                25   \n",
       "632   6320.0         383 2024-11-20            python                25   \n",
       "633  22692.0         150 2024-11-20            python                25   \n",
       "634  13359.0         235 2024-11-20            python                25   \n",
       "635   2273.0          12 2024-11-20            python                25   \n",
       "636   2264.0         116 2024-11-20            python                25   \n",
       "637  14325.0          39 2024-11-20            python                25   \n",
       "638    215.0          16 2024-11-20            python                25   \n",
       "639   1450.0          52 2024-11-20            python                25   \n",
       "640   3014.0          12 2024-11-20            python                25   \n",
       "641   4246.0          15 2024-11-20            python                25   \n",
       "642    233.0         242 2024-11-20            python                25   \n",
       "643    836.0          16 2024-11-20            python                25   \n",
       "644    731.0         598 2024-11-12            python                25   \n",
       "645     54.0         493 2024-11-12            python                25   \n",
       "646   5887.0         330 2024-11-12            python                25   \n",
       "647   2754.0         289 2024-11-12            python                25   \n",
       "648    728.0         135 2024-11-12            python                25   \n",
       "649    279.0         289 2024-11-12            python                25   \n",
       "\n",
       "     trending_category_encoded  \n",
       "600                          3  \n",
       "601                          3  \n",
       "602                          3  \n",
       "603                          3  \n",
       "604                          3  \n",
       "605                          3  \n",
       "606                          3  \n",
       "607                          3  \n",
       "608                          3  \n",
       "609                          3  \n",
       "610                          3  \n",
       "611                          3  \n",
       "612                          3  \n",
       "613                          3  \n",
       "614                          3  \n",
       "615                          3  \n",
       "616                          3  \n",
       "617                          3  \n",
       "618                          3  \n",
       "619                          3  \n",
       "620                          3  \n",
       "621                          3  \n",
       "622                          3  \n",
       "623                          3  \n",
       "624                          3  \n",
       "625                          3  \n",
       "626                          3  \n",
       "627                          3  \n",
       "628                          3  \n",
       "629                          3  \n",
       "630                          3  \n",
       "631                          3  \n",
       "632                          3  \n",
       "633                          3  \n",
       "634                          3  \n",
       "635                          3  \n",
       "636                          3  \n",
       "637                          3  \n",
       "638                          3  \n",
       "639                          3  \n",
       "640                          3  \n",
       "641                          3  \n",
       "642                          3  \n",
       "643                          3  \n",
       "644                          3  \n",
       "645                          3  \n",
       "646                          3  \n",
       "647                          3  \n",
       "648                          3  \n",
       "649                          3  "
      ]
     },
     "execution_count": 58,
     "metadata": {},
     "output_type": "execute_result"
    }
   ],
   "source": [
    "from sklearn.preprocessing import LabelEncoder\n",
    "\n",
    "# encode categorical columns into numeric \n",
    "label_encoder = LabelEncoder()\n",
    "duplicate_df['language_encoded'] = label_encoder.fit_transform(duplicate_df['language'])\n",
    "duplicate_df['trending_category_encoded'] = label_encoder.fit_transform(duplicate_df['trending_category'])\n",
    "duplicate_df[600:650]"
   ]
  },
  {
   "cell_type": "markdown",
   "id": "29242231",
   "metadata": {
    "papermill": {
     "duration": 0.038898,
     "end_time": "2025-01-26T09:07:36.344057",
     "exception": false,
     "start_time": "2025-01-26T09:07:36.305159",
     "status": "completed"
    },
    "tags": []
   },
   "source": [
    "### Split data into training and testing sets"
   ]
  },
  {
   "cell_type": "code",
   "execution_count": 59,
   "id": "b97b5050",
   "metadata": {
    "execution": {
     "iopub.execute_input": "2025-01-26T09:07:36.425209Z",
     "iopub.status.busy": "2025-01-26T09:07:36.424789Z",
     "iopub.status.idle": "2025-01-26T09:07:36.526286Z",
     "shell.execute_reply": "2025-01-26T09:07:36.525294Z"
    },
    "papermill": {
     "duration": 0.144115,
     "end_time": "2025-01-26T09:07:36.528058",
     "exception": false,
     "start_time": "2025-01-26T09:07:36.383943",
     "status": "completed"
    },
    "tags": []
   },
   "outputs": [],
   "source": [
    "from sklearn.model_selection import train_test_split\n",
    "\n",
    "X = duplicate_df[['star', 'forks', 'daily_star', 'language_encoded', 'trending_category_encoded']]\n",
    "y = duplicate_df['star']\n",
    "\n",
    "X_train, X_test, y_train, y_test = train_test_split(X, y, random_state=42, test_size=0.2)"
   ]
  },
  {
   "cell_type": "code",
   "execution_count": null,
   "id": "0ad99e69",
   "metadata": {
    "papermill": {
     "duration": 0.045556,
     "end_time": "2025-01-26T09:07:36.614502",
     "exception": false,
     "start_time": "2025-01-26T09:07:36.568946",
     "status": "completed"
    },
    "tags": []
   },
   "outputs": [],
   "source": []
  }
 ],
 "metadata": {
  "kaggle": {
   "accelerator": "none",
   "dataSources": [
    {
     "datasetId": 6019930,
     "sourceId": 10580438,
     "sourceType": "datasetVersion"
    }
   ],
   "dockerImageVersionId": 30822,
   "isGpuEnabled": false,
   "isInternetEnabled": true,
   "language": "python",
   "sourceType": "notebook"
  },
  "kernelspec": {
   "display_name": "Python 3",
   "language": "python",
   "name": "python3"
  },
  "language_info": {
   "codemirror_mode": {
    "name": "ipython",
    "version": 3
   },
   "file_extension": ".py",
   "mimetype": "text/x-python",
   "name": "python",
   "nbconvert_exporter": "python",
   "pygments_lexer": "ipython3",
   "version": "3.10.12"
  },
  "papermill": {
   "default_parameters": {},
   "duration": 112.023469,
   "end_time": "2025-01-26T09:07:40.249524",
   "environment_variables": {},
   "exception": null,
   "input_path": "__notebook__.ipynb",
   "output_path": "__notebook__.ipynb",
   "parameters": {},
   "start_time": "2025-01-26T09:05:48.226055",
   "version": "2.6.0"
  }
 },
 "nbformat": 4,
 "nbformat_minor": 5
}
