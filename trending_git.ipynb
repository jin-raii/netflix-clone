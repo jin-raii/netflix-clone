{
 "cells": [
  {
   "cell_type": "code",
   "execution_count": 1,
   "id": "b70b79e9",
   "metadata": {
    "_cell_guid": "b1076dfc-b9ad-4769-8c92-a6c4dae69d19",
    "_uuid": "8f2839f25d086af736a60e9eeb907d3b93b6e0e5",
    "execution": {
     "iopub.execute_input": "2025-01-09T09:35:06.949825Z",
     "iopub.status.busy": "2025-01-09T09:35:06.949570Z",
     "iopub.status.idle": "2025-01-09T09:35:09.220954Z",
     "shell.execute_reply": "2025-01-09T09:35:09.220060Z"
    },
    "papermill": {
     "duration": 2.278624,
     "end_time": "2025-01-09T09:35:09.222357",
     "exception": false,
     "start_time": "2025-01-09T09:35:06.943733",
     "status": "completed"
    },
    "tags": []
   },
   "outputs": [
    {
     "name": "stdout",
     "output_type": "stream",
     "text": [
      "/kaggle/input/github-daily-trending-repos/github_daily_trending.csv\n"
     ]
    }
   ],
   "source": [
    "# This Python 3 environment comes with many helpful analytics libraries installed\n",
    "# It is defined by the kaggle/python Docker image: https://github.com/kaggle/docker-python\n",
    "# For example, here's several helpful packages to load\n",
    "\n",
    "import numpy as np # linear algebra\n",
    "import pandas as pd # data processing, CSV file I/O (e.g. pd.read_csv)\n",
    "from matplotlib import pyplot as plt\n",
    "import seaborn as sns\n",
    "\n",
    "# Input data files are available in the read-only \"../input/\" directory\n",
    "# For example, running this (by clicking run or pressing Shift+Enter) will list all files under the input directory\n",
    "\n",
    "import os\n",
    "for dirname, _, filenames in os.walk('/kaggle/input'):\n",
    "    for filename in filenames:\n",
    "        print(os.path.join(dirname, filename))\n",
    "\n",
    "# You can write up to 20GB to the current directory (/kaggle/working/) that gets preserved as output when you create a version using \"Save & Run All\" \n",
    "# You can also write temporary files to /kaggle/temp/, but they won't be saved outside of the current session"
   ]
  },
  {
   "cell_type": "code",
   "execution_count": 2,
   "id": "c35ecf35",
   "metadata": {
    "execution": {
     "iopub.execute_input": "2025-01-09T09:35:09.232516Z",
     "iopub.status.busy": "2025-01-09T09:35:09.232143Z",
     "iopub.status.idle": "2025-01-09T09:35:09.359362Z",
     "shell.execute_reply": "2025-01-09T09:35:09.358245Z"
    },
    "papermill": {
     "duration": 0.133579,
     "end_time": "2025-01-09T09:35:09.360868",
     "exception": false,
     "start_time": "2025-01-09T09:35:09.227289",
     "status": "completed"
    },
    "tags": []
   },
   "outputs": [
    {
     "name": "stdout",
     "output_type": "stream",
     "text": [
      "__notebook__.ipynb\r\n"
     ]
    }
   ],
   "source": [
    "!ls"
   ]
  },
  {
   "cell_type": "code",
   "execution_count": 3,
   "id": "a75cd259",
   "metadata": {
    "execution": {
     "iopub.execute_input": "2025-01-09T09:35:09.371535Z",
     "iopub.status.busy": "2025-01-09T09:35:09.371158Z",
     "iopub.status.idle": "2025-01-09T09:35:09.467156Z",
     "shell.execute_reply": "2025-01-09T09:35:09.466301Z"
    },
    "papermill": {
     "duration": 0.102385,
     "end_time": "2025-01-09T09:35:09.468264",
     "exception": false,
     "start_time": "2025-01-09T09:35:09.365879",
     "status": "completed"
    },
    "tags": []
   },
   "outputs": [
    {
     "data": {
      "text/html": [
       "<div>\n",
       "<style scoped>\n",
       "    .dataframe tbody tr th:only-of-type {\n",
       "        vertical-align: middle;\n",
       "    }\n",
       "\n",
       "    .dataframe tbody tr th {\n",
       "        vertical-align: top;\n",
       "    }\n",
       "\n",
       "    .dataframe thead th {\n",
       "        text-align: right;\n",
       "    }\n",
       "</style>\n",
       "<table border=\"1\" class=\"dataframe\">\n",
       "  <thead>\n",
       "    <tr style=\"text-align: right;\">\n",
       "      <th></th>\n",
       "      <th>org_name</th>\n",
       "      <th>repo_name</th>\n",
       "      <th>repo_url</th>\n",
       "      <th>description</th>\n",
       "      <th>language</th>\n",
       "      <th>star</th>\n",
       "      <th>forks</th>\n",
       "      <th>daily_star</th>\n",
       "      <th>date</th>\n",
       "      <th>trending_category</th>\n",
       "    </tr>\n",
       "  </thead>\n",
       "  <tbody>\n",
       "    <tr>\n",
       "      <th>0</th>\n",
       "      <td>terrastruct</td>\n",
       "      <td>d2</td>\n",
       "      <td>https://github.com/terrastruct/d2</td>\n",
       "      <td>D2 is a modern diagram scripting language that...</td>\n",
       "      <td>Go</td>\n",
       "      <td>17896.0</td>\n",
       "      <td>439.0</td>\n",
       "      <td>418</td>\n",
       "      <td>2024-11-17</td>\n",
       "      <td>go</td>\n",
       "    </tr>\n",
       "    <tr>\n",
       "      <th>1</th>\n",
       "      <td>tinygo-org</td>\n",
       "      <td>tinygo</td>\n",
       "      <td>https://github.com/tinygo-org/tinygo</td>\n",
       "      <td>Go compiler for small places. Microcontrollers...</td>\n",
       "      <td>Go</td>\n",
       "      <td>15463.0</td>\n",
       "      <td>912.0</td>\n",
       "      <td>6</td>\n",
       "      <td>2024-11-17</td>\n",
       "      <td>go</td>\n",
       "    </tr>\n",
       "    <tr>\n",
       "      <th>2</th>\n",
       "      <td>Melkeydev</td>\n",
       "      <td>go-blueprint</td>\n",
       "      <td>https://github.com/Melkeydev/go-blueprint</td>\n",
       "      <td>Go-blueprint allows users to spin up a quick G...</td>\n",
       "      <td>Go</td>\n",
       "      <td>4608.0</td>\n",
       "      <td>276.0</td>\n",
       "      <td>9</td>\n",
       "      <td>2024-11-17</td>\n",
       "      <td>go</td>\n",
       "    </tr>\n",
       "    <tr>\n",
       "      <th>3</th>\n",
       "      <td>jeessy2</td>\n",
       "      <td>ddns-go</td>\n",
       "      <td>https://github.com/jeessy2/ddns-go</td>\n",
       "      <td>Simple and easy to use DDNS. Support Aliyun, T...</td>\n",
       "      <td>Go</td>\n",
       "      <td>12117.0</td>\n",
       "      <td>1398.0</td>\n",
       "      <td>25</td>\n",
       "      <td>2024-11-17</td>\n",
       "      <td>go</td>\n",
       "    </tr>\n",
       "    <tr>\n",
       "      <th>4</th>\n",
       "      <td>JanDeDobbeleer</td>\n",
       "      <td>oh-my-posh</td>\n",
       "      <td>https://github.com/JanDeDobbeleer/oh-my-posh</td>\n",
       "      <td>The most customisable and low-latency cross pl...</td>\n",
       "      <td>Go</td>\n",
       "      <td>17450.0</td>\n",
       "      <td>2390.0</td>\n",
       "      <td>16</td>\n",
       "      <td>2024-11-17</td>\n",
       "      <td>go</td>\n",
       "    </tr>\n",
       "  </tbody>\n",
       "</table>\n",
       "</div>"
      ],
      "text/plain": [
       "         org_name     repo_name                                      repo_url  \\\n",
       "0     terrastruct            d2             https://github.com/terrastruct/d2   \n",
       "1      tinygo-org        tinygo          https://github.com/tinygo-org/tinygo   \n",
       "2       Melkeydev  go-blueprint     https://github.com/Melkeydev/go-blueprint   \n",
       "3         jeessy2       ddns-go            https://github.com/jeessy2/ddns-go   \n",
       "4  JanDeDobbeleer    oh-my-posh  https://github.com/JanDeDobbeleer/oh-my-posh   \n",
       "\n",
       "                                         description language     star  \\\n",
       "0  D2 is a modern diagram scripting language that...       Go  17896.0   \n",
       "1  Go compiler for small places. Microcontrollers...       Go  15463.0   \n",
       "2  Go-blueprint allows users to spin up a quick G...       Go   4608.0   \n",
       "3  Simple and easy to use DDNS. Support Aliyun, T...       Go  12117.0   \n",
       "4  The most customisable and low-latency cross pl...       Go  17450.0   \n",
       "\n",
       "    forks  daily_star        date trending_category  \n",
       "0   439.0         418  2024-11-17                go  \n",
       "1   912.0           6  2024-11-17                go  \n",
       "2   276.0           9  2024-11-17                go  \n",
       "3  1398.0          25  2024-11-17                go  \n",
       "4  2390.0          16  2024-11-17                go  "
      ]
     },
     "execution_count": 3,
     "metadata": {},
     "output_type": "execute_result"
    }
   ],
   "source": [
    "df = pd.read_csv('/kaggle/input/github-daily-trending-repos/github_daily_trending.csv')\n",
    "df.head()"
   ]
  },
  {
   "cell_type": "code",
   "execution_count": 4,
   "id": "c3b79a89",
   "metadata": {
    "execution": {
     "iopub.execute_input": "2025-01-09T09:35:09.478278Z",
     "iopub.status.busy": "2025-01-09T09:35:09.477923Z",
     "iopub.status.idle": "2025-01-09T09:35:09.490085Z",
     "shell.execute_reply": "2025-01-09T09:35:09.489340Z"
    },
    "papermill": {
     "duration": 0.018413,
     "end_time": "2025-01-09T09:35:09.491199",
     "exception": false,
     "start_time": "2025-01-09T09:35:09.472786",
     "status": "completed"
    },
    "tags": []
   },
   "outputs": [
    {
     "data": {
      "text/plain": [
       "org_name               0\n",
       "repo_name              0\n",
       "repo_url               0\n",
       "description            0\n",
       "language              65\n",
       "star                 156\n",
       "forks                156\n",
       "daily_star             0\n",
       "date                   0\n",
       "trending_category      0\n",
       "dtype: int64"
      ]
     },
     "execution_count": 4,
     "metadata": {},
     "output_type": "execute_result"
    }
   ],
   "source": [
    "df.isna().sum()"
   ]
  },
  {
   "cell_type": "code",
   "execution_count": 5,
   "id": "b79aee21",
   "metadata": {
    "execution": {
     "iopub.execute_input": "2025-01-09T09:35:09.502185Z",
     "iopub.status.busy": "2025-01-09T09:35:09.501859Z",
     "iopub.status.idle": "2025-01-09T09:35:09.517867Z",
     "shell.execute_reply": "2025-01-09T09:35:09.516794Z"
    },
    "papermill": {
     "duration": 0.022691,
     "end_time": "2025-01-09T09:35:09.519163",
     "exception": false,
     "start_time": "2025-01-09T09:35:09.496472",
     "status": "completed"
    },
    "tags": []
   },
   "outputs": [
    {
     "data": {
      "text/html": [
       "<div>\n",
       "<style scoped>\n",
       "    .dataframe tbody tr th:only-of-type {\n",
       "        vertical-align: middle;\n",
       "    }\n",
       "\n",
       "    .dataframe tbody tr th {\n",
       "        vertical-align: top;\n",
       "    }\n",
       "\n",
       "    .dataframe thead th {\n",
       "        text-align: right;\n",
       "    }\n",
       "</style>\n",
       "<table border=\"1\" class=\"dataframe\">\n",
       "  <thead>\n",
       "    <tr style=\"text-align: right;\">\n",
       "      <th></th>\n",
       "      <th>star</th>\n",
       "      <th>forks</th>\n",
       "      <th>daily_star</th>\n",
       "    </tr>\n",
       "  </thead>\n",
       "  <tbody>\n",
       "    <tr>\n",
       "      <th>count</th>\n",
       "      <td>9634.000000</td>\n",
       "      <td>9634.000000</td>\n",
       "      <td>9790.000000</td>\n",
       "    </tr>\n",
       "    <tr>\n",
       "      <th>mean</th>\n",
       "      <td>23806.490243</td>\n",
       "      <td>3764.963048</td>\n",
       "      <td>75.632380</td>\n",
       "    </tr>\n",
       "    <tr>\n",
       "      <th>std</th>\n",
       "      <td>40278.796290</td>\n",
       "      <td>7595.988700</td>\n",
       "      <td>243.384987</td>\n",
       "    </tr>\n",
       "    <tr>\n",
       "      <th>min</th>\n",
       "      <td>23.000000</td>\n",
       "      <td>3.000000</td>\n",
       "      <td>0.000000</td>\n",
       "    </tr>\n",
       "    <tr>\n",
       "      <th>25%</th>\n",
       "      <td>4556.000000</td>\n",
       "      <td>499.000000</td>\n",
       "      <td>5.000000</td>\n",
       "    </tr>\n",
       "    <tr>\n",
       "      <th>50%</th>\n",
       "      <td>11988.000000</td>\n",
       "      <td>1349.000000</td>\n",
       "      <td>15.000000</td>\n",
       "    </tr>\n",
       "    <tr>\n",
       "      <th>75%</th>\n",
       "      <td>26317.750000</td>\n",
       "      <td>3573.000000</td>\n",
       "      <td>49.000000</td>\n",
       "    </tr>\n",
       "    <tr>\n",
       "      <th>max</th>\n",
       "      <td>408289.000000</td>\n",
       "      <td>78936.000000</td>\n",
       "      <td>8559.000000</td>\n",
       "    </tr>\n",
       "  </tbody>\n",
       "</table>\n",
       "</div>"
      ],
      "text/plain": [
       "                star         forks   daily_star\n",
       "count    9634.000000   9634.000000  9790.000000\n",
       "mean    23806.490243   3764.963048    75.632380\n",
       "std     40278.796290   7595.988700   243.384987\n",
       "min        23.000000      3.000000     0.000000\n",
       "25%      4556.000000    499.000000     5.000000\n",
       "50%     11988.000000   1349.000000    15.000000\n",
       "75%     26317.750000   3573.000000    49.000000\n",
       "max    408289.000000  78936.000000  8559.000000"
      ]
     },
     "execution_count": 5,
     "metadata": {},
     "output_type": "execute_result"
    }
   ],
   "source": [
    "df.describe()"
   ]
  },
  {
   "cell_type": "code",
   "execution_count": 6,
   "id": "4e23060b",
   "metadata": {
    "execution": {
     "iopub.execute_input": "2025-01-09T09:35:09.529703Z",
     "iopub.status.busy": "2025-01-09T09:35:09.529401Z",
     "iopub.status.idle": "2025-01-09T09:35:09.553597Z",
     "shell.execute_reply": "2025-01-09T09:35:09.552860Z"
    },
    "papermill": {
     "duration": 0.030697,
     "end_time": "2025-01-09T09:35:09.554721",
     "exception": false,
     "start_time": "2025-01-09T09:35:09.524024",
     "status": "completed"
    },
    "tags": []
   },
   "outputs": [
    {
     "name": "stdout",
     "output_type": "stream",
     "text": [
      "<class 'pandas.core.frame.DataFrame'>\n",
      "RangeIndex: 9790 entries, 0 to 9789\n",
      "Data columns (total 10 columns):\n",
      " #   Column             Non-Null Count  Dtype  \n",
      "---  ------             --------------  -----  \n",
      " 0   org_name           9790 non-null   object \n",
      " 1   repo_name          9790 non-null   object \n",
      " 2   repo_url           9790 non-null   object \n",
      " 3   description        9790 non-null   object \n",
      " 4   language           9725 non-null   object \n",
      " 5   star               9634 non-null   float64\n",
      " 6   forks              9634 non-null   float64\n",
      " 7   daily_star         9790 non-null   int64  \n",
      " 8   date               9790 non-null   object \n",
      " 9   trending_category  9790 non-null   object \n",
      "dtypes: float64(2), int64(1), object(7)\n",
      "memory usage: 765.0+ KB\n"
     ]
    }
   ],
   "source": [
    "df.info()"
   ]
  },
  {
   "cell_type": "code",
   "execution_count": 7,
   "id": "79b5a195",
   "metadata": {
    "execution": {
     "iopub.execute_input": "2025-01-09T09:35:09.565128Z",
     "iopub.status.busy": "2025-01-09T09:35:09.564882Z",
     "iopub.status.idle": "2025-01-09T09:35:09.853975Z",
     "shell.execute_reply": "2025-01-09T09:35:09.853126Z"
    },
    "papermill": {
     "duration": 0.295569,
     "end_time": "2025-01-09T09:35:09.855204",
     "exception": false,
     "start_time": "2025-01-09T09:35:09.559635",
     "status": "completed"
    },
    "tags": []
   },
   "outputs": [
    {
     "data": {
      "text/plain": [
       "<Axes: >"
      ]
     },
     "execution_count": 7,
     "metadata": {},
     "output_type": "execute_result"
    },
    {
     "data": {
      "image/png": "[encoded data removed]",
      "text/plain": [
       "<Figure size 640x480 with 1 Axes>"
      ]
     },
     "metadata": {},
     "output_type": "display_data"
    }
   ],
   "source": [
    "sns.heatmap(data=df.isna(), cbar=False, yticklabels=False)"
   ]
  },
  {
   "cell_type": "code",
   "execution_count": 8,
   "id": "4ad1fed7",
   "metadata": {
    "execution": {
     "iopub.execute_input": "2025-01-09T09:35:09.866507Z",
     "iopub.status.busy": "2025-01-09T09:35:09.866292Z",
     "iopub.status.idle": "2025-01-09T09:35:09.870900Z",
     "shell.execute_reply": "2025-01-09T09:35:09.870215Z"
    },
    "papermill": {
     "duration": 0.011917,
     "end_time": "2025-01-09T09:35:09.872575",
     "exception": false,
     "start_time": "2025-01-09T09:35:09.860658",
     "status": "completed"
    },
    "tags": []
   },
   "outputs": [
    {
     "data": {
      "text/plain": [
       "Index(['org_name', 'repo_name', 'repo_url', 'description', 'language', 'star',\n",
       "       'forks', 'daily_star', 'date', 'trending_category'],\n",
       "      dtype='object')"
      ]
     },
     "execution_count": 8,
     "metadata": {},
     "output_type": "execute_result"
    }
   ],
   "source": [
    "df.columns"
   ]
  },
  {
   "cell_type": "code",
   "execution_count": 9,
   "id": "23d2e2b7",
   "metadata": {
    "execution": {
     "iopub.execute_input": "2025-01-09T09:35:09.884967Z",
     "iopub.status.busy": "2025-01-09T09:35:09.884741Z",
     "iopub.status.idle": "2025-01-09T09:35:09.894767Z",
     "shell.execute_reply": "2025-01-09T09:35:09.893865Z"
    },
    "papermill": {
     "duration": 0.017678,
     "end_time": "2025-01-09T09:35:09.896210",
     "exception": false,
     "start_time": "2025-01-09T09:35:09.878532",
     "status": "completed"
    },
    "tags": []
   },
   "outputs": [
    {
     "data": {
      "text/html": [
       "<div>\n",
       "<style scoped>\n",
       "    .dataframe tbody tr th:only-of-type {\n",
       "        vertical-align: middle;\n",
       "    }\n",
       "\n",
       "    .dataframe tbody tr th {\n",
       "        vertical-align: top;\n",
       "    }\n",
       "\n",
       "    .dataframe thead th {\n",
       "        text-align: right;\n",
       "    }\n",
       "</style>\n",
       "<table border=\"1\" class=\"dataframe\">\n",
       "  <thead>\n",
       "    <tr style=\"text-align: right;\">\n",
       "      <th></th>\n",
       "      <th>org_name</th>\n",
       "      <th>repo_name</th>\n",
       "      <th>repo_url</th>\n",
       "      <th>description</th>\n",
       "      <th>language</th>\n",
       "      <th>star</th>\n",
       "      <th>forks</th>\n",
       "      <th>daily_star</th>\n",
       "      <th>date</th>\n",
       "      <th>trending_category</th>\n",
       "    </tr>\n",
       "  </thead>\n",
       "  <tbody>\n",
       "    <tr>\n",
       "      <th>0</th>\n",
       "      <td>terrastruct</td>\n",
       "      <td>d2</td>\n",
       "      <td>https://github.com/terrastruct/d2</td>\n",
       "      <td>D2 is a modern diagram scripting language that...</td>\n",
       "      <td>Go</td>\n",
       "      <td>17896.0</td>\n",
       "      <td>439.0</td>\n",
       "      <td>418</td>\n",
       "      <td>2024-11-17</td>\n",
       "      <td>go</td>\n",
       "    </tr>\n",
       "    <tr>\n",
       "      <th>1</th>\n",
       "      <td>tinygo-org</td>\n",
       "      <td>tinygo</td>\n",
       "      <td>https://github.com/tinygo-org/tinygo</td>\n",
       "      <td>Go compiler for small places. Microcontrollers...</td>\n",
       "      <td>Go</td>\n",
       "      <td>15463.0</td>\n",
       "      <td>912.0</td>\n",
       "      <td>6</td>\n",
       "      <td>2024-11-17</td>\n",
       "      <td>go</td>\n",
       "    </tr>\n",
       "    <tr>\n",
       "      <th>2</th>\n",
       "      <td>Melkeydev</td>\n",
       "      <td>go-blueprint</td>\n",
       "      <td>https://github.com/Melkeydev/go-blueprint</td>\n",
       "      <td>Go-blueprint allows users to spin up a quick G...</td>\n",
       "      <td>Go</td>\n",
       "      <td>4608.0</td>\n",
       "      <td>276.0</td>\n",
       "      <td>9</td>\n",
       "      <td>2024-11-17</td>\n",
       "      <td>go</td>\n",
       "    </tr>\n",
       "    <tr>\n",
       "      <th>3</th>\n",
       "      <td>jeessy2</td>\n",
       "      <td>ddns-go</td>\n",
       "      <td>https://github.com/jeessy2/ddns-go</td>\n",
       "      <td>Simple and easy to use DDNS. Support Aliyun, T...</td>\n",
       "      <td>Go</td>\n",
       "      <td>12117.0</td>\n",
       "      <td>1398.0</td>\n",
       "      <td>25</td>\n",
       "      <td>2024-11-17</td>\n",
       "      <td>go</td>\n",
       "    </tr>\n",
       "    <tr>\n",
       "      <th>4</th>\n",
       "      <td>JanDeDobbeleer</td>\n",
       "      <td>oh-my-posh</td>\n",
       "      <td>https://github.com/JanDeDobbeleer/oh-my-posh</td>\n",
       "      <td>The most customisable and low-latency cross pl...</td>\n",
       "      <td>Go</td>\n",
       "      <td>17450.0</td>\n",
       "      <td>2390.0</td>\n",
       "      <td>16</td>\n",
       "      <td>2024-11-17</td>\n",
       "      <td>go</td>\n",
       "    </tr>\n",
       "  </tbody>\n",
       "</table>\n",
       "</div>"
      ],
      "text/plain": [
       "         org_name     repo_name                                      repo_url  \\\n",
       "0     terrastruct            d2             https://github.com/terrastruct/d2   \n",
       "1      tinygo-org        tinygo          https://github.com/tinygo-org/tinygo   \n",
       "2       Melkeydev  go-blueprint     https://github.com/Melkeydev/go-blueprint   \n",
       "3         jeessy2       ddns-go            https://github.com/jeessy2/ddns-go   \n",
       "4  JanDeDobbeleer    oh-my-posh  https://github.com/JanDeDobbeleer/oh-my-posh   \n",
       "\n",
       "                                         description language     star  \\\n",
       "0  D2 is a modern diagram scripting language that...       Go  17896.0   \n",
       "1  Go compiler for small places. Microcontrollers...       Go  15463.0   \n",
       "2  Go-blueprint allows users to spin up a quick G...       Go   4608.0   \n",
       "3  Simple and easy to use DDNS. Support Aliyun, T...       Go  12117.0   \n",
       "4  The most customisable and low-latency cross pl...       Go  17450.0   \n",
       "\n",
       "    forks  daily_star        date trending_category  \n",
       "0   439.0         418  2024-11-17                go  \n",
       "1   912.0           6  2024-11-17                go  \n",
       "2   276.0           9  2024-11-17                go  \n",
       "3  1398.0          25  2024-11-17                go  \n",
       "4  2390.0          16  2024-11-17                go  "
      ]
     },
     "execution_count": 9,
     "metadata": {},
     "output_type": "execute_result"
    }
   ],
   "source": [
    "df.head()"
   ]
  },
  {
   "cell_type": "code",
   "execution_count": 10,
   "id": "80724f7e",
   "metadata": {
    "execution": {
     "iopub.execute_input": "2025-01-09T09:35:09.908999Z",
     "iopub.status.busy": "2025-01-09T09:35:09.908680Z",
     "iopub.status.idle": "2025-01-09T09:35:09.915580Z",
     "shell.execute_reply": "2025-01-09T09:35:09.914843Z"
    },
    "papermill": {
     "duration": 0.014321,
     "end_time": "2025-01-09T09:35:09.916637",
     "exception": false,
     "start_time": "2025-01-09T09:35:09.902316",
     "status": "completed"
    },
    "tags": []
   },
   "outputs": [
    {
     "data": {
      "text/plain": [
       "array(['Go', 'Python', 'Rust', 'Ruby', 'Kotlin', 'Makefile',\n",
       "       'Jupyter Notebook', 'TypeScript', 'Svelte', 'C', 'Markdown', 'C++',\n",
       "       'C#', nan, 'Java', 'HTML', 'JavaScript', 'PHP', 'Shell', 'CSS',\n",
       "       'MDX', 'Swift', 'Dart', 'Vue', 'LLVM', 'PowerShell', 'Blade',\n",
       "       'Haskell', 'Zig', 'Lua', 'Elixir', 'PureScript', 'Scala'],\n",
       "      dtype=object)"
      ]
     },
     "execution_count": 10,
     "metadata": {},
     "output_type": "execute_result"
    }
   ],
   "source": [
    "df['language'].unique()"
   ]
  },
  {
   "cell_type": "code",
   "execution_count": 11,
   "id": "54c11906",
   "metadata": {
    "execution": {
     "iopub.execute_input": "2025-01-09T09:35:09.928584Z",
     "iopub.status.busy": "2025-01-09T09:35:09.928258Z",
     "iopub.status.idle": "2025-01-09T09:35:09.937017Z",
     "shell.execute_reply": "2025-01-09T09:35:09.936371Z"
    },
    "papermill": {
     "duration": 0.015826,
     "end_time": "2025-01-09T09:35:09.938273",
     "exception": false,
     "start_time": "2025-01-09T09:35:09.922447",
     "status": "completed"
    },
    "tags": []
   },
   "outputs": [
    {
     "data": {
      "text/plain": [
       "437     Learn how to design large-scale systems. Prep ...\n",
       "438                               Stable Diffusion web UI\n",
       "439                  Free, open source crypto trading bot\n",
       "440             A recursive internet scanner for hackers.\n",
       "441     The official gpt4free repository | various col...\n",
       "                              ...                        \n",
       "9656    A scalable generative AI framework built for r...\n",
       "9657    OCR, layout analysis, reading order, table rec...\n",
       "9658                     matplotlib: plotting with Python\n",
       "9659    VILA is a family of state-of-the-art vision la...\n",
       "9660    The leading data integration platform for ETL ...\n",
       "Name: description, Length: 1337, dtype: object"
      ]
     },
     "execution_count": 11,
     "metadata": {},
     "output_type": "execute_result"
    }
   ],
   "source": [
    "df.loc[df['language'] == 'Python']['description']"
   ]
  },
  {
   "cell_type": "code",
   "execution_count": 12,
   "id": "53dc3d83",
   "metadata": {
    "execution": {
     "iopub.execute_input": "2025-01-09T09:35:09.949268Z",
     "iopub.status.busy": "2025-01-09T09:35:09.949013Z",
     "iopub.status.idle": "2025-01-09T09:35:09.953380Z",
     "shell.execute_reply": "2025-01-09T09:35:09.952751Z"
    },
    "papermill": {
     "duration": 0.010939,
     "end_time": "2025-01-09T09:35:09.954402",
     "exception": false,
     "start_time": "2025-01-09T09:35:09.943463",
     "status": "completed"
    },
    "tags": []
   },
   "outputs": [
    {
     "data": {
      "text/plain": [
       "65"
      ]
     },
     "execution_count": 12,
     "metadata": {},
     "output_type": "execute_result"
    }
   ],
   "source": [
    "df['language'].isna().sum()"
   ]
  },
  {
   "cell_type": "code",
   "execution_count": 13,
   "id": "9ffcf4d6",
   "metadata": {
    "execution": {
     "iopub.execute_input": "2025-01-09T09:35:09.965315Z",
     "iopub.status.busy": "2025-01-09T09:35:09.965108Z",
     "iopub.status.idle": "2025-01-09T09:35:09.974623Z",
     "shell.execute_reply": "2025-01-09T09:35:09.974074Z"
    },
    "papermill": {
     "duration": 0.015988,
     "end_time": "2025-01-09T09:35:09.975585",
     "exception": false,
     "start_time": "2025-01-09T09:35:09.959597",
     "status": "completed"
    },
    "tags": []
   },
   "outputs": [
    {
     "data": {
      "text/html": [
       "<div>\n",
       "<style scoped>\n",
       "    .dataframe tbody tr th:only-of-type {\n",
       "        vertical-align: middle;\n",
       "    }\n",
       "\n",
       "    .dataframe tbody tr th {\n",
       "        vertical-align: top;\n",
       "    }\n",
       "\n",
       "    .dataframe thead th {\n",
       "        text-align: right;\n",
       "    }\n",
       "</style>\n",
       "<table border=\"1\" class=\"dataframe\">\n",
       "  <thead>\n",
       "    <tr style=\"text-align: right;\">\n",
       "      <th></th>\n",
       "      <th>org_name</th>\n",
       "      <th>repo_name</th>\n",
       "      <th>repo_url</th>\n",
       "      <th>description</th>\n",
       "      <th>language</th>\n",
       "      <th>star</th>\n",
       "      <th>forks</th>\n",
       "      <th>daily_star</th>\n",
       "      <th>date</th>\n",
       "      <th>trending_category</th>\n",
       "    </tr>\n",
       "  </thead>\n",
       "  <tbody>\n",
       "    <tr>\n",
       "      <th>0</th>\n",
       "      <td>terrastruct</td>\n",
       "      <td>d2</td>\n",
       "      <td>https://github.com/terrastruct/d2</td>\n",
       "      <td>D2 is a modern diagram scripting language that...</td>\n",
       "      <td>Go</td>\n",
       "      <td>17896.0</td>\n",
       "      <td>439.0</td>\n",
       "      <td>418</td>\n",
       "      <td>2024-11-17</td>\n",
       "      <td>go</td>\n",
       "    </tr>\n",
       "    <tr>\n",
       "      <th>1</th>\n",
       "      <td>tinygo-org</td>\n",
       "      <td>tinygo</td>\n",
       "      <td>https://github.com/tinygo-org/tinygo</td>\n",
       "      <td>Go compiler for small places. Microcontrollers...</td>\n",
       "      <td>Go</td>\n",
       "      <td>15463.0</td>\n",
       "      <td>912.0</td>\n",
       "      <td>6</td>\n",
       "      <td>2024-11-17</td>\n",
       "      <td>go</td>\n",
       "    </tr>\n",
       "    <tr>\n",
       "      <th>2</th>\n",
       "      <td>Melkeydev</td>\n",
       "      <td>go-blueprint</td>\n",
       "      <td>https://github.com/Melkeydev/go-blueprint</td>\n",
       "      <td>Go-blueprint allows users to spin up a quick G...</td>\n",
       "      <td>Go</td>\n",
       "      <td>4608.0</td>\n",
       "      <td>276.0</td>\n",
       "      <td>9</td>\n",
       "      <td>2024-11-17</td>\n",
       "      <td>go</td>\n",
       "    </tr>\n",
       "    <tr>\n",
       "      <th>3</th>\n",
       "      <td>jeessy2</td>\n",
       "      <td>ddns-go</td>\n",
       "      <td>https://github.com/jeessy2/ddns-go</td>\n",
       "      <td>Simple and easy to use DDNS. Support Aliyun, T...</td>\n",
       "      <td>Go</td>\n",
       "      <td>12117.0</td>\n",
       "      <td>1398.0</td>\n",
       "      <td>25</td>\n",
       "      <td>2024-11-17</td>\n",
       "      <td>go</td>\n",
       "    </tr>\n",
       "    <tr>\n",
       "      <th>4</th>\n",
       "      <td>JanDeDobbeleer</td>\n",
       "      <td>oh-my-posh</td>\n",
       "      <td>https://github.com/JanDeDobbeleer/oh-my-posh</td>\n",
       "      <td>The most customisable and low-latency cross pl...</td>\n",
       "      <td>Go</td>\n",
       "      <td>17450.0</td>\n",
       "      <td>2390.0</td>\n",
       "      <td>16</td>\n",
       "      <td>2024-11-17</td>\n",
       "      <td>go</td>\n",
       "    </tr>\n",
       "  </tbody>\n",
       "</table>\n",
       "</div>"
      ],
      "text/plain": [
       "         org_name     repo_name                                      repo_url  \\\n",
       "0     terrastruct            d2             https://github.com/terrastruct/d2   \n",
       "1      tinygo-org        tinygo          https://github.com/tinygo-org/tinygo   \n",
       "2       Melkeydev  go-blueprint     https://github.com/Melkeydev/go-blueprint   \n",
       "3         jeessy2       ddns-go            https://github.com/jeessy2/ddns-go   \n",
       "4  JanDeDobbeleer    oh-my-posh  https://github.com/JanDeDobbeleer/oh-my-posh   \n",
       "\n",
       "                                         description language     star  \\\n",
       "0  D2 is a modern diagram scripting language that...       Go  17896.0   \n",
       "1  Go compiler for small places. Microcontrollers...       Go  15463.0   \n",
       "2  Go-blueprint allows users to spin up a quick G...       Go   4608.0   \n",
       "3  Simple and easy to use DDNS. Support Aliyun, T...       Go  12117.0   \n",
       "4  The most customisable and low-latency cross pl...       Go  17450.0   \n",
       "\n",
       "    forks  daily_star        date trending_category  \n",
       "0   439.0         418  2024-11-17                go  \n",
       "1   912.0           6  2024-11-17                go  \n",
       "2   276.0           9  2024-11-17                go  \n",
       "3  1398.0          25  2024-11-17                go  \n",
       "4  2390.0          16  2024-11-17                go  "
      ]
     },
     "execution_count": 13,
     "metadata": {},
     "output_type": "execute_result"
    }
   ],
   "source": [
    "duplicate_df = df.copy()\n",
    "duplicate_df.head()"
   ]
  },
  {
   "cell_type": "code",
   "execution_count": 14,
   "id": "e20497b0",
   "metadata": {
    "execution": {
     "iopub.execute_input": "2025-01-09T09:35:09.987161Z",
     "iopub.status.busy": "2025-01-09T09:35:09.986940Z",
     "iopub.status.idle": "2025-01-09T09:35:09.993670Z",
     "shell.execute_reply": "2025-01-09T09:35:09.993180Z"
    },
    "papermill": {
     "duration": 0.013473,
     "end_time": "2025-01-09T09:35:09.994649",
     "exception": false,
     "start_time": "2025-01-09T09:35:09.981176",
     "status": "completed"
    },
    "tags": []
   },
   "outputs": [
    {
     "data": {
      "text/plain": [
       "org_name               0\n",
       "repo_name              0\n",
       "repo_url               0\n",
       "description            0\n",
       "language              65\n",
       "star                 156\n",
       "forks                156\n",
       "daily_star             0\n",
       "date                   0\n",
       "trending_category      0\n",
       "dtype: int64"
      ]
     },
     "execution_count": 14,
     "metadata": {},
     "output_type": "execute_result"
    }
   ],
   "source": [
    "duplicate_df.isna().sum()"
   ]
  },
  {
   "cell_type": "markdown",
   "id": "e52c2d81",
   "metadata": {
    "papermill": {
     "duration": 0.006073,
     "end_time": "2025-01-09T09:35:10.006399",
     "exception": false,
     "start_time": "2025-01-09T09:35:10.000326",
     "status": "completed"
    },
    "tags": []
   },
   "source": [
    "### Fill NAN values "
   ]
  },
  {
   "cell_type": "code",
   "execution_count": 15,
   "id": "04bd00e2",
   "metadata": {
    "execution": {
     "iopub.execute_input": "2025-01-09T09:35:10.018664Z",
     "iopub.status.busy": "2025-01-09T09:35:10.018405Z",
     "iopub.status.idle": "2025-01-09T09:35:10.024890Z",
     "shell.execute_reply": "2025-01-09T09:35:10.024103Z"
    },
    "papermill": {
     "duration": 0.01375,
     "end_time": "2025-01-09T09:35:10.026020",
     "exception": false,
     "start_time": "2025-01-09T09:35:10.012270",
     "status": "completed"
    },
    "tags": []
   },
   "outputs": [],
   "source": [
    "fill_values = {'language':'unavailable language', 'star': df['star'].mean(), 'forks': df['forks'].mean()}\n",
    "duplicate_df.fillna(fill_values, inplace=True)"
   ]
  },
  {
   "cell_type": "code",
   "execution_count": 16,
   "id": "d3824a78",
   "metadata": {
    "execution": {
     "iopub.execute_input": "2025-01-09T09:35:10.038476Z",
     "iopub.status.busy": "2025-01-09T09:35:10.038224Z",
     "iopub.status.idle": "2025-01-09T09:35:10.042949Z",
     "shell.execute_reply": "2025-01-09T09:35:10.042357Z"
    },
    "papermill": {
     "duration": 0.012015,
     "end_time": "2025-01-09T09:35:10.044132",
     "exception": false,
     "start_time": "2025-01-09T09:35:10.032117",
     "status": "completed"
    },
    "tags": []
   },
   "outputs": [
    {
     "data": {
      "text/plain": [
       "0       2024-11-17\n",
       "1       2024-11-17\n",
       "2       2024-11-17\n",
       "3       2024-11-17\n",
       "4       2024-11-17\n",
       "           ...    \n",
       "9785    2025-01-08\n",
       "9786    2025-01-08\n",
       "9787    2025-01-08\n",
       "9788    2025-01-08\n",
       "9789    2025-01-08\n",
       "Name: date, Length: 9790, dtype: object"
      ]
     },
     "execution_count": 16,
     "metadata": {},
     "output_type": "execute_result"
    }
   ],
   "source": [
    "duplicate_df['date']"
   ]
  },
  {
   "cell_type": "markdown",
   "id": "73803207",
   "metadata": {
    "papermill": {
     "duration": 0.005383,
     "end_time": "2025-01-09T09:35:10.055565",
     "exception": false,
     "start_time": "2025-01-09T09:35:10.050182",
     "status": "completed"
    },
    "tags": []
   },
   "source": [
    "### Convert Date column object to date_format using pd.to_datetime()"
   ]
  },
  {
   "cell_type": "code",
   "execution_count": 17,
   "id": "cd99b7b3",
   "metadata": {
    "execution": {
     "iopub.execute_input": "2025-01-09T09:35:10.067656Z",
     "iopub.status.busy": "2025-01-09T09:35:10.067450Z",
     "iopub.status.idle": "2025-01-09T09:35:10.074330Z",
     "shell.execute_reply": "2025-01-09T09:35:10.073421Z"
    },
    "papermill": {
     "duration": 0.014638,
     "end_time": "2025-01-09T09:35:10.075810",
     "exception": false,
     "start_time": "2025-01-09T09:35:10.061172",
     "status": "completed"
    },
    "tags": []
   },
   "outputs": [],
   "source": [
    "duplicate_df['date'] = pd.to_datetime(duplicate_df['date'], errors='coerce')\n"
   ]
  },
  {
   "cell_type": "code",
   "execution_count": 18,
   "id": "75d60a81",
   "metadata": {
    "execution": {
     "iopub.execute_input": "2025-01-09T09:35:10.088991Z",
     "iopub.status.busy": "2025-01-09T09:35:10.088680Z",
     "iopub.status.idle": "2025-01-09T09:35:10.096661Z",
     "shell.execute_reply": "2025-01-09T09:35:10.095921Z"
    },
    "papermill": {
     "duration": 0.015741,
     "end_time": "2025-01-09T09:35:10.097763",
     "exception": false,
     "start_time": "2025-01-09T09:35:10.082022",
     "status": "completed"
    },
    "tags": []
   },
   "outputs": [
    {
     "data": {
      "text/plain": [
       "org_name             0\n",
       "repo_name            0\n",
       "repo_url             0\n",
       "description          0\n",
       "language             0\n",
       "star                 0\n",
       "forks                0\n",
       "daily_star           0\n",
       "date                 0\n",
       "trending_category    0\n",
       "dtype: int64"
      ]
     },
     "execution_count": 18,
     "metadata": {},
     "output_type": "execute_result"
    }
   ],
   "source": [
    "duplicate_df.isna().sum()"
   ]
  },
  {
   "cell_type": "code",
   "execution_count": 19,
   "id": "390fc6d0",
   "metadata": {
    "execution": {
     "iopub.execute_input": "2025-01-09T09:35:10.110861Z",
     "iopub.status.busy": "2025-01-09T09:35:10.110572Z",
     "iopub.status.idle": "2025-01-09T09:35:10.120236Z",
     "shell.execute_reply": "2025-01-09T09:35:10.119536Z"
    },
    "papermill": {
     "duration": 0.01741,
     "end_time": "2025-01-09T09:35:10.121364",
     "exception": false,
     "start_time": "2025-01-09T09:35:10.103954",
     "status": "completed"
    },
    "tags": []
   },
   "outputs": [
    {
     "data": {
      "text/html": [
       "<div>\n",
       "<style scoped>\n",
       "    .dataframe tbody tr th:only-of-type {\n",
       "        vertical-align: middle;\n",
       "    }\n",
       "\n",
       "    .dataframe tbody tr th {\n",
       "        vertical-align: top;\n",
       "    }\n",
       "\n",
       "    .dataframe thead th {\n",
       "        text-align: right;\n",
       "    }\n",
       "</style>\n",
       "<table border=\"1\" class=\"dataframe\">\n",
       "  <thead>\n",
       "    <tr style=\"text-align: right;\">\n",
       "      <th></th>\n",
       "      <th>org_name</th>\n",
       "      <th>repo_name</th>\n",
       "      <th>repo_url</th>\n",
       "      <th>description</th>\n",
       "      <th>language</th>\n",
       "      <th>star</th>\n",
       "      <th>forks</th>\n",
       "      <th>daily_star</th>\n",
       "      <th>date</th>\n",
       "      <th>trending_category</th>\n",
       "    </tr>\n",
       "  </thead>\n",
       "  <tbody>\n",
       "    <tr>\n",
       "      <th>0</th>\n",
       "      <td>terrastruct</td>\n",
       "      <td>d2</td>\n",
       "      <td>https://github.com/terrastruct/d2</td>\n",
       "      <td>D2 is a modern diagram scripting language that...</td>\n",
       "      <td>Go</td>\n",
       "      <td>17896.0</td>\n",
       "      <td>439.0</td>\n",
       "      <td>418</td>\n",
       "      <td>2024-11-17</td>\n",
       "      <td>go</td>\n",
       "    </tr>\n",
       "    <tr>\n",
       "      <th>1</th>\n",
       "      <td>tinygo-org</td>\n",
       "      <td>tinygo</td>\n",
       "      <td>https://github.com/tinygo-org/tinygo</td>\n",
       "      <td>Go compiler for small places. Microcontrollers...</td>\n",
       "      <td>Go</td>\n",
       "      <td>15463.0</td>\n",
       "      <td>912.0</td>\n",
       "      <td>6</td>\n",
       "      <td>2024-11-17</td>\n",
       "      <td>go</td>\n",
       "    </tr>\n",
       "    <tr>\n",
       "      <th>2</th>\n",
       "      <td>Melkeydev</td>\n",
       "      <td>go-blueprint</td>\n",
       "      <td>https://github.com/Melkeydev/go-blueprint</td>\n",
       "      <td>Go-blueprint allows users to spin up a quick G...</td>\n",
       "      <td>Go</td>\n",
       "      <td>4608.0</td>\n",
       "      <td>276.0</td>\n",
       "      <td>9</td>\n",
       "      <td>2024-11-17</td>\n",
       "      <td>go</td>\n",
       "    </tr>\n",
       "    <tr>\n",
       "      <th>3</th>\n",
       "      <td>jeessy2</td>\n",
       "      <td>ddns-go</td>\n",
       "      <td>https://github.com/jeessy2/ddns-go</td>\n",
       "      <td>Simple and easy to use DDNS. Support Aliyun, T...</td>\n",
       "      <td>Go</td>\n",
       "      <td>12117.0</td>\n",
       "      <td>1398.0</td>\n",
       "      <td>25</td>\n",
       "      <td>2024-11-17</td>\n",
       "      <td>go</td>\n",
       "    </tr>\n",
       "    <tr>\n",
       "      <th>4</th>\n",
       "      <td>JanDeDobbeleer</td>\n",
       "      <td>oh-my-posh</td>\n",
       "      <td>https://github.com/JanDeDobbeleer/oh-my-posh</td>\n",
       "      <td>The most customisable and low-latency cross pl...</td>\n",
       "      <td>Go</td>\n",
       "      <td>17450.0</td>\n",
       "      <td>2390.0</td>\n",
       "      <td>16</td>\n",
       "      <td>2024-11-17</td>\n",
       "      <td>go</td>\n",
       "    </tr>\n",
       "  </tbody>\n",
       "</table>\n",
       "</div>"
      ],
      "text/plain": [
       "         org_name     repo_name                                      repo_url  \\\n",
       "0     terrastruct            d2             https://github.com/terrastruct/d2   \n",
       "1      tinygo-org        tinygo          https://github.com/tinygo-org/tinygo   \n",
       "2       Melkeydev  go-blueprint     https://github.com/Melkeydev/go-blueprint   \n",
       "3         jeessy2       ddns-go            https://github.com/jeessy2/ddns-go   \n",
       "4  JanDeDobbeleer    oh-my-posh  https://github.com/JanDeDobbeleer/oh-my-posh   \n",
       "\n",
       "                                         description language     star  \\\n",
       "0  D2 is a modern diagram scripting language that...       Go  17896.0   \n",
       "1  Go compiler for small places. Microcontrollers...       Go  15463.0   \n",
       "2  Go-blueprint allows users to spin up a quick G...       Go   4608.0   \n",
       "3  Simple and easy to use DDNS. Support Aliyun, T...       Go  12117.0   \n",
       "4  The most customisable and low-latency cross pl...       Go  17450.0   \n",
       "\n",
       "    forks  daily_star       date trending_category  \n",
       "0   439.0         418 2024-11-17                go  \n",
       "1   912.0           6 2024-11-17                go  \n",
       "2   276.0           9 2024-11-17                go  \n",
       "3  1398.0          25 2024-11-17                go  \n",
       "4  2390.0          16 2024-11-17                go  "
      ]
     },
     "execution_count": 19,
     "metadata": {},
     "output_type": "execute_result"
    }
   ],
   "source": [
    "duplicate_df.head()"
   ]
  },
  {
   "cell_type": "code",
   "execution_count": 20,
   "id": "d1cea548",
   "metadata": {
    "execution": {
     "iopub.execute_input": "2025-01-09T09:35:10.135229Z",
     "iopub.status.busy": "2025-01-09T09:35:10.134900Z",
     "iopub.status.idle": "2025-01-09T09:35:10.355960Z",
     "shell.execute_reply": "2025-01-09T09:35:10.355122Z"
    },
    "papermill": {
     "duration": 0.229568,
     "end_time": "2025-01-09T09:35:10.357352",
     "exception": false,
     "start_time": "2025-01-09T09:35:10.127784",
     "status": "completed"
    },
    "tags": []
   },
   "outputs": [
    {
     "data": {
      "text/plain": [
       "<Axes: >"
      ]
     },
     "execution_count": 20,
     "metadata": {},
     "output_type": "execute_result"
    },
    {
     "data": {
      "image/png": "[encoded data removed]",
      "text/plain": [
       "<Figure size 640x480 with 1 Axes>"
      ]
     },
     "metadata": {},
     "output_type": "display_data"
    }
   ],
   "source": [
    "sns.heatmap(data=duplicate_df.isna(), cbar=False, yticklabels=False)"
   ]
  },
  {
   "cell_type": "code",
   "execution_count": 21,
   "id": "caef4337",
   "metadata": {
    "execution": {
     "iopub.execute_input": "2025-01-09T09:35:10.370872Z",
     "iopub.status.busy": "2025-01-09T09:35:10.370612Z",
     "iopub.status.idle": "2025-01-09T09:35:10.564074Z",
     "shell.execute_reply": "2025-01-09T09:35:10.563344Z"
    },
    "papermill": {
     "duration": 0.201417,
     "end_time": "2025-01-09T09:35:10.565277",
     "exception": false,
     "start_time": "2025-01-09T09:35:10.363860",
     "status": "completed"
    },
    "tags": []
   },
   "outputs": [
    {
     "data": {
      "text/plain": [
       "<Axes: title={'center': 'Trending Category Language'}, xlabel='count', ylabel='trending_category'>"
      ]
     },
     "execution_count": 21,
     "metadata": {},
     "output_type": "execute_result"
    },
    {
     "data": {
      "image/png": "[encoded data removed]",
      "text/plain": [
       "<Figure size 640x480 with 1 Axes>"
      ]
     },
     "metadata": {},
     "output_type": "display_data"
    }
   ],
   "source": [
    "plt.title('Trending Category Language')\n",
    "sns.countplot(y='trending_category', data=duplicate_df)"
   ]
  },
  {
   "cell_type": "code",
   "execution_count": 22,
   "id": "590f7695",
   "metadata": {
    "execution": {
     "iopub.execute_input": "2025-01-09T09:35:10.580240Z",
     "iopub.status.busy": "2025-01-09T09:35:10.579920Z",
     "iopub.status.idle": "2025-01-09T09:35:10.595167Z",
     "shell.execute_reply": "2025-01-09T09:35:10.594422Z"
    },
    "papermill": {
     "duration": 0.023899,
     "end_time": "2025-01-09T09:35:10.596239",
     "exception": false,
     "start_time": "2025-01-09T09:35:10.572340",
     "status": "completed"
    },
    "tags": []
   },
   "outputs": [
    {
     "data": {
      "text/html": [
       "<div>\n",
       "<style scoped>\n",
       "    .dataframe tbody tr th:only-of-type {\n",
       "        vertical-align: middle;\n",
       "    }\n",
       "\n",
       "    .dataframe tbody tr th {\n",
       "        vertical-align: top;\n",
       "    }\n",
       "\n",
       "    .dataframe thead th {\n",
       "        text-align: right;\n",
       "    }\n",
       "</style>\n",
       "<table border=\"1\" class=\"dataframe\">\n",
       "  <thead>\n",
       "    <tr style=\"text-align: right;\">\n",
       "      <th></th>\n",
       "      <th>org_name</th>\n",
       "      <th>repo_name</th>\n",
       "      <th>repo_url</th>\n",
       "      <th>description</th>\n",
       "      <th>language</th>\n",
       "      <th>star</th>\n",
       "      <th>forks</th>\n",
       "      <th>daily_star</th>\n",
       "      <th>date</th>\n",
       "      <th>trending_category</th>\n",
       "    </tr>\n",
       "  </thead>\n",
       "  <tbody>\n",
       "    <tr>\n",
       "      <th>437</th>\n",
       "      <td>donnemartin</td>\n",
       "      <td>system-design-primer</td>\n",
       "      <td>https://github.com/donnemartin/system-design-p...</td>\n",
       "      <td>Learn how to design large-scale systems. Prep ...</td>\n",
       "      <td>Python</td>\n",
       "      <td>276079.0</td>\n",
       "      <td>46342.0</td>\n",
       "      <td>211</td>\n",
       "      <td>2024-11-17</td>\n",
       "      <td>python</td>\n",
       "    </tr>\n",
       "    <tr>\n",
       "      <th>438</th>\n",
       "      <td>AUTOMATIC1111</td>\n",
       "      <td>stable-diffusion-webui</td>\n",
       "      <td>https://github.com/AUTOMATIC1111/stable-diffus...</td>\n",
       "      <td>Stable Diffusion web UI</td>\n",
       "      <td>Python</td>\n",
       "      <td>142992.0</td>\n",
       "      <td>26951.0</td>\n",
       "      <td>63</td>\n",
       "      <td>2024-11-17</td>\n",
       "      <td>python</td>\n",
       "    </tr>\n",
       "    <tr>\n",
       "      <th>439</th>\n",
       "      <td>freqtrade</td>\n",
       "      <td>freqtrade</td>\n",
       "      <td>https://github.com/freqtrade/freqtrade</td>\n",
       "      <td>Free, open source crypto trading bot</td>\n",
       "      <td>Python</td>\n",
       "      <td>29089.0</td>\n",
       "      <td>6208.0</td>\n",
       "      <td>24</td>\n",
       "      <td>2024-11-17</td>\n",
       "      <td>python</td>\n",
       "    </tr>\n",
       "    <tr>\n",
       "      <th>440</th>\n",
       "      <td>blacklanternsecurity</td>\n",
       "      <td>bbot</td>\n",
       "      <td>https://github.com/blacklanternsecurity/bbot</td>\n",
       "      <td>A recursive internet scanner for hackers.</td>\n",
       "      <td>Python</td>\n",
       "      <td>5680.0</td>\n",
       "      <td>464.0</td>\n",
       "      <td>209</td>\n",
       "      <td>2024-11-17</td>\n",
       "      <td>python</td>\n",
       "    </tr>\n",
       "    <tr>\n",
       "      <th>441</th>\n",
       "      <td>xtekky</td>\n",
       "      <td>gpt4free</td>\n",
       "      <td>https://github.com/xtekky/gpt4free</td>\n",
       "      <td>The official gpt4free repository | various col...</td>\n",
       "      <td>Python</td>\n",
       "      <td>61291.0</td>\n",
       "      <td>13327.0</td>\n",
       "      <td>18</td>\n",
       "      <td>2024-11-17</td>\n",
       "      <td>python</td>\n",
       "    </tr>\n",
       "    <tr>\n",
       "      <th>...</th>\n",
       "      <td>...</td>\n",
       "      <td>...</td>\n",
       "      <td>...</td>\n",
       "      <td>...</td>\n",
       "      <td>...</td>\n",
       "      <td>...</td>\n",
       "      <td>...</td>\n",
       "      <td>...</td>\n",
       "      <td>...</td>\n",
       "      <td>...</td>\n",
       "    </tr>\n",
       "    <tr>\n",
       "      <th>9656</th>\n",
       "      <td>NVIDIA</td>\n",
       "      <td>NeMo</td>\n",
       "      <td>https://github.com/NVIDIA/NeMo</td>\n",
       "      <td>A scalable generative AI framework built for r...</td>\n",
       "      <td>Python</td>\n",
       "      <td>12714.0</td>\n",
       "      <td>2588.0</td>\n",
       "      <td>62</td>\n",
       "      <td>2025-01-08</td>\n",
       "      <td>python</td>\n",
       "    </tr>\n",
       "    <tr>\n",
       "      <th>9657</th>\n",
       "      <td>VikParuchuri</td>\n",
       "      <td>surya</td>\n",
       "      <td>https://github.com/VikParuchuri/surya</td>\n",
       "      <td>OCR, layout analysis, reading order, table rec...</td>\n",
       "      <td>Python</td>\n",
       "      <td>15285.0</td>\n",
       "      <td>987.0</td>\n",
       "      <td>49</td>\n",
       "      <td>2025-01-08</td>\n",
       "      <td>python</td>\n",
       "    </tr>\n",
       "    <tr>\n",
       "      <th>9658</th>\n",
       "      <td>matplotlib</td>\n",
       "      <td>matplotlib</td>\n",
       "      <td>https://github.com/matplotlib/matplotlib</td>\n",
       "      <td>matplotlib: plotting with Python</td>\n",
       "      <td>Python</td>\n",
       "      <td>20551.0</td>\n",
       "      <td>7699.0</td>\n",
       "      <td>5</td>\n",
       "      <td>2025-01-08</td>\n",
       "      <td>python</td>\n",
       "    </tr>\n",
       "    <tr>\n",
       "      <th>9659</th>\n",
       "      <td>NVlabs</td>\n",
       "      <td>VILA</td>\n",
       "      <td>https://github.com/NVlabs/VILA</td>\n",
       "      <td>VILA is a family of state-of-the-art vision la...</td>\n",
       "      <td>Python</td>\n",
       "      <td>2428.0</td>\n",
       "      <td>194.0</td>\n",
       "      <td>83</td>\n",
       "      <td>2025-01-08</td>\n",
       "      <td>python</td>\n",
       "    </tr>\n",
       "    <tr>\n",
       "      <th>9660</th>\n",
       "      <td>airbytehq</td>\n",
       "      <td>airbyte</td>\n",
       "      <td>https://github.com/airbytehq/airbyte</td>\n",
       "      <td>The leading data integration platform for ETL ...</td>\n",
       "      <td>Python</td>\n",
       "      <td>16829.0</td>\n",
       "      <td>4228.0</td>\n",
       "      <td>120</td>\n",
       "      <td>2025-01-08</td>\n",
       "      <td>python</td>\n",
       "    </tr>\n",
       "  </tbody>\n",
       "</table>\n",
       "<p>1010 rows × 10 columns</p>\n",
       "</div>"
      ],
      "text/plain": [
       "                  org_name               repo_name  \\\n",
       "437            donnemartin    system-design-primer   \n",
       "438          AUTOMATIC1111  stable-diffusion-webui   \n",
       "439              freqtrade               freqtrade   \n",
       "440   blacklanternsecurity                    bbot   \n",
       "441                 xtekky                gpt4free   \n",
       "...                    ...                     ...   \n",
       "9656                NVIDIA                    NeMo   \n",
       "9657          VikParuchuri                   surya   \n",
       "9658            matplotlib              matplotlib   \n",
       "9659                NVlabs                    VILA   \n",
       "9660             airbytehq                 airbyte   \n",
       "\n",
       "                                               repo_url  \\\n",
       "437   https://github.com/donnemartin/system-design-p...   \n",
       "438   https://github.com/AUTOMATIC1111/stable-diffus...   \n",
       "439              https://github.com/freqtrade/freqtrade   \n",
       "440        https://github.com/blacklanternsecurity/bbot   \n",
       "441                  https://github.com/xtekky/gpt4free   \n",
       "...                                                 ...   \n",
       "9656                     https://github.com/NVIDIA/NeMo   \n",
       "9657              https://github.com/VikParuchuri/surya   \n",
       "9658           https://github.com/matplotlib/matplotlib   \n",
       "9659                     https://github.com/NVlabs/VILA   \n",
       "9660               https://github.com/airbytehq/airbyte   \n",
       "\n",
       "                                            description language      star  \\\n",
       "437   Learn how to design large-scale systems. Prep ...   Python  276079.0   \n",
       "438                             Stable Diffusion web UI   Python  142992.0   \n",
       "439                Free, open source crypto trading bot   Python   29089.0   \n",
       "440           A recursive internet scanner for hackers.   Python    5680.0   \n",
       "441   The official gpt4free repository | various col...   Python   61291.0   \n",
       "...                                                 ...      ...       ...   \n",
       "9656  A scalable generative AI framework built for r...   Python   12714.0   \n",
       "9657  OCR, layout analysis, reading order, table rec...   Python   15285.0   \n",
       "9658                   matplotlib: plotting with Python   Python   20551.0   \n",
       "9659  VILA is a family of state-of-the-art vision la...   Python    2428.0   \n",
       "9660  The leading data integration platform for ETL ...   Python   16829.0   \n",
       "\n",
       "        forks  daily_star       date trending_category  \n",
       "437   46342.0         211 2024-11-17            python  \n",
       "438   26951.0          63 2024-11-17            python  \n",
       "439    6208.0          24 2024-11-17            python  \n",
       "440     464.0         209 2024-11-17            python  \n",
       "441   13327.0          18 2024-11-17            python  \n",
       "...       ...         ...        ...               ...  \n",
       "9656   2588.0          62 2025-01-08            python  \n",
       "9657    987.0          49 2025-01-08            python  \n",
       "9658   7699.0           5 2025-01-08            python  \n",
       "9659    194.0          83 2025-01-08            python  \n",
       "9660   4228.0         120 2025-01-08            python  \n",
       "\n",
       "[1010 rows x 10 columns]"
      ]
     },
     "execution_count": 22,
     "metadata": {},
     "output_type": "execute_result"
    }
   ],
   "source": [
    "duplicate_df[duplicate_df['trending_category'] == 'python']"
   ]
  },
  {
   "cell_type": "code",
   "execution_count": 23,
   "id": "425878be",
   "metadata": {
    "execution": {
     "iopub.execute_input": "2025-01-09T09:35:10.611502Z",
     "iopub.status.busy": "2025-01-09T09:35:10.611241Z",
     "iopub.status.idle": "2025-01-09T09:35:10.621176Z",
     "shell.execute_reply": "2025-01-09T09:35:10.620452Z"
    },
    "papermill": {
     "duration": 0.018886,
     "end_time": "2025-01-09T09:35:10.622310",
     "exception": false,
     "start_time": "2025-01-09T09:35:10.603424",
     "status": "completed"
    },
    "tags": []
   },
   "outputs": [
    {
     "data": {
      "text/html": [
       "<div>\n",
       "<style scoped>\n",
       "    .dataframe tbody tr th:only-of-type {\n",
       "        vertical-align: middle;\n",
       "    }\n",
       "\n",
       "    .dataframe tbody tr th {\n",
       "        vertical-align: top;\n",
       "    }\n",
       "\n",
       "    .dataframe thead th {\n",
       "        text-align: right;\n",
       "    }\n",
       "</style>\n",
       "<table border=\"1\" class=\"dataframe\">\n",
       "  <thead>\n",
       "    <tr style=\"text-align: right;\">\n",
       "      <th></th>\n",
       "      <th>org_name</th>\n",
       "      <th>repo_name</th>\n",
       "      <th>repo_url</th>\n",
       "      <th>description</th>\n",
       "      <th>language</th>\n",
       "      <th>star</th>\n",
       "      <th>forks</th>\n",
       "      <th>daily_star</th>\n",
       "      <th>date</th>\n",
       "      <th>trending_category</th>\n",
       "    </tr>\n",
       "  </thead>\n",
       "  <tbody>\n",
       "    <tr>\n",
       "      <th>0</th>\n",
       "      <td>terrastruct</td>\n",
       "      <td>d2</td>\n",
       "      <td>https://github.com/terrastruct/d2</td>\n",
       "      <td>D2 is a modern diagram scripting language that...</td>\n",
       "      <td>Go</td>\n",
       "      <td>17896.0</td>\n",
       "      <td>439.0</td>\n",
       "      <td>418</td>\n",
       "      <td>2024-11-17</td>\n",
       "      <td>go</td>\n",
       "    </tr>\n",
       "    <tr>\n",
       "      <th>1</th>\n",
       "      <td>tinygo-org</td>\n",
       "      <td>tinygo</td>\n",
       "      <td>https://github.com/tinygo-org/tinygo</td>\n",
       "      <td>Go compiler for small places. Microcontrollers...</td>\n",
       "      <td>Go</td>\n",
       "      <td>15463.0</td>\n",
       "      <td>912.0</td>\n",
       "      <td>6</td>\n",
       "      <td>2024-11-17</td>\n",
       "      <td>go</td>\n",
       "    </tr>\n",
       "    <tr>\n",
       "      <th>2</th>\n",
       "      <td>Melkeydev</td>\n",
       "      <td>go-blueprint</td>\n",
       "      <td>https://github.com/Melkeydev/go-blueprint</td>\n",
       "      <td>Go-blueprint allows users to spin up a quick G...</td>\n",
       "      <td>Go</td>\n",
       "      <td>4608.0</td>\n",
       "      <td>276.0</td>\n",
       "      <td>9</td>\n",
       "      <td>2024-11-17</td>\n",
       "      <td>go</td>\n",
       "    </tr>\n",
       "    <tr>\n",
       "      <th>3</th>\n",
       "      <td>jeessy2</td>\n",
       "      <td>ddns-go</td>\n",
       "      <td>https://github.com/jeessy2/ddns-go</td>\n",
       "      <td>Simple and easy to use DDNS. Support Aliyun, T...</td>\n",
       "      <td>Go</td>\n",
       "      <td>12117.0</td>\n",
       "      <td>1398.0</td>\n",
       "      <td>25</td>\n",
       "      <td>2024-11-17</td>\n",
       "      <td>go</td>\n",
       "    </tr>\n",
       "    <tr>\n",
       "      <th>4</th>\n",
       "      <td>JanDeDobbeleer</td>\n",
       "      <td>oh-my-posh</td>\n",
       "      <td>https://github.com/JanDeDobbeleer/oh-my-posh</td>\n",
       "      <td>The most customisable and low-latency cross pl...</td>\n",
       "      <td>Go</td>\n",
       "      <td>17450.0</td>\n",
       "      <td>2390.0</td>\n",
       "      <td>16</td>\n",
       "      <td>2024-11-17</td>\n",
       "      <td>go</td>\n",
       "    </tr>\n",
       "  </tbody>\n",
       "</table>\n",
       "</div>"
      ],
      "text/plain": [
       "         org_name     repo_name                                      repo_url  \\\n",
       "0     terrastruct            d2             https://github.com/terrastruct/d2   \n",
       "1      tinygo-org        tinygo          https://github.com/tinygo-org/tinygo   \n",
       "2       Melkeydev  go-blueprint     https://github.com/Melkeydev/go-blueprint   \n",
       "3         jeessy2       ddns-go            https://github.com/jeessy2/ddns-go   \n",
       "4  JanDeDobbeleer    oh-my-posh  https://github.com/JanDeDobbeleer/oh-my-posh   \n",
       "\n",
       "                                         description language     star  \\\n",
       "0  D2 is a modern diagram scripting language that...       Go  17896.0   \n",
       "1  Go compiler for small places. Microcontrollers...       Go  15463.0   \n",
       "2  Go-blueprint allows users to spin up a quick G...       Go   4608.0   \n",
       "3  Simple and easy to use DDNS. Support Aliyun, T...       Go  12117.0   \n",
       "4  The most customisable and low-latency cross pl...       Go  17450.0   \n",
       "\n",
       "    forks  daily_star       date trending_category  \n",
       "0   439.0         418 2024-11-17                go  \n",
       "1   912.0           6 2024-11-17                go  \n",
       "2   276.0           9 2024-11-17                go  \n",
       "3  1398.0          25 2024-11-17                go  \n",
       "4  2390.0          16 2024-11-17                go  "
      ]
     },
     "execution_count": 23,
     "metadata": {},
     "output_type": "execute_result"
    }
   ],
   "source": [
    "duplicate_df.head()"
   ]
  },
  {
   "cell_type": "code",
   "execution_count": 24,
   "id": "cfbe5e5b",
   "metadata": {
    "execution": {
     "iopub.execute_input": "2025-01-09T09:35:10.638574Z",
     "iopub.status.busy": "2025-01-09T09:35:10.638301Z",
     "iopub.status.idle": "2025-01-09T09:35:15.073912Z",
     "shell.execute_reply": "2025-01-09T09:35:15.073124Z"
    },
    "papermill": {
     "duration": 4.445084,
     "end_time": "2025-01-09T09:35:15.075060",
     "exception": false,
     "start_time": "2025-01-09T09:35:10.629976",
     "status": "completed"
    },
    "tags": []
   },
   "outputs": [
    {
     "name": "stderr",
     "output_type": "stream",
     "text": [
      "/usr/local/lib/python3.10/dist-packages/seaborn/_oldcore.py:1119: FutureWarning: use_inf_as_na option is deprecated and will be removed in a future version. Convert inf values to NaN before operating instead.\n",
      "  with pd.option_context('mode.use_inf_as_na', True):\n",
      "/usr/local/lib/python3.10/dist-packages/seaborn/_oldcore.py:1119: FutureWarning: use_inf_as_na option is deprecated and will be removed in a future version. Convert inf values to NaN before operating instead.\n",
      "  with pd.option_context('mode.use_inf_as_na', True):\n",
      "/usr/local/lib/python3.10/dist-packages/seaborn/_oldcore.py:1119: FutureWarning: use_inf_as_na option is deprecated and will be removed in a future version. Convert inf values to NaN before operating instead.\n",
      "  with pd.option_context('mode.use_inf_as_na', True):\n"
     ]
    },
    {
     "data": {
      "text/plain": [
       "<seaborn.axisgrid.PairGrid at 0x7a85545e27a0>"
      ]
     },
     "execution_count": 24,
     "metadata": {},
     "output_type": "execute_result"
    },
    {
     "data": {
      "image/png": "[encoded data removed]",
      "text/plain": [
       "<Figure size 750x750 with 12 Axes>"
      ]
     },
     "metadata": {},
     "output_type": "display_data"
    }
   ],
   "source": [
    "sns.pairplot(data=duplicate_df)"
   ]
  },
  {
   "cell_type": "code",
   "execution_count": 25,
   "id": "d2f59d0e",
   "metadata": {
    "execution": {
     "iopub.execute_input": "2025-01-09T09:35:15.094315Z",
     "iopub.status.busy": "2025-01-09T09:35:15.093977Z",
     "iopub.status.idle": "2025-01-09T09:35:15.811099Z",
     "shell.execute_reply": "2025-01-09T09:35:15.809978Z"
    },
    "papermill": {
     "duration": 0.728304,
     "end_time": "2025-01-09T09:35:15.812388",
     "exception": false,
     "start_time": "2025-01-09T09:35:15.084084",
     "status": "completed"
    },
    "tags": []
   },
   "outputs": [
    {
     "data": {
      "text/plain": [
       "<Axes: xlabel='daily_star', ylabel='date'>"
      ]
     },
     "execution_count": 25,
     "metadata": {},
     "output_type": "execute_result"
    },
    {
     "data": {
      "image/png": "[encoded data removed]",
      "text/plain": [
       "<Figure size 640x480 with 1 Axes>"
      ]
     },
     "metadata": {},
     "output_type": "display_data"
    }
   ],
   "source": [
    "sns.scatterplot(data=duplicate_df, x='daily_star', y='date', hue='trending_category')"
   ]
  },
  {
   "cell_type": "code",
   "execution_count": 26,
   "id": "27c54dd6",
   "metadata": {
    "execution": {
     "iopub.execute_input": "2025-01-09T09:35:15.834541Z",
     "iopub.status.busy": "2025-01-09T09:35:15.834234Z",
     "iopub.status.idle": "2025-01-09T09:35:15.839284Z",
     "shell.execute_reply": "2025-01-09T09:35:15.838638Z"
    },
    "papermill": {
     "duration": 0.017372,
     "end_time": "2025-01-09T09:35:15.840326",
     "exception": false,
     "start_time": "2025-01-09T09:35:15.822954",
     "status": "completed"
    },
    "tags": []
   },
   "outputs": [
    {
     "data": {
      "text/plain": [
       "<DatetimeArray>\n",
       "['2024-11-17 00:00:00', '2024-11-18 00:00:00', '2024-11-08 00:00:00',\n",
       " '2024-11-21 00:00:00', '2024-11-10 00:00:00', '2024-11-16 00:00:00',\n",
       " '2024-11-14 00:00:00', '2024-11-22 00:00:00', '2024-11-07 00:00:00',\n",
       " '2024-11-15 00:00:00', '2024-11-25 00:00:00', '2024-11-20 00:00:00',\n",
       " '2024-11-24 00:00:00', '2024-11-06 00:00:00', '2024-11-13 00:00:00',\n",
       " '2024-11-23 00:00:00', '2024-11-09 00:00:00', '2024-11-11 00:00:00',\n",
       " '2024-11-19 00:00:00', '2024-11-12 00:00:00', '2024-11-26 00:00:00',\n",
       " '2024-11-27 00:00:00', '2024-11-28 00:00:00', '2024-11-29 00:00:00',\n",
       " '2024-11-30 00:00:00', '2024-12-01 00:00:00', '2024-12-02 00:00:00',\n",
       " '2024-12-03 00:00:00', '2024-12-04 00:00:00', '2024-12-05 00:00:00',\n",
       " '2024-12-06 00:00:00', '2024-12-07 00:00:00', '2024-12-08 00:00:00',\n",
       " '2024-12-09 00:00:00', '2024-12-10 00:00:00', '2024-12-11 00:00:00',\n",
       " '2024-12-12 00:00:00', '2024-12-13 00:00:00', '2024-12-14 00:00:00',\n",
       " '2024-12-15 00:00:00', '2024-12-16 00:00:00', '2024-12-17 00:00:00',\n",
       " '2024-12-18 00:00:00', '2024-12-19 00:00:00', '2024-12-20 00:00:00',\n",
       " '2024-12-21 00:00:00', '2024-12-22 00:00:00', '2024-12-23 00:00:00',\n",
       " '2024-12-24 00:00:00', '2024-12-25 00:00:00', '2024-12-26 00:00:00',\n",
       " '2024-12-27 00:00:00', '2024-12-28 00:00:00', '2024-12-29 00:00:00',\n",
       " '2024-12-30 00:00:00', '2024-12-31 00:00:00', '2025-01-01 00:00:00',\n",
       " '2025-01-02 00:00:00', '2025-01-03 00:00:00', '2025-01-04 00:00:00',\n",
       " '2025-01-05 00:00:00', '2025-01-06 00:00:00', '2025-01-07 00:00:00',\n",
       " '2025-01-08 00:00:00']\n",
       "Length: 64, dtype: datetime64[ns]"
      ]
     },
     "execution_count": 26,
     "metadata": {},
     "output_type": "execute_result"
    }
   ],
   "source": [
    "duplicate_df['date'].unique()"
   ]
  },
  {
   "cell_type": "code",
   "execution_count": 27,
   "id": "15f8a0b6",
   "metadata": {
    "execution": {
     "iopub.execute_input": "2025-01-09T09:35:15.861833Z",
     "iopub.status.busy": "2025-01-09T09:35:15.861549Z",
     "iopub.status.idle": "2025-01-09T09:35:15.866978Z",
     "shell.execute_reply": "2025-01-09T09:35:15.865871Z"
    },
    "papermill": {
     "duration": 0.017585,
     "end_time": "2025-01-09T09:35:15.868215",
     "exception": false,
     "start_time": "2025-01-09T09:35:15.850630",
     "status": "completed"
    },
    "tags": []
   },
   "outputs": [
    {
     "data": {
      "text/plain": [
       "array(['terrastruct', 'tinygo-org', 'Melkeydev', ..., 'ekzhang', 'pdfcpu',\n",
       "       'anthdm'], dtype=object)"
      ]
     },
     "execution_count": 27,
     "metadata": {},
     "output_type": "execute_result"
    }
   ],
   "source": [
    "duplicate_df['org_name'].unique()"
   ]
  },
  {
   "cell_type": "code",
   "execution_count": 28,
   "id": "8eedbb36",
   "metadata": {
    "execution": {
     "iopub.execute_input": "2025-01-09T09:35:15.890187Z",
     "iopub.status.busy": "2025-01-09T09:35:15.889884Z",
     "iopub.status.idle": "2025-01-09T09:35:16.062263Z",
     "shell.execute_reply": "2025-01-09T09:35:16.061362Z"
    },
    "papermill": {
     "duration": 0.18468,
     "end_time": "2025-01-09T09:35:16.063582",
     "exception": false,
     "start_time": "2025-01-09T09:35:15.878902",
     "status": "completed"
    },
    "tags": []
   },
   "outputs": [
    {
     "data": {
      "text/plain": [
       "<Axes: >"
      ]
     },
     "execution_count": 28,
     "metadata": {},
     "output_type": "execute_result"
    },
    {
     "data": {
      "image/png": "[encoded data removed]",
      "text/plain": [
       "<Figure size 640x480 with 1 Axes>"
      ]
     },
     "metadata": {},
     "output_type": "display_data"
    }
   ],
   "source": [
    "sns.boxplot(data=duplicate_df)"
   ]
  },
  {
   "cell_type": "code",
   "execution_count": 29,
   "id": "a3eeb1bf",
   "metadata": {
    "execution": {
     "iopub.execute_input": "2025-01-09T09:35:16.086792Z",
     "iopub.status.busy": "2025-01-09T09:35:16.086528Z",
     "iopub.status.idle": "2025-01-09T09:35:19.582569Z",
     "shell.execute_reply": "2025-01-09T09:35:19.581707Z"
    },
    "papermill": {
     "duration": 3.508769,
     "end_time": "2025-01-09T09:35:19.583667",
     "exception": false,
     "start_time": "2025-01-09T09:35:16.074898",
     "status": "completed"
    },
    "tags": []
   },
   "outputs": [
    {
     "name": "stderr",
     "output_type": "stream",
     "text": [
      "/usr/local/lib/python3.10/dist-packages/seaborn/_oldcore.py:1119: FutureWarning: use_inf_as_na option is deprecated and will be removed in a future version. Convert inf values to NaN before operating instead.\n",
      "  with pd.option_context('mode.use_inf_as_na', True):\n"
     ]
    },
    {
     "data": {
      "text/plain": [
       "<Axes: ylabel='Count'>"
      ]
     },
     "execution_count": 29,
     "metadata": {},
     "output_type": "execute_result"
    },
    {
     "data": {
      "image/png": "[encoded data removed]",
      "text/plain": [
       "<Figure size 640x480 with 1 Axes>"
      ]
     },
     "metadata": {},
     "output_type": "display_data"
    }
   ],
   "source": [
    "sns.histplot(data=duplicate_df)"
   ]
  },
  {
   "cell_type": "code",
   "execution_count": null,
   "id": "31cc1fb6",
   "metadata": {
    "papermill": {
     "duration": 0.011156,
     "end_time": "2025-01-09T09:35:19.606292",
     "exception": false,
     "start_time": "2025-01-09T09:35:19.595136",
     "status": "completed"
    },
    "tags": []
   },
   "outputs": [],
   "source": []
  }
 ],
 "metadata": {
  "kaggle": {
   "accelerator": "none",
   "dataSources": [
    {
     "datasetId": 6019930,
     "sourceId": 10406910,
     "sourceType": "datasetVersion"
    }
   ],
   "dockerImageVersionId": 30822,
   "isGpuEnabled": false,
   "isInternetEnabled": true,
   "language": "python",
   "sourceType": "notebook"
  },
  "kernelspec": {
   "display_name": "Python 3",
   "language": "python",
   "name": "python3"
  },
  "language_info": {
   "codemirror_mode": {
    "name": "ipython",
    "version": 3
   },
   "file_extension": ".py",
   "mimetype": "text/x-python",
   "name": "python",
   "nbconvert_exporter": "python",
   "pygments_lexer": "ipython3",
   "version": "3.10.12"
  },
  "papermill": {
   "default_parameters": {},
   "duration": 16.121761,
   "end_time": "2025-01-09T09:35:20.738494",
   "environment_variables": {},
   "exception": null,
   "input_path": "__notebook__.ipynb",
   "output_path": "__notebook__.ipynb",
   "parameters": {},
   "start_time": "2025-01-09T09:35:04.616733",
   "version": "2.6.0"
  }
 },
 "nbformat": 4,
 "nbformat_minor": 5
}
