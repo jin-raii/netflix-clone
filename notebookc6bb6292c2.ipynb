{
 "cells": [
  {
   "cell_type": "code",
   "execution_count": 1,
   "id": "99f80207",
   "metadata": {
    "_cell_guid": "b1076dfc-b9ad-4769-8c92-a6c4dae69d19",
    "_uuid": "8f2839f25d086af736a60e9eeb907d3b93b6e0e5",
    "execution": {
     "iopub.execute_input": "2025-02-03T14:16:45.615220Z",
     "iopub.status.busy": "2025-02-03T14:16:45.614728Z",
     "iopub.status.idle": "2025-02-03T14:16:46.685512Z",
     "shell.execute_reply": "2025-02-03T14:16:46.683982Z"
    },
    "papermill": {
     "duration": 1.078575,
     "end_time": "2025-02-03T14:16:46.687584",
     "exception": false,
     "start_time": "2025-02-03T14:16:45.609009",
     "status": "completed"
    },
    "tags": []
   },
   "outputs": [
    {
     "name": "stdout",
     "output_type": "stream",
     "text": [
      "/kaggle/input/youtube-trending-video-dataset/MX_youtube_trending_data.csv\n",
      "/kaggle/input/youtube-trending-video-dataset/GB_youtube_trending_data.csv\n",
      "/kaggle/input/youtube-trending-video-dataset/BR_category_id.json\n",
      "/kaggle/input/youtube-trending-video-dataset/FR_youtube_trending_data.csv\n",
      "/kaggle/input/youtube-trending-video-dataset/IN_youtube_trending_data.csv\n",
      "/kaggle/input/youtube-trending-video-dataset/MX_category_id.json\n",
      "/kaggle/input/youtube-trending-video-dataset/GB_category_id.json\n",
      "/kaggle/input/youtube-trending-video-dataset/US_category_id.json\n",
      "/kaggle/input/youtube-trending-video-dataset/BR_youtube_trending_data.csv\n",
      "/kaggle/input/youtube-trending-video-dataset/RU_youtube_trending_data.csv\n",
      "/kaggle/input/youtube-trending-video-dataset/IN_category_id.json\n",
      "/kaggle/input/youtube-trending-video-dataset/KR_category_id.json\n",
      "/kaggle/input/youtube-trending-video-dataset/DE_youtube_trending_data.csv\n",
      "/kaggle/input/youtube-trending-video-dataset/RU_category_id.json\n",
      "/kaggle/input/youtube-trending-video-dataset/US_youtube_trending_data.csv\n",
      "/kaggle/input/youtube-trending-video-dataset/JP_youtube_trending_data.csv\n",
      "/kaggle/input/youtube-trending-video-dataset/CA_category_id.json\n",
      "/kaggle/input/youtube-trending-video-dataset/DE_category_id.json\n",
      "/kaggle/input/youtube-trending-video-dataset/KR_youtube_trending_data.csv\n",
      "/kaggle/input/youtube-trending-video-dataset/JP_category_id.json\n",
      "/kaggle/input/youtube-trending-video-dataset/CA_youtube_trending_data.csv\n",
      "/kaggle/input/youtube-trending-video-dataset/FR_category_id.json\n"
     ]
    }
   ],
   "source": [
    "# This Python 3 environment comes with many helpful analytics libraries installed\n",
    "# It is defined by the kaggle/python Docker image: https://github.com/kaggle/docker-python\n",
    "# For example, here's several helpful packages to load\n",
    "\n",
    "import numpy as np # linear algebra\n",
    "import pandas as pd # data processing, CSV file I/O (e.g. pd.read_csv)\n",
    "\n",
    "# Input data files are available in the read-only \"../input/\" directory\n",
    "# For example, running this (by clicking run or pressing Shift+Enter) will list all files under the input directory\n",
    "\n",
    "import os\n",
    "for dirname, _, filenames in os.walk('/kaggle/input'):\n",
    "    for filename in filenames:\n",
    "        print(os.path.join(dirname, filename))\n",
    "\n",
    "# You can write up to 20GB to the current directory (/kaggle/working/) that gets preserved as output when you create a version using \"Save & Run All\" \n",
    "# You can also write temporary files to /kaggle/temp/, but they won't be saved outside of the current session"
   ]
  },
  {
   "cell_type": "code",
   "execution_count": 2,
   "id": "086f65c2",
   "metadata": {
    "execution": {
     "iopub.execute_input": "2025-02-03T14:16:46.697313Z",
     "iopub.status.busy": "2025-02-03T14:16:46.696710Z",
     "iopub.status.idle": "2025-02-03T14:16:48.479307Z",
     "shell.execute_reply": "2025-02-03T14:16:48.478066Z"
    },
    "papermill": {
     "duration": 1.789573,
     "end_time": "2025-02-03T14:16:48.481537",
     "exception": false,
     "start_time": "2025-02-03T14:16:46.691964",
     "status": "completed"
    },
    "tags": []
   },
   "outputs": [],
   "source": [
    "import matplotlib.pyplot as plt \n",
    "import seaborn as sns\n",
    "plt.style.use('ggplot')"
   ]
  },
  {
   "cell_type": "code",
   "execution_count": 3,
   "id": "716a981b",
   "metadata": {
    "execution": {
     "iopub.execute_input": "2025-02-03T14:16:48.490210Z",
     "iopub.status.busy": "2025-02-03T14:16:48.489680Z",
     "iopub.status.idle": "2025-02-03T14:17:00.475456Z",
     "shell.execute_reply": "2025-02-03T14:17:00.473944Z"
    },
    "papermill": {
     "duration": 11.992546,
     "end_time": "2025-02-03T14:17:00.477750",
     "exception": false,
     "start_time": "2025-02-03T14:16:48.485204",
     "status": "completed"
    },
    "tags": []
   },
   "outputs": [
    {
     "data": {
      "text/html": [
       "<div>\n",
       "<style scoped>\n",
       "    .dataframe tbody tr th:only-of-type {\n",
       "        vertical-align: middle;\n",
       "    }\n",
       "\n",
       "    .dataframe tbody tr th {\n",
       "        vertical-align: top;\n",
       "    }\n",
       "\n",
       "    .dataframe thead th {\n",
       "        text-align: right;\n",
       "    }\n",
       "</style>\n",
       "<table border=\"1\" class=\"dataframe\">\n",
       "  <thead>\n",
       "    <tr style=\"text-align: right;\">\n",
       "      <th></th>\n",
       "      <th>video_id</th>\n",
       "      <th>title</th>\n",
       "      <th>publishedAt</th>\n",
       "      <th>channelId</th>\n",
       "      <th>channelTitle</th>\n",
       "      <th>categoryId</th>\n",
       "      <th>trending_date</th>\n",
       "      <th>tags</th>\n",
       "      <th>view_count</th>\n",
       "      <th>likes</th>\n",
       "      <th>dislikes</th>\n",
       "      <th>comment_count</th>\n",
       "      <th>thumbnail_link</th>\n",
       "      <th>comments_disabled</th>\n",
       "      <th>ratings_disabled</th>\n",
       "      <th>description</th>\n",
       "    </tr>\n",
       "  </thead>\n",
       "  <tbody>\n",
       "    <tr>\n",
       "      <th>0</th>\n",
       "      <td>Iot0eF6EoNA</td>\n",
       "      <td>Sadak 2 | Official Trailer | Sanjay | Pooja | ...</td>\n",
       "      <td>2020-08-12T04:31:41Z</td>\n",
       "      <td>UCGqvJPRcv7aVFun-eTsatcA</td>\n",
       "      <td>FoxStarHindi</td>\n",
       "      <td>24</td>\n",
       "      <td>2020-08-12T00:00:00Z</td>\n",
       "      <td>sadak|sadak 2|mahesh bhatt|vishesh films|pooja...</td>\n",
       "      <td>9885899</td>\n",
       "      <td>224925</td>\n",
       "      <td>3979409</td>\n",
       "      <td>350210</td>\n",
       "      <td>https://i.ytimg.com/vi/Iot0eF6EoNA/default.jpg</td>\n",
       "      <td>False</td>\n",
       "      <td>False</td>\n",
       "      <td>Three Streams. Three Stories. One Journey. Sta...</td>\n",
       "    </tr>\n",
       "    <tr>\n",
       "      <th>1</th>\n",
       "      <td>x-KbnJ9fvJc</td>\n",
       "      <td>Kya Baat Aa : Karan Aujla (Official Video) Tan...</td>\n",
       "      <td>2020-08-11T09:00:11Z</td>\n",
       "      <td>UCm9SZAl03Rev9sFwloCdz1g</td>\n",
       "      <td>Rehaan Records</td>\n",
       "      <td>10</td>\n",
       "      <td>2020-08-12T00:00:00Z</td>\n",
       "      <td>[None]</td>\n",
       "      <td>11308046</td>\n",
       "      <td>655450</td>\n",
       "      <td>33242</td>\n",
       "      <td>405146</td>\n",
       "      <td>https://i.ytimg.com/vi/x-KbnJ9fvJc/default.jpg</td>\n",
       "      <td>False</td>\n",
       "      <td>False</td>\n",
       "      <td>Singer/Lyrics: Karan Aujla Feat Tania Music/ D...</td>\n",
       "    </tr>\n",
       "    <tr>\n",
       "      <th>2</th>\n",
       "      <td>KX06ksuS6Xo</td>\n",
       "      <td>Diljit Dosanjh: CLASH (Official) Music Video |...</td>\n",
       "      <td>2020-08-11T07:30:02Z</td>\n",
       "      <td>UCZRdNleCgW-BGUJf-bbjzQg</td>\n",
       "      <td>Diljit Dosanjh</td>\n",
       "      <td>10</td>\n",
       "      <td>2020-08-12T00:00:00Z</td>\n",
       "      <td>clash diljit dosanjh|diljit dosanjh|diljit dos...</td>\n",
       "      <td>9140911</td>\n",
       "      <td>296533</td>\n",
       "      <td>6179</td>\n",
       "      <td>30058</td>\n",
       "      <td>https://i.ytimg.com/vi/KX06ksuS6Xo/default.jpg</td>\n",
       "      <td>False</td>\n",
       "      <td>False</td>\n",
       "      <td>CLASH official music video performed by DILJIT...</td>\n",
       "    </tr>\n",
       "    <tr>\n",
       "      <th>3</th>\n",
       "      <td>UsMRgnTcchY</td>\n",
       "      <td>Dil Ko Maine Di Kasam Video | Amaal M Ft.Ariji...</td>\n",
       "      <td>2020-08-10T05:30:49Z</td>\n",
       "      <td>UCq-Fj5jknLsUf-MWSy4_brA</td>\n",
       "      <td>T-Series</td>\n",
       "      <td>10</td>\n",
       "      <td>2020-08-12T00:00:00Z</td>\n",
       "      <td>hindi songs|2020 hindi songs|2020 new songs|t-...</td>\n",
       "      <td>23564512</td>\n",
       "      <td>743931</td>\n",
       "      <td>84162</td>\n",
       "      <td>136942</td>\n",
       "      <td>https://i.ytimg.com/vi/UsMRgnTcchY/default.jpg</td>\n",
       "      <td>False</td>\n",
       "      <td>False</td>\n",
       "      <td>Gulshan Kumar and T-Series presents Bhushan Ku...</td>\n",
       "    </tr>\n",
       "    <tr>\n",
       "      <th>4</th>\n",
       "      <td>WNSEXJJhKTU</td>\n",
       "      <td>Baarish (Official Video) Payal Dev,Stebin Ben ...</td>\n",
       "      <td>2020-08-11T05:30:13Z</td>\n",
       "      <td>UCye6Oz0mg46S362LwARGVcA</td>\n",
       "      <td>VYRLOriginals</td>\n",
       "      <td>10</td>\n",
       "      <td>2020-08-12T00:00:00Z</td>\n",
       "      <td>VYRL Original|Mohsin Khan|Shivangi Joshi|Payal...</td>\n",
       "      <td>6783649</td>\n",
       "      <td>268817</td>\n",
       "      <td>8798</td>\n",
       "      <td>22984</td>\n",
       "      <td>https://i.ytimg.com/vi/WNSEXJJhKTU/default.jpg</td>\n",
       "      <td>False</td>\n",
       "      <td>False</td>\n",
       "      <td>VYRL Originals brings to you ‘Baarish’ - the b...</td>\n",
       "    </tr>\n",
       "  </tbody>\n",
       "</table>\n",
       "</div>"
      ],
      "text/plain": [
       "      video_id                                              title  \\\n",
       "0  Iot0eF6EoNA  Sadak 2 | Official Trailer | Sanjay | Pooja | ...   \n",
       "1  x-KbnJ9fvJc  Kya Baat Aa : Karan Aujla (Official Video) Tan...   \n",
       "2  KX06ksuS6Xo  Diljit Dosanjh: CLASH (Official) Music Video |...   \n",
       "3  UsMRgnTcchY  Dil Ko Maine Di Kasam Video | Amaal M Ft.Ariji...   \n",
       "4  WNSEXJJhKTU  Baarish (Official Video) Payal Dev,Stebin Ben ...   \n",
       "\n",
       "            publishedAt                 channelId    channelTitle  categoryId  \\\n",
       "0  2020-08-12T04:31:41Z  UCGqvJPRcv7aVFun-eTsatcA    FoxStarHindi          24   \n",
       "1  2020-08-11T09:00:11Z  UCm9SZAl03Rev9sFwloCdz1g  Rehaan Records          10   \n",
       "2  2020-08-11T07:30:02Z  UCZRdNleCgW-BGUJf-bbjzQg  Diljit Dosanjh          10   \n",
       "3  2020-08-10T05:30:49Z  UCq-Fj5jknLsUf-MWSy4_brA        T-Series          10   \n",
       "4  2020-08-11T05:30:13Z  UCye6Oz0mg46S362LwARGVcA   VYRLOriginals          10   \n",
       "\n",
       "          trending_date                                               tags  \\\n",
       "0  2020-08-12T00:00:00Z  sadak|sadak 2|mahesh bhatt|vishesh films|pooja...   \n",
       "1  2020-08-12T00:00:00Z                                             [None]   \n",
       "2  2020-08-12T00:00:00Z  clash diljit dosanjh|diljit dosanjh|diljit dos...   \n",
       "3  2020-08-12T00:00:00Z  hindi songs|2020 hindi songs|2020 new songs|t-...   \n",
       "4  2020-08-12T00:00:00Z  VYRL Original|Mohsin Khan|Shivangi Joshi|Payal...   \n",
       "\n",
       "   view_count   likes  dislikes  comment_count  \\\n",
       "0     9885899  224925   3979409         350210   \n",
       "1    11308046  655450     33242         405146   \n",
       "2     9140911  296533      6179          30058   \n",
       "3    23564512  743931     84162         136942   \n",
       "4     6783649  268817      8798          22984   \n",
       "\n",
       "                                   thumbnail_link  comments_disabled  \\\n",
       "0  https://i.ytimg.com/vi/Iot0eF6EoNA/default.jpg              False   \n",
       "1  https://i.ytimg.com/vi/x-KbnJ9fvJc/default.jpg              False   \n",
       "2  https://i.ytimg.com/vi/KX06ksuS6Xo/default.jpg              False   \n",
       "3  https://i.ytimg.com/vi/UsMRgnTcchY/default.jpg              False   \n",
       "4  https://i.ytimg.com/vi/WNSEXJJhKTU/default.jpg              False   \n",
       "\n",
       "   ratings_disabled                                        description  \n",
       "0             False  Three Streams. Three Stories. One Journey. Sta...  \n",
       "1             False  Singer/Lyrics: Karan Aujla Feat Tania Music/ D...  \n",
       "2             False  CLASH official music video performed by DILJIT...  \n",
       "3             False  Gulshan Kumar and T-Series presents Bhushan Ku...  \n",
       "4             False  VYRL Originals brings to you ‘Baarish’ - the b...  "
      ]
     },
     "execution_count": 3,
     "metadata": {},
     "output_type": "execute_result"
    }
   ],
   "source": [
    "df = pd.read_csv('/kaggle/input/youtube-trending-video-dataset/IN_youtube_trending_data.csv')\n",
    "df.head()"
   ]
  },
  {
   "cell_type": "markdown",
   "id": "613502f0",
   "metadata": {
    "papermill": {
     "duration": 0.007573,
     "end_time": "2025-02-03T14:17:00.493982",
     "exception": false,
     "start_time": "2025-02-03T14:17:00.486409",
     "status": "completed"
    },
    "tags": []
   },
   "source": [
    "### Step 1\n",
    "- info of dataset\n",
    "- describe (mean, mode, median)\n",
    "- shape of dataset (rows, col)"
   ]
  },
  {
   "cell_type": "code",
   "execution_count": 4,
   "id": "6929e349",
   "metadata": {
    "execution": {
     "iopub.execute_input": "2025-02-03T14:17:00.506749Z",
     "iopub.status.busy": "2025-02-03T14:17:00.506392Z",
     "iopub.status.idle": "2025-02-03T14:17:00.679758Z",
     "shell.execute_reply": "2025-02-03T14:17:00.678281Z"
    },
    "papermill": {
     "duration": 0.181675,
     "end_time": "2025-02-03T14:17:00.681604",
     "exception": false,
     "start_time": "2025-02-03T14:17:00.499929",
     "status": "completed"
    },
    "tags": []
   },
   "outputs": [
    {
     "name": "stdout",
     "output_type": "stream",
     "text": [
      "<class 'pandas.core.frame.DataFrame'>\n",
      "RangeIndex: 251277 entries, 0 to 251276\n",
      "Data columns (total 16 columns):\n",
      " #   Column             Non-Null Count   Dtype \n",
      "---  ------             --------------   ----- \n",
      " 0   video_id           251277 non-null  object\n",
      " 1   title              251277 non-null  object\n",
      " 2   publishedAt        251277 non-null  object\n",
      " 3   channelId          251277 non-null  object\n",
      " 4   channelTitle       251276 non-null  object\n",
      " 5   categoryId         251277 non-null  int64 \n",
      " 6   trending_date      251277 non-null  object\n",
      " 7   tags               251277 non-null  object\n",
      " 8   view_count         251277 non-null  int64 \n",
      " 9   likes              251277 non-null  int64 \n",
      " 10  dislikes           251277 non-null  int64 \n",
      " 11  comment_count      251277 non-null  int64 \n",
      " 12  thumbnail_link     251277 non-null  object\n",
      " 13  comments_disabled  251277 non-null  bool  \n",
      " 14  ratings_disabled   251277 non-null  bool  \n",
      " 15  description        231822 non-null  object\n",
      "dtypes: bool(2), int64(5), object(9)\n",
      "memory usage: 27.3+ MB\n"
     ]
    }
   ],
   "source": [
    "df.info()"
   ]
  },
  {
   "cell_type": "code",
   "execution_count": 5,
   "id": "56226743",
   "metadata": {
    "execution": {
     "iopub.execute_input": "2025-02-03T14:17:00.690955Z",
     "iopub.status.busy": "2025-02-03T14:17:00.690570Z",
     "iopub.status.idle": "2025-02-03T14:17:00.759533Z",
     "shell.execute_reply": "2025-02-03T14:17:00.758229Z"
    },
    "papermill": {
     "duration": 0.07582,
     "end_time": "2025-02-03T14:17:00.761377",
     "exception": false,
     "start_time": "2025-02-03T14:17:00.685557",
     "status": "completed"
    },
    "tags": []
   },
   "outputs": [
    {
     "data": {
      "text/html": [
       "<div>\n",
       "<style scoped>\n",
       "    .dataframe tbody tr th:only-of-type {\n",
       "        vertical-align: middle;\n",
       "    }\n",
       "\n",
       "    .dataframe tbody tr th {\n",
       "        vertical-align: top;\n",
       "    }\n",
       "\n",
       "    .dataframe thead th {\n",
       "        text-align: right;\n",
       "    }\n",
       "</style>\n",
       "<table border=\"1\" class=\"dataframe\">\n",
       "  <thead>\n",
       "    <tr style=\"text-align: right;\">\n",
       "      <th></th>\n",
       "      <th>categoryId</th>\n",
       "      <th>view_count</th>\n",
       "      <th>likes</th>\n",
       "      <th>dislikes</th>\n",
       "      <th>comment_count</th>\n",
       "    </tr>\n",
       "  </thead>\n",
       "  <tbody>\n",
       "    <tr>\n",
       "      <th>count</th>\n",
       "      <td>251277.000000</td>\n",
       "      <td>2.512770e+05</td>\n",
       "      <td>2.512770e+05</td>\n",
       "      <td>2.512770e+05</td>\n",
       "      <td>2.512770e+05</td>\n",
       "    </tr>\n",
       "    <tr>\n",
       "      <th>mean</th>\n",
       "      <td>20.861448</td>\n",
       "      <td>2.793858e+06</td>\n",
       "      <td>1.389707e+05</td>\n",
       "      <td>2.333248e+03</td>\n",
       "      <td>8.246164e+03</td>\n",
       "    </tr>\n",
       "    <tr>\n",
       "      <th>std</th>\n",
       "      <td>6.040176</td>\n",
       "      <td>6.979626e+06</td>\n",
       "      <td>3.941973e+05</td>\n",
       "      <td>7.199925e+04</td>\n",
       "      <td>7.023638e+04</td>\n",
       "    </tr>\n",
       "    <tr>\n",
       "      <th>min</th>\n",
       "      <td>1.000000</td>\n",
       "      <td>0.000000e+00</td>\n",
       "      <td>0.000000e+00</td>\n",
       "      <td>0.000000e+00</td>\n",
       "      <td>0.000000e+00</td>\n",
       "    </tr>\n",
       "    <tr>\n",
       "      <th>25%</th>\n",
       "      <td>20.000000</td>\n",
       "      <td>3.779310e+05</td>\n",
       "      <td>1.204900e+04</td>\n",
       "      <td>0.000000e+00</td>\n",
       "      <td>3.420000e+02</td>\n",
       "    </tr>\n",
       "    <tr>\n",
       "      <th>50%</th>\n",
       "      <td>24.000000</td>\n",
       "      <td>9.474340e+05</td>\n",
       "      <td>3.699100e+04</td>\n",
       "      <td>0.000000e+00</td>\n",
       "      <td>1.123000e+03</td>\n",
       "    </tr>\n",
       "    <tr>\n",
       "      <th>75%</th>\n",
       "      <td>24.000000</td>\n",
       "      <td>2.420593e+06</td>\n",
       "      <td>1.161690e+05</td>\n",
       "      <td>7.180000e+02</td>\n",
       "      <td>3.951000e+03</td>\n",
       "    </tr>\n",
       "    <tr>\n",
       "      <th>max</th>\n",
       "      <td>29.000000</td>\n",
       "      <td>2.644074e+08</td>\n",
       "      <td>1.611524e+07</td>\n",
       "      <td>1.234147e+07</td>\n",
       "      <td>6.738565e+06</td>\n",
       "    </tr>\n",
       "  </tbody>\n",
       "</table>\n",
       "</div>"
      ],
      "text/plain": [
       "          categoryId    view_count         likes      dislikes  comment_count\n",
       "count  251277.000000  2.512770e+05  2.512770e+05  2.512770e+05   2.512770e+05\n",
       "mean       20.861448  2.793858e+06  1.389707e+05  2.333248e+03   8.246164e+03\n",
       "std         6.040176  6.979626e+06  3.941973e+05  7.199925e+04   7.023638e+04\n",
       "min         1.000000  0.000000e+00  0.000000e+00  0.000000e+00   0.000000e+00\n",
       "25%        20.000000  3.779310e+05  1.204900e+04  0.000000e+00   3.420000e+02\n",
       "50%        24.000000  9.474340e+05  3.699100e+04  0.000000e+00   1.123000e+03\n",
       "75%        24.000000  2.420593e+06  1.161690e+05  7.180000e+02   3.951000e+03\n",
       "max        29.000000  2.644074e+08  1.611524e+07  1.234147e+07   6.738565e+06"
      ]
     },
     "execution_count": 5,
     "metadata": {},
     "output_type": "execute_result"
    }
   ],
   "source": [
    "df.describe()"
   ]
  },
  {
   "cell_type": "markdown",
   "id": "e3c1f059",
   "metadata": {
    "papermill": {
     "duration": 0.003815,
     "end_time": "2025-02-03T14:17:00.769605",
     "exception": false,
     "start_time": "2025-02-03T14:17:00.765790",
     "status": "completed"
    },
    "tags": []
   },
   "source": [
    "### Step 2\n",
    "- check for NaN values"
   ]
  },
  {
   "cell_type": "code",
   "execution_count": 6,
   "id": "37e23493",
   "metadata": {
    "execution": {
     "iopub.execute_input": "2025-02-03T14:17:00.779053Z",
     "iopub.status.busy": "2025-02-03T14:17:00.778678Z",
     "iopub.status.idle": "2025-02-03T14:17:00.920086Z",
     "shell.execute_reply": "2025-02-03T14:17:00.918865Z"
    },
    "papermill": {
     "duration": 0.148316,
     "end_time": "2025-02-03T14:17:00.921974",
     "exception": false,
     "start_time": "2025-02-03T14:17:00.773658",
     "status": "completed"
    },
    "tags": []
   },
   "outputs": [
    {
     "data": {
      "text/plain": [
       "video_id                 0\n",
       "title                    0\n",
       "publishedAt              0\n",
       "channelId                0\n",
       "channelTitle             1\n",
       "categoryId               0\n",
       "trending_date            0\n",
       "tags                     0\n",
       "view_count               0\n",
       "likes                    0\n",
       "dislikes                 0\n",
       "comment_count            0\n",
       "thumbnail_link           0\n",
       "comments_disabled        0\n",
       "ratings_disabled         0\n",
       "description          19455\n",
       "dtype: int64"
      ]
     },
     "execution_count": 6,
     "metadata": {},
     "output_type": "execute_result"
    }
   ],
   "source": [
    "df.isnull().sum()"
   ]
  },
  {
   "cell_type": "markdown",
   "id": "2f2b1bd2",
   "metadata": {
    "papermill": {
     "duration": 0.003829,
     "end_time": "2025-02-03T14:17:00.930544",
     "exception": false,
     "start_time": "2025-02-03T14:17:00.926715",
     "status": "completed"
    },
    "tags": []
   },
   "source": []
  },
  {
   "cell_type": "code",
   "execution_count": 7,
   "id": "59a174f3",
   "metadata": {
    "execution": {
     "iopub.execute_input": "2025-02-03T14:17:00.940174Z",
     "iopub.status.busy": "2025-02-03T14:17:00.939801Z",
     "iopub.status.idle": "2025-02-03T14:17:00.945165Z",
     "shell.execute_reply": "2025-02-03T14:17:00.943981Z"
    },
    "papermill": {
     "duration": 0.012341,
     "end_time": "2025-02-03T14:17:00.946996",
     "exception": false,
     "start_time": "2025-02-03T14:17:00.934655",
     "status": "completed"
    },
    "tags": []
   },
   "outputs": [],
   "source": [
    "del df['description']"
   ]
  },
  {
   "cell_type": "code",
   "execution_count": 8,
   "id": "ef2464c0",
   "metadata": {
    "execution": {
     "iopub.execute_input": "2025-02-03T14:17:00.957023Z",
     "iopub.status.busy": "2025-02-03T14:17:00.956664Z",
     "iopub.status.idle": "2025-02-03T14:17:00.980157Z",
     "shell.execute_reply": "2025-02-03T14:17:00.979046Z"
    },
    "papermill": {
     "duration": 0.030853,
     "end_time": "2025-02-03T14:17:00.982277",
     "exception": false,
     "start_time": "2025-02-03T14:17:00.951424",
     "status": "completed"
    },
    "tags": []
   },
   "outputs": [],
   "source": [
    "df.fillna({'channelTitle':'unknown title'}, inplace=True)"
   ]
  },
  {
   "cell_type": "code",
   "execution_count": 9,
   "id": "7c30ea96",
   "metadata": {
    "execution": {
     "iopub.execute_input": "2025-02-03T14:17:00.992275Z",
     "iopub.status.busy": "2025-02-03T14:17:00.991909Z",
     "iopub.status.idle": "2025-02-03T14:17:01.106255Z",
     "shell.execute_reply": "2025-02-03T14:17:01.105102Z"
    },
    "papermill": {
     "duration": 0.121452,
     "end_time": "2025-02-03T14:17:01.108307",
     "exception": false,
     "start_time": "2025-02-03T14:17:00.986855",
     "status": "completed"
    },
    "tags": []
   },
   "outputs": [
    {
     "data": {
      "text/plain": [
       "video_id             0\n",
       "title                0\n",
       "publishedAt          0\n",
       "channelId            0\n",
       "channelTitle         0\n",
       "categoryId           0\n",
       "trending_date        0\n",
       "tags                 0\n",
       "view_count           0\n",
       "likes                0\n",
       "dislikes             0\n",
       "comment_count        0\n",
       "thumbnail_link       0\n",
       "comments_disabled    0\n",
       "ratings_disabled     0\n",
       "dtype: int64"
      ]
     },
     "execution_count": 9,
     "metadata": {},
     "output_type": "execute_result"
    }
   ],
   "source": [
    "df.isnull().sum()"
   ]
  },
  {
   "cell_type": "code",
   "execution_count": 10,
   "id": "9737dea6",
   "metadata": {
    "execution": {
     "iopub.execute_input": "2025-02-03T14:17:01.118659Z",
     "iopub.status.busy": "2025-02-03T14:17:01.118195Z",
     "iopub.status.idle": "2025-02-03T14:17:01.245105Z",
     "shell.execute_reply": "2025-02-03T14:17:01.243727Z"
    },
    "papermill": {
     "duration": 0.134182,
     "end_time": "2025-02-03T14:17:01.247077",
     "exception": false,
     "start_time": "2025-02-03T14:17:01.112895",
     "status": "completed"
    },
    "tags": []
   },
   "outputs": [
    {
     "name": "stdout",
     "output_type": "stream",
     "text": [
      "<class 'pandas.core.frame.DataFrame'>\n",
      "RangeIndex: 251277 entries, 0 to 251276\n",
      "Data columns (total 15 columns):\n",
      " #   Column             Non-Null Count   Dtype \n",
      "---  ------             --------------   ----- \n",
      " 0   video_id           251277 non-null  object\n",
      " 1   title              251277 non-null  object\n",
      " 2   publishedAt        251277 non-null  object\n",
      " 3   channelId          251277 non-null  object\n",
      " 4   channelTitle       251277 non-null  object\n",
      " 5   categoryId         251277 non-null  int64 \n",
      " 6   trending_date      251277 non-null  object\n",
      " 7   tags               251277 non-null  object\n",
      " 8   view_count         251277 non-null  int64 \n",
      " 9   likes              251277 non-null  int64 \n",
      " 10  dislikes           251277 non-null  int64 \n",
      " 11  comment_count      251277 non-null  int64 \n",
      " 12  thumbnail_link     251277 non-null  object\n",
      " 13  comments_disabled  251277 non-null  bool  \n",
      " 14  ratings_disabled   251277 non-null  bool  \n",
      "dtypes: bool(2), int64(5), object(8)\n",
      "memory usage: 25.4+ MB\n"
     ]
    }
   ],
   "source": [
    "df.info()"
   ]
  },
  {
   "cell_type": "code",
   "execution_count": null,
   "id": "772d2799",
   "metadata": {
    "papermill": {
     "duration": 0.004524,
     "end_time": "2025-02-03T14:17:01.256356",
     "exception": false,
     "start_time": "2025-02-03T14:17:01.251832",
     "status": "completed"
    },
    "tags": []
   },
   "outputs": [],
   "source": []
  }
 ],
 "metadata": {
  "kaggle": {
   "accelerator": "none",
   "dataSources": [
    {
     "datasetId": 828106,
     "sourceId": 8125862,
     "sourceType": "datasetVersion"
    }
   ],
   "dockerImageVersionId": 30839,
   "isGpuEnabled": false,
   "isInternetEnabled": true,
   "language": "python",
   "sourceType": "notebook"
  },
  "kernelspec": {
   "display_name": "Python 3",
   "language": "python",
   "name": "python3"
  },
  "language_info": {
   "codemirror_mode": {
    "name": "ipython",
    "version": 3
   },
   "file_extension": ".py",
   "mimetype": "text/x-python",
   "name": "python",
   "nbconvert_exporter": "python",
   "pygments_lexer": "ipython3",
   "version": "3.10.12"
  },
  "papermill": {
   "default_parameters": {},
   "duration": 19.498319,
   "end_time": "2025-02-03T14:17:02.083460",
   "environment_variables": {},
   "exception": null,
   "input_path": "__notebook__.ipynb",
   "output_path": "__notebook__.ipynb",
   "parameters": {},
   "start_time": "2025-02-03T14:16:42.585141",
   "version": "2.6.0"
  }
 },
 "nbformat": 4,
 "nbformat_minor": 5
}
